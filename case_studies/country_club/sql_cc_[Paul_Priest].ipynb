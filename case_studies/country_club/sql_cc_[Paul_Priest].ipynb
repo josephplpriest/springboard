{
 "cells": [
  {
   "cell_type": "code",
   "execution_count": 1,
   "id": "3927beed-6aa2-4a91-bc6e-2d0b7613df04",
   "metadata": {},
   "outputs": [],
   "source": [
    "import sqlite3\n",
    "cur = sqlite3.connect('springboard')"
   ]
  },
  {
   "cell_type": "code",
   "execution_count": 2,
   "id": "ae11781e-986b-4389-af25-1d011ee6cdae",
   "metadata": {},
   "outputs": [],
   "source": [
    "mydb = cur.cursor()\n",
    "    "
   ]
  },
  {
   "cell_type": "code",
   "execution_count": 3,
   "id": "45436dfe-f11c-40a1-952d-10d7c5bab9e5",
   "metadata": {},
   "outputs": [],
   "source": [
    "def get_query(my_query_string):\n",
    "    result = mydb.execute(my_query_string)\n",
    "    return result.fetchall()\n",
    "    "
   ]
  },
  {
   "cell_type": "markdown",
   "id": "b779cc34-3ee1-43af-b88d-04bf6779e1fa",
   "metadata": {
    "tags": []
   },
   "source": [
    "# Q1: Some of the facilities charge a fee to members, but some do not. Write a SQL query to produce a list of the names of the facilities that do."
   ]
  },
  {
   "cell_type": "code",
   "execution_count": 4,
   "id": "a1e1c7e6-4973-4689-9381-6d3a6773be7a",
   "metadata": {},
   "outputs": [
    {
     "data": {
      "text/plain": [
       "[('Tennis Court 1',),\n",
       " ('Tennis Court 2',),\n",
       " ('Massage Room 1',),\n",
       " ('Massage Room 2',),\n",
       " ('Squash Court',)]"
      ]
     },
     "execution_count": 4,
     "metadata": {},
     "output_type": "execute_result"
    }
   ],
   "source": [
    "get_query(\"Select name from Facilities WHERE membercost > 0\")"
   ]
  },
  {
   "cell_type": "markdown",
   "id": "4ebca6ef-861e-4b1b-9da7-89fafd155e3b",
   "metadata": {},
   "source": [
    "# Q2: How many facilities do not charge a fee to members?"
   ]
  },
  {
   "cell_type": "code",
   "execution_count": 5,
   "id": "55dabc70-7e35-4db5-810a-0e150846d3d6",
   "metadata": {},
   "outputs": [
    {
     "data": {
      "text/plain": [
       "[(4,)]"
      ]
     },
     "execution_count": 5,
     "metadata": {},
     "output_type": "execute_result"
    }
   ],
   "source": [
    "get_query(\"SELECT COUNT(membercost) FROM Facilities WHERE membercost == 0\")"
   ]
  },
  {
   "cell_type": "markdown",
   "id": "f8a14bd2-3aa7-4e46-a260-f386569bf8fb",
   "metadata": {},
   "source": [
    "# Q3: Write an SQL query to show a list of facilities that charge a fee to members, where the fee is less than 20% of the facility's monthly maintenance cost. Return the facid, facility name, member cost, and monthly maintenance of the facilities in question."
   ]
  },
  {
   "cell_type": "code",
   "execution_count": 6,
   "id": "72ebd915-d43d-4ed8-ae53-1873af9ca271",
   "metadata": {},
   "outputs": [
    {
     "data": {
      "text/plain": [
       "[(0, 'Tennis Court 1', 5, 200),\n",
       " (1, 'Tennis Court 2', 5, 200),\n",
       " (2, 'Badminton Court', 0, 50),\n",
       " (3, 'Table Tennis', 0, 10),\n",
       " (4, 'Massage Room 1', 9.9, 3000),\n",
       " (5, 'Massage Room 2', 9.9, 3000),\n",
       " (6, 'Squash Court', 3.5, 80),\n",
       " (7, 'Snooker Table', 0, 15),\n",
       " (8, 'Pool Table', 0, 15)]"
      ]
     },
     "execution_count": 6,
     "metadata": {},
     "output_type": "execute_result"
    }
   ],
   "source": [
    "get_query(\"SELECT facid, name, membercost, monthlymaintenance FROM Facilities WHERE membercost < (monthlymaintenance*0.2)\")"
   ]
  },
  {
   "cell_type": "markdown",
   "id": "8f5e9717-d9da-47bc-9cd6-1403c348599f",
   "metadata": {},
   "source": [
    "# Q4: Write an SQL query to retrieve the details of facilities with ID 1 and 5. Try writing the query without using the OR operator."
   ]
  },
  {
   "cell_type": "code",
   "execution_count": 7,
   "id": "2a9cca12-861d-40c5-9261-fd99b9f71725",
   "metadata": {},
   "outputs": [
    {
     "data": {
      "text/plain": [
       "[(1, 'Tennis Court 2', 5, 25, 8000, 200),\n",
       " (5, 'Massage Room 2', 9.9, 80, 4000, 3000)]"
      ]
     },
     "execution_count": 7,
     "metadata": {},
     "output_type": "execute_result"
    }
   ],
   "source": [
    "get_query(\"SELECT * FROM Facilities WHERE facid IN (1,5)\")"
   ]
  },
  {
   "cell_type": "markdown",
   "id": "53521831-6ad6-45ad-93b5-bc4f4a9d1559",
   "metadata": {},
   "source": [
    "# Q5: Produce a list of facilities, with each labelled as 'cheap' or 'expensive', depending on if their monthly maintenance cost is more than $100. Return the name and monthly maintenance of the facilities in question."
   ]
  },
  {
   "cell_type": "code",
   "execution_count": 8,
   "id": "8bcad8ec-5bb7-466d-b654-81b6d01c6b04",
   "metadata": {},
   "outputs": [
    {
     "data": {
      "text/plain": [
       "[('Tennis Court 1', 200, 'expensive'),\n",
       " ('Tennis Court 2', 200, 'expensive'),\n",
       " ('Badminton Court', 50, 'cheap'),\n",
       " ('Table Tennis', 10, 'cheap'),\n",
       " ('Massage Room 1', 3000, 'expensive'),\n",
       " ('Massage Room 2', 3000, 'expensive'),\n",
       " ('Squash Court', 80, 'cheap'),\n",
       " ('Snooker Table', 15, 'cheap'),\n",
       " ('Pool Table', 15, 'cheap')]"
      ]
     },
     "execution_count": 8,
     "metadata": {},
     "output_type": "execute_result"
    }
   ],
   "source": [
    "get_query(\"\"\"\n",
    "\n",
    "SELECT name, monthlymaintenance, \n",
    "        CASE WHEN monthlymaintenance > 100 \n",
    "        THEN 'expensive' \n",
    "        ELSE 'cheap' \n",
    "        END as pricey_or_not \n",
    "        \n",
    "FROM Facilities\n",
    "\n",
    "\"\"\")"
   ]
  },
  {
   "cell_type": "markdown",
   "id": "acff780d-0523-4981-b3d5-3affa6e500dd",
   "metadata": {},
   "source": [
    "# Q6: You'd like to get the first and last name of the last member(s) mwho signed up. Try not to use the LIMIT clause for your solution."
   ]
  },
  {
   "cell_type": "code",
   "execution_count": 9,
   "id": "5e30edab-1fdf-42ef-a77a-01e93da5d90d",
   "metadata": {},
   "outputs": [
    {
     "data": {
      "text/plain": [
       "[('Darren', 'Smith')]"
      ]
     },
     "execution_count": 9,
     "metadata": {},
     "output_type": "execute_result"
    }
   ],
   "source": [
    "get_query(\"\"\"\n",
    "SELECT firstname, surname \n",
    "FROM Members \n",
    "WHERE joindate = (SELECT MAX(joindate) FROM Members);\n",
    "\"\"\")"
   ]
  },
  {
   "cell_type": "markdown",
   "id": "31be26f6-a2a4-4cf3-96f5-095236a97595",
   "metadata": {},
   "source": [
    "# Q7: Produce a list of all members who have used a tennis court. Include in your output the name of the court, and the name of the member formatted as a single column. Ensure no duplicate data, and order by the member name."
   ]
  },
  {
   "cell_type": "code",
   "execution_count": 10,
   "id": "e8584111-38fc-4aff-a73f-7a4e93b23755",
   "metadata": {},
   "outputs": [
    {
     "data": {
      "text/plain": [
       "[('Florence Bader Tennis Court 2',),\n",
       " ('Florence Bader Tennis Court 1',),\n",
       " ('Anne Baker Tennis Court 1',),\n",
       " ('Anne Baker Tennis Court 2',),\n",
       " ('Timothy Baker Tennis Court 2',),\n",
       " ('Timothy Baker Tennis Court 1',),\n",
       " ('Tim Boothe Tennis Court 2',),\n",
       " ('Tim Boothe Tennis Court 1',),\n",
       " ('Gerald Butters Tennis Court 1',),\n",
       " ('Gerald Butters Tennis Court 2',),\n",
       " ('Joan Coplin Tennis Court 1',),\n",
       " ('Erica Crumpet Tennis Court 1',),\n",
       " ('Nancy Dare Tennis Court 2',),\n",
       " ('Nancy Dare Tennis Court 1',),\n",
       " ('Jemima Farrell Tennis Court 2',),\n",
       " ('Jemima Farrell Tennis Court 1',),\n",
       " ('David Farrell Tennis Court 1',),\n",
       " ('David Farrell Tennis Court 2',),\n",
       " ('GUEST GUEST Tennis Court 2',),\n",
       " ('GUEST GUEST Tennis Court 1',),\n",
       " ('Matthew Genting Tennis Court 1',),\n",
       " ('John Hunt Tennis Court 1',),\n",
       " ('John Hunt Tennis Court 2',),\n",
       " ('David Jones Tennis Court 2',),\n",
       " ('David Jones Tennis Court 1',),\n",
       " ('Douglas Jones Tennis Court 1',),\n",
       " ('Janice Joplette Tennis Court 1',),\n",
       " ('Janice Joplette Tennis Court 2',),\n",
       " ('Charles Owen Tennis Court 1',),\n",
       " ('Charles Owen Tennis Court 2',),\n",
       " ('David Pinker Tennis Court 1',),\n",
       " ('Millicent Purview Tennis Court 2',),\n",
       " ('Tim Rownam Tennis Court 2',),\n",
       " ('Tim Rownam Tennis Court 1',),\n",
       " ('Henrietta Rumney Tennis Court 2',),\n",
       " ('Ramnaresh Sarwin Tennis Court 2',),\n",
       " ('Ramnaresh Sarwin Tennis Court 1',),\n",
       " ('Tracy Smith Tennis Court 1',),\n",
       " ('Darren Smith Tennis Court 2',),\n",
       " ('Tracy Smith Tennis Court 2',),\n",
       " ('Jack Smith Tennis Court 1',),\n",
       " ('Jack Smith Tennis Court 2',),\n",
       " ('Ponder Stibbons Tennis Court 2',),\n",
       " ('Ponder Stibbons Tennis Court 1',),\n",
       " ('Burton Tracy Tennis Court 2',),\n",
       " ('Burton Tracy Tennis Court 1',)]"
      ]
     },
     "execution_count": 10,
     "metadata": {},
     "output_type": "execute_result"
    }
   ],
   "source": [
    "get_query(\"\"\"\n",
    "SELECT DISTINCT(m.firstname || ' ' || m.surname || ' ' || f.name) AS name_court FROM Bookings b \n",
    "INNER JOIN Facilities f ON f.facid = b.facid\n",
    "INNER JOIN Members m ON m.memid = b.memid\n",
    "WHERE b.facid IN (0,1)\n",
    "ORDER BY m.surname;\n",
    "\"\"\")"
   ]
  },
  {
   "cell_type": "markdown",
   "id": "c48cda51-2984-430b-ad5b-3abdb3e9a4b8",
   "metadata": {},
   "source": [
    "# Q8: Produce a list of bookings on the day of 2012-09-14 which will cost the member (or guest) more than $30. Remember that guests have different costs to members (the listed costs are per half-hour 'slot'), and the guest user's ID is always 0. Include in your output the name of the facility, the name of the member formatted as a single column, and the cost. Order by descending cost, and do not use any subqueries."
   ]
  },
  {
   "cell_type": "code",
   "execution_count": 11,
   "id": "b489fe89-50ae-4b19-8391-431bebb6ff20",
   "metadata": {},
   "outputs": [
    {
     "data": {
      "text/plain": [
       "[('Massage Room 2', 'GUEST GUEST', 320),\n",
       " ('Massage Room 1', 'GUEST GUEST', 160),\n",
       " ('Massage Room 1', 'GUEST GUEST', 160),\n",
       " ('Massage Room 1', 'GUEST GUEST', 160),\n",
       " ('Tennis Court 2', 'GUEST GUEST', 150),\n",
       " ('Tennis Court 1', 'GUEST GUEST', 75),\n",
       " ('Tennis Court 1', 'GUEST GUEST', 75),\n",
       " ('Tennis Court 2', 'GUEST GUEST', 75),\n",
       " ('Squash Court', 'GUEST GUEST', 70.0),\n",
       " ('Massage Room 1', 'Jemima Farrell', 39.6),\n",
       " ('Squash Court', 'GUEST GUEST', 35.0),\n",
       " ('Squash Court', 'GUEST GUEST', 35.0)]"
      ]
     },
     "execution_count": 11,
     "metadata": {},
     "output_type": "execute_result"
    }
   ],
   "source": [
    "get_query(\"\"\"\n",
    "\n",
    "\n",
    "SELECT f.name,\n",
    "\t(m.firstname || ' ' || m.surname) as member_name, \n",
    "\tCASE WHEN (b.memid = 0) THEN (b.slots * f.guestcost) ELSE (b.slots * f.membercost) END AS total_cost\n",
    "\n",
    "FROM Bookings b\n",
    "\n",
    "INNER JOIN Facilities f ON b.facid = f.facid\n",
    "INNER JOIN Members m ON m.memid = b.memid\n",
    "\n",
    "WHERE total_cost > 30 AND \n",
    "b.starttime BETWEEN '2012-09-14 00:00:00' AND '2012-09-14 23:59:00'\n",
    "\n",
    "ORDER BY total_cost DESC\n",
    "\n",
    "\"\"\")"
   ]
  },
  {
   "cell_type": "markdown",
   "id": "50b4ad66-0312-40b6-80be-0eb375091e8e",
   "metadata": {},
   "source": [
    "# Q9: This time, produce the same result as in Q8, but using a subquery."
   ]
  },
  {
   "cell_type": "code",
   "execution_count": 12,
   "id": "a094a4d1-d2ce-4892-b012-a6af58b122fb",
   "metadata": {},
   "outputs": [
    {
     "data": {
      "text/plain": [
       "[('Massage Room 2', 'GUEST GUEST', 320),\n",
       " ('Massage Room 1', 'GUEST GUEST', 160),\n",
       " ('Massage Room 1', 'GUEST GUEST', 160),\n",
       " ('Massage Room 1', 'GUEST GUEST', 160),\n",
       " ('Tennis Court 2', 'GUEST GUEST', 150),\n",
       " ('Tennis Court 1', 'GUEST GUEST', 75),\n",
       " ('Tennis Court 1', 'GUEST GUEST', 75),\n",
       " ('Tennis Court 2', 'GUEST GUEST', 75),\n",
       " ('Squash Court', 'GUEST GUEST', 70.0),\n",
       " ('Massage Room 1', 'Jemima Farrell', 39.6),\n",
       " ('Squash Court', 'GUEST GUEST', 35.0),\n",
       " ('Squash Court', 'GUEST GUEST', 35.0)]"
      ]
     },
     "execution_count": 12,
     "metadata": {},
     "output_type": "execute_result"
    }
   ],
   "source": [
    "get_query(\"\"\"\n",
    "\n",
    "SELECT f.name,\n",
    "\t(m.firstname || ' ' || m.surname) as member_name, \n",
    "\tCASE WHEN (b.memid = 0) THEN (b.slots * f.guestcost) ELSE (b.slots * f.membercost) END AS total_cost\n",
    "FROM Bookings b\n",
    "\n",
    "INNER JOIN Facilities f ON b.facid = f.facid\n",
    "INNER JOIN Members m ON m.memid = b.memid\n",
    "WHERE total_cost > 30 AND \n",
    "b.starttime IN (SELECT starttime FROM Bookings WHERE starttime BETWEEN '2012-09-14 00:00:00' AND '2012-09-14 23:59:00')\n",
    "ORDER BY total_cost DESC\n",
    "\n",
    "\"\"\")"
   ]
  },
  {
   "cell_type": "code",
   "execution_count": null,
   "id": "be2cf100-0cf4-456a-adac-28c751fa4c7a",
   "metadata": {},
   "outputs": [],
   "source": []
  },
  {
   "cell_type": "markdown",
   "id": "3ba24514-6df3-4e19-8419-33548c83dbcc",
   "metadata": {},
   "source": [
    "# Q10: Produce a list of facilities with a total revenue less than 1000. The output of facility name and total revenue, sorted by revenue. Remember that there's a different cost for guests and members!"
   ]
  },
  {
   "cell_type": "code",
   "execution_count": 13,
   "id": "5f4d8993-7e61-47e0-97da-6a72e14e3630",
   "metadata": {},
   "outputs": [
    {
     "data": {
      "text/plain": [
       "[('Table Tennis', 180), ('Snooker Table', 240), ('Pool Table', 270)]"
      ]
     },
     "execution_count": 13,
     "metadata": {},
     "output_type": "execute_result"
    }
   ],
   "source": [
    "## Guest totals paid\n",
    "get_query(\"\"\"\n",
    "\n",
    "WITH guest_fees (facility, g_revenue) AS \n",
    "\n",
    "            (SELECT f.name, SUM(b.slots*f.guestcost) AS guest_revenue \n",
    "            FROM Bookings b \n",
    "            INNER JOIN Facilities f ON f.facid = b.facid \n",
    "            WHERE b.memid = 0 \n",
    "            GROUP BY b.facid),\n",
    "\n",
    "    member_fees(facility, m_revenue) AS\n",
    "\n",
    "            (SELECT f.name, SUM(b.slots*f.membercost) AS member_revenue \n",
    "            FROM Bookings b \n",
    "            INNER JOIN Facilities f ON f.facid = b.facid \n",
    "            WHERE b.memid != 0 \n",
    "            GROUP BY b.facid)\n",
    "\n",
    "SELECT g.facility, (g.g_revenue+m.m_revenue) AS total_revenue \n",
    "    FROM guest_fees g \n",
    "    INNER JOIN member_fees m \n",
    "    ON g.facility=m.facility \n",
    "    WHERE total_revenue < 1000\n",
    "    ORDER BY total_revenue\"\"\")"
   ]
  },
  {
   "cell_type": "markdown",
   "id": "27d771ba-ca95-45c3-aee3-fbe243564b27",
   "metadata": {
    "tags": []
   },
   "source": [
    "# Q11: Produce a report of members and who recommended them in alphabetic surname,firstname order"
   ]
  },
  {
   "cell_type": "code",
   "execution_count": 14,
   "id": "cf3144ac-aeac-4db3-adb6-6eafee2c7788",
   "metadata": {},
   "outputs": [
    {
     "data": {
      "text/plain": [
       "[('Dare, Nancy', None),\n",
       " ('Boothe, Tim', None),\n",
       " ('Owen, Charles', None),\n",
       " ('Baker, Anne', None),\n",
       " ('Smith, Jack', None),\n",
       " ('Pinker, David', None),\n",
       " ('Mackenzie, Anna', None),\n",
       " ('Coplin, Joan', None),\n",
       " ('Sarwin, Ramnaresh', None),\n",
       " ('Jones, Douglas', None),\n",
       " ('Rumney, Henrietta', None),\n",
       " ('Farrell, David', None),\n",
       " ('Worthington-Smyth, Henry', None),\n",
       " ('Tupperware, Hyacinth', None),\n",
       " ('Hunt, John', None),\n",
       " ('Crumpet, Erica', None),\n",
       " ('Smith, Darren', None),\n",
       " ('Stibbons, Ponder', 'Bader, Florence'),\n",
       " ('Stibbons, Ponder', 'Baker, Anne'),\n",
       " ('Farrell, Jemima', 'Baker, Timothy'),\n",
       " ('Rownam, Tim', 'Boothe, Tim'),\n",
       " ('Smith, Darren', 'Butters, Gerald'),\n",
       " ('Baker, Timothy', 'Coplin, Joan'),\n",
       " ('Smith, Tracy', 'Crumpet, Erica'),\n",
       " ('Joplette, Janice', 'Dare, Nancy'),\n",
       " ('Butters, Gerald', 'Genting, Matthew'),\n",
       " ('Purview, Millicent', 'Hunt, John'),\n",
       " ('Joplette, Janice', 'Jones, David'),\n",
       " ('Jones, David', 'Jones, Douglas'),\n",
       " ('Smith, Darren', 'Joplette, Janice'),\n",
       " ('Smith, Darren', 'Mackenzie, Anna'),\n",
       " ('Smith, Darren', 'Owen, Charles'),\n",
       " ('Farrell, Jemima', 'Pinker, David'),\n",
       " ('Smith, Tracy', 'Purview, Millicent'),\n",
       " ('Genting, Matthew', 'Rumney, Henrietta'),\n",
       " ('Bader, Florence', 'Sarwin, Ramnaresh'),\n",
       " ('Smith, Darren', 'Smith, Jack'),\n",
       " ('Tracy, Burton', 'Stibbons, Ponder'),\n",
       " ('Smith, Tracy', 'Worthington-Smyth, Henry')]"
      ]
     },
     "execution_count": 14,
     "metadata": {},
     "output_type": "execute_result"
    }
   ],
   "source": [
    "get_query(\"\"\"\n",
    "SELECT m1.surname || ', ' || m1.firstname as member, m2.surname || ', ' || m2.firstname AS Recomendee\n",
    "FROM Members m1\n",
    "LEFT JOIN Members m2 ON m1.memid = m2.recommendedby\n",
    "WHERE m1.surname != 'GUEST'\n",
    "ORDER BY Recomendee;\n",
    "\"\"\")\n",
    "\n"
   ]
  },
  {
   "cell_type": "markdown",
   "id": "97d348fc-a382-4c61-8cdc-473d3125163d",
   "metadata": {},
   "source": [
    "# Q12: Find the facilities with their usage by member, but not guests"
   ]
  },
  {
   "cell_type": "code",
   "execution_count": 15,
   "id": "9f446523-9b0f-4632-a14d-e1fe3712a135",
   "metadata": {},
   "outputs": [
    {
     "data": {
      "text/plain": [
       "[('Tennis Court 1', 957),\n",
       " ('Tennis Court 2', 882),\n",
       " ('Badminton Court', 1086),\n",
       " ('Table Tennis', 794),\n",
       " ('Massage Room 1', 884),\n",
       " ('Massage Room 2', 54),\n",
       " ('Squash Court', 418),\n",
       " ('Snooker Table', 860),\n",
       " ('Pool Table', 856)]"
      ]
     },
     "execution_count": 15,
     "metadata": {},
     "output_type": "execute_result"
    }
   ],
   "source": [
    "get_query(\"\"\"\n",
    "\n",
    "SELECT f.name, SUM(b.slots) \n",
    "FROM Bookings b \n",
    "INNER JOIN Facilities f ON f.facid = b.facid \n",
    "WHERE  b.memid != 0 \n",
    "GROUP BY b.facid\n",
    "\n",
    "\"\"\")"
   ]
  },
  {
   "cell_type": "markdown",
   "id": "b03d01e7-c0cf-44d1-be75-b5ace2a59418",
   "metadata": {},
   "source": [
    "# Q13: Find the facilities usage by month, but not guests"
   ]
  },
  {
   "cell_type": "code",
   "execution_count": 16,
   "id": "b8847995-5c92-42e9-87ad-981980cda503",
   "metadata": {},
   "outputs": [
    {
     "data": {
      "text/plain": [
       "[('Tennis Court 1', 100.5, '07'),\n",
       " ('Tennis Court 2', 61.5, '07'),\n",
       " ('Badminton Court', 82.5, '07'),\n",
       " ('Table Tennis', 49.0, '07'),\n",
       " ('Massage Room 1', 83.0, '07'),\n",
       " ('Massage Room 2', 4.0, '07'),\n",
       " ('Squash Court', 25.0, '07'),\n",
       " ('Snooker Table', 70.0, '07'),\n",
       " ('Pool Table', 55.0, '07'),\n",
       " ('Tennis Court 1', 169.5, '08'),\n",
       " ('Tennis Court 2', 172.5, '08'),\n",
       " ('Badminton Court', 207.0, '08'),\n",
       " ('Table Tennis', 148.0, '08'),\n",
       " ('Massage Room 1', 158.0, '08'),\n",
       " ('Massage Room 2', 9.0, '08'),\n",
       " ('Squash Court', 92.0, '08'),\n",
       " ('Snooker Table', 158.0, '08'),\n",
       " ('Pool Table', 151.5, '08'),\n",
       " ('Tennis Court 1', 208.5, '09'),\n",
       " ('Tennis Court 2', 207.0, '09'),\n",
       " ('Badminton Court', 253.5, '09'),\n",
       " ('Table Tennis', 200.0, '09'),\n",
       " ('Massage Room 1', 201.0, '09'),\n",
       " ('Massage Room 2', 14.0, '09'),\n",
       " ('Squash Court', 92.0, '09'),\n",
       " ('Snooker Table', 202.0, '09'),\n",
       " ('Pool Table', 221.5, '09')]"
      ]
     },
     "execution_count": 16,
     "metadata": {},
     "output_type": "execute_result"
    }
   ],
   "source": [
    "get_query(\"\"\"\n",
    "\n",
    "SELECT f.name, (sum(slots) * .5) AS hours_per_month, SUBSTRING(starttime, 6, 2) AS month \n",
    "FROM Bookings b \n",
    "INNER JOIN Facilities f on f.facid = b.facid \n",
    "WHERE b.memid <> 0 \n",
    "GROUP BY month, b.facid\n",
    "\n",
    "\"\"\")"
   ]
  },
  {
   "cell_type": "code",
   "execution_count": null,
   "id": "a93f2e7d-1813-45e4-a946-29efea041f24",
   "metadata": {},
   "outputs": [],
   "source": []
  }
 ],
 "metadata": {
  "kernelspec": {
   "display_name": "Python 3 (ipykernel)",
   "language": "python",
   "name": "python3"
  },
  "language_info": {
   "codemirror_mode": {
    "name": "ipython",
    "version": 3
   },
   "file_extension": ".py",
   "mimetype": "text/x-python",
   "name": "python",
   "nbconvert_exporter": "python",
   "pygments_lexer": "ipython3",
   "version": "3.9.7"
  }
 },
 "nbformat": 4,
 "nbformat_minor": 5
}
{
 "cells": [
  {
   "cell_type": "code",
   "execution_count": 1,
   "id": "3927beed-6aa2-4a91-bc6e-2d0b7613df04",
   "metadata": {},
   "outputs": [],
   "source": [
    "import sqlite3\n",
    "cur = sqlite3.connect('springboard')"
   ]
  },
  {
   "cell_type": "code",
   "execution_count": 2,
   "id": "ae11781e-986b-4389-af25-1d011ee6cdae",
   "metadata": {},
   "outputs": [],
   "source": [
    "mydb = cur.cursor()\n",
    "    "
   ]
  },
  {
   "cell_type": "code",
   "execution_count": 3,
   "id": "45436dfe-f11c-40a1-952d-10d7c5bab9e5",
   "metadata": {},
   "outputs": [],
   "source": [
    "def get_query(my_query_string):\n",
    "    result = mydb.execute(my_query_string)\n",
    "    return result.fetchall()\n",
    "    "
   ]
  },
  {
   "cell_type": "markdown",
   "id": "b779cc34-3ee1-43af-b88d-04bf6779e1fa",
   "metadata": {
    "tags": []
   },
   "source": [
    "# Q1: Some of the facilities charge a fee to members, but some do not. Write a SQL query to produce a list of the names of the facilities that do."
   ]
  },
  {
   "cell_type": "code",
   "execution_count": 4,
   "id": "a1e1c7e6-4973-4689-9381-6d3a6773be7a",
   "metadata": {},
   "outputs": [
    {
     "data": {
      "text/plain": [
       "[('Tennis Court 1',),\n",
       " ('Tennis Court 2',),\n",
       " ('Massage Room 1',),\n",
       " ('Massage Room 2',),\n",
       " ('Squash Court',)]"
      ]
     },
     "execution_count": 4,
     "metadata": {},
     "output_type": "execute_result"
    }
   ],
   "source": [
    "get_query(\"Select name from Facilities WHERE membercost > 0\")"
   ]
  },
  {
   "cell_type": "markdown",
   "id": "4ebca6ef-861e-4b1b-9da7-89fafd155e3b",
   "metadata": {},
   "source": [
    "# Q2: How many facilities do not charge a fee to members?"
   ]
  },
  {
   "cell_type": "code",
   "execution_count": 5,
   "id": "55dabc70-7e35-4db5-810a-0e150846d3d6",
   "metadata": {},
   "outputs": [
    {
     "data": {
      "text/plain": [
       "[(4,)]"
      ]
     },
     "execution_count": 5,
     "metadata": {},
     "output_type": "execute_result"
    }
   ],
   "source": [
    "get_query(\"SELECT COUNT(membercost) FROM Facilities WHERE membercost == 0\")"
   ]
  },
  {
   "cell_type": "markdown",
   "id": "f8a14bd2-3aa7-4e46-a260-f386569bf8fb",
   "metadata": {},
   "source": [
    "# Q3: Write an SQL query to show a list of facilities that charge a fee to members, where the fee is less than 20% of the facility's monthly maintenance cost. Return the facid, facility name, member cost, and monthly maintenance of the facilities in question."
   ]
  },
  {
   "cell_type": "code",
   "execution_count": 6,
   "id": "72ebd915-d43d-4ed8-ae53-1873af9ca271",
   "metadata": {},
   "outputs": [
    {
     "data": {
      "text/plain": [
       "[(0, 'Tennis Court 1', 5, 200),\n",
       " (1, 'Tennis Court 2', 5, 200),\n",
       " (2, 'Badminton Court', 0, 50),\n",
       " (3, 'Table Tennis', 0, 10),\n",
       " (4, 'Massage Room 1', 9.9, 3000),\n",
       " (5, 'Massage Room 2', 9.9, 3000),\n",
       " (6, 'Squash Court', 3.5, 80),\n",
       " (7, 'Snooker Table', 0, 15),\n",
       " (8, 'Pool Table', 0, 15)]"
      ]
     },
     "execution_count": 6,
     "metadata": {},
     "output_type": "execute_result"
    }
   ],
   "source": [
    "get_query(\"SELECT facid, name, membercost, monthlymaintenance FROM Facilities WHERE membercost < (monthlymaintenance*0.2)\")"
   ]
  },
  {
   "cell_type": "markdown",
   "id": "8f5e9717-d9da-47bc-9cd6-1403c348599f",
   "metadata": {},
   "source": [
    "# Q4: Write an SQL query to retrieve the details of facilities with ID 1 and 5. Try writing the query without using the OR operator."
   ]
  },
  {
   "cell_type": "code",
   "execution_count": 7,
   "id": "2a9cca12-861d-40c5-9261-fd99b9f71725",
   "metadata": {},
   "outputs": [
    {
     "data": {
      "text/plain": [
       "[(1, 'Tennis Court 2', 5, 25, 8000, 200),\n",
       " (5, 'Massage Room 2', 9.9, 80, 4000, 3000)]"
      ]
     },
     "execution_count": 7,
     "metadata": {},
     "output_type": "execute_result"
    }
   ],
   "source": [
    "get_query(\"SELECT * FROM Facilities WHERE facid IN (1,5)\")"
   ]
  },
  {
   "cell_type": "markdown",
   "id": "53521831-6ad6-45ad-93b5-bc4f4a9d1559",
   "metadata": {},
   "source": [
    "# Q5: Produce a list of facilities, with each labelled as 'cheap' or 'expensive', depending on if their monthly maintenance cost is more than $100. Return the name and monthly maintenance of the facilities in question."
   ]
  },
  {
   "cell_type": "code",
   "execution_count": 8,
   "id": "8bcad8ec-5bb7-466d-b654-81b6d01c6b04",
   "metadata": {},
   "outputs": [
    {
     "data": {
      "text/plain": [
       "[('Tennis Court 1', 200, 'expensive'),\n",
       " ('Tennis Court 2', 200, 'expensive'),\n",
       " ('Badminton Court', 50, 'cheap'),\n",
       " ('Table Tennis', 10, 'cheap'),\n",
       " ('Massage Room 1', 3000, 'expensive'),\n",
       " ('Massage Room 2', 3000, 'expensive'),\n",
       " ('Squash Court', 80, 'cheap'),\n",
       " ('Snooker Table', 15, 'cheap'),\n",
       " ('Pool Table', 15, 'cheap')]"
      ]
     },
     "execution_count": 8,
     "metadata": {},
     "output_type": "execute_result"
    }
   ],
   "source": [
    "get_query(\"\"\"\n",
    "\n",
    "SELECT name, monthlymaintenance, \n",
    "        CASE WHEN monthlymaintenance > 100 \n",
    "        THEN 'expensive' \n",
    "        ELSE 'cheap' \n",
    "        END as pricey_or_not \n",
    "        \n",
    "FROM Facilities\n",
    "\n",
    "\"\"\")"
   ]
  },
  {
   "cell_type": "markdown",
   "id": "acff780d-0523-4981-b3d5-3affa6e500dd",
   "metadata": {},
   "source": [
    "# Q6: You'd like to get the first and last name of the last member(s) mwho signed up. Try not to use the LIMIT clause for your solution."
   ]
  },
  {
   "cell_type": "code",
   "execution_count": 9,
   "id": "5e30edab-1fdf-42ef-a77a-01e93da5d90d",
   "metadata": {},
   "outputs": [
    {
     "data": {
      "text/plain": [
       "[('Darren', 'Smith')]"
      ]
     },
     "execution_count": 9,
     "metadata": {},
     "output_type": "execute_result"
    }
   ],
   "source": [
    "get_query(\"\"\"\n",
    "SELECT firstname, surname \n",
    "FROM Members \n",
    "WHERE joindate = (SELECT MAX(joindate) FROM Members);\n",
    "\"\"\")"
   ]
  },
  {
   "cell_type": "markdown",
   "id": "31be26f6-a2a4-4cf3-96f5-095236a97595",
   "metadata": {},
   "source": [
    "# Q7: Produce a list of all members who have used a tennis court. Include in your output the name of the court, and the name of the member formatted as a single column. Ensure no duplicate data, and order by the member name."
   ]
  },
  {
   "cell_type": "code",
   "execution_count": 10,
   "id": "e8584111-38fc-4aff-a73f-7a4e93b23755",
   "metadata": {},
   "outputs": [
    {
     "data": {
      "text/plain": [
       "[('Florence Bader Tennis Court 2',),\n",
       " ('Florence Bader Tennis Court 1',),\n",
       " ('Anne Baker Tennis Court 1',),\n",
       " ('Anne Baker Tennis Court 2',),\n",
       " ('Timothy Baker Tennis Court 2',),\n",
       " ('Timothy Baker Tennis Court 1',),\n",
       " ('Tim Boothe Tennis Court 2',),\n",
       " ('Tim Boothe Tennis Court 1',),\n",
       " ('Gerald Butters Tennis Court 1',),\n",
       " ('Gerald Butters Tennis Court 2',),\n",
       " ('Joan Coplin Tennis Court 1',),\n",
       " ('Erica Crumpet Tennis Court 1',),\n",
       " ('Nancy Dare Tennis Court 2',),\n",
       " ('Nancy Dare Tennis Court 1',),\n",
       " ('Jemima Farrell Tennis Court 2',),\n",
       " ('Jemima Farrell Tennis Court 1',),\n",
       " ('David Farrell Tennis Court 1',),\n",
       " ('David Farrell Tennis Court 2',),\n",
       " ('GUEST GUEST Tennis Court 2',),\n",
       " ('GUEST GUEST Tennis Court 1',),\n",
       " ('Matthew Genting Tennis Court 1',),\n",
       " ('John Hunt Tennis Court 1',),\n",
       " ('John Hunt Tennis Court 2',),\n",
       " ('David Jones Tennis Court 2',),\n",
       " ('David Jones Tennis Court 1',),\n",
       " ('Douglas Jones Tennis Court 1',),\n",
       " ('Janice Joplette Tennis Court 1',),\n",
       " ('Janice Joplette Tennis Court 2',),\n",
       " ('Charles Owen Tennis Court 1',),\n",
       " ('Charles Owen Tennis Court 2',),\n",
       " ('David Pinker Tennis Court 1',),\n",
       " ('Millicent Purview Tennis Court 2',),\n",
       " ('Tim Rownam Tennis Court 2',),\n",
       " ('Tim Rownam Tennis Court 1',),\n",
       " ('Henrietta Rumney Tennis Court 2',),\n",
       " ('Ramnaresh Sarwin Tennis Court 2',),\n",
       " ('Ramnaresh Sarwin Tennis Court 1',),\n",
       " ('Tracy Smith Tennis Court 1',),\n",
       " ('Darren Smith Tennis Court 2',),\n",
       " ('Tracy Smith Tennis Court 2',),\n",
       " ('Jack Smith Tennis Court 1',),\n",
       " ('Jack Smith Tennis Court 2',),\n",
       " ('Ponder Stibbons Tennis Court 2',),\n",
       " ('Ponder Stibbons Tennis Court 1',),\n",
       " ('Burton Tracy Tennis Court 2',),\n",
       " ('Burton Tracy Tennis Court 1',)]"
      ]
     },
     "execution_count": 10,
     "metadata": {},
     "output_type": "execute_result"
    }
   ],
   "source": [
    "get_query(\"\"\"\n",
    "SELECT DISTINCT(m.firstname || ' ' || m.surname || ' ' || f.name) AS name_court FROM Bookings b \n",
    "INNER JOIN Facilities f ON f.facid = b.facid\n",
    "INNER JOIN Members m ON m.memid = b.memid\n",
    "WHERE b.facid IN (0,1)\n",
    "ORDER BY m.surname;\n",
    "\"\"\")"
   ]
  },
  {
   "cell_type": "markdown",
   "id": "c48cda51-2984-430b-ad5b-3abdb3e9a4b8",
   "metadata": {},
   "source": [
    "# Q8: Produce a list of bookings on the day of 2012-09-14 which will cost the member (or guest) more than $30. Remember that guests have different costs to members (the listed costs are per half-hour 'slot'), and the guest user's ID is always 0. Include in your output the name of the facility, the name of the member formatted as a single column, and the cost. Order by descending cost, and do not use any subqueries."
   ]
  },
  {
   "cell_type": "code",
   "execution_count": 11,
   "id": "b489fe89-50ae-4b19-8391-431bebb6ff20",
   "metadata": {},
   "outputs": [
    {
     "data": {
      "text/plain": [
       "[('Massage Room 2', 'GUEST GUEST', 320),\n",
       " ('Massage Room 1', 'GUEST GUEST', 160),\n",
       " ('Massage Room 1', 'GUEST GUEST', 160),\n",
       " ('Massage Room 1', 'GUEST GUEST', 160),\n",
       " ('Tennis Court 2', 'GUEST GUEST', 150),\n",
       " ('Tennis Court 1', 'GUEST GUEST', 75),\n",
       " ('Tennis Court 1', 'GUEST GUEST', 75),\n",
       " ('Tennis Court 2', 'GUEST GUEST', 75),\n",
       " ('Squash Court', 'GUEST GUEST', 70.0),\n",
       " ('Massage Room 1', 'Jemima Farrell', 39.6),\n",
       " ('Squash Court', 'GUEST GUEST', 35.0),\n",
       " ('Squash Court', 'GUEST GUEST', 35.0)]"
      ]
     },
     "execution_count": 11,
     "metadata": {},
     "output_type": "execute_result"
    }
   ],
   "source": [
    "get_query(\"\"\"\n",
    "\n",
    "\n",
    "SELECT f.name,\n",
    "\t(m.firstname || ' ' || m.surname) as member_name, \n",
    "\tCASE WHEN (b.memid = 0) THEN (b.slots * f.guestcost) ELSE (b.slots * f.membercost) END AS total_cost\n",
    "\n",
    "FROM Bookings b\n",
    "\n",
    "INNER JOIN Facilities f ON b.facid = f.facid\n",
    "INNER JOIN Members m ON m.memid = b.memid\n",
    "\n",
    "WHERE total_cost > 30 AND \n",
    "b.starttime BETWEEN '2012-09-14 00:00:00' AND '2012-09-14 23:59:00'\n",
    "\n",
    "ORDER BY total_cost DESC\n",
    "\n",
    "\"\"\")"
   ]
  },
  {
   "cell_type": "markdown",
   "id": "50b4ad66-0312-40b6-80be-0eb375091e8e",
   "metadata": {},
   "source": [
    "# Q9: This time, produce the same result as in Q8, but using a subquery."
   ]
  },
  {
   "cell_type": "code",
   "execution_count": 12,
   "id": "a094a4d1-d2ce-4892-b012-a6af58b122fb",
   "metadata": {},
   "outputs": [
    {
     "data": {
      "text/plain": [
       "[('Massage Room 2', 'GUEST GUEST', 320),\n",
       " ('Massage Room 1', 'GUEST GUEST', 160),\n",
       " ('Massage Room 1', 'GUEST GUEST', 160),\n",
       " ('Massage Room 1', 'GUEST GUEST', 160),\n",
       " ('Tennis Court 2', 'GUEST GUEST', 150),\n",
       " ('Tennis Court 1', 'GUEST GUEST', 75),\n",
       " ('Tennis Court 1', 'GUEST GUEST', 75),\n",
       " ('Tennis Court 2', 'GUEST GUEST', 75),\n",
       " ('Squash Court', 'GUEST GUEST', 70.0),\n",
       " ('Massage Room 1', 'Jemima Farrell', 39.6),\n",
       " ('Squash Court', 'GUEST GUEST', 35.0),\n",
       " ('Squash Court', 'GUEST GUEST', 35.0)]"
      ]
     },
     "execution_count": 12,
     "metadata": {},
     "output_type": "execute_result"
    }
   ],
   "source": [
    "get_query(\"\"\"\n",
    "\n",
    "SELECT f.name,\n",
    "\t(m.firstname || ' ' || m.surname) as member_name, \n",
    "\tCASE WHEN (b.memid = 0) THEN (b.slots * f.guestcost) ELSE (b.slots * f.membercost) END AS total_cost\n",
    "FROM Bookings b\n",
    "\n",
    "INNER JOIN Facilities f ON b.facid = f.facid\n",
    "INNER JOIN Members m ON m.memid = b.memid\n",
    "WHERE total_cost > 30 AND \n",
    "b.starttime IN (SELECT starttime FROM Bookings WHERE starttime BETWEEN '2012-09-14 00:00:00' AND '2012-09-14 23:59:00')\n",
    "ORDER BY total_cost DESC\n",
    "\n",
    "\"\"\")"
   ]
  },
  {
   "cell_type": "code",
   "execution_count": null,
   "id": "be2cf100-0cf4-456a-adac-28c751fa4c7a",
   "metadata": {},
   "outputs": [],
   "source": []
  },
  {
   "cell_type": "markdown",
   "id": "3ba24514-6df3-4e19-8419-33548c83dbcc",
   "metadata": {},
   "source": [
    "# Q10: Produce a list of facilities with a total revenue less than 1000. The output of facility name and total revenue, sorted by revenue. Remember that there's a different cost for guests and members!"
   ]
  },
  {
   "cell_type": "code",
   "execution_count": 13,
   "id": "5f4d8993-7e61-47e0-97da-6a72e14e3630",
   "metadata": {},
   "outputs": [
    {
     "data": {
      "text/plain": [
       "[('Table Tennis', 180), ('Snooker Table', 240), ('Pool Table', 270)]"
      ]
     },
     "execution_count": 13,
     "metadata": {},
     "output_type": "execute_result"
    }
   ],
   "source": [
    "## Guest totals paid\n",
    "get_query(\"\"\"\n",
    "\n",
    "WITH guest_fees (facility, g_revenue) AS \n",
    "\n",
    "            (SELECT f.name, SUM(b.slots*f.guestcost) AS guest_revenue \n",
    "            FROM Bookings b \n",
    "            INNER JOIN Facilities f ON f.facid = b.facid \n",
    "            WHERE b.memid = 0 \n",
    "            GROUP BY b.facid),\n",
    "\n",
    "    member_fees(facility, m_revenue) AS\n",
    "\n",
    "            (SELECT f.name, SUM(b.slots*f.membercost) AS member_revenue \n",
    "            FROM Bookings b \n",
    "            INNER JOIN Facilities f ON f.facid = b.facid \n",
    "            WHERE b.memid != 0 \n",
    "            GROUP BY b.facid)\n",
    "\n",
    "SELECT g.facility, (g.g_revenue+m.m_revenue) AS total_revenue \n",
    "    FROM guest_fees g \n",
    "    INNER JOIN member_fees m \n",
    "    ON g.facility=m.facility \n",
    "    WHERE total_revenue < 1000\n",
    "    ORDER BY total_revenue\"\"\")"
   ]
  },
  {
   "cell_type": "markdown",
   "id": "27d771ba-ca95-45c3-aee3-fbe243564b27",
   "metadata": {
    "tags": []
   },
   "source": [
    "# Q11: Produce a report of members and who recommended them in alphabetic surname,firstname order"
   ]
  },
  {
   "cell_type": "code",
   "execution_count": 14,
   "id": "cf3144ac-aeac-4db3-adb6-6eafee2c7788",
   "metadata": {},
   "outputs": [
    {
     "data": {
      "text/plain": [
       "[('Dare, Nancy', None),\n",
       " ('Boothe, Tim', None),\n",
       " ('Owen, Charles', None),\n",
       " ('Baker, Anne', None),\n",
       " ('Smith, Jack', None),\n",
       " ('Pinker, David', None),\n",
       " ('Mackenzie, Anna', None),\n",
       " ('Coplin, Joan', None),\n",
       " ('Sarwin, Ramnaresh', None),\n",
       " ('Jones, Douglas', None),\n",
       " ('Rumney, Henrietta', None),\n",
       " ('Farrell, David', None),\n",
       " ('Worthington-Smyth, Henry', None),\n",
       " ('Tupperware, Hyacinth', None),\n",
       " ('Hunt, John', None),\n",
       " ('Crumpet, Erica', None),\n",
       " ('Smith, Darren', None),\n",
       " ('Stibbons, Ponder', 'Bader, Florence'),\n",
       " ('Stibbons, Ponder', 'Baker, Anne'),\n",
       " ('Farrell, Jemima', 'Baker, Timothy'),\n",
       " ('Rownam, Tim', 'Boothe, Tim'),\n",
       " ('Smith, Darren', 'Butters, Gerald'),\n",
       " ('Baker, Timothy', 'Coplin, Joan'),\n",
       " ('Smith, Tracy', 'Crumpet, Erica'),\n",
       " ('Joplette, Janice', 'Dare, Nancy'),\n",
       " ('Butters, Gerald', 'Genting, Matthew'),\n",
       " ('Purview, Millicent', 'Hunt, John'),\n",
       " ('Joplette, Janice', 'Jones, David'),\n",
       " ('Jones, David', 'Jones, Douglas'),\n",
       " ('Smith, Darren', 'Joplette, Janice'),\n",
       " ('Smith, Darren', 'Mackenzie, Anna'),\n",
       " ('Smith, Darren', 'Owen, Charles'),\n",
       " ('Farrell, Jemima', 'Pinker, David'),\n",
       " ('Smith, Tracy', 'Purview, Millicent'),\n",
       " ('Genting, Matthew', 'Rumney, Henrietta'),\n",
       " ('Bader, Florence', 'Sarwin, Ramnaresh'),\n",
       " ('Smith, Darren', 'Smith, Jack'),\n",
       " ('Tracy, Burton', 'Stibbons, Ponder'),\n",
       " ('Smith, Tracy', 'Worthington-Smyth, Henry')]"
      ]
     },
     "execution_count": 14,
     "metadata": {},
     "output_type": "execute_result"
    }
   ],
   "source": [
    "get_query(\"\"\"\n",
    "SELECT m1.surname || ', ' || m1.firstname as member, m2.surname || ', ' || m2.firstname AS Recomendee\n",
    "FROM Members m1\n",
    "LEFT JOIN Members m2 ON m1.memid = m2.recommendedby\n",
    "WHERE m1.surname != 'GUEST'\n",
    "ORDER BY Recomendee;\n",
    "\"\"\")\n",
    "\n"
   ]
  },
  {
   "cell_type": "markdown",
   "id": "97d348fc-a382-4c61-8cdc-473d3125163d",
   "metadata": {},
   "source": [
    "# Q12: Find the facilities with their usage by member, but not guests"
   ]
  },
  {
   "cell_type": "code",
   "execution_count": 15,
   "id": "9f446523-9b0f-4632-a14d-e1fe3712a135",
   "metadata": {},
   "outputs": [
    {
     "data": {
      "text/plain": [
       "[('Tennis Court 1', 957),\n",
       " ('Tennis Court 2', 882),\n",
       " ('Badminton Court', 1086),\n",
       " ('Table Tennis', 794),\n",
       " ('Massage Room 1', 884),\n",
       " ('Massage Room 2', 54),\n",
       " ('Squash Court', 418),\n",
       " ('Snooker Table', 860),\n",
       " ('Pool Table', 856)]"
      ]
     },
     "execution_count": 15,
     "metadata": {},
     "output_type": "execute_result"
    }
   ],
   "source": [
    "get_query(\"\"\"\n",
    "\n",
    "SELECT f.name, SUM(b.slots) \n",
    "FROM Bookings b \n",
    "INNER JOIN Facilities f ON f.facid = b.facid \n",
    "WHERE  b.memid != 0 \n",
    "GROUP BY b.facid\n",
    "\n",
    "\"\"\")"
   ]
  },
  {
   "cell_type": "markdown",
   "id": "b03d01e7-c0cf-44d1-be75-b5ace2a59418",
   "metadata": {},
   "source": [
    "# Q13: Find the facilities usage by month, but not guests"
   ]
  },
  {
   "cell_type": "code",
   "execution_count": 16,
   "id": "b8847995-5c92-42e9-87ad-981980cda503",
   "metadata": {},
   "outputs": [
    {
     "data": {
      "text/plain": [
       "[('Tennis Court 1', 100.5, '07'),\n",
       " ('Tennis Court 2', 61.5, '07'),\n",
       " ('Badminton Court', 82.5, '07'),\n",
       " ('Table Tennis', 49.0, '07'),\n",
       " ('Massage Room 1', 83.0, '07'),\n",
       " ('Massage Room 2', 4.0, '07'),\n",
       " ('Squash Court', 25.0, '07'),\n",
       " ('Snooker Table', 70.0, '07'),\n",
       " ('Pool Table', 55.0, '07'),\n",
       " ('Tennis Court 1', 169.5, '08'),\n",
       " ('Tennis Court 2', 172.5, '08'),\n",
       " ('Badminton Court', 207.0, '08'),\n",
       " ('Table Tennis', 148.0, '08'),\n",
       " ('Massage Room 1', 158.0, '08'),\n",
       " ('Massage Room 2', 9.0, '08'),\n",
       " ('Squash Court', 92.0, '08'),\n",
       " ('Snooker Table', 158.0, '08'),\n",
       " ('Pool Table', 151.5, '08'),\n",
       " ('Tennis Court 1', 208.5, '09'),\n",
       " ('Tennis Court 2', 207.0, '09'),\n",
       " ('Badminton Court', 253.5, '09'),\n",
       " ('Table Tennis', 200.0, '09'),\n",
       " ('Massage Room 1', 201.0, '09'),\n",
       " ('Massage Room 2', 14.0, '09'),\n",
       " ('Squash Court', 92.0, '09'),\n",
       " ('Snooker Table', 202.0, '09'),\n",
       " ('Pool Table', 221.5, '09')]"
      ]
     },
     "execution_count": 16,
     "metadata": {},
     "output_type": "execute_result"
    }
   ],
   "source": [
    "get_query(\"\"\"\n",
    "\n",
    "SELECT f.name, (sum(slots) * .5) AS hours_per_month, SUBSTRING(starttime, 6, 2) AS month \n",
    "FROM Bookings b \n",
    "INNER JOIN Facilities f on f.facid = b.facid \n",
    "WHERE b.memid <> 0 \n",
    "GROUP BY month, b.facid\n",
    "\n",
    "\"\"\")"
   ]
  },
  {
   "cell_type": "code",
   "execution_count": null,
   "id": "a93f2e7d-1813-45e4-a946-29efea041f24",
   "metadata": {},
   "outputs": [],
   "source": []
  }
 ],
 "metadata": {
  "kernelspec": {
   "display_name": "Python 3 (ipykernel)",
   "language": "python",
   "name": "python3"
  },
  "language_info": {
   "codemirror_mode": {
    "name": "ipython",
    "version": 3
   },
   "file_extension": ".py",
   "mimetype": "text/x-python",
   "name": "python",
   "nbconvert_exporter": "python",
   "pygments_lexer": "ipython3",
   "version": "3.9.7"
  }
 },
 "nbformat": 4,
 "nbformat_minor": 5
}
