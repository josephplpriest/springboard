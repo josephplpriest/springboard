{
 "cells": [
  {
   "cell_type": "markdown",
   "metadata": {},
   "source": [
    "# 5.0 Final Summary\n",
    "\n",
    "Contents\n",
    "\n",
    "[5.1 Intro](#51-introduction)\n",
    "* [5.1.1 Project Recap](#511-project-recap)\n",
    "* [5.1.2 Imports](#512-imports)\n",
    "\n",
    "[5.2 Final Model Comparison](#52-final-model-comparison)"
   ]
  },
  {
   "cell_type": "markdown",
   "metadata": {},
   "source": [
    "## 5.1 Introduction"
   ]
  },
  {
   "cell_type": "markdown",
   "metadata": {},
   "source": [
    "### 5.1.1 Project Recap"
   ]
  },
  {
   "cell_type": "markdown",
   "metadata": {},
   "source": [
    "### 5.1.2 Imports"
   ]
  },
  {
   "cell_type": "code",
   "execution_count": 1,
   "metadata": {},
   "outputs": [
    {
     "name": "stderr",
     "output_type": "stream",
     "text": [
      "/home/paul/anaconda3/envs/pyspark/lib/python3.10/site-packages/xgboost/compat.py:36: FutureWarning: pandas.Int64Index is deprecated and will be removed from pandas in a future version. Use pandas.Index with the appropriate dtype instead.\n",
      "  from pandas import MultiIndex, Int64Index\n"
     ]
    }
   ],
   "source": [
    "import pandas as pd\n",
    "import numpy as np\n",
    "import pyarrow.parquet as pq \n",
    "\n",
    "from sklearn.model_selection import train_test_split, KFold\n",
    "\n",
    "#scaling/vectorization\n",
    "from sklearn.feature_extraction.text import TfidfVectorizer\n",
    "\n",
    "# models\n",
    "from sklearn.linear_model import LogisticRegression\n",
    "import xgboost as xgb\n",
    "from imblearn.pipeline import Pipeline\n",
    "import lightgbm as lgb"
   ]
  },
  {
   "cell_type": "code",
   "execution_count": 2,
   "metadata": {},
   "outputs": [
    {
     "data": {
      "text/html": [
       "<div>\n",
       "<style scoped>\n",
       "    .dataframe tbody tr th:only-of-type {\n",
       "        vertical-align: middle;\n",
       "    }\n",
       "\n",
       "    .dataframe tbody tr th {\n",
       "        vertical-align: top;\n",
       "    }\n",
       "\n",
       "    .dataframe thead th {\n",
       "        text-align: right;\n",
       "    }\n",
       "</style>\n",
       "<table border=\"1\" class=\"dataframe\">\n",
       "  <thead>\n",
       "    <tr style=\"text-align: right;\">\n",
       "      <th></th>\n",
       "      <th>review</th>\n",
       "      <th>neg_sentiment</th>\n",
       "      <th>stars</th>\n",
       "      <th>review_length</th>\n",
       "    </tr>\n",
       "  </thead>\n",
       "  <tbody>\n",
       "    <tr>\n",
       "      <th>0</th>\n",
       "      <td>exactly needed</td>\n",
       "      <td>0</td>\n",
       "      <td>5</td>\n",
       "      <td>4</td>\n",
       "    </tr>\n",
       "    <tr>\n",
       "      <th>1</th>\n",
       "      <td>agree review opening small bent hook expensiv...</td>\n",
       "      <td>1</td>\n",
       "      <td>2</td>\n",
       "      <td>49</td>\n",
       "    </tr>\n",
       "    <tr>\n",
       "      <th>2</th>\n",
       "      <td>love going order pack work including losing ea...</td>\n",
       "      <td>0</td>\n",
       "      <td>4</td>\n",
       "      <td>50</td>\n",
       "    </tr>\n",
       "    <tr>\n",
       "      <th>3</th>\n",
       "      <td>tiny opening</td>\n",
       "      <td>1</td>\n",
       "      <td>2</td>\n",
       "      <td>4</td>\n",
       "    </tr>\n",
       "    <tr>\n",
       "      <th>4</th>\n",
       "      <td>okay</td>\n",
       "      <td>1</td>\n",
       "      <td>3</td>\n",
       "      <td>1</td>\n",
       "    </tr>\n",
       "    <tr>\n",
       "      <th>...</th>\n",
       "      <td>...</td>\n",
       "      <td>...</td>\n",
       "      <td>...</td>\n",
       "      <td>...</td>\n",
       "    </tr>\n",
       "    <tr>\n",
       "      <th>883631</th>\n",
       "      <td>absolutely love dress sexy comfortable split ...</td>\n",
       "      <td>0</td>\n",
       "      <td>5</td>\n",
       "      <td>51</td>\n",
       "    </tr>\n",
       "    <tr>\n",
       "      <th>883632</th>\n",
       "      <td>lbs tall wear large ordered large comfortable...</td>\n",
       "      <td>0</td>\n",
       "      <td>5</td>\n",
       "      <td>39</td>\n",
       "    </tr>\n",
       "    <tr>\n",
       "      <th>883633</th>\n",
       "      <td>big chest area</td>\n",
       "      <td>1</td>\n",
       "      <td>3</td>\n",
       "      <td>6</td>\n",
       "    </tr>\n",
       "    <tr>\n",
       "      <th>883634</th>\n",
       "      <td>clear needs lining</td>\n",
       "      <td>1</td>\n",
       "      <td>3</td>\n",
       "      <td>7</td>\n",
       "    </tr>\n",
       "    <tr>\n",
       "      <th>883635</th>\n",
       "      <td>ordered slightly small worked company gracious...</td>\n",
       "      <td>0</td>\n",
       "      <td>5</td>\n",
       "      <td>30</td>\n",
       "    </tr>\n",
       "  </tbody>\n",
       "</table>\n",
       "<p>873352 rows × 4 columns</p>\n",
       "</div>"
      ],
      "text/plain": [
       "                                                   review  neg_sentiment  \\\n",
       "0                                          exactly needed              0   \n",
       "1        agree review opening small bent hook expensiv...              1   \n",
       "2       love going order pack work including losing ea...              0   \n",
       "3                                            tiny opening              1   \n",
       "4                                                    okay              1   \n",
       "...                                                   ...            ...   \n",
       "883631   absolutely love dress sexy comfortable split ...              0   \n",
       "883632   lbs tall wear large ordered large comfortable...              0   \n",
       "883633                                     big chest area              1   \n",
       "883634                                 clear needs lining              1   \n",
       "883635  ordered slightly small worked company gracious...              0   \n",
       "\n",
       "        stars  review_length  \n",
       "0           5              4  \n",
       "1           2             49  \n",
       "2           4             50  \n",
       "3           2              4  \n",
       "4           3              1  \n",
       "...       ...            ...  \n",
       "883631      5             51  \n",
       "883632      5             39  \n",
       "883633      3              6  \n",
       "883634      3              7  \n",
       "883635      5             30  \n",
       "\n",
       "[873352 rows x 4 columns]"
      ]
     },
     "execution_count": 2,
     "metadata": {},
     "output_type": "execute_result"
    }
   ],
   "source": [
    "data = pq.read_table(\"../data/edited/fashion.parquet\")\n",
    "fashion = data.to_pandas()\n",
    "fashion"
   ]
  },
  {
   "cell_type": "markdown",
   "metadata": {},
   "source": [
    "## 5.2 Final Model Comparison"
   ]
  },
  {
   "cell_type": "code",
   "execution_count": 3,
   "metadata": {},
   "outputs": [
    {
     "data": {
      "text/html": [
       "<div>\n",
       "<style scoped>\n",
       "    .dataframe tbody tr th:only-of-type {\n",
       "        vertical-align: middle;\n",
       "    }\n",
       "\n",
       "    .dataframe tbody tr th {\n",
       "        vertical-align: top;\n",
       "    }\n",
       "\n",
       "    .dataframe thead th {\n",
       "        text-align: right;\n",
       "    }\n",
       "</style>\n",
       "<table border=\"1\" class=\"dataframe\">\n",
       "  <thead>\n",
       "    <tr style=\"text-align: right;\">\n",
       "      <th></th>\n",
       "      <th>number</th>\n",
       "      <th>value</th>\n",
       "      <th>datetime_start</th>\n",
       "      <th>datetime_complete</th>\n",
       "      <th>duration</th>\n",
       "      <th>params_C</th>\n",
       "      <th>params_classifier</th>\n",
       "      <th>params_learning_rate</th>\n",
       "      <th>params_max_depth</th>\n",
       "      <th>params_n_estimators</th>\n",
       "      <th>state</th>\n",
       "    </tr>\n",
       "  </thead>\n",
       "  <tbody>\n",
       "    <tr>\n",
       "      <th>0</th>\n",
       "      <td>97</td>\n",
       "      <td>0.841938536224133</td>\n",
       "      <td>2022-08-09 02:35:41.225839</td>\n",
       "      <td>2022-08-09 02:37:34.537309</td>\n",
       "      <td>0 days 00:01:53.311470</td>\n",
       "      <td>NaN</td>\n",
       "      <td>xgboost</td>\n",
       "      <td>0.1</td>\n",
       "      <td>17.0</td>\n",
       "      <td>500.0</td>\n",
       "      <td>COMPLETE</td>\n",
       "    </tr>\n",
       "    <tr>\n",
       "      <th>2</th>\n",
       "      <td>106</td>\n",
       "      <td>0.8445268119737319</td>\n",
       "      <td>2022-08-09 02:37:51.645079</td>\n",
       "      <td>2022-08-09 02:38:43.209772</td>\n",
       "      <td>0 days 00:00:51.564693</td>\n",
       "      <td>NaN</td>\n",
       "      <td>lgbm</td>\n",
       "      <td>0.01</td>\n",
       "      <td>20.0</td>\n",
       "      <td>1000.0</td>\n",
       "      <td>COMPLETE</td>\n",
       "    </tr>\n",
       "    <tr>\n",
       "      <th>4</th>\n",
       "      <td>35</td>\n",
       "      <td>0.9164345403899722</td>\n",
       "      <td>2022-08-09 01:40:03.147489</td>\n",
       "      <td>2022-08-09 01:40:04.929709</td>\n",
       "      <td>0 days 00:00:01.782220</td>\n",
       "      <td>0.01</td>\n",
       "      <td>logreg</td>\n",
       "      <td>NaN</td>\n",
       "      <td>NaN</td>\n",
       "      <td>NaN</td>\n",
       "      <td>COMPLETE</td>\n",
       "    </tr>\n",
       "  </tbody>\n",
       "</table>\n",
       "</div>"
      ],
      "text/plain": [
       "  number               value              datetime_start  \\\n",
       "0     97   0.841938536224133  2022-08-09 02:35:41.225839   \n",
       "2    106  0.8445268119737319  2022-08-09 02:37:51.645079   \n",
       "4     35  0.9164345403899722  2022-08-09 01:40:03.147489   \n",
       "\n",
       "            datetime_complete                duration params_C  \\\n",
       "0  2022-08-09 02:37:34.537309  0 days 00:01:53.311470      NaN   \n",
       "2  2022-08-09 02:38:43.209772  0 days 00:00:51.564693      NaN   \n",
       "4  2022-08-09 01:40:04.929709  0 days 00:00:01.782220     0.01   \n",
       "\n",
       "  params_classifier params_learning_rate params_max_depth params_n_estimators  \\\n",
       "0           xgboost                  0.1             17.0               500.0   \n",
       "2              lgbm                 0.01             20.0              1000.0   \n",
       "4            logreg                  NaN              NaN                 NaN   \n",
       "\n",
       "      state  \n",
       "0  COMPLETE  \n",
       "2  COMPLETE  \n",
       "4  COMPLETE  "
      ]
     },
     "execution_count": 3,
     "metadata": {},
     "output_type": "execute_result"
    }
   ],
   "source": [
    "# previous best models\n",
    "model_df = pd.read_csv(\"best_models.csv\")\n",
    "\n",
    "model_df.drop([1,3], axis=0, inplace=True)\n",
    "\n",
    "model_df\n"
   ]
  },
  {
   "cell_type": "code",
   "execution_count": 85,
   "metadata": {},
   "outputs": [],
   "source": [
    "def model_initialize():\n",
    "    lr = LogisticRegression(C=0.01)\n",
    "\n",
    "    xg = xgb.XGBClassifier(n_estimators=500, max_depth=17, learning_rate=0.1, n_jobs=-1, verbosity=0, use_label_encoder=False)\n",
    "\n",
    "    lgbm = lgb.LGBMClassifier(n_estimators=1000, max_depth=20, learning_rate=0.01, n_jobs=-1, verbosity=0, force_col_wise=True)\n",
    "\n",
    "    return lr, xg, lgbm"
   ]
  },
  {
   "cell_type": "code",
   "execution_count": 86,
   "metadata": {},
   "outputs": [],
   "source": [
    "def time_and_record(model_name, model, performance, X, y):\n",
    "    performance[\"model_type\"].append(model_name)\n",
    "    \n",
    "    fit_time = %timeit -n1 -r1 model.fit(X,y)\n",
    "    performance[\"fit_time\"].append(fit_time)\n",
    "\n",
    "    predict_time = %timeit -n1 -r1 model.predict(X)\n",
    "    performance[\"fit_time\"].append(predict_time)\n",
    "\n",
    "    if model_name == \"lr\":\n",
    "        performance[\"feature_importance\"].append(model.coef_)\n",
    "    elif model_name == \"xgb\":\n",
    "        performance[\"feature_importance\"].append(model.feature_importances_)\n",
    "    else:\n",
    "        performance[\"feature_importance\"].append(model.feature_importances_)"
   ]
  },
  {
   "cell_type": "code",
   "execution_count": 87,
   "metadata": {},
   "outputs": [],
   "source": [
    "performance = {\"model_type\": [], \"fit_time\": [], \"prediction_time\": [], \"feature_importance\": []}\n"
   ]
  },
  {
   "cell_type": "code",
   "execution_count": 88,
   "metadata": {},
   "outputs": [],
   "source": [
    "models = list(model_initialize())\n",
    "\n",
    "\n",
    "\n",
    "tfidf = TfidfVectorizer(ngram_range=(1,2), min_df = 5, max_df=0.95)\n",
    "\n",
    "X = tfidf.fit_transform(fashion.review)\n",
    "\n",
    "y = np.ravel(fashion.neg_sentiment)\n",
    "\n",
    "\n"
   ]
  },
  {
   "cell_type": "code",
   "execution_count": 89,
   "metadata": {},
   "outputs": [
    {
     "name": "stdout",
     "output_type": "stream",
     "text": [
      "3 s ± 0 ns per loop (mean ± std. dev. of 1 run, 1 loop each)\n",
      "26.5 ms ± 0 ns per loop (mean ± std. dev. of 1 run, 1 loop each)\n",
      "11min 55s ± 0 ns per loop (mean ± std. dev. of 1 run, 1 loop each)\n",
      "5.83 s ± 0 ns per loop (mean ± std. dev. of 1 run, 1 loop each)\n",
      "[LightGBM] [Warning] Accuracy may be bad since you didn't explicitly set num_leaves OR 2^max_depth > num_leaves. (num_leaves=31).\n",
      "[LightGBM] [Warning] Accuracy may be bad since you didn't explicitly set num_leaves OR 2^max_depth > num_leaves. (num_leaves=31).\n"
     ]
    }
   ],
   "source": [
    "\n",
    "for model_name, model in zip(['lr', 'xgb', 'lgbm'], models):\n",
    "    time_and_record(model_name, model, performance, X, y)"
   ]
  },
  {
   "cell_type": "code",
   "execution_count": null,
   "metadata": {},
   "outputs": [],
   "source": []
  }
 ],
 "metadata": {
  "kernelspec": {
   "display_name": "Python 3.10.4 ('pyspark')",
   "language": "python",
   "name": "python3"
  },
  "language_info": {
   "codemirror_mode": {
    "name": "ipython",
    "version": 3
   },
   "file_extension": ".py",
   "mimetype": "text/x-python",
   "name": "python",
   "nbconvert_exporter": "python",
   "pygments_lexer": "ipython3",
   "version": "3.10.4"
  },
  "orig_nbformat": 4,
  "vscode": {
   "interpreter": {
    "hash": "1d73df188c3ed28f9117694899638a2078581279f5400990dc36b7edf848ab19"
   }
  }
 },
 "nbformat": 4,
 "nbformat_minor": 2
}
