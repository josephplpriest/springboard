{
 "cells": [
  {
   "cell_type": "markdown",
   "id": "93e83bfd",
   "metadata": {
    "pycharm": {
     "name": "#%% md\n"
    }
   },
   "source": [
    "# 3.0 Pre-processing and Training\n",
    "\n",
    "Contents\n",
    "\n",
    "3.1 [Introduction](#3.1)\n",
    "\n",
    "  * [3.1.1 Problem Recap](#3.1.1)\n",
    "  * [3.1.2 Notebook Goals](#3.1.2)\n",
    " \n",
    "3.2 [Load the data](#3.2)\n",
    "\n",
    "  * [3.2.1 Imports](#3.2.1)\n",
    "  * [3.2.2 Load the data](#3.2.2)\n",
    "\n",
    "3.3 [Examine Class Split](#3.3)\n",
    "\n",
    "3.4 [Pre-processing](#3.4)\n",
    "\n",
    "  * [3.4.1 Set Random Seed for Reproducability](#3.4.1)\n",
    "  * [3.4.2 Train/test Split](#3.4.2)\n",
    "  * [3.4.3 Examine Class Split for Train/Test Data](#3.4.3)\n",
    "  \n",
    "\n",
    "3.5 [Building some Initial Models](#3.5)\n",
    "  * 3.5.1 [Logistic Regression with Count Vectorization](#3.5.1)\n",
    "<br/><br/>\n",
    "    * [3.5.1.1 Training and Fitting the Model](#3.5.1.1)\n",
    "    * [3.5.1.2 Evaluating the Model](#3.5.1.2)\n",
    "<br/><br/>\n",
    "  * 3.5.2 [Logistic Regression with TFIDF Vectorization](#3.5.2)\n",
    "<br/><br/>\n",
    "    * [3.5.2.1 Training and Fitting Model](#3.5.2.1)\n",
    "    * [3.5.2.2 Evaluating the Model](#3.5.2.2)\n",
    "<br/><br/>\n",
    "  * 3.5.3 [Naive Bayes](#3.5.3)\n",
    "<br/> <br/> \n",
    "    * [3.5.3.1 Training and Fitting the Model](#3.5.3.1)\n",
    "    * [3.5.3.2 Evaluating the Model](#3.5.3.2)\n",
    "<br/> <br/>\n",
    "  * 3.5.4 [Random Forest Classifier](#3.5.4)\n",
    "<br/>  <br/>\n",
    "    * [3.5.4.1 Training and Fitting the Model](#3.5.4.1)\n",
    "    * [3.5.4.2 Evaluating the Model](#3.5.4.2)\n",
    "\n",
    "3.6 [Conclusions](#3.6)\n",
    "  * 3.6.1 [Conclusions](#3.6.1)\n",
    "  * 3.6.2 [Next Steps](#3.6.2)"
   ]
  },
  {
   "cell_type": "markdown",
   "id": "75b9c841",
   "metadata": {
    "pycharm": {
     "name": "#%% md\n"
    }
   },
   "source": [
    "## 3.1 Introduction <a name=\"3.1\"></a>"
   ]
  },
  {
   "cell_type": "markdown",
   "id": "b3d02b97",
   "metadata": {
    "pycharm": {
     "name": "#%% md\n"
    }
   },
   "source": [
    "### 3.1.1 Problem Recap <a name=\"3.1.1\"><a/>"
   ]
  },
  {
   "cell_type": "markdown",
   "id": "6cadbd87",
   "metadata": {
    "pycharm": {
     "name": "#%% md\n"
    }
   },
   "source": [
    "Using customer text data about amazon products, we will build, evaluate and compare models to estimate the probability that a given text review can be classified as “positive” or “negative”.\n",
    "\n",
    "Our goal is to build a text classifier using Amazon product review data which can be used to analyze customer sentiment which does not have accompanying numeric data. The metric we will be primarily interested in will be Recall on the positive class. This is the proportion of the positive class (negative reviews coded as \"1\" in the data) we correctly predict."
   ]
  },
  {
   "cell_type": "markdown",
   "id": "27bc4983",
   "metadata": {
    "pycharm": {
     "name": "#%% md\n"
    }
   },
   "source": [
    "### 3.1.2 Notebook Goals <a name=\"3.1.2\"></a>"
   ]
  },
  {
   "cell_type": "markdown",
   "id": "aeda4730",
   "metadata": {
    "pycharm": {
     "name": "#%% md\n"
    }
   },
   "source": [
    "1. Examine the split between the class we're trying to predict.\n",
    "\n",
    "2. Split the data into train and test sets.\n",
    "\n",
    "3. Convert our text review data into numeric features. (CountVectorization, TFIDF, and word2vec are options)\n",
    "\n",
    "4. Build a few simple, initial predictive models.\n",
    "\n",
    "5. Logistic Regression predicts probabilities. With \"positive\" (0) and \"negative\" (1) review, we can do a binary classification.\n",
    "\n",
    "6. Measure the performance of the model with a Classification Report, Confusion Matrix and ROC + AUC."
   ]
  },
  {
   "cell_type": "markdown",
   "id": "71d646fd",
   "metadata": {
    "pycharm": {
     "name": "#%% md\n"
    }
   },
   "source": [
    "## 3.2 Load the data <a name=\"3.2\"><a/>"
   ]
  },
  {
   "cell_type": "markdown",
   "id": "9f718e2c",
   "metadata": {
    "pycharm": {
     "name": "#%% md\n"
    }
   },
   "source": [
    "### 3.2.1 Imports <a name=\"3.2.1\"><a/>"
   ]
  },
  {
   "cell_type": "code",
   "execution_count": 29,
   "id": "589120c8",
   "metadata": {
    "pycharm": {
     "name": "#%%\n"
    }
   },
   "outputs": [],
   "source": [
    "from random import seed\n",
    "\n",
    "#reading/processing data\n",
    "import pandas as pd\n",
    "import numpy as np\n",
    "import matplotlib.pyplot as plt\n",
    "import pyarrow.parquet as pq\n",
    "\n",
    "#splitting the dataset\n",
    "from sklearn.model_selection import train_test_split\n",
    "\n",
    "#scaling/vectorization\n",
    "from sklearn.preprocessing import StandardScaler\n",
    "from sklearn.feature_extraction.text import CountVectorizer, TfidfVectorizer\n",
    "\n",
    "# models\n",
    "from sklearn.linear_model import LogisticRegression\n",
    "from sklearn.naive_bayes import ComplementNB\n",
    "from sklearn.ensemble import RandomForestClassifier\n",
    "\n",
    "#metrics\n",
    "from sklearn.metrics import accuracy_score, classification_report, ConfusionMatrixDisplay\n",
    "from sklearn.metrics import confusion_matrix, RocCurveDisplay"
   ]
  },
  {
   "cell_type": "markdown",
   "id": "041448da",
   "metadata": {
    "pycharm": {
     "name": "#%% md\n"
    }
   },
   "source": [
    "### 3.2.2 Load the data <a name=\"3.2.2\"><a/>"
   ]
  },
  {
   "cell_type": "code",
   "execution_count": 30,
   "id": "23d6a53a",
   "metadata": {
    "pycharm": {
     "name": "#%%\n"
    }
   },
   "outputs": [],
   "source": [
    "data = pq.read_table(\"../data/edited/fashion.parquet\")\n",
    "fashion = data.to_pandas()"
   ]
  },
  {
   "cell_type": "code",
   "execution_count": 31,
   "id": "2c4d67c6",
   "metadata": {
    "pycharm": {
     "name": "#%%\n"
    }
   },
   "outputs": [
    {
     "data": {
      "text/html": [
       "<div>\n",
       "<style scoped>\n",
       "    .dataframe tbody tr th:only-of-type {\n",
       "        vertical-align: middle;\n",
       "    }\n",
       "\n",
       "    .dataframe tbody tr th {\n",
       "        vertical-align: top;\n",
       "    }\n",
       "\n",
       "    .dataframe thead th {\n",
       "        text-align: right;\n",
       "    }\n",
       "</style>\n",
       "<table border=\"1\" class=\"dataframe\">\n",
       "  <thead>\n",
       "    <tr style=\"text-align: right;\">\n",
       "      <th></th>\n",
       "      <th>review</th>\n",
       "      <th>neg_sentiment</th>\n",
       "      <th>stars</th>\n",
       "      <th>review_length</th>\n",
       "    </tr>\n",
       "  </thead>\n",
       "  <tbody>\n",
       "    <tr>\n",
       "      <th>0</th>\n",
       "      <td>exactly needed</td>\n",
       "      <td>0</td>\n",
       "      <td>5</td>\n",
       "      <td>4</td>\n",
       "    </tr>\n",
       "    <tr>\n",
       "      <th>1</th>\n",
       "      <td>agree review opening small bent hook expensiv...</td>\n",
       "      <td>1</td>\n",
       "      <td>2</td>\n",
       "      <td>49</td>\n",
       "    </tr>\n",
       "    <tr>\n",
       "      <th>2</th>\n",
       "      <td>love going order pack work including losing ea...</td>\n",
       "      <td>0</td>\n",
       "      <td>4</td>\n",
       "      <td>50</td>\n",
       "    </tr>\n",
       "    <tr>\n",
       "      <th>3</th>\n",
       "      <td>tiny opening</td>\n",
       "      <td>1</td>\n",
       "      <td>2</td>\n",
       "      <td>4</td>\n",
       "    </tr>\n",
       "    <tr>\n",
       "      <th>4</th>\n",
       "      <td>okay</td>\n",
       "      <td>1</td>\n",
       "      <td>3</td>\n",
       "      <td>1</td>\n",
       "    </tr>\n",
       "  </tbody>\n",
       "</table>\n",
       "</div>"
      ],
      "text/plain": [
       "                                              review  neg_sentiment  stars  \\\n",
       "0                                     exactly needed              0      5   \n",
       "1   agree review opening small bent hook expensiv...              1      2   \n",
       "2  love going order pack work including losing ea...              0      4   \n",
       "3                                       tiny opening              1      2   \n",
       "4                                               okay              1      3   \n",
       "\n",
       "   review_length  \n",
       "0              4  \n",
       "1             49  \n",
       "2             50  \n",
       "3              4  \n",
       "4              1  "
      ]
     },
     "execution_count": 31,
     "metadata": {},
     "output_type": "execute_result"
    }
   ],
   "source": [
    "fashion.head()"
   ]
  },
  {
   "cell_type": "code",
   "execution_count": 32,
   "id": "f498bccd",
   "metadata": {
    "pycharm": {
     "name": "#%%\n"
    }
   },
   "outputs": [
    {
     "data": {
      "text/html": [
       "<div>\n",
       "<style scoped>\n",
       "    .dataframe tbody tr th:only-of-type {\n",
       "        vertical-align: middle;\n",
       "    }\n",
       "\n",
       "    .dataframe tbody tr th {\n",
       "        vertical-align: top;\n",
       "    }\n",
       "\n",
       "    .dataframe thead th {\n",
       "        text-align: right;\n",
       "    }\n",
       "</style>\n",
       "<table border=\"1\" class=\"dataframe\">\n",
       "  <thead>\n",
       "    <tr style=\"text-align: right;\">\n",
       "      <th></th>\n",
       "      <th>neg_sentiment</th>\n",
       "      <th>stars</th>\n",
       "      <th>review_length</th>\n",
       "    </tr>\n",
       "  </thead>\n",
       "  <tbody>\n",
       "    <tr>\n",
       "      <th>count</th>\n",
       "      <td>873352.000000</td>\n",
       "      <td>873352.000000</td>\n",
       "      <td>873352.000000</td>\n",
       "    </tr>\n",
       "    <tr>\n",
       "      <th>mean</th>\n",
       "      <td>0.304939</td>\n",
       "      <td>3.904786</td>\n",
       "      <td>29.131591</td>\n",
       "    </tr>\n",
       "    <tr>\n",
       "      <th>std</th>\n",
       "      <td>0.460382</td>\n",
       "      <td>1.419361</td>\n",
       "      <td>39.372047</td>\n",
       "    </tr>\n",
       "    <tr>\n",
       "      <th>min</th>\n",
       "      <td>0.000000</td>\n",
       "      <td>1.000000</td>\n",
       "      <td>1.000000</td>\n",
       "    </tr>\n",
       "    <tr>\n",
       "      <th>25%</th>\n",
       "      <td>0.000000</td>\n",
       "      <td>3.000000</td>\n",
       "      <td>7.000000</td>\n",
       "    </tr>\n",
       "    <tr>\n",
       "      <th>50%</th>\n",
       "      <td>0.000000</td>\n",
       "      <td>5.000000</td>\n",
       "      <td>17.000000</td>\n",
       "    </tr>\n",
       "    <tr>\n",
       "      <th>75%</th>\n",
       "      <td>1.000000</td>\n",
       "      <td>5.000000</td>\n",
       "      <td>36.000000</td>\n",
       "    </tr>\n",
       "    <tr>\n",
       "      <th>max</th>\n",
       "      <td>1.000000</td>\n",
       "      <td>5.000000</td>\n",
       "      <td>2196.000000</td>\n",
       "    </tr>\n",
       "  </tbody>\n",
       "</table>\n",
       "</div>"
      ],
      "text/plain": [
       "       neg_sentiment          stars  review_length\n",
       "count  873352.000000  873352.000000  873352.000000\n",
       "mean        0.304939       3.904786      29.131591\n",
       "std         0.460382       1.419361      39.372047\n",
       "min         0.000000       1.000000       1.000000\n",
       "25%         0.000000       3.000000       7.000000\n",
       "50%         0.000000       5.000000      17.000000\n",
       "75%         1.000000       5.000000      36.000000\n",
       "max         1.000000       5.000000    2196.000000"
      ]
     },
     "execution_count": 32,
     "metadata": {},
     "output_type": "execute_result"
    }
   ],
   "source": [
    "fashion.describe()"
   ]
  },
  {
   "cell_type": "code",
   "execution_count": 33,
   "id": "9e57eb28",
   "metadata": {
    "pycharm": {
     "name": "#%%\n"
    }
   },
   "outputs": [
    {
     "data": {
      "text/plain": [
       "(873352, 4)"
      ]
     },
     "execution_count": 33,
     "metadata": {},
     "output_type": "execute_result"
    }
   ],
   "source": [
    "fashion.shape"
   ]
  },
  {
   "cell_type": "markdown",
   "id": "b279c482",
   "metadata": {
    "pycharm": {
     "name": "#%% md\n"
    }
   },
   "source": [
    "## 3.3 Examine Class Split <a name=\"3.3\"><a/>"
   ]
  },
  {
   "cell_type": "code",
   "execution_count": 34,
   "id": "b10a27b2",
   "metadata": {
    "pycharm": {
     "name": "#%%\n"
    }
   },
   "outputs": [],
   "source": [
    "def plot_sentiment_split(df_col:pd.Series):\n",
    "    \"\"\"\n",
    "    Plot the split between our positive and negative classes\n",
    "    \"\"\"\n",
    "    df_col.value_counts().plot(kind=\"pie\")\n",
    "    plt.legend(labels=(\"Positive Reviews\",\"Negative Reviews\"))\n",
    "    plt.title(\"Review Sentiment Split\")\n",
    "    plt.show()\n",
    "\n",
    "    positive, negative = df_col.value_counts(normalize=True).values\n",
    "\n",
    "    pos_perc = round(positive * 100, 2)\n",
    "    neg_perc = round(negative * 100, 2)\n",
    "    print(f\"Positive reviews: {pos_perc}%\\n\", f\"Negative reviews: {neg_perc}%\")"
   ]
  },
  {
   "cell_type": "code",
   "execution_count": 35,
   "id": "e96a82d1-111b-49bf-83b4-06086e2e80bc",
   "metadata": {},
   "outputs": [
    {
     "data": {
      "image/png": "[encoded data removed]",
      "text/plain": [
       "<Figure size 432x288 with 1 Axes>"
      ]
     },
     "metadata": {},
     "output_type": "display_data"
    },
    {
     "name": "stdout",
     "output_type": "stream",
     "text": [
      "Positive reviews: 69.51%\n",
      " Negative reviews: 30.49%\n"
     ]
    }
   ],
   "source": [
    "plot_sentiment_split(fashion[\"neg_sentiment\"])"
   ]
  },
  {
   "cell_type": "markdown",
   "id": "96e4329c-a5d8-4c47-93c0-c9b11a2440f7",
   "metadata": {},
   "source": [
    "We have more than double the positive reviews vs. negative reviews. The class we are trying to predict is negative reviews which are coded as \"1\"."
   ]
  },
  {
   "cell_type": "markdown",
   "id": "b2a20099-9c59-4751-a268-ac411ef8dd06",
   "metadata": {},
   "source": [
    "## 3.4 Pre-Processing <a name=\"3.4\"><a/>"
   ]
  },
  {
   "cell_type": "markdown",
   "id": "a53ec675",
   "metadata": {
    "pycharm": {
     "name": "#%% md\n"
    }
   },
   "source": [
    "### 3.4.1 Set Random Seed for Reproducability <a name=\"3.4.1\"><a/>"
   ]
  },
  {
   "cell_type": "code",
   "execution_count": 36,
   "id": "c521e2ea",
   "metadata": {
    "pycharm": {
     "name": "#%%\n"
    }
   },
   "outputs": [],
   "source": [
    "seed(42)"
   ]
  },
  {
   "cell_type": "markdown",
   "id": "6196a8de",
   "metadata": {
    "pycharm": {
     "name": "#%% md\n"
    }
   },
   "source": [
    "### 3.4.2 Train/Test Split <a name=\"3.4.2\"><a/>"
   ]
  },
  {
   "cell_type": "code",
   "execution_count": 37,
   "id": "d8332659",
   "metadata": {
    "pycharm": {
     "name": "#%%\n"
    }
   },
   "outputs": [],
   "source": [
    "#split into train and test with a 90% / 10% ratio\n",
    "\n",
    "X_train, X_test, y_train, y_test = train_test_split(fashion[\"review\"].values, fashion[\"neg_sentiment\"], test_size = .1)"
   ]
  },
  {
   "cell_type": "markdown",
   "id": "a1e0baf4-2d20-4553-b1f8-af5f7bc8522f",
   "metadata": {},
   "source": [
    "### 3.4.3 Examine Class Split for Train/Test Data <a name=\"3.4.3\"><a/>"
   ]
  },
  {
   "cell_type": "code",
   "execution_count": 38,
   "id": "cc3cf2f1",
   "metadata": {
    "pycharm": {
     "name": "#%%\n"
    }
   },
   "outputs": [
    {
     "data": {
      "image/png": "[encoded data removed]",
      "text/plain": [
       "<Figure size 432x288 with 1 Axes>"
      ]
     },
     "metadata": {},
     "output_type": "display_data"
    },
    {
     "name": "stdout",
     "output_type": "stream",
     "text": [
      "Positive reviews: 69.5%\n",
      " Negative reviews: 30.5%\n"
     ]
    }
   ],
   "source": [
    "plot_sentiment_split(y_train)"
   ]
  },
  {
   "cell_type": "code",
   "execution_count": 39,
   "id": "d08d057b",
   "metadata": {
    "pycharm": {
     "name": "#%%\n"
    }
   },
   "outputs": [
    {
     "data": {
      "image/png": "[encoded data removed]",
      "text/plain": [
       "<Figure size 432x288 with 1 Axes>"
      ]
     },
     "metadata": {},
     "output_type": "display_data"
    },
    {
     "name": "stdout",
     "output_type": "stream",
     "text": [
      "Positive reviews: 69.52%\n",
      " Negative reviews: 30.48%\n"
     ]
    }
   ],
   "source": [
    "plot_sentiment_split(y_test)"
   ]
  },
  {
   "cell_type": "markdown",
   "id": "b373584c-9a1e-44a1-ad7d-354d9b4d79f6",
   "metadata": {},
   "source": [
    "#### Both the training and test data after splitting is very representative of the split of the entire dataset (roughly .1 percent difference)."
   ]
  },
  {
   "cell_type": "code",
   "execution_count": 40,
   "id": "94ceef53-ab3f-411c-9f02-abf2d5c961e9",
   "metadata": {},
   "outputs": [],
   "source": [
    "#convert to 1d arrays for modeling\n",
    "y_train, y_test = np.ravel(y_train), np.ravel(y_test)"
   ]
  },
  {
   "cell_type": "markdown",
   "id": "0dedd5bf-0a9d-4124-a09e-692e4f4fb68e",
   "metadata": {},
   "source": [
    "## 3.5 Building Models <a name=\"3.5\"><a/>"
   ]
  },
  {
   "cell_type": "markdown",
   "id": "d19fb63b-d126-4963-a50e-39420101fafc",
   "metadata": {},
   "source": [
    "### 3.5.1 Logistic Regression with Count Vectorization <a name=\"3.5.1\"><a/>"
   ]
  },
  {
   "cell_type": "markdown",
   "id": "995c8e44",
   "metadata": {},
   "source": [
    "#### 3.5.1.1 Training and Fitting the Model <a name=\"3.5.1.1\"><a/>"
   ]
  },
  {
   "cell_type": "code",
   "execution_count": 41,
   "id": "f7e79147-630d-42e5-9065-ffb43c3d309e",
   "metadata": {},
   "outputs": [
    {
     "name": "stdout",
     "output_type": "stream",
     "text": [
      "(786016, 75279) <class 'scipy.sparse.csr.csr_matrix'> (87336,)\n",
      "(786016,) (87336,)\n"
     ]
    }
   ],
   "source": [
    "#Trying a logistic model with simple bag-of-words Count Vectorization\n",
    "\n",
    "count_vec = CountVectorizer()\n",
    "\n",
    "#fit the vectorizer on the training data\n",
    "count_vec.fit(X_train)\n",
    "\n",
    "#transform both the training and test data\n",
    "X_train_vec = count_vec.transform(X_train)\n",
    "X_test_vec = count_vec.transform(X_test)\n",
    "\n",
    "\n",
    "\n",
    "print(X_train_vec.shape, type(X_train_vec), X_test.shape)\n",
    "print(y_train.shape, y_test.shape)\n",
    "\n",
    "#Using the sklearn StandardScaler to normalize the data, with a \"with_mean\" parameter for sparse matrices\n",
    "scaler = StandardScaler(with_mean=False)\n",
    "\n",
    "#fit on the training data, scale both train and text\n",
    "X_train_vec = scaler.fit_transform(X_train_vec)\n",
    "X_test_vec = scaler.transform(X_test_vec)\n",
    "\n",
    "#using the default solver\n",
    "lr = LogisticRegression(solver = \"lbfgs\", n_jobs=-1, max_iter=1000)\n",
    "\n",
    "#train the lr model with the training data\n",
    "lr.fit(X_train_vec, y_train)\n",
    "\n",
    "#predict on the training data\n",
    "train_preds = lr.predict(X_train_vec)\n",
    "\n",
    "\n",
    "#predict on the test data\n",
    "test_preds = lr.predict(X_test_vec)\n"
   ]
  },
  {
   "cell_type": "markdown",
   "id": "68e29c8f-b9ce-4ab3-8e24-3cdb8f203fc4",
   "metadata": {},
   "source": [
    "##### Count Vectorized-Logistic Regression Train Set Results"
   ]
  },
  {
   "cell_type": "code",
   "execution_count": 42,
   "id": "affd3bee-1e52-4387-8bf5-5cb03e7c7e39",
   "metadata": {},
   "outputs": [
    {
     "name": "stdout",
     "output_type": "stream",
     "text": [
      "              precision    recall  f1-score   support\n",
      "\n",
      "           0       0.92      0.95      0.93    546314\n",
      "           1       0.87      0.81      0.84    239702\n",
      "\n",
      "    accuracy                           0.90    786016\n",
      "   macro avg       0.89      0.88      0.88    786016\n",
      "weighted avg       0.90      0.90      0.90    786016\n",
      "\n"
     ]
    }
   ],
   "source": [
    "print(classification_report(y_train, train_preds))\n",
    "\n"
   ]
  },
  {
   "cell_type": "markdown",
   "id": "2cf45419",
   "metadata": {},
   "source": [
    "### Evaluating the model <a name=\"3.5.1.2\"><a/>"
   ]
  },
  {
   "cell_type": "markdown",
   "id": "217af7d4-026f-4b63-bd09-eefdf0c373e9",
   "metadata": {},
   "source": [
    "##### Count Vectorized-Logistic Regression Test Set Results"
   ]
  },
  {
   "cell_type": "code",
   "execution_count": 43,
   "id": "9c68738a",
   "metadata": {},
   "outputs": [],
   "source": [
    "#Create a dictionary to store the results for each model to compare at the end of the notebook.\n",
    "results_dict = {}"
   ]
  },
  {
   "cell_type": "code",
   "execution_count": 44,
   "id": "450d408c-6b0b-408a-b87c-ff67867a59cb",
   "metadata": {},
   "outputs": [
    {
     "name": "stdout",
     "output_type": "stream",
     "text": [
      "              precision    recall  f1-score   support\n",
      "\n",
      "           0       0.90      0.93      0.91     60719\n",
      "           1       0.82      0.76      0.78     26617\n",
      "\n",
      "    accuracy                           0.87     87336\n",
      "   macro avg       0.86      0.84      0.85     87336\n",
      "weighted avg       0.87      0.87      0.87     87336\n",
      "\n",
      "Confusion matrix values: \n",
      "[[56170  4549]\n",
      " [ 6502 20115]]\n"
     ]
    },
    {
     "data": {
      "image/png": "[encoded data removed]",
      "text/plain": [
       "<Figure size 432x288 with 2 Axes>"
      ]
     },
     "metadata": {
      "needs_background": "light"
     },
     "output_type": "display_data"
    }
   ],
   "source": [
    "print(classification_report(y_test, test_preds))\n",
    "\n",
    "results_dict[\"Logistic Regression with Count Vectorization\"] = classification_report(y_test, test_preds)\n",
    "\n",
    "\n",
    "print(f\"Confusion matrix values: \\n{confusion_matrix(y_test, test_preds)}\")\n",
    "ConfusionMatrixDisplay.from_predictions(y_test, test_preds)\n",
    "\n",
    "plt.show()\n"
   ]
  },
  {
   "cell_type": "markdown",
   "id": "93fe550a",
   "metadata": {},
   "source": [
    "##### Summary"
   ]
  },
  {
   "cell_type": "markdown",
   "id": "b676c3a6",
   "metadata": {},
   "source": [
    "Our first Logistic regression model has fairly good metrics on our majority class (0) but worse on the minority class (1) that we really care about predicting. \n",
    "\n",
    "Recall  =  True Positives / (True Positives + False Negatives)\n",
    "\n",
    "Our recall is only .76 on the test set for the positive class. We are predicting 20190 of our positives data points correctly vs 6445 of them incorrectly. We'll try using TF-IDF vectorization instead and see if that impoves our results. "
   ]
  },
  {
   "cell_type": "markdown",
   "id": "fc4c7f6a-c85c-4e96-994c-5ff8a4267474",
   "metadata": {},
   "source": [
    "### 3.5.2 Logistic Regression with Term-Frequency Inverse Document Frequency Vectorization <a name=\"3.5.2\"><a/>"
   ]
  },
  {
   "cell_type": "markdown",
   "id": "f3d219e8",
   "metadata": {},
   "source": [
    "#### 3.5.2.1 Training and Fitting the Model <a name=\"3.5.2.1\"><a/>"
   ]
  },
  {
   "cell_type": "code",
   "execution_count": 45,
   "id": "86d3b3cf-7690-4786-8c9a-06f27f00d583",
   "metadata": {},
   "outputs": [
    {
     "name": "stdout",
     "output_type": "stream",
     "text": [
      "(786016, 2310780) (87336,)\n",
      "(786016,) (87336,)\n"
     ]
    }
   ],
   "source": [
    "#Trying a logistic model with Tfidf Vectorization\n",
    "\n",
    "#instantiate tfidf using a max_df to eliminate the most common words (uni-gram and bi-grams) in 90%+ of reviews\n",
    "tfidf = TfidfVectorizer(ngram_range=(1,2), max_df=0.9)\n",
    "\n",
    "#fit the vectorizer on the training data\n",
    "tfidf.fit(X_train)\n",
    "\n",
    "#transform both the training and test data\n",
    "X_train_vec = tfidf.transform(X_train)\n",
    "X_test_vec = tfidf.transform(X_test)\n",
    "\n",
    "print(X_train_vec.shape, X_test.shape)\n",
    "print(y_train.shape, y_test.shape)\n",
    "\n",
    "#using the default solver\n",
    "lr = LogisticRegression(solver = \"lbfgs\", n_jobs=-1, max_iter=1000)\n",
    "\n",
    "#train the lr model with the training data\n",
    "lr.fit(X_train_vec, y_train)\n",
    "\n",
    "#predict on the training data\n",
    "train_preds = lr.predict(X_train_vec)\n",
    "\n",
    "#predict on the test data\n",
    "test_preds = lr.predict(X_test_vec)\n"
   ]
  },
  {
   "cell_type": "markdown",
   "id": "b022230f",
   "metadata": {},
   "source": [
    "Note the MUCH larger size of the sparse matrix created by the TFIDF model. Because of the additional size added by using bigrams, we have over 2 million column features instead of the 75,000 created by the Count Vectorizor. This proved to be a problem for some sklearn solvers (which did not converge) as well as the random forest model (out-of-memory errors). The small Count Vectorized data worked better for those models. A possible solution would be to switch to a local pyspark cluster to increase the memory available."
   ]
  },
  {
   "cell_type": "markdown",
   "id": "600519a6-527c-4aae-82fb-a604fb9007ca",
   "metadata": {},
   "source": [
    "##### Tfidf-Logistic Regression Training set results"
   ]
  },
  {
   "cell_type": "code",
   "execution_count": 46,
   "id": "fb04d17c-858a-4150-bdd8-81a04511e5ad",
   "metadata": {},
   "outputs": [
    {
     "name": "stdout",
     "output_type": "stream",
     "text": [
      "              precision    recall  f1-score   support\n",
      "\n",
      "           0       0.93      0.96      0.95    546314\n",
      "           1       0.90      0.85      0.87    239702\n",
      "\n",
      "    accuracy                           0.92    786016\n",
      "   macro avg       0.92      0.90      0.91    786016\n",
      "weighted avg       0.92      0.92      0.92    786016\n",
      "\n",
      "Confusion matrix values: \n",
      "[[523840  22474]\n",
      " [ 36996 202706]]\n"
     ]
    }
   ],
   "source": [
    "print(classification_report(y_train, train_preds))\n",
    "\n",
    "print(f\"Confusion matrix values: \\n{confusion_matrix(y_train, train_preds)}\")\n"
   ]
  },
  {
   "cell_type": "markdown",
   "id": "595273a5-d6b0-43ef-9016-dc4f7b3026ef",
   "metadata": {},
   "source": [
    "##### Tfidf-Logistic Regression Test Set Results"
   ]
  },
  {
   "cell_type": "code",
   "execution_count": 47,
   "id": "593a75bc-b118-40e3-90b4-49a38dfcb643",
   "metadata": {},
   "outputs": [
    {
     "name": "stdout",
     "output_type": "stream",
     "text": [
      "              precision    recall  f1-score   support\n",
      "\n",
      "           0       0.92      0.94      0.93     60719\n",
      "           1       0.86      0.80      0.83     26617\n",
      "\n",
      "    accuracy                           0.90     87336\n",
      "   macro avg       0.89      0.87      0.88     87336\n",
      "weighted avg       0.90      0.90      0.90     87336\n",
      "\n",
      "Confusion matrix values: \n",
      "[[57352  3367]\n",
      " [ 5218 21399]]\n"
     ]
    },
    {
     "data": {
      "image/png": "[encoded data removed]",
      "text/plain": [
       "<Figure size 432x288 with 2 Axes>"
      ]
     },
     "metadata": {
      "needs_background": "light"
     },
     "output_type": "display_data"
    }
   ],
   "source": [
    "print(classification_report(y_test, test_preds))\n",
    "\n",
    "results_dict[\"Logistic Regression with TFIDF Vectorization\"] = classification_report(y_test, test_preds)\n",
    "\n",
    "\n",
    "print(f\"Confusion matrix values: \\n{confusion_matrix(y_test, test_preds)}\")\n",
    "ConfusionMatrixDisplay.from_predictions(y_test, test_preds)\n",
    "\n",
    "plt.show()\n",
    "\n"
   ]
  },
  {
   "cell_type": "markdown",
   "id": "161d66f1",
   "metadata": {},
   "source": [
    "#### Evaluating the Model <a name=\"3.5.2.2\"><a/>"
   ]
  },
  {
   "cell_type": "markdown",
   "id": "44618fdd",
   "metadata": {},
   "source": [
    "Logistic regression with TFIDF vectorization has better metrics than with Count Vectorization. Due to including bigrams (and possibly disallowing the most common words via max_df of .9) the TFIDF vectorization encodes more information about the data, but results in a much larger input matrix to the model.\n",
    "\n",
    "Recall  =  True Positives / (True Positives + False Negatives)\n",
    "\n",
    "Our recall is only .81 (vs .76 for Count Vec.) on the test set for the positive class. We are predicting 21560 of our positives data points correctly vs 5214 of them incorrectly. Though we don't care quite as much about the negative class, our metrics for it are also better than the LR model with Count Vectorization."
   ]
  },
  {
   "cell_type": "code",
   "execution_count": 48,
   "id": "ae593f88",
   "metadata": {},
   "outputs": [
    {
     "data": {
      "text/plain": [
       "<sklearn.metrics._plot.roc_curve.RocCurveDisplay at 0x7fdc92ef7280>"
      ]
     },
     "execution_count": 48,
     "metadata": {},
     "output_type": "execute_result"
    },
    {
     "data": {
      "image/png": "[encoded data removed]",
      "text/plain": [
       "<Figure size 432x288 with 1 Axes>"
      ]
     },
     "metadata": {
      "needs_background": "light"
     },
     "output_type": "display_data"
    }
   ],
   "source": [
    "RocCurveDisplay.from_estimator(lr, X_test_vec, y_test)\n"
   ]
  },
  {
   "cell_type": "markdown",
   "id": "6bb7ceed",
   "metadata": {},
   "source": [
    "Examining the ROC curve we see a very high AUC (.96). The curve is showing the TPR vs FPR for each possible cut-off for the probabilities output by the Logistic Regression model. \n",
    "\n",
    "The model gives a probability for a positive or negative prediction for each individual data point and then chooses the best cutoff. The curve shows how this varies across a range of different cut offs points ranging from 0-1."
   ]
  },
  {
   "cell_type": "markdown",
   "id": "2ae40141-c859-42e8-a0f0-7d196305efbb",
   "metadata": {},
   "source": [
    "## 3.5.3 Naive Bayes with Count Vectorization <a name=\"3.5.3\"><a/>"
   ]
  },
  {
   "cell_type": "markdown",
   "id": "d382aefc",
   "metadata": {},
   "source": [
    "#### 3.5.3.1 Training and Fitting the Model <a name=\"3.5.3.1\"><a/>"
   ]
  },
  {
   "cell_type": "code",
   "execution_count": 49,
   "id": "a99a6c79-9f7c-42ea-a2bf-1a348b5693bc",
   "metadata": {},
   "outputs": [
    {
     "name": "stdout",
     "output_type": "stream",
     "text": [
      "(786016, 75279) <class 'scipy.sparse.csr.csr_matrix'> (87336,)\n",
      "(786016,) (87336,)\n"
     ]
    }
   ],
   "source": [
    "#Trying a Naive Bayesian model with simple bag-of-words Count Vectorization\n",
    "\n",
    "count_vec = CountVectorizer()\n",
    "\n",
    "#fit the vectorizer on the training data\n",
    "count_vec.fit(X_train)\n",
    "\n",
    "#transform both the training and test data\n",
    "X_train_vec = count_vec.transform(X_train)\n",
    "X_test_vec = count_vec.transform(X_test)\n",
    "\n",
    "print(X_train_vec.shape, type(X_train_vec), X_test.shape)\n",
    "print(y_train.shape, y_test.shape)\n",
    "\n",
    "#using the sklearn StandardScaler to normalize the data, with a \"with_mean\" parameter for sparse matrices\n",
    "scaler = StandardScaler(with_mean=False)\n",
    "\n",
    "#fit on the training data, scale both train and text\n",
    "X_train_vec = scaler.fit_transform(X_train_vec)\n",
    "X_test_vec = scaler.transform(X_test_vec)\n",
    "\n",
    "#using the complement version of naive bayes which accepts sparse matrices as input\n",
    "#it also is supposed to work well for imbalanced datasets\n",
    "comp_nb = ComplementNB()\n",
    "\n",
    "#train the lr model with the training data\n",
    "comp_nb.fit(X_train_vec, y_train)\n",
    "\n",
    "#predict on the training data\n",
    "train_preds = comp_nb.predict(X_train_vec)\n",
    "\n",
    "#predict on the test data\n",
    "test_preds = comp_nb.predict(X_test_vec)\n"
   ]
  },
  {
   "cell_type": "markdown",
   "id": "f6d71410-4828-4544-9830-8051cc252fb7",
   "metadata": {},
   "source": [
    "##### Naive Bayes Train Set Results"
   ]
  },
  {
   "cell_type": "code",
   "execution_count": 50,
   "id": "5a8c7e21-0bcf-4fec-bea1-6b9f9770c597",
   "metadata": {},
   "outputs": [
    {
     "name": "stdout",
     "output_type": "stream",
     "text": [
      "              precision    recall  f1-score   support\n",
      "\n",
      "           0       0.92      0.82      0.87    546314\n",
      "           1       0.67      0.85      0.75    239702\n",
      "\n",
      "    accuracy                           0.83    786016\n",
      "   macro avg       0.80      0.83      0.81    786016\n",
      "weighted avg       0.85      0.83      0.83    786016\n",
      "\n"
     ]
    }
   ],
   "source": [
    "print(classification_report(y_train, train_preds))"
   ]
  },
  {
   "cell_type": "markdown",
   "id": "997ae026",
   "metadata": {},
   "source": [
    "#### 3.5.3.2 Evaluating the Model <a name=\"3.5.3.2\"><a/>"
   ]
  },
  {
   "cell_type": "markdown",
   "id": "3c1cf5db",
   "metadata": {},
   "source": [
    "##### Naive Bayes Test Set Results"
   ]
  },
  {
   "cell_type": "code",
   "execution_count": 51,
   "id": "b2f2e46d-ee80-4591-a90a-2646ad38a2d5",
   "metadata": {},
   "outputs": [
    {
     "name": "stdout",
     "output_type": "stream",
     "text": [
      "              precision    recall  f1-score   support\n",
      "\n",
      "           0       0.90      0.80      0.85     60719\n",
      "           1       0.64      0.81      0.72     26617\n",
      "\n",
      "    accuracy                           0.80     87336\n",
      "   macro avg       0.77      0.81      0.78     87336\n",
      "weighted avg       0.83      0.80      0.81     87336\n",
      "\n",
      "Confusion matrix values: \n",
      "[[48789 11930]\n",
      " [ 5125 21492]]\n"
     ]
    },
    {
     "data": {
      "image/png": "[encoded data removed]",
      "text/plain": [
       "<Figure size 432x288 with 2 Axes>"
      ]
     },
     "metadata": {
      "needs_background": "light"
     },
     "output_type": "display_data"
    }
   ],
   "source": [
    "print(classification_report(y_test, test_preds))\n",
    "\n",
    "#saving the results\n",
    "results_dict[\"Naive Bayes with Count Vectorization\"] = classification_report(y_test, test_preds)\n",
    "\n",
    "\n",
    "print(f\"Confusion matrix values: \\n{confusion_matrix(y_test, test_preds)}\")\n",
    "ConfusionMatrixDisplay.from_predictions(y_test, test_preds)\n",
    "\n",
    "plt.show()\n",
    "\n"
   ]
  },
  {
   "cell_type": "markdown",
   "id": "556c1e0f",
   "metadata": {},
   "source": [
    "The Naive Bayes model is giving a fairly good recall of .80 on the positive class we are predicting, but interestingly predicts a much higher number of the negative class incorrectly (notice the low precision).\n",
    "\n",
    "\n",
    "\n",
    "Precision  =  True Positives / (True Positives + False Positives)\n"
   ]
  },
  {
   "cell_type": "code",
   "execution_count": 52,
   "id": "095c445d",
   "metadata": {},
   "outputs": [
    {
     "name": "stdout",
     "output_type": "stream",
     "text": [
      "Precision of our Naive Bayes model: \t0.64192839755388\n"
     ]
    }
   ],
   "source": [
    "precision = 21624 / (21624 + 12062)\n",
    "\n",
    "print(f\"Precision of our Naive Bayes model: \\t{precision}\")"
   ]
  },
  {
   "cell_type": "markdown",
   "id": "5668f0c8-705f-4edb-aafc-303614118f6b",
   "metadata": {},
   "source": [
    "## 3.5.4 Random Forest Classifier with Count Vectorizations <a name=\"3.5.4\"><a/>"
   ]
  },
  {
   "cell_type": "markdown",
   "id": "bd6d1b8c",
   "metadata": {},
   "source": [
    "#### 3.5.4.1 Training and Fitting the Model <a name=\"3.5.4.1\"><a/>"
   ]
  },
  {
   "cell_type": "code",
   "execution_count": 53,
   "id": "4bbfaf44-a84f-4997-959d-d9924043ec8e",
   "metadata": {},
   "outputs": [
    {
     "name": "stdout",
     "output_type": "stream",
     "text": [
      "(786016, 75279) <class 'scipy.sparse.csr.csr_matrix'> (87336,)\n",
      "(786016,) (87336,)\n"
     ]
    }
   ],
   "source": [
    "#Trying a Random Forest model with simple bag-of-words Count Vectorization\n",
    "\n",
    "count_vec = CountVectorizer()\n",
    "\n",
    "#fit the vectorizer on the training data\n",
    "count_vec.fit(X_train)\n",
    "\n",
    "#transform both the training and test data\n",
    "X_train_vec = count_vec.transform(X_train)\n",
    "X_test_vec = count_vec.transform(X_test)\n",
    "\n",
    "print(X_train_vec.shape, type(X_train_vec), X_test.shape)\n",
    "print(y_train.shape, y_test.shape)\n",
    "\n",
    "#Since Random Forest models use linear decision boundaries, it should not need scaled input data\n",
    "\n",
    "#using the default solver\n",
    "rfc = RandomForestClassifier(max_leaf_nodes=2000, min_samples_leaf=3)\n",
    "\n",
    "#train the lr model with the training data\n",
    "rfc.fit(X_train_vec, y_train)\n",
    "\n",
    "#predict on the training data\n",
    "train_preds = rfc.predict(X_train_vec)\n",
    "\n",
    "\n",
    "#predict on the test data\n",
    "test_preds = rfc.predict(X_test_vec)\n"
   ]
  },
  {
   "cell_type": "markdown",
   "id": "83d8d574",
   "metadata": {},
   "source": [
    "#### 3.5.4.2 Evaluating the Model <a name=\"3.5.4.2\"><a/>"
   ]
  },
  {
   "cell_type": "code",
   "execution_count": 54,
   "id": "c7cd9f26-bbbd-4cce-97f4-3093d0581c2a",
   "metadata": {},
   "outputs": [
    {
     "name": "stdout",
     "output_type": "stream",
     "text": [
      "              precision    recall  f1-score   support\n",
      "\n",
      "           0       0.85      0.97      0.91     60719\n",
      "           1       0.90      0.61      0.72     26617\n",
      "\n",
      "    accuracy                           0.86     87336\n",
      "   macro avg       0.87      0.79      0.82     87336\n",
      "weighted avg       0.86      0.86      0.85     87336\n",
      "\n",
      "Confusion matrix values: \n",
      "[[58823  1896]\n",
      " [10404 16213]]\n"
     ]
    },
    {
     "data": {
      "image/png": "[encoded data removed]",
      "text/plain": [
       "<Figure size 432x288 with 2 Axes>"
      ]
     },
     "metadata": {
      "needs_background": "light"
     },
     "output_type": "display_data"
    }
   ],
   "source": [
    "print(classification_report(y_test, test_preds))\n",
    "\n",
    "#saving the results\n",
    "results_dict[\"Random Forest with Count Vectorization\"] = classification_report(y_test, test_preds)\n",
    "\n",
    "\n",
    "print(f\"Confusion matrix values: \\n{confusion_matrix(y_test, test_preds)}\")\n",
    "ConfusionMatrixDisplay.from_predictions(y_test, test_preds)\n",
    "\n",
    "plt.show()\n"
   ]
  },
  {
   "cell_type": "markdown",
   "id": "e484393b",
   "metadata": {},
   "source": [
    "##### Summary\n",
    "It seems like this model is STONGLY overfitting our training data. The recall on the test set for our positive class (1) is only .61 which is very poor. We are seeing a very high number of False Negatives (~10000) which results in the poor recall for our positive class. This could possibly be due to leaf sizes and might also be mitigated by adjusting the proportion of our positive class in the training data (under or over sampling)."
   ]
  },
  {
   "cell_type": "markdown",
   "id": "85bdf5f0",
   "metadata": {},
   "source": [
    "## 3.6 Conclusions <a name=\"3.6\"><a/>"
   ]
  },
  {
   "cell_type": "markdown",
   "id": "44c21fd2",
   "metadata": {},
   "source": [
    "### 3.6.1 Preprocessing and Training Summary <a name=\"3.6.1\"><a/>"
   ]
  },
  {
   "cell_type": "code",
   "execution_count": 55,
   "id": "4968db06",
   "metadata": {},
   "outputs": [
    {
     "name": "stdout",
     "output_type": "stream",
     "text": [
      "Logistic Regression with Count Vectorization\n",
      "              precision    recall  f1-score   support\n",
      "\n",
      "           0       0.90      0.93      0.91     60719\n",
      "           1       0.82      0.76      0.78     26617\n",
      "\n",
      "    accuracy                           0.87     87336\n",
      "   macro avg       0.86      0.84      0.85     87336\n",
      "weighted avg       0.87      0.87      0.87     87336\n",
      "\n",
      "Logistic Regression with TFIDF Vectorization\n",
      "              precision    recall  f1-score   support\n",
      "\n",
      "           0       0.92      0.94      0.93     60719\n",
      "           1       0.86      0.80      0.83     26617\n",
      "\n",
      "    accuracy                           0.90     87336\n",
      "   macro avg       0.89      0.87      0.88     87336\n",
      "weighted avg       0.90      0.90      0.90     87336\n",
      "\n",
      "Naive Bayes with Count Vectorization\n",
      "              precision    recall  f1-score   support\n",
      "\n",
      "           0       0.90      0.80      0.85     60719\n",
      "           1       0.64      0.81      0.72     26617\n",
      "\n",
      "    accuracy                           0.80     87336\n",
      "   macro avg       0.77      0.81      0.78     87336\n",
      "weighted avg       0.83      0.80      0.81     87336\n",
      "\n",
      "Random Forest with Count Vectorization\n",
      "              precision    recall  f1-score   support\n",
      "\n",
      "           0       0.85      0.97      0.91     60719\n",
      "           1       0.90      0.61      0.72     26617\n",
      "\n",
      "    accuracy                           0.86     87336\n",
      "   macro avg       0.87      0.79      0.82     87336\n",
      "weighted avg       0.86      0.86      0.85     87336\n",
      "\n"
     ]
    }
   ],
   "source": [
    "for model in results_dict:\n",
    "    print(model, results_dict[model], sep=\"\\n\")"
   ]
  },
  {
   "cell_type": "markdown",
   "id": "9b5eec50",
   "metadata": {},
   "source": [
    "#### Model Results on Test Set:\n",
    "Examining the four models we built, using the Recall on the positive class as our primary metric, it looks like the most successful model was the Logistic Regression with TFIDF. Both it and the Naive Bayes model had a recall of .80 on the positive class. The Naive Bayes overall had worse metrics on the other (\"0\") class, incorrectly predicting a higher number of them as the positive class."
   ]
  },
  {
   "cell_type": "markdown",
   "id": "afcbf3fc",
   "metadata": {},
   "source": [
    "### 3.6.2 Next Steps <a name=\"3.6.2\"><a/>"
   ]
  },
  {
   "cell_type": "markdown",
   "id": "88983a10",
   "metadata": {},
   "source": [
    "1. Check if under-sampling the majority class (\"0\"s) or over-sampling the minority class (\"1\"s) can improve our results.\n",
    "\n",
    "2. Test some other models such as XGBoost or SVMs. XGBoost could give better results than the strongly-overfit Random Forest model.\n",
    "\n",
    "3. We should try using cross-validation to get a better sense of how well our models will generalize.\n",
    "\n",
    "4. One of the challenges in this notebook was how much the models struggled with the larger vectors created by the TFIDF model. We could further experiment with TFIDF parameters or possibly train on a smaller sample size.\n",
    "\n",
    "5. Hyper-parameter tuning with grid-search or bayesian search optimization could be used for our best/most promising models in the next notebook.\n"
   ]
  }
 ],
 "metadata": {
  "kernelspec": {
   "display_name": "pyspark",
   "language": "python",
   "name": "pyspark"
  },
  "language_info": {
   "codemirror_mode": {
    "name": "ipython",
    "version": 3
   },
   "file_extension": ".py",
   "mimetype": "text/x-python",
   "name": "python",
   "nbconvert_exporter": "python",
   "pygments_lexer": "ipython3",
   "version": "3.10.0"
  },
  "vscode": {
   "interpreter": {
    "hash": "1d73df188c3ed28f9117694899638a2078581279f5400990dc36b7edf848ab19"
   }
  }
 },
 "nbformat": 4,
 "nbformat_minor": 5
}
