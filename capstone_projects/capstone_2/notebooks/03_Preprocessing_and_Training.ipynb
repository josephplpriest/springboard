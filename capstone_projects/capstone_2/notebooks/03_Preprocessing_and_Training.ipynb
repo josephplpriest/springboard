{
 "cells": [
  {
   "cell_type": "markdown",
   "id": "93e83bfd",
   "metadata": {},
   "source": [
    "# 3.0 Pre-processing and Training\n",
    "\n",
    "Contents\n",
    "\n",
    "* [3.1 Introduction](#3.1)\n",
    "    * [3.1.1 Problem Recap](#3.1.1)\n",
    "    * [3.1.2 Notebook Goals](#3.1.2)\n",
    "    \n",
    "    \n",
    "* [3.2 Load the data](#3.2)\n",
    "    * [3.2.1 Imports](#3.2.1)\n",
    "    * [3.2.2 Load the data](#3.2.2)\n",
    "\n",
    "\n",
    "\n",
    "\n",
    "* [3.4 Pre-processing](#3.4)\n",
    "    * [3.4.1 Examine Positive/Negative Split](#3.4.1)\n",
    "    * [3.4.2 Set Random Seed for Reproducability](#3.4.2)\n",
    "    * [3.4.3 Train/test Split](#3.4.3)\n",
    "\n",
    "\n",
    "* [3.5 Initial Modeling](#3.5)\n",
    "    * \n",
    "    * "
   ]
  },
  {
   "cell_type": "markdown",
   "id": "9f718e2c",
   "metadata": {},
   "source": [
    "### 3.2.1 Imports <a name=\"3.2.1\"><a/>"
   ]
  },
  {
   "cell_type": "code",
   "execution_count": 1,
   "id": "589120c8",
   "metadata": {},
   "outputs": [],
   "source": [
    "import pandas as pd\n",
    "import numpy as np\n",
    "import matplotlib.pyplot as plt\n",
    "import seaborn as sns\n",
    "import pyarrow.parquet as pq"
   ]
  },
  {
   "cell_type": "markdown",
   "id": "041448da",
   "metadata": {},
   "source": [
    "### 3.2.2 Load the data <a name=\"3.2.2\"><a/>"
   ]
  },
  {
   "cell_type": "code",
   "execution_count": null,
   "id": "23d6a53a",
   "metadata": {},
   "outputs": [],
   "source": []
  },
  {
   "cell_type": "markdown",
   "id": "b279c482",
   "metadata": {},
   "source": [
    "## 3.3 Pre-processing <a name=\"3.3\"><a/>"
   ]
  },
  {
   "cell_type": "markdown",
   "id": "3f985033",
   "metadata": {},
   "source": [
    "### 3.3.1 Examine Positive/Negative Split <a name=\"3.3.1\"><a/>"
   ]
  },
  {
   "cell_type": "markdown",
   "id": "1eb51526",
   "metadata": {},
   "source": [
    "### 3.3.2 Set Random Seed for Reproducability <a name=\"3.3.2\"><a/>"
   ]
  },
  {
   "cell_type": "markdown",
   "id": "c1c0003a",
   "metadata": {},
   "source": [
    "### 3.3.3 Train/Test Split <a name=\"3.3.3\"><a/>"
   ]
  },
  {
   "cell_type": "code",
   "execution_count": null,
   "id": "c5549ea8",
   "metadata": {},
   "outputs": [],
   "source": [
    "# do split"
   ]
  },
  {
   "cell_type": "code",
   "execution_count": null,
   "id": "cc3cf2f1",
   "metadata": {},
   "outputs": [],
   "source": [
    "# check split proportion"
   ]
  },
  {
   "cell_type": "markdown",
   "id": "def5ba6c",
   "metadata": {},
   "source": [
    "## 3.4 Initial Modeling <a name=\"3.4\"></a>"
   ]
  },
  {
   "cell_type": "code",
   "execution_count": null,
   "id": "5341e647",
   "metadata": {},
   "outputs": [],
   "source": []
  },
  {
   "cell_type": "code",
   "execution_count": null,
   "id": "7d684fec",
   "metadata": {},
   "outputs": [],
   "source": []
  },
  {
   "cell_type": "code",
   "execution_count": null,
   "id": "d584a1a9",
   "metadata": {},
   "outputs": [],
   "source": []
  }
 ],
 "metadata": {
  "kernelspec": {
   "display_name": "Python 3 (ipykernel)",
   "language": "python",
   "name": "python3"
  },
  "language_info": {
   "codemirror_mode": {
    "name": "ipython",
    "version": 3
   },
   "file_extension": ".py",
   "mimetype": "text/x-python",
   "name": "python",
   "nbconvert_exporter": "python",
   "pygments_lexer": "ipython3",
   "version": "3.10.0"
  }
 },
 "nbformat": 4,
 "nbformat_minor": 5
}
