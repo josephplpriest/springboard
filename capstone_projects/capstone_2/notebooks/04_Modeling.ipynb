{
 "cells": [
  {
   "cell_type": "markdown",
   "metadata": {},
   "source": [
    "# 4.0 Modeling \n",
    "\n",
    "Contents\n",
    "\n",
    "4.1 [Introduction](#4.1-Introduction)\n",
    "\n",
    "  * [4.1.1 Problem Recap](#4.1.1-Problem-Recap)\n",
    "  * [4.1.2 Notebook Goals](#4.1.2-Notebook-Goals)\n",
    " \n",
    "4.2 [Load the data](#4.2-Load-the-data)\n",
    "\n",
    "  * [4.2.1 Imports](#4.2.1-Imports)\n",
    "  * [4.2.2 Load dataframe](#4.2.2-Load-dataframe)\n",
    "\n",
    "4.3 [Vectorize and split data](#4.3-Vectorize-and-split-data)\n",
    "\n",
    "4.4 [Sampling Techniques for Imbalance](#4.4-Sampling-Techniques-for-Imbalance)\n",
    "\n",
    "  * [4.4.1 Sampling overview](#4.4.1-sampling-overview)\n",
    "  * [4.4.2 Timing Comparisons](#4.4.2-timing-comparison-of-samplers)\n",
    "\n",
    "4.5 [Bayesian Hyperparameter Optimization with Optuna](#4.5-bayesian-hyperparameter-optimization-with-optuna)\n",
    "\n",
    "  * [4.5.1 About Optuna](#4.5.1-about-optuna:)\n",
    "  * [4.5.2 Custom Optimization Function](#4.5.2-custom-optimization-function)\n",
    "  * [4.5.3 Run 1: Small training size](#4.5.3-run-1)\n",
    "  * [4.5.4 Run 2 Medium training size](#4.5.4-run-2)\n",
    "  * [4.5.5 Run 3 Large training size, no sampling](#4.5.5-run-3)\n",
    "\n",
    "4.6 [Modeling Summary](#4.6-modeling-summary)\n",
    "\n",
    "  * [4.6.1 Model Comparisons](#461-model-comparisons)\n",
    "  * [4.6.2 Conclusions](#462-conclusion)"
   ]
  },
  {
   "cell_type": "markdown",
   "id": "75b9c841",
   "metadata": {
    "pycharm": {
     "name": "#%% md\n"
    }
   },
   "source": [
    "## 4.1 Introduction"
   ]
  },
  {
   "cell_type": "markdown",
   "id": "b3d02b97",
   "metadata": {
    "pycharm": {
     "name": "#%% md\n"
    }
   },
   "source": [
    "### 4.1.1 Problem Recap"
   ]
  },
  {
   "cell_type": "markdown",
   "id": "6cadbd87",
   "metadata": {
    "pycharm": {
     "name": "#%% md\n"
    }
   },
   "source": [
    "Using customer text data about amazon products, we will build, evaluate and compare models to estimate the probability that a given text review can be classified as “positive” or “negative”.\n",
    "\n",
    "Our goal is to build a text classifier using Amazon product review data which can be used to analyze customer sentiment which does not have accompanying numeric data. The metric we will be primarily interested in will be Recall on the positive class. This is the proportion of the positive class (negative reviews coded as \"1\" in the data) we correctly predict."
   ]
  },
  {
   "cell_type": "markdown",
   "id": "27bc4983",
   "metadata": {
    "pycharm": {
     "name": "#%% md\n"
    }
   },
   "source": [
    "### 4.1.2 Notebook Goals"
   ]
  },
  {
   "cell_type": "markdown",
   "id": "aeda4730",
   "metadata": {
    "pycharm": {
     "name": "#%% md\n"
    }
   },
   "source": [
    "1. In our previous notebook our best results came from Term-Frequency Inverse-Document Frequency vectorization and a Logistic Regression Model.\n",
    "\n",
    "2. We had slightly worse results from a Naive Bayes and Random Forest model. The Naive Bayes model incorrectly predicted a higher proportion of the negative class and the Random Forest model appeared to strongly overfit the training data with a very poor Recall on the test set.\n",
    "\n",
    "3. Try over-sampling the minority class that we are trying to predict (encoded as \"1\"s) and/or under-sampling the majority class.\n",
    "\n",
    "4. Test some other models such as gradient boosted trees (LightGBM/XGBoost) \n",
    "\n",
    "5. Examine how well our models will generalize with random sub-samples of the data.\n",
    "\n",
    "6. Tune hyperparameters with bayesian search optimization using [Optuna](https://optuna.org/)."
   ]
  },
  {
   "cell_type": "markdown",
   "id": "71d646fd",
   "metadata": {
    "pycharm": {
     "name": "#%% md\n"
    }
   },
   "source": [
    "## 4.2 Load the data"
   ]
  },
  {
   "cell_type": "markdown",
   "id": "9f718e2c",
   "metadata": {
    "pycharm": {
     "name": "#%% md\n"
    }
   },
   "source": [
    "### 4.2.1 Imports"
   ]
  },
  {
   "cell_type": "code",
   "execution_count": 1,
   "id": "589120c8",
   "metadata": {
    "pycharm": {
     "name": "#%%\n"
    }
   },
   "outputs": [
    {
     "name": "stderr",
     "output_type": "stream",
     "text": [
      "/home/paul/anaconda3/envs/pyspark/lib/python3.10/site-packages/xgboost/compat.py:36: FutureWarning: pandas.Int64Index is deprecated and will be removed from pandas in a future version. Use pandas.Index with the appropriate dtype instead.\n",
      "  from pandas import MultiIndex, Int64Index\n"
     ]
    }
   ],
   "source": [
    "from random import seed\n",
    "\n",
    "#reading/processing data\n",
    "import pandas as pd\n",
    "import numpy as np\n",
    "import matplotlib.pyplot as plt\n",
    "import pyarrow.parquet as pq\n",
    "import plotly.express as px\n",
    "\n",
    "#splitting the dataset\n",
    "from sklearn.model_selection import train_test_split\n",
    "\n",
    "#scaling/vectorization\n",
    "from sklearn.feature_extraction.text import TfidfVectorizer\n",
    "\n",
    "# models\n",
    "from sklearn.linear_model import LogisticRegression\n",
    "import xgboost as xgb\n",
    "from imblearn.pipeline import Pipeline\n",
    "import lightgbm as lgb\n",
    "\n",
    "#metrics\n",
    "from sklearn.metrics import recall_score\n",
    "\n",
    "#dealing with class imbalance\n",
    "from imblearn.over_sampling import RandomOverSampler, SMOTE, ADASYN\n",
    "from imblearn.under_sampling import RandomUnderSampler\n",
    "\n",
    "#hyperparameter tuning\n",
    "import optuna\n"
   ]
  },
  {
   "cell_type": "markdown",
   "id": "041448da",
   "metadata": {
    "pycharm": {
     "name": "#%% md\n"
    }
   },
   "source": [
    "### 4.2.2 Load dataframe"
   ]
  },
  {
   "cell_type": "code",
   "execution_count": 2,
   "id": "23d6a53a",
   "metadata": {
    "pycharm": {
     "name": "#%%\n"
    }
   },
   "outputs": [
    {
     "data": {
      "text/html": [
       "<div>\n",
       "<style scoped>\n",
       "    .dataframe tbody tr th:only-of-type {\n",
       "        vertical-align: middle;\n",
       "    }\n",
       "\n",
       "    .dataframe tbody tr th {\n",
       "        vertical-align: top;\n",
       "    }\n",
       "\n",
       "    .dataframe thead th {\n",
       "        text-align: right;\n",
       "    }\n",
       "</style>\n",
       "<table border=\"1\" class=\"dataframe\">\n",
       "  <thead>\n",
       "    <tr style=\"text-align: right;\">\n",
       "      <th></th>\n",
       "      <th>review</th>\n",
       "      <th>neg_sentiment</th>\n",
       "      <th>stars</th>\n",
       "      <th>review_length</th>\n",
       "    </tr>\n",
       "  </thead>\n",
       "  <tbody>\n",
       "    <tr>\n",
       "      <th>0</th>\n",
       "      <td>exactly needed</td>\n",
       "      <td>0</td>\n",
       "      <td>5</td>\n",
       "      <td>4</td>\n",
       "    </tr>\n",
       "    <tr>\n",
       "      <th>1</th>\n",
       "      <td>agree review opening small bent hook expensiv...</td>\n",
       "      <td>1</td>\n",
       "      <td>2</td>\n",
       "      <td>49</td>\n",
       "    </tr>\n",
       "    <tr>\n",
       "      <th>2</th>\n",
       "      <td>love going order pack work including losing ea...</td>\n",
       "      <td>0</td>\n",
       "      <td>4</td>\n",
       "      <td>50</td>\n",
       "    </tr>\n",
       "    <tr>\n",
       "      <th>3</th>\n",
       "      <td>tiny opening</td>\n",
       "      <td>1</td>\n",
       "      <td>2</td>\n",
       "      <td>4</td>\n",
       "    </tr>\n",
       "    <tr>\n",
       "      <th>4</th>\n",
       "      <td>okay</td>\n",
       "      <td>1</td>\n",
       "      <td>3</td>\n",
       "      <td>1</td>\n",
       "    </tr>\n",
       "    <tr>\n",
       "      <th>...</th>\n",
       "      <td>...</td>\n",
       "      <td>...</td>\n",
       "      <td>...</td>\n",
       "      <td>...</td>\n",
       "    </tr>\n",
       "    <tr>\n",
       "      <th>883631</th>\n",
       "      <td>absolutely love dress sexy comfortable split ...</td>\n",
       "      <td>0</td>\n",
       "      <td>5</td>\n",
       "      <td>51</td>\n",
       "    </tr>\n",
       "    <tr>\n",
       "      <th>883632</th>\n",
       "      <td>lbs tall wear large ordered large comfortable...</td>\n",
       "      <td>0</td>\n",
       "      <td>5</td>\n",
       "      <td>39</td>\n",
       "    </tr>\n",
       "    <tr>\n",
       "      <th>883633</th>\n",
       "      <td>big chest area</td>\n",
       "      <td>1</td>\n",
       "      <td>3</td>\n",
       "      <td>6</td>\n",
       "    </tr>\n",
       "    <tr>\n",
       "      <th>883634</th>\n",
       "      <td>clear needs lining</td>\n",
       "      <td>1</td>\n",
       "      <td>3</td>\n",
       "      <td>7</td>\n",
       "    </tr>\n",
       "    <tr>\n",
       "      <th>883635</th>\n",
       "      <td>ordered slightly small worked company gracious...</td>\n",
       "      <td>0</td>\n",
       "      <td>5</td>\n",
       "      <td>30</td>\n",
       "    </tr>\n",
       "  </tbody>\n",
       "</table>\n",
       "<p>873352 rows × 4 columns</p>\n",
       "</div>"
      ],
      "text/plain": [
       "                                                   review  neg_sentiment  \\\n",
       "0                                          exactly needed              0   \n",
       "1        agree review opening small bent hook expensiv...              1   \n",
       "2       love going order pack work including losing ea...              0   \n",
       "3                                            tiny opening              1   \n",
       "4                                                    okay              1   \n",
       "...                                                   ...            ...   \n",
       "883631   absolutely love dress sexy comfortable split ...              0   \n",
       "883632   lbs tall wear large ordered large comfortable...              0   \n",
       "883633                                     big chest area              1   \n",
       "883634                                 clear needs lining              1   \n",
       "883635  ordered slightly small worked company gracious...              0   \n",
       "\n",
       "        stars  review_length  \n",
       "0           5              4  \n",
       "1           2             49  \n",
       "2           4             50  \n",
       "3           2              4  \n",
       "4           3              1  \n",
       "...       ...            ...  \n",
       "883631      5             51  \n",
       "883632      5             39  \n",
       "883633      3              6  \n",
       "883634      3              7  \n",
       "883635      5             30  \n",
       "\n",
       "[873352 rows x 4 columns]"
      ]
     },
     "execution_count": 2,
     "metadata": {},
     "output_type": "execute_result"
    }
   ],
   "source": [
    "data = pq.read_table(\"../data/edited/fashion.parquet\")\n",
    "fashion = data.to_pandas()\n",
    "fashion"
   ]
  },
  {
   "cell_type": "markdown",
   "metadata": {},
   "source": [
    "## 4.3 Vectorize and split data"
   ]
  },
  {
   "cell_type": "code",
   "execution_count": 3,
   "metadata": {},
   "outputs": [],
   "source": [
    "#Vectorizing and splitting the data into train and test sets\n",
    "\n",
    "tfidf = TfidfVectorizer(ngram_range=(1,2), min_df = 5, max_df=0.95)\n",
    "\n",
    "X_train, X_test, y_train, y_test = train_test_split(fashion[\"review\"].values, fashion[\"neg_sentiment\"], test_size = .1, random_state=1)\n",
    "\n",
    "#convert to 1d arrays\n",
    "y_train, y_test = np.ravel(y_train), np.ravel(y_test)\n",
    "\n",
    "#ensure our 1/0 values are integers for the pipeline model we will use\n",
    "y_train, y_test = y_train.astype(int), y_test.astype(int)\n",
    "\n",
    "#fit on ONLY the training data\n",
    "tfidf.fit(X_train)\n",
    "\n",
    "#transform both train and test data\n",
    "X_train = tfidf.transform(X_train)\n",
    "X_test = tfidf.transform(X_test)"
   ]
  },
  {
   "cell_type": "markdown",
   "metadata": {},
   "source": [
    "## 4.4 Sampling Techniques for Imbalance"
   ]
  },
  {
   "cell_type": "markdown",
   "metadata": {},
   "source": [
    "### 4.4.1 Sampling overview"
   ]
  },
  {
   "cell_type": "code",
   "execution_count": 4,
   "metadata": {},
   "outputs": [
    {
     "data": {
      "text/plain": [
       "0    0.695061\n",
       "1    0.304939\n",
       "Name: neg_sentiment, dtype: float64"
      ]
     },
     "execution_count": 4,
     "metadata": {},
     "output_type": "execute_result"
    }
   ],
   "source": [
    "# 30 % of our reviews are negative (what we're trying to predict)\n",
    "fashion.neg_sentiment.value_counts(normalize = True)"
   ]
  },
  {
   "cell_type": "markdown",
   "metadata": {},
   "source": [
    "\n",
    "\n",
    "In data sets with an imbalanced split between the classes we are trying to predict, there are few possible approaches to try to improve the target metric our model (classifier) is optimizing for.\n",
    "\n",
    "1. Over-sampling - if we train with a higher proportion of the class we are trying to predict using resampling, we may be able to improve the result for our classifier.\n",
    "\n",
    "2. Under-sampling - by the same logic, we can under-sample the majority classes we are NOT trying to predict.\n",
    "\n",
    "3. Synthesize data: ADASYN and SMOTE both use Nearest Neigbhors algorithms to generate artificial points that are located \"close\" in the n-dimensional feature space of the target class to the actual data points. Conceptually, we can think of it as if we gathered MORE data, and are assuming it looks similar to the current data we have. It will be unlikely to have strong outliers due to the nature of the algorithm and will be more \"clumped\" together than if we gathered more \"real\" data.\n"
   ]
  },
  {
   "cell_type": "markdown",
   "metadata": {},
   "source": [
    "### 4.4.2 Timing comparison of samplers"
   ]
  },
  {
   "cell_type": "code",
   "execution_count": 5,
   "metadata": {},
   "outputs": [],
   "source": [
    "# Initialize samplers"
   ]
  },
  {
   "cell_type": "code",
   "execution_count": 6,
   "metadata": {},
   "outputs": [],
   "source": [
    "smote = SMOTE() #default 5 neighbors\n",
    "\n",
    "ada = ADASYN() #default 5 neighbors\n",
    "\n",
    "ros = RandomOverSampler()\n",
    "\n",
    "rus = RandomUnderSampler()"
   ]
  },
  {
   "cell_type": "markdown",
   "metadata": {},
   "source": [
    "Using a loop with increasing counts for the rows used, we can combine with the timeit cell magic to get a sense of how long each of our sampling methods takes."
   ]
  },
  {
   "cell_type": "code",
   "execution_count": 7,
   "metadata": {},
   "outputs": [
    {
     "name": "stdout",
     "output_type": "stream",
     "text": [
      "33.7 ms ± 3.15 ms per loop (mean ± std. dev. of 7 runs, 1 loop each)\n",
      "143 ms ± 1.43 ms per loop (mean ± std. dev. of 7 runs, 1 loop each)\n",
      "317 ms ± 1.74 ms per loop (mean ± std. dev. of 7 runs, 1 loop each)\n",
      "574 ms ± 3.26 ms per loop (mean ± std. dev. of 7 runs, 1 loop each)\n",
      "886 ms ± 2.62 ms per loop (mean ± std. dev. of 7 runs, 1 loop each)\n",
      "1.29 s ± 2.82 ms per loop (mean ± std. dev. of 7 runs, 1 loop each)\n",
      "1.73 s ± 5.04 ms per loop (mean ± std. dev. of 7 runs, 1 loop each)\n",
      "2.13 s ± 2.37 ms per loop (mean ± std. dev. of 7 runs, 1 loop each)\n",
      "2.71 s ± 23.9 ms per loop (mean ± std. dev. of 7 runs, 1 loop each)\n",
      "3.51 s ± 4.91 ms per loop (mean ± std. dev. of 7 runs, 1 loop each)\n",
      "4.1 s ± 5.4 ms per loop (mean ± std. dev. of 7 runs, 1 loop each)\n",
      "4.85 s ± 5.44 ms per loop (mean ± std. dev. of 7 runs, 1 loop each)\n",
      "5.87 s ± 5.22 ms per loop (mean ± std. dev. of 7 runs, 1 loop each)\n",
      "6.83 s ± 14.1 ms per loop (mean ± std. dev. of 7 runs, 1 loop each)\n",
      "7.79 s ± 10.6 ms per loop (mean ± std. dev. of 7 runs, 1 loop each)\n",
      "8.94 s ± 12 ms per loop (mean ± std. dev. of 7 runs, 1 loop each)\n",
      "10.3 s ± 17.5 ms per loop (mean ± std. dev. of 7 runs, 1 loop each)\n",
      "11.5 s ± 8.74 ms per loop (mean ± std. dev. of 7 runs, 1 loop each)\n",
      "12.3 s ± 14.4 ms per loop (mean ± std. dev. of 7 runs, 1 loop each)\n",
      "13.6 s ± 11.1 ms per loop (mean ± std. dev. of 7 runs, 1 loop each)\n",
      "14.9 s ± 12.8 ms per loop (mean ± std. dev. of 7 runs, 1 loop each)\n",
      "17.3 s ± 20.9 ms per loop (mean ± std. dev. of 7 runs, 1 loop each)\n",
      "17.6 s ± 25 ms per loop (mean ± std. dev. of 7 runs, 1 loop each)\n",
      "19.9 s ± 8.67 ms per loop (mean ± std. dev. of 7 runs, 1 loop each)\n",
      "127 ms ± 661 µs per loop (mean ± std. dev. of 7 runs, 1 loop each)\n",
      "560 ms ± 2.74 ms per loop (mean ± std. dev. of 7 runs, 1 loop each)\n",
      "1.27 s ± 2.06 ms per loop (mean ± std. dev. of 7 runs, 1 loop each)\n",
      "2.21 s ± 1.99 ms per loop (mean ± std. dev. of 7 runs, 1 loop each)\n",
      "3.59 s ± 4.76 ms per loop (mean ± std. dev. of 7 runs, 1 loop each)\n",
      "5.02 s ± 7.78 ms per loop (mean ± std. dev. of 7 runs, 1 loop each)\n",
      "6.94 s ± 11.9 ms per loop (mean ± std. dev. of 7 runs, 1 loop each)\n",
      "9.07 s ± 5.62 ms per loop (mean ± std. dev. of 7 runs, 1 loop each)\n",
      "11.2 s ± 10.3 ms per loop (mean ± std. dev. of 7 runs, 1 loop each)\n",
      "14.4 s ± 9.62 ms per loop (mean ± std. dev. of 7 runs, 1 loop each)\n",
      "16.4 s ± 12.1 ms per loop (mean ± std. dev. of 7 runs, 1 loop each)\n",
      "20.6 s ± 12.8 ms per loop (mean ± std. dev. of 7 runs, 1 loop each)\n",
      "23.9 s ± 25.7 ms per loop (mean ± std. dev. of 7 runs, 1 loop each)\n",
      "28.3 s ± 19.8 ms per loop (mean ± std. dev. of 7 runs, 1 loop each)\n",
      "32.6 s ± 20.3 ms per loop (mean ± std. dev. of 7 runs, 1 loop each)\n",
      "36.8 s ± 19.3 ms per loop (mean ± std. dev. of 7 runs, 1 loop each)\n",
      "41.6 s ± 24.2 ms per loop (mean ± std. dev. of 7 runs, 1 loop each)\n",
      "48.5 s ± 39.5 ms per loop (mean ± std. dev. of 7 runs, 1 loop each)\n",
      "52 s ± 44.9 ms per loop (mean ± std. dev. of 7 runs, 1 loop each)\n",
      "57.8 s ± 24.4 ms per loop (mean ± std. dev. of 7 runs, 1 loop each)\n",
      "1min 4s ± 25.9 ms per loop (mean ± std. dev. of 7 runs, 1 loop each)\n",
      "1min 10s ± 59.5 ms per loop (mean ± std. dev. of 7 runs, 1 loop each)\n",
      "1min 17s ± 51.1 ms per loop (mean ± std. dev. of 7 runs, 1 loop each)\n",
      "1min 25s ± 61.2 ms per loop (mean ± std. dev. of 7 runs, 1 loop each)\n",
      "1.18 ms ± 147 µs per loop (mean ± std. dev. of 7 runs, 1 loop each)\n",
      "2.11 ms ± 128 µs per loop (mean ± std. dev. of 7 runs, 1 loop each)\n",
      "3.17 ms ± 95 µs per loop (mean ± std. dev. of 7 runs, 1 loop each)\n",
      "4.46 ms ± 175 µs per loop (mean ± std. dev. of 7 runs, 1 loop each)\n",
      "5.94 ms ± 104 µs per loop (mean ± std. dev. of 7 runs, 1 loop each)\n",
      "7.41 ms ± 99.7 µs per loop (mean ± std. dev. of 7 runs, 1 loop each)\n",
      "9.15 ms ± 512 µs per loop (mean ± std. dev. of 7 runs, 1 loop each)\n",
      "10.1 ms ± 119 µs per loop (mean ± std. dev. of 7 runs, 1 loop each)\n",
      "11 ms ± 324 µs per loop (mean ± std. dev. of 7 runs, 1 loop each)\n",
      "13.3 ms ± 1.51 ms per loop (mean ± std. dev. of 7 runs, 1 loop each)\n",
      "13.5 ms ± 396 µs per loop (mean ± std. dev. of 7 runs, 1 loop each)\n",
      "14.1 ms ± 220 µs per loop (mean ± std. dev. of 7 runs, 1 loop each)\n",
      "15.6 ms ± 759 µs per loop (mean ± std. dev. of 7 runs, 1 loop each)\n",
      "15.8 ms ± 126 µs per loop (mean ± std. dev. of 7 runs, 1 loop each)\n",
      "17.4 ms ± 554 µs per loop (mean ± std. dev. of 7 runs, 1 loop each)\n",
      "17.8 ms ± 308 µs per loop (mean ± std. dev. of 7 runs, 1 loop each)\n",
      "19.6 ms ± 1.56 ms per loop (mean ± std. dev. of 7 runs, 1 loop each)\n",
      "19.7 ms ± 265 µs per loop (mean ± std. dev. of 7 runs, 1 loop each)\n",
      "21 ms ± 597 µs per loop (mean ± std. dev. of 7 runs, 1 loop each)\n",
      "21.7 ms ± 533 µs per loop (mean ± std. dev. of 7 runs, 1 loop each)\n",
      "22.6 ms ± 604 µs per loop (mean ± std. dev. of 7 runs, 1 loop each)\n",
      "23.7 ms ± 351 µs per loop (mean ± std. dev. of 7 runs, 1 loop each)\n",
      "25.1 ms ± 919 µs per loop (mean ± std. dev. of 7 runs, 1 loop each)\n",
      "25.7 ms ± 398 µs per loop (mean ± std. dev. of 7 runs, 1 loop each)\n",
      "988 µs ± 110 µs per loop (mean ± std. dev. of 7 runs, 1 loop each)\n",
      "1.73 ms ± 90 µs per loop (mean ± std. dev. of 7 runs, 1 loop each)\n",
      "2.96 ms ± 302 µs per loop (mean ± std. dev. of 7 runs, 1 loop each)\n",
      "3.8 ms ± 306 µs per loop (mean ± std. dev. of 7 runs, 1 loop each)\n",
      "4.84 ms ± 119 µs per loop (mean ± std. dev. of 7 runs, 1 loop each)\n",
      "6.12 ms ± 204 µs per loop (mean ± std. dev. of 7 runs, 1 loop each)\n",
      "7.17 ms ± 110 µs per loop (mean ± std. dev. of 7 runs, 1 loop each)\n",
      "8.56 ms ± 578 µs per loop (mean ± std. dev. of 7 runs, 1 loop each)\n",
      "9.45 ms ± 356 µs per loop (mean ± std. dev. of 7 runs, 1 loop each)\n",
      "10.4 ms ± 154 µs per loop (mean ± std. dev. of 7 runs, 1 loop each)\n",
      "11.9 ms ± 529 µs per loop (mean ± std. dev. of 7 runs, 1 loop each)\n",
      "12.6 ms ± 272 µs per loop (mean ± std. dev. of 7 runs, 1 loop each)\n",
      "13.3 ms ± 231 µs per loop (mean ± std. dev. of 7 runs, 1 loop each)\n",
      "14.5 ms ± 884 µs per loop (mean ± std. dev. of 7 runs, 1 loop each)\n",
      "15 ms ± 223 µs per loop (mean ± std. dev. of 7 runs, 1 loop each)\n",
      "16 ms ± 239 µs per loop (mean ± std. dev. of 7 runs, 1 loop each)\n",
      "16.7 ms ± 468 µs per loop (mean ± std. dev. of 7 runs, 1 loop each)\n",
      "18.5 ms ± 1.33 ms per loop (mean ± std. dev. of 7 runs, 1 loop each)\n",
      "18.7 ms ± 890 µs per loop (mean ± std. dev. of 7 runs, 1 loop each)\n",
      "19.4 ms ± 427 µs per loop (mean ± std. dev. of 7 runs, 1 loop each)\n",
      "19.8 ms ± 248 µs per loop (mean ± std. dev. of 7 runs, 1 loop each)\n",
      "20.9 ms ± 490 µs per loop (mean ± std. dev. of 7 runs, 1 loop each)\n",
      "21.9 ms ± 372 µs per loop (mean ± std. dev. of 7 runs, 1 loop each)\n",
      "22.9 ms ± 668 µs per loop (mean ± std. dev. of 7 runs, 1 loop each)\n"
     ]
    }
   ],
   "source": [
    "samplers = {\"smote\":smote, \"ada\":ada, \"ros\":ros, \"rus\":rus}\n",
    "\n",
    "timing_dict = {sampler:{k:None for k in range(1,25)} for sampler in samplers.keys()}\n",
    "\n",
    "for sampler in samplers.keys():\n",
    "    for i in range(1,25):\n",
    "    \n",
    "        n_rows = i*5000\n",
    "    \n",
    "        time_var = %timeit -n1 -o samplers[sampler].fit_resample(X_train[0:n_rows,:], y_train[0:n_rows])\n",
    "\n",
    "        timing_dict[sampler][i] = np.mean(time_var.all_runs)\n",
    "\n",
    "dfs = []\n",
    "\n",
    "for sampler_type in samplers.keys():\n",
    "\n",
    "    dfs.append(pd.DataFrame([(k,v) for k,v in timing_dict[sampler_type].items()], columns=[\"iter\", \"time_in_seconds\"]))\n",
    "\n",
    "for sampler_type, df in zip(samplers.keys(), dfs):\n",
    "    df[\"sampler_type\"] = sampler_type\n",
    "combined_df = pd.concat(dfs, axis=0)"
   ]
  },
  {
   "cell_type": "code",
   "execution_count": 8,
   "metadata": {},
   "outputs": [
    {
     "data": {
      "application/vnd.plotly.v1+json": {
       "config": {
        "plotlyServerURL": "https://plot.ly"
       },
       "data": [
        {
         "hovertemplate": "sampler_type=smote<br>iter=%{x}<br>time_in_seconds=%{y}<extra></extra>",
         "legendgroup": "smote",
         "line": {
          "color": "#636efa",
          "dash": "solid"
         },
         "marker": {
          "symbol": "circle"
         },
         "mode": "lines",
         "name": "smote",
         "orientation": "v",
         "showlegend": true,
         "type": "scatter",
         "x": [
          1,
          2,
          3,
          4,
          5,
          6,
          7,
          8,
          9,
          10,
          11,
          12,
          13,
          14,
          15,
          16,
          17,
          18,
          19,
          20,
          21,
          22,
          23,
          24
         ],
         "xaxis": "x",
         "y": [
          0.033671109995339066,
          0.14260632272011467,
          0.3168594835775106,
          0.5741930974264895,
          0.8861383821432745,
          1.2868061095733927,
          1.7315045195656629,
          2.1331424218535955,
          2.7144393874290733,
          3.514796375862456,
          4.098468685007122,
          4.850973319860974,
          5.865261120418187,
          6.826304652137749,
          7.786730945284944,
          8.942533897709966,
          10.262640574144566,
          11.511714661851459,
          12.254811374711737,
          13.57119025857537,
          14.941477311704407,
          17.2830090555695,
          17.64800435642246,
          19.889516100420483
         ],
         "yaxis": "y"
        },
        {
         "hovertemplate": "sampler_type=ada<br>iter=%{x}<br>time_in_seconds=%{y}<extra></extra>",
         "legendgroup": "ada",
         "line": {
          "color": "#EF553B",
          "dash": "solid"
         },
         "marker": {
          "symbol": "circle"
         },
         "mode": "lines",
         "name": "ada",
         "orientation": "v",
         "showlegend": true,
         "type": "scatter",
         "x": [
          1,
          2,
          3,
          4,
          5,
          6,
          7,
          8,
          9,
          10,
          11,
          12,
          13,
          14,
          15,
          16,
          17,
          18,
          19,
          20,
          21,
          22,
          23,
          24
         ],
         "xaxis": "x",
         "y": [
          0.12693428599907616,
          0.5599604265714463,
          1.2730654004304338,
          2.210770454428192,
          3.5926444725773763,
          5.022363271281522,
          6.940160285573386,
          9.070533326132656,
          11.17342565771209,
          14.431492123574051,
          16.447295721275232,
          20.572879313008993,
          23.887286005853507,
          28.326014056136565,
          32.58410252786208,
          36.83144215257406,
          41.63229513886368,
          48.4524833797103,
          52.00418605528622,
          57.75486074356013,
          64.21260966484884,
          70.59343043872339,
          77.74486619343017,
          85.51105173199903
         ],
         "yaxis": "y"
        },
        {
         "hovertemplate": "sampler_type=ros<br>iter=%{x}<br>time_in_seconds=%{y}<extra></extra>",
         "legendgroup": "ros",
         "line": {
          "color": "#00cc96",
          "dash": "solid"
         },
         "marker": {
          "symbol": "circle"
         },
         "mode": "lines",
         "name": "ros",
         "orientation": "v",
         "showlegend": true,
         "type": "scatter",
         "x": [
          1,
          2,
          3,
          4,
          5,
          6,
          7,
          8,
          9,
          10,
          11,
          12,
          13,
          14,
          15,
          16,
          17,
          18,
          19,
          20,
          21,
          22,
          23,
          24
         ],
         "xaxis": "x",
         "y": [
          0.0011846862907987088,
          0.0021142782809744987,
          0.003169263422023505,
          0.004458066429443923,
          0.005944041714038966,
          0.0074092708611195645,
          0.009146291421659822,
          0.010087134146098313,
          0.011029381986840494,
          0.01329669400417645,
          0.01353109985523458,
          0.014146901147406814,
          0.015586625281555046,
          0.015762686288716004,
          0.017401361422214125,
          0.017830488425845812,
          0.019598633437583755,
          0.019700535722742125,
          0.02103621686027119,
          0.02170293129165657,
          0.02261630985386936,
          0.023700852853445604,
          0.02508818484992454,
          0.02566772057824502
         ],
         "yaxis": "y"
        },
        {
         "hovertemplate": "sampler_type=rus<br>iter=%{x}<br>time_in_seconds=%{y}<extra></extra>",
         "legendgroup": "rus",
         "line": {
          "color": "#ab63fa",
          "dash": "solid"
         },
         "marker": {
          "symbol": "circle"
         },
         "mode": "lines",
         "name": "rus",
         "orientation": "v",
         "showlegend": true,
         "type": "scatter",
         "x": [
          1,
          2,
          3,
          4,
          5,
          6,
          7,
          8,
          9,
          10,
          11,
          12,
          13,
          14,
          15,
          16,
          17,
          18,
          19,
          20,
          21,
          22,
          23,
          24
         ],
         "xaxis": "x",
         "y": [
          0.0009876028551453991,
          0.001731520431349054,
          0.002961051429987752,
          0.003804979288750993,
          0.004836855281610042,
          0.0061170389983869556,
          0.007173634429428992,
          0.008562285565338763,
          0.009449500424255217,
          0.010419757284190772,
          0.011878900001257924,
          0.01258102771992396,
          0.01334313057096941,
          0.014452507286997778,
          0.015011868851226089,
          0.01596663485647046,
          0.016668545144576847,
          0.01851302372025592,
          0.018732212433990623,
          0.019365516437184333,
          0.01978639971431611,
          0.02090899056721745,
          0.021905815287027508,
          0.022907235289624493
         ],
         "yaxis": "y"
        }
       ],
       "layout": {
        "legend": {
         "title": {
          "text": "sampler_type"
         },
         "tracegroupgap": 0
        },
        "template": {
         "data": {
          "bar": [
           {
            "error_x": {
             "color": "#2a3f5f"
            },
            "error_y": {
             "color": "#2a3f5f"
            },
            "marker": {
             "line": {
              "color": "#E5ECF6",
              "width": 0.5
             },
             "pattern": {
              "fillmode": "overlay",
              "size": 10,
              "solidity": 0.2
             }
            },
            "type": "bar"
           }
          ],
          "barpolar": [
           {
            "marker": {
             "line": {
              "color": "#E5ECF6",
              "width": 0.5
             },
             "pattern": {
              "fillmode": "overlay",
              "size": 10,
              "solidity": 0.2
             }
            },
            "type": "barpolar"
           }
          ],
          "carpet": [
           {
            "aaxis": {
             "endlinecolor": "#2a3f5f",
             "gridcolor": "white",
             "linecolor": "white",
             "minorgridcolor": "white",
             "startlinecolor": "#2a3f5f"
            },
            "baxis": {
             "endlinecolor": "#2a3f5f",
             "gridcolor": "white",
             "linecolor": "white",
             "minorgridcolor": "white",
             "startlinecolor": "#2a3f5f"
            },
            "type": "carpet"
           }
          ],
          "choropleth": [
           {
            "colorbar": {
             "outlinewidth": 0,
             "ticks": ""
            },
            "type": "choropleth"
           }
          ],
          "contour": [
           {
            "colorbar": {
             "outlinewidth": 0,
             "ticks": ""
            },
            "colorscale": [
             [
              0,
              "#0d0887"
             ],
             [
              0.1111111111111111,
              "#46039f"
             ],
             [
              0.2222222222222222,
              "#7201a8"
             ],
             [
              0.3333333333333333,
              "#9c179e"
             ],
             [
              0.4444444444444444,
              "#bd3786"
             ],
             [
              0.5555555555555556,
              "#d8576b"
             ],
             [
              0.6666666666666666,
              "#ed7953"
             ],
             [
              0.7777777777777778,
              "#fb9f3a"
             ],
             [
              0.8888888888888888,
              "#fdca26"
             ],
             [
              1,
              "#f0f921"
             ]
            ],
            "type": "contour"
           }
          ],
          "contourcarpet": [
           {
            "colorbar": {
             "outlinewidth": 0,
             "ticks": ""
            },
            "type": "contourcarpet"
           }
          ],
          "heatmap": [
           {
            "colorbar": {
             "outlinewidth": 0,
             "ticks": ""
            },
            "colorscale": [
             [
              0,
              "#0d0887"
             ],
             [
              0.1111111111111111,
              "#46039f"
             ],
             [
              0.2222222222222222,
              "#7201a8"
             ],
             [
              0.3333333333333333,
              "#9c179e"
             ],
             [
              0.4444444444444444,
              "#bd3786"
             ],
             [
              0.5555555555555556,
              "#d8576b"
             ],
             [
              0.6666666666666666,
              "#ed7953"
             ],
             [
              0.7777777777777778,
              "#fb9f3a"
             ],
             [
              0.8888888888888888,
              "#fdca26"
             ],
             [
              1,
              "#f0f921"
             ]
            ],
            "type": "heatmap"
           }
          ],
          "heatmapgl": [
           {
            "colorbar": {
             "outlinewidth": 0,
             "ticks": ""
            },
            "colorscale": [
             [
              0,
              "#0d0887"
             ],
             [
              0.1111111111111111,
              "#46039f"
             ],
             [
              0.2222222222222222,
              "#7201a8"
             ],
             [
              0.3333333333333333,
              "#9c179e"
             ],
             [
              0.4444444444444444,
              "#bd3786"
             ],
             [
              0.5555555555555556,
              "#d8576b"
             ],
             [
              0.6666666666666666,
              "#ed7953"
             ],
             [
              0.7777777777777778,
              "#fb9f3a"
             ],
             [
              0.8888888888888888,
              "#fdca26"
             ],
             [
              1,
              "#f0f921"
             ]
            ],
            "type": "heatmapgl"
           }
          ],
          "histogram": [
           {
            "marker": {
             "pattern": {
              "fillmode": "overlay",
              "size": 10,
              "solidity": 0.2
             }
            },
            "type": "histogram"
           }
          ],
          "histogram2d": [
           {
            "colorbar": {
             "outlinewidth": 0,
             "ticks": ""
            },
            "colorscale": [
             [
              0,
              "#0d0887"
             ],
             [
              0.1111111111111111,
              "#46039f"
             ],
             [
              0.2222222222222222,
              "#7201a8"
             ],
             [
              0.3333333333333333,
              "#9c179e"
             ],
             [
              0.4444444444444444,
              "#bd3786"
             ],
             [
              0.5555555555555556,
              "#d8576b"
             ],
             [
              0.6666666666666666,
              "#ed7953"
             ],
             [
              0.7777777777777778,
              "#fb9f3a"
             ],
             [
              0.8888888888888888,
              "#fdca26"
             ],
             [
              1,
              "#f0f921"
             ]
            ],
            "type": "histogram2d"
           }
          ],
          "histogram2dcontour": [
           {
            "colorbar": {
             "outlinewidth": 0,
             "ticks": ""
            },
            "colorscale": [
             [
              0,
              "#0d0887"
             ],
             [
              0.1111111111111111,
              "#46039f"
             ],
             [
              0.2222222222222222,
              "#7201a8"
             ],
             [
              0.3333333333333333,
              "#9c179e"
             ],
             [
              0.4444444444444444,
              "#bd3786"
             ],
             [
              0.5555555555555556,
              "#d8576b"
             ],
             [
              0.6666666666666666,
              "#ed7953"
             ],
             [
              0.7777777777777778,
              "#fb9f3a"
             ],
             [
              0.8888888888888888,
              "#fdca26"
             ],
             [
              1,
              "#f0f921"
             ]
            ],
            "type": "histogram2dcontour"
           }
          ],
          "mesh3d": [
           {
            "colorbar": {
             "outlinewidth": 0,
             "ticks": ""
            },
            "type": "mesh3d"
           }
          ],
          "parcoords": [
           {
            "line": {
             "colorbar": {
              "outlinewidth": 0,
              "ticks": ""
             }
            },
            "type": "parcoords"
           }
          ],
          "pie": [
           {
            "automargin": true,
            "type": "pie"
           }
          ],
          "scatter": [
           {
            "marker": {
             "colorbar": {
              "outlinewidth": 0,
              "ticks": ""
             }
            },
            "type": "scatter"
           }
          ],
          "scatter3d": [
           {
            "line": {
             "colorbar": {
              "outlinewidth": 0,
              "ticks": ""
             }
            },
            "marker": {
             "colorbar": {
              "outlinewidth": 0,
              "ticks": ""
             }
            },
            "type": "scatter3d"
           }
          ],
          "scattercarpet": [
           {
            "marker": {
             "colorbar": {
              "outlinewidth": 0,
              "ticks": ""
             }
            },
            "type": "scattercarpet"
           }
          ],
          "scattergeo": [
           {
            "marker": {
             "colorbar": {
              "outlinewidth": 0,
              "ticks": ""
             }
            },
            "type": "scattergeo"
           }
          ],
          "scattergl": [
           {
            "marker": {
             "colorbar": {
              "outlinewidth": 0,
              "ticks": ""
             }
            },
            "type": "scattergl"
           }
          ],
          "scattermapbox": [
           {
            "marker": {
             "colorbar": {
              "outlinewidth": 0,
              "ticks": ""
             }
            },
            "type": "scattermapbox"
           }
          ],
          "scatterpolar": [
           {
            "marker": {
             "colorbar": {
              "outlinewidth": 0,
              "ticks": ""
             }
            },
            "type": "scatterpolar"
           }
          ],
          "scatterpolargl": [
           {
            "marker": {
             "colorbar": {
              "outlinewidth": 0,
              "ticks": ""
             }
            },
            "type": "scatterpolargl"
           }
          ],
          "scatterternary": [
           {
            "marker": {
             "colorbar": {
              "outlinewidth": 0,
              "ticks": ""
             }
            },
            "type": "scatterternary"
           }
          ],
          "surface": [
           {
            "colorbar": {
             "outlinewidth": 0,
             "ticks": ""
            },
            "colorscale": [
             [
              0,
              "#0d0887"
             ],
             [
              0.1111111111111111,
              "#46039f"
             ],
             [
              0.2222222222222222,
              "#7201a8"
             ],
             [
              0.3333333333333333,
              "#9c179e"
             ],
             [
              0.4444444444444444,
              "#bd3786"
             ],
             [
              0.5555555555555556,
              "#d8576b"
             ],
             [
              0.6666666666666666,
              "#ed7953"
             ],
             [
              0.7777777777777778,
              "#fb9f3a"
             ],
             [
              0.8888888888888888,
              "#fdca26"
             ],
             [
              1,
              "#f0f921"
             ]
            ],
            "type": "surface"
           }
          ],
          "table": [
           {
            "cells": {
             "fill": {
              "color": "#EBF0F8"
             },
             "line": {
              "color": "white"
             }
            },
            "header": {
             "fill": {
              "color": "#C8D4E3"
             },
             "line": {
              "color": "white"
             }
            },
            "type": "table"
           }
          ]
         },
         "layout": {
          "annotationdefaults": {
           "arrowcolor": "#2a3f5f",
           "arrowhead": 0,
           "arrowwidth": 1
          },
          "autotypenumbers": "strict",
          "coloraxis": {
           "colorbar": {
            "outlinewidth": 0,
            "ticks": ""
           }
          },
          "colorscale": {
           "diverging": [
            [
             0,
             "#8e0152"
            ],
            [
             0.1,
             "#c51b7d"
            ],
            [
             0.2,
             "#de77ae"
            ],
            [
             0.3,
             "#f1b6da"
            ],
            [
             0.4,
             "#fde0ef"
            ],
            [
             0.5,
             "#f7f7f7"
            ],
            [
             0.6,
             "#e6f5d0"
            ],
            [
             0.7,
             "#b8e186"
            ],
            [
             0.8,
             "#7fbc41"
            ],
            [
             0.9,
             "#4d9221"
            ],
            [
             1,
             "#276419"
            ]
           ],
           "sequential": [
            [
             0,
             "#0d0887"
            ],
            [
             0.1111111111111111,
             "#46039f"
            ],
            [
             0.2222222222222222,
             "#7201a8"
            ],
            [
             0.3333333333333333,
             "#9c179e"
            ],
            [
             0.4444444444444444,
             "#bd3786"
            ],
            [
             0.5555555555555556,
             "#d8576b"
            ],
            [
             0.6666666666666666,
             "#ed7953"
            ],
            [
             0.7777777777777778,
             "#fb9f3a"
            ],
            [
             0.8888888888888888,
             "#fdca26"
            ],
            [
             1,
             "#f0f921"
            ]
           ],
           "sequentialminus": [
            [
             0,
             "#0d0887"
            ],
            [
             0.1111111111111111,
             "#46039f"
            ],
            [
             0.2222222222222222,
             "#7201a8"
            ],
            [
             0.3333333333333333,
             "#9c179e"
            ],
            [
             0.4444444444444444,
             "#bd3786"
            ],
            [
             0.5555555555555556,
             "#d8576b"
            ],
            [
             0.6666666666666666,
             "#ed7953"
            ],
            [
             0.7777777777777778,
             "#fb9f3a"
            ],
            [
             0.8888888888888888,
             "#fdca26"
            ],
            [
             1,
             "#f0f921"
            ]
           ]
          },
          "colorway": [
           "#636efa",
           "#EF553B",
           "#00cc96",
           "#ab63fa",
           "#FFA15A",
           "#19d3f3",
           "#FF6692",
           "#B6E880",
           "#FF97FF",
           "#FECB52"
          ],
          "font": {
           "color": "#2a3f5f"
          },
          "geo": {
           "bgcolor": "white",
           "lakecolor": "white",
           "landcolor": "#E5ECF6",
           "showlakes": true,
           "showland": true,
           "subunitcolor": "white"
          },
          "hoverlabel": {
           "align": "left"
          },
          "hovermode": "closest",
          "mapbox": {
           "style": "light"
          },
          "paper_bgcolor": "white",
          "plot_bgcolor": "#E5ECF6",
          "polar": {
           "angularaxis": {
            "gridcolor": "white",
            "linecolor": "white",
            "ticks": ""
           },
           "bgcolor": "#E5ECF6",
           "radialaxis": {
            "gridcolor": "white",
            "linecolor": "white",
            "ticks": ""
           }
          },
          "scene": {
           "xaxis": {
            "backgroundcolor": "#E5ECF6",
            "gridcolor": "white",
            "gridwidth": 2,
            "linecolor": "white",
            "showbackground": true,
            "ticks": "",
            "zerolinecolor": "white"
           },
           "yaxis": {
            "backgroundcolor": "#E5ECF6",
            "gridcolor": "white",
            "gridwidth": 2,
            "linecolor": "white",
            "showbackground": true,
            "ticks": "",
            "zerolinecolor": "white"
           },
           "zaxis": {
            "backgroundcolor": "#E5ECF6",
            "gridcolor": "white",
            "gridwidth": 2,
            "linecolor": "white",
            "showbackground": true,
            "ticks": "",
            "zerolinecolor": "white"
           }
          },
          "shapedefaults": {
           "line": {
            "color": "#2a3f5f"
           }
          },
          "ternary": {
           "aaxis": {
            "gridcolor": "white",
            "linecolor": "white",
            "ticks": ""
           },
           "baxis": {
            "gridcolor": "white",
            "linecolor": "white",
            "ticks": ""
           },
           "bgcolor": "#E5ECF6",
           "caxis": {
            "gridcolor": "white",
            "linecolor": "white",
            "ticks": ""
           }
          },
          "title": {
           "x": 0.05
          },
          "xaxis": {
           "automargin": true,
           "gridcolor": "white",
           "linecolor": "white",
           "ticks": "",
           "title": {
            "standoff": 15
           },
           "zerolinecolor": "white",
           "zerolinewidth": 2
          },
          "yaxis": {
           "automargin": true,
           "gridcolor": "white",
           "linecolor": "white",
           "ticks": "",
           "title": {
            "standoff": 15
           },
           "zerolinecolor": "white",
           "zerolinewidth": 2
          }
         }
        },
        "title": {
         "text": "Time Complexity of Sampling Methods for Class Imbalance"
        },
        "xaxis": {
         "anchor": "y",
         "domain": [
          0,
          1
         ],
         "title": {
          "text": "iter"
         }
        },
        "yaxis": {
         "anchor": "x",
         "domain": [
          0,
          1
         ],
         "title": {
          "text": "time_in_seconds"
         }
        }
       }
      }
     },
     "metadata": {},
     "output_type": "display_data"
    }
   ],
   "source": [
    "px.line(data_frame=combined_df, x=\"iter\", y=\"time_in_seconds\", color='sampler_type', title=\"Time Complexity of Sampling Methods for Class Imbalance\")"
   ]
  },
  {
   "cell_type": "markdown",
   "metadata": {},
   "source": [
    "As shown above, the synthetic data generation algorithms (SMOTE and ADASYN) which rely on K-Nearest Neighbors algorithms to generate the new data, run slower and slower on larger proportions of our data.\n",
    "\n",
    "The KNN worst case time complexity is O(N * kD) (where N = number of data points/row, K is the number of neighbors used, and D is the number of features/columns). Because we have vectorized the reviews with TFIDF using unigrams and bigrams, the width of the data is roughly 2 million columns."
   ]
  },
  {
   "cell_type": "markdown",
   "metadata": {},
   "source": [
    "## 4.5 Bayesian Hyperparameter Optimization with Optuna"
   ]
  },
  {
   "cell_type": "markdown",
   "metadata": {},
   "source": [
    "### 4.5.1 About Optuna:"
   ]
  },
  {
   "cell_type": "markdown",
   "metadata": {},
   "source": [
    "A python library that allows you to write custom functions for Bayesian Optimization. When searching over a range of models and hyperparameters, the time complexity of grid search is exponential due to the brute-force nature of the algorithm. This quickly becomes untenable with more than a few different parameters."
   ]
  },
  {
   "cell_type": "markdown",
   "metadata": {},
   "source": [
    "### 4.5.2 Custom Optimization Function"
   ]
  },
  {
   "cell_type": "markdown",
   "metadata": {},
   "source": [
    "#### Funtion optimization params:\n",
    "\n",
    "##### 1. Sampling:\n",
    "  * Random over-sampling\n",
    "  * Random under-sampling\n",
    "  * Synthetic Minority Over-sampling ('smote')\n",
    "  * Adaptive Synthetic Over-sampling ('adasyn')\n",
    "  * None\n",
    "\n",
    "##### 2. Models:\n",
    "  * Logistic Regression ('logreg')\n",
    "    - C (regularization parameter)\n",
    "  * XGBoost ('xgboost')\n",
    "    - learning rate\n",
    "    - max depth\n",
    "    - number of estimators\n",
    "  * LightGBM ('lgbm')\n",
    "    - learning rate\n",
    "    - max depth\n",
    "    - number of estimators\n"
   ]
  },
  {
   "cell_type": "code",
   "execution_count": 9,
   "metadata": {},
   "outputs": [],
   "source": [
    "def objective(trial, sub_sample_prop, model_choices):\n",
    "    \"\"\"\n",
    "    params:\n",
    "        trial: functions like a self parameter for the optimization function)\n",
    "        sub_sample_prop: amount of the entire train set to sample from for current trial\n",
    "        model_choices: allow dynamic selection between three model types   \n",
    "    \"\"\"\n",
    "\n",
    "    #sampler\n",
    "\n",
    "    \n",
    "    sampler_type = trial.suggest_categorical('sampler', [None, 'ros', 'rus', 'smote', 'ada'])\n",
    "\n",
    "    if sampler_type == 'ros':\n",
    "        sampler = RandomOverSampler(random_state=0)\n",
    "    \n",
    "    elif sampler_type == 'smote':\n",
    "        k_neighbors = trial.suggest_int('k_neighbors', 2,10)\n",
    "        sampler = SMOTE(random_state=0, k_neighbors=k_neighbors)\n",
    "    \n",
    "    elif sampler_type == 'rus':\n",
    "        sampler = RandomUnderSampler(random_state=0)\n",
    "    \n",
    "    elif sampler_type == 'ada':\n",
    "        n_neighbors = trial.suggest_int('n_neighbors', 2,10)\n",
    "        sampler = ADASYN(n_neighbors=n_neighbors)\n",
    "    \n",
    "    else:\n",
    "        sampler = None\n",
    "\n",
    "\n",
    "    model_type = trial.suggest_categorical('classifier', model_choices)\n",
    "\n",
    "    if model_type == 'logreg':\n",
    "        #optimize params\n",
    "        C = trial.suggest_categorical('C', [1.0, 0.1, 0.01]) #note: models with larger values for C failed to converge\n",
    "        \n",
    "        #model\n",
    "        model = LogisticRegression(solver = \"lbfgs\", n_jobs=-1, max_iter=1000, C=C)\n",
    "\n",
    "    elif model_type == 'xgboost':\n",
    "        #optimize params\n",
    "        learning_rate = trial.suggest_categorical('learning_rate', [0.2, 0.1, 0.01, .001, .0001])\n",
    "        max_depth = trial.suggest_int('max_depth', 3, 20)\n",
    "        n_estimators = trial.suggest_categorical('n_estimators', [200,500,1000, 2000, 4000])\n",
    "\n",
    "        #model\n",
    "        model = xgb.XGBClassifier(n_estimators=n_estimators, max_depth=max_depth, learning_rate=learning_rate, n_jobs=-1, verbosity=0, use_label_encoder=False)\n",
    "\n",
    "    elif model_type == \"lgbm\":\n",
    "        #optimize params\n",
    "        learning_rate = trial.suggest_categorical('learning_rate', [0.2, 0.1, 0.01, .001, .0001])\n",
    "        max_depth = trial.suggest_int('max_depth', 3, 20)\n",
    "        n_estimators = trial.suggest_categorical('n_estimators', [200,500,1000, 2000,4000])\n",
    "\n",
    "        #model\n",
    "        model = lgb.LGBMClassifier(max_depth = max_depth, n_estimators=n_estimators)\n",
    "    \n",
    "    pipeline = Pipeline([('sampler', sampler), ('model',model)])\n",
    "    \n",
    "    X_train_sample, _, y_train_sample, _ = train_test_split(X_train, y_train, train_size=sub_sample_prop, random_state=trial.number)\n",
    "\n",
    "    print(\"N_rows: \", X_train_sample.shape[0])\n",
    "\n",
    "    pipeline.fit(X_train_sample, y_train_sample)\n",
    "    \n",
    "    #using the original X_test from the top train_test_split above\n",
    "    y_preds = pipeline.predict(X_test)\n",
    "\n",
    "    return recall_score(y_preds, y_test)"
   ]
  },
  {
   "cell_type": "markdown",
   "metadata": {},
   "source": [
    "### 4.5.3 Run 1\n",
    "\n",
    "We'll test out a loop with a very small proportion of our data to train on, to see if the different sampling methods give a better recall score. Because they run slowly (smote and adasyn especially), it would be nice to skip them to save computation time if they are not proving useful. With a small subset of the data to train on (fewer members of the positive class), it should be an ideal test case to see their effectiveness."
   ]
  },
  {
   "cell_type": "code",
   "execution_count": 10,
   "metadata": {},
   "outputs": [
    {
     "name": "stderr",
     "output_type": "stream",
     "text": [
      "\u001b[32m[I 2022-08-09 00:21:11,343]\u001b[0m A new study created in memory with name: no-name-aa814fad-e831-4393-b1c9-729565b956e3\u001b[0m\n"
     ]
    },
    {
     "name": "stdout",
     "output_type": "stream",
     "text": [
      "N_rows:  1572\n"
     ]
    },
    {
     "name": "stderr",
     "output_type": "stream",
     "text": [
      "\u001b[32m[I 2022-08-09 00:21:11,937]\u001b[0m Trial 0 finished with value: 0.5460531432274789 and parameters: {'sampler': 'rus', 'classifier': 'lgbm', 'learning_rate': 0.001, 'max_depth': 4, 'n_estimators': 500}. Best is trial 0 with value: 0.5460531432274789.\u001b[0m\n"
     ]
    },
    {
     "name": "stdout",
     "output_type": "stream",
     "text": [
      "N_rows:  1572\n"
     ]
    },
    {
     "name": "stderr",
     "output_type": "stream",
     "text": [
      "\u001b[32m[I 2022-08-09 00:21:12,890]\u001b[0m Trial 1 finished with value: 0.6867019019327958 and parameters: {'sampler': 'ros', 'classifier': 'lgbm', 'learning_rate': 0.001, 'max_depth': 4, 'n_estimators': 1000}. Best is trial 1 with value: 0.6867019019327958.\u001b[0m\n"
     ]
    },
    {
     "name": "stdout",
     "output_type": "stream",
     "text": [
      "N_rows:  1572\n"
     ]
    },
    {
     "name": "stderr",
     "output_type": "stream",
     "text": [
      "\u001b[32m[I 2022-08-09 00:21:13,996]\u001b[0m Trial 2 finished with value: 0.875 and parameters: {'sampler': None, 'classifier': 'logreg', 'C': 0.1}. Best is trial 2 with value: 0.875.\u001b[0m\n"
     ]
    },
    {
     "name": "stdout",
     "output_type": "stream",
     "text": [
      "N_rows:  1572\n"
     ]
    },
    {
     "name": "stderr",
     "output_type": "stream",
     "text": [
      "/home/paul/anaconda3/envs/pyspark/lib/python3.10/site-packages/sklearn/metrics/_classification.py:1308: UndefinedMetricWarning:\n",
      "\n",
      "Recall is ill-defined and being set to 0.0 due to no true samples. Use `zero_division` parameter to control this behavior.\n",
      "\n",
      "\u001b[32m[I 2022-08-09 00:21:14,501]\u001b[0m Trial 3 finished with value: 0.0 and parameters: {'sampler': None, 'classifier': 'logreg', 'C': 0.01}. Best is trial 2 with value: 0.875.\u001b[0m\n"
     ]
    },
    {
     "name": "stdout",
     "output_type": "stream",
     "text": [
      "N_rows:  1572\n"
     ]
    },
    {
     "name": "stderr",
     "output_type": "stream",
     "text": [
      "\u001b[32m[I 2022-08-09 00:23:17,989]\u001b[0m Trial 4 finished with value: 0.6556570067487099 and parameters: {'sampler': 'ada', 'n_neighbors': 5, 'classifier': 'xgboost', 'learning_rate': 0.0001, 'max_depth': 15, 'n_estimators': 4000}. Best is trial 2 with value: 0.875.\u001b[0m\n"
     ]
    },
    {
     "name": "stdout",
     "output_type": "stream",
     "text": [
      "N_rows:  1572\n"
     ]
    },
    {
     "name": "stderr",
     "output_type": "stream",
     "text": [
      "\u001b[32m[I 2022-08-09 00:23:52,327]\u001b[0m Trial 5 finished with value: 0.5685018879477498 and parameters: {'sampler': 'rus', 'classifier': 'xgboost', 'learning_rate': 0.01, 'max_depth': 6, 'n_estimators': 4000}. Best is trial 2 with value: 0.875.\u001b[0m\n"
     ]
    },
    {
     "name": "stdout",
     "output_type": "stream",
     "text": [
      "N_rows:  1572\n"
     ]
    },
    {
     "name": "stderr",
     "output_type": "stream",
     "text": [
      "\u001b[32m[I 2022-08-09 00:23:57,112]\u001b[0m Trial 6 finished with value: 0.5589719206487571 and parameters: {'sampler': 'ros', 'classifier': 'xgboost', 'learning_rate': 0.01, 'max_depth': 12, 'n_estimators': 200}. Best is trial 2 with value: 0.875.\u001b[0m\n"
     ]
    },
    {
     "name": "stdout",
     "output_type": "stream",
     "text": [
      "N_rows:  1572\n"
     ]
    },
    {
     "name": "stderr",
     "output_type": "stream",
     "text": [
      "\u001b[32m[I 2022-08-09 00:23:57,710]\u001b[0m Trial 7 finished with value: 0.8883253588516746 and parameters: {'sampler': 'ada', 'n_neighbors': 2, 'classifier': 'logreg', 'C': 0.1}. Best is trial 7 with value: 0.8883253588516746.\u001b[0m\n"
     ]
    },
    {
     "name": "stdout",
     "output_type": "stream",
     "text": [
      "N_rows:  1572\n"
     ]
    },
    {
     "name": "stderr",
     "output_type": "stream",
     "text": [
      "\u001b[32m[I 2022-08-09 00:23:59,001]\u001b[0m Trial 8 finished with value: 0.6726569185548983 and parameters: {'sampler': 'ada', 'n_neighbors': 10, 'classifier': 'lgbm', 'learning_rate': 0.001, 'max_depth': 18, 'n_estimators': 500}. Best is trial 7 with value: 0.8883253588516746.\u001b[0m\n"
     ]
    },
    {
     "name": "stdout",
     "output_type": "stream",
     "text": [
      "N_rows:  1572\n"
     ]
    },
    {
     "name": "stderr",
     "output_type": "stream",
     "text": [
      "\u001b[32m[I 2022-08-09 00:23:59,592]\u001b[0m Trial 9 finished with value: 0.6955716270618832 and parameters: {'sampler': 'ros', 'classifier': 'logreg', 'C': 0.1}. Best is trial 7 with value: 0.8883253588516746.\u001b[0m\n"
     ]
    },
    {
     "name": "stdout",
     "output_type": "stream",
     "text": [
      "N_rows:  1572\n"
     ]
    },
    {
     "name": "stderr",
     "output_type": "stream",
     "text": [
      "\u001b[32m[I 2022-08-09 00:24:00,370]\u001b[0m Trial 10 finished with value: 0.7691902104661892 and parameters: {'sampler': 'smote', 'k_neighbors': 5, 'classifier': 'logreg', 'C': 1.0}. Best is trial 7 with value: 0.8883253588516746.\u001b[0m\n"
     ]
    },
    {
     "name": "stdout",
     "output_type": "stream",
     "text": [
      "N_rows:  1572\n"
     ]
    },
    {
     "name": "stderr",
     "output_type": "stream",
     "text": [
      "\u001b[32m[I 2022-08-09 00:24:01,004]\u001b[0m Trial 11 finished with value: 0.875 and parameters: {'sampler': None, 'classifier': 'logreg', 'C': 0.1}. Best is trial 7 with value: 0.8883253588516746.\u001b[0m\n"
     ]
    },
    {
     "name": "stdout",
     "output_type": "stream",
     "text": [
      "N_rows:  1572\n"
     ]
    },
    {
     "name": "stderr",
     "output_type": "stream",
     "text": [
      "\u001b[32m[I 2022-08-09 00:24:01,649]\u001b[0m Trial 12 finished with value: 0.9349593495934959 and parameters: {'sampler': None, 'classifier': 'logreg', 'C': 0.1}. Best is trial 12 with value: 0.9349593495934959.\u001b[0m\n"
     ]
    },
    {
     "name": "stdout",
     "output_type": "stream",
     "text": [
      "N_rows:  1572\n"
     ]
    },
    {
     "name": "stderr",
     "output_type": "stream",
     "text": [
      "\u001b[32m[I 2022-08-09 00:24:02,304]\u001b[0m Trial 13 finished with value: 0.9133574007220217 and parameters: {'sampler': None, 'classifier': 'logreg', 'C': 0.1}. Best is trial 12 with value: 0.9349593495934959.\u001b[0m\n"
     ]
    },
    {
     "name": "stdout",
     "output_type": "stream",
     "text": [
      "N_rows:  1572\n"
     ]
    },
    {
     "name": "stderr",
     "output_type": "stream",
     "text": [
      "/home/paul/anaconda3/envs/pyspark/lib/python3.10/site-packages/sklearn/metrics/_classification.py:1308: UndefinedMetricWarning:\n",
      "\n",
      "Recall is ill-defined and being set to 0.0 due to no true samples. Use `zero_division` parameter to control this behavior.\n",
      "\n",
      "\u001b[32m[I 2022-08-09 00:24:02,926]\u001b[0m Trial 14 finished with value: 0.0 and parameters: {'sampler': None, 'classifier': 'logreg', 'C': 0.1}. Best is trial 12 with value: 0.9349593495934959.\u001b[0m\n"
     ]
    },
    {
     "name": "stdout",
     "output_type": "stream",
     "text": [
      "N_rows:  1572\n"
     ]
    },
    {
     "name": "stderr",
     "output_type": "stream",
     "text": [
      "\u001b[32m[I 2022-08-09 00:24:03,865]\u001b[0m Trial 15 finished with value: 0.8921847487471217 and parameters: {'sampler': None, 'classifier': 'logreg', 'C': 1.0}. Best is trial 12 with value: 0.9349593495934959.\u001b[0m\n"
     ]
    },
    {
     "name": "stdout",
     "output_type": "stream",
     "text": [
      "N_rows:  1572\n"
     ]
    },
    {
     "name": "stderr",
     "output_type": "stream",
     "text": [
      "/home/paul/anaconda3/envs/pyspark/lib/python3.10/site-packages/sklearn/metrics/_classification.py:1308: UndefinedMetricWarning:\n",
      "\n",
      "Recall is ill-defined and being set to 0.0 due to no true samples. Use `zero_division` parameter to control this behavior.\n",
      "\n",
      "\u001b[32m[I 2022-08-09 00:24:04,329]\u001b[0m Trial 16 finished with value: 0.0 and parameters: {'sampler': None, 'classifier': 'logreg', 'C': 0.01}. Best is trial 12 with value: 0.9349593495934959.\u001b[0m\n"
     ]
    },
    {
     "name": "stdout",
     "output_type": "stream",
     "text": [
      "N_rows:  1572\n"
     ]
    },
    {
     "name": "stderr",
     "output_type": "stream",
     "text": [
      "\u001b[32m[I 2022-08-09 00:24:04,962]\u001b[0m Trial 17 finished with value: 0.9139784946236559 and parameters: {'sampler': None, 'classifier': 'logreg', 'C': 0.1}. Best is trial 12 with value: 0.9349593495934959.\u001b[0m\n"
     ]
    },
    {
     "name": "stdout",
     "output_type": "stream",
     "text": [
      "N_rows:  1572\n"
     ]
    },
    {
     "name": "stderr",
     "output_type": "stream",
     "text": [
      "\u001b[32m[I 2022-08-09 00:24:33,154]\u001b[0m Trial 18 finished with value: 0.7236810290633009 and parameters: {'sampler': None, 'classifier': 'xgboost', 'learning_rate': 0.2, 'max_depth': 20, 'n_estimators': 2000}. Best is trial 12 with value: 0.9349593495934959.\u001b[0m\n"
     ]
    },
    {
     "name": "stdout",
     "output_type": "stream",
     "text": [
      "N_rows:  1572\n"
     ]
    },
    {
     "name": "stderr",
     "output_type": "stream",
     "text": [
      "\u001b[32m[I 2022-08-09 00:24:34,695]\u001b[0m Trial 19 finished with value: 0.6758751411517987 and parameters: {'sampler': None, 'classifier': 'lgbm', 'learning_rate': 0.1, 'max_depth': 9, 'n_estimators': 1000}. Best is trial 12 with value: 0.9349593495934959.\u001b[0m\n"
     ]
    },
    {
     "name": "stdout",
     "output_type": "stream",
     "text": [
      "N_rows:  1572\n"
     ]
    },
    {
     "name": "stderr",
     "output_type": "stream",
     "text": [
      "\u001b[32m[I 2022-08-09 00:24:35,403]\u001b[0m Trial 20 finished with value: 0.9130434782608695 and parameters: {'sampler': None, 'classifier': 'logreg', 'C': 0.1}. Best is trial 12 with value: 0.9349593495934959.\u001b[0m\n"
     ]
    },
    {
     "name": "stdout",
     "output_type": "stream",
     "text": [
      "N_rows:  1572\n"
     ]
    },
    {
     "name": "stderr",
     "output_type": "stream",
     "text": [
      "\u001b[32m[I 2022-08-09 00:24:36,042]\u001b[0m Trial 21 finished with value: 0.9166666666666666 and parameters: {'sampler': None, 'classifier': 'logreg', 'C': 0.1}. Best is trial 12 with value: 0.9349593495934959.\u001b[0m\n"
     ]
    },
    {
     "name": "stdout",
     "output_type": "stream",
     "text": [
      "N_rows:  1572\n"
     ]
    },
    {
     "name": "stderr",
     "output_type": "stream",
     "text": [
      "\u001b[32m[I 2022-08-09 00:24:36,698]\u001b[0m Trial 22 finished with value: 0.9136690647482014 and parameters: {'sampler': None, 'classifier': 'logreg', 'C': 0.1}. Best is trial 12 with value: 0.9349593495934959.\u001b[0m\n"
     ]
    },
    {
     "name": "stdout",
     "output_type": "stream",
     "text": [
      "N_rows:  1572\n"
     ]
    },
    {
     "name": "stderr",
     "output_type": "stream",
     "text": [
      "\u001b[32m[I 2022-08-09 00:24:37,339]\u001b[0m Trial 23 finished with value: 1.0 and parameters: {'sampler': None, 'classifier': 'logreg', 'C': 0.1}. Best is trial 23 with value: 1.0.\u001b[0m\n"
     ]
    },
    {
     "name": "stdout",
     "output_type": "stream",
     "text": [
      "N_rows:  1572\n"
     ]
    },
    {
     "name": "stderr",
     "output_type": "stream",
     "text": [
      "\u001b[32m[I 2022-08-09 00:24:37,823]\u001b[0m Trial 24 finished with value: 0.875 and parameters: {'sampler': None, 'classifier': 'logreg', 'C': 0.1}. Best is trial 23 with value: 1.0.\u001b[0m\n"
     ]
    },
    {
     "name": "stdout",
     "output_type": "stream",
     "text": [
      "N_rows:  1572\n"
     ]
    },
    {
     "name": "stderr",
     "output_type": "stream",
     "text": [
      "/home/paul/anaconda3/envs/pyspark/lib/python3.10/site-packages/sklearn/metrics/_classification.py:1308: UndefinedMetricWarning:\n",
      "\n",
      "Recall is ill-defined and being set to 0.0 due to no true samples. Use `zero_division` parameter to control this behavior.\n",
      "\n",
      "\u001b[32m[I 2022-08-09 00:24:38,142]\u001b[0m Trial 25 finished with value: 0.0 and parameters: {'sampler': None, 'classifier': 'logreg', 'C': 0.01}. Best is trial 23 with value: 1.0.\u001b[0m\n"
     ]
    },
    {
     "name": "stdout",
     "output_type": "stream",
     "text": [
      "N_rows:  1572\n"
     ]
    },
    {
     "name": "stderr",
     "output_type": "stream",
     "text": [
      "\u001b[32m[I 2022-08-09 00:24:38,952]\u001b[0m Trial 26 finished with value: 0.8993517570794951 and parameters: {'sampler': None, 'classifier': 'logreg', 'C': 1.0}. Best is trial 23 with value: 1.0.\u001b[0m\n"
     ]
    },
    {
     "name": "stdout",
     "output_type": "stream",
     "text": [
      "N_rows:  1572\n"
     ]
    },
    {
     "name": "stderr",
     "output_type": "stream",
     "text": [
      "\u001b[32m[I 2022-08-09 00:24:39,462]\u001b[0m Trial 27 finished with value: 0.7028662279733251 and parameters: {'sampler': None, 'classifier': 'lgbm', 'learning_rate': 0.1, 'max_depth': 10, 'n_estimators': 200}. Best is trial 23 with value: 1.0.\u001b[0m\n"
     ]
    },
    {
     "name": "stdout",
     "output_type": "stream",
     "text": [
      "N_rows:  1572\n"
     ]
    },
    {
     "name": "stderr",
     "output_type": "stream",
     "text": [
      "\u001b[32m[I 2022-08-09 00:25:10,434]\u001b[0m Trial 28 finished with value: 0.7176679895990147 and parameters: {'sampler': None, 'classifier': 'xgboost', 'learning_rate': 0.2, 'max_depth': 16, 'n_estimators': 2000}. Best is trial 23 with value: 1.0.\u001b[0m\n"
     ]
    },
    {
     "name": "stdout",
     "output_type": "stream",
     "text": [
      "N_rows:  1572\n"
     ]
    },
    {
     "name": "stderr",
     "output_type": "stream",
     "text": [
      "\u001b[32m[I 2022-08-09 00:25:10,944]\u001b[0m Trial 29 finished with value: 0.875 and parameters: {'sampler': None, 'classifier': 'logreg', 'C': 0.1}. Best is trial 23 with value: 1.0.\u001b[0m\n"
     ]
    }
   ],
   "source": [
    "# we have to use a lambda function as a wrapper in order to pass in parameters to the optimize function\n",
    "\n",
    "func = lambda trial: objective(trial, .002, [\"xgboost\", \"lgbm\", \"logreg\"])\n",
    "\n",
    "study = optuna.create_study(direction='maximize')\n",
    "\n",
    "study.optimize(func, n_trials=30)"
   ]
  },
  {
   "cell_type": "markdown",
   "metadata": {},
   "source": [
    "#### Run 1 Results:\n",
    "\n",
    "Training on a small portion of the data (~1500 rows), our best model was consistently the Logistic Regression and none of the sampling methods seemed to improve the recall of our model."
   ]
  },
  {
   "cell_type": "markdown",
   "metadata": {},
   "source": [
    "### 4.5.4 Run 2\n",
    "With a more reasonable training size, we'll run a longer study and compare how well the different models and sampling methods work."
   ]
  },
  {
   "cell_type": "code",
   "execution_count": 11,
   "metadata": {},
   "outputs": [
    {
     "name": "stderr",
     "output_type": "stream",
     "text": [
      "\u001b[32m[I 2022-08-09 00:25:10,986]\u001b[0m A new study created in memory with name: no-name-d5ca5c8c-f9bf-4f72-8136-586d0d14ddd0\u001b[0m\n"
     ]
    },
    {
     "name": "stdout",
     "output_type": "stream",
     "text": [
      "N_rows:  78601\n"
     ]
    },
    {
     "name": "stderr",
     "output_type": "stream",
     "text": [
      "\u001b[32m[I 2022-08-09 00:26:22,830]\u001b[0m Trial 0 finished with value: 0.8257125772373929 and parameters: {'sampler': None, 'classifier': 'lgbm', 'learning_rate': 0.1, 'max_depth': 12, 'n_estimators': 4000}. Best is trial 0 with value: 0.8257125772373929.\u001b[0m\n"
     ]
    },
    {
     "name": "stdout",
     "output_type": "stream",
     "text": [
      "N_rows:  78601\n"
     ]
    },
    {
     "name": "stderr",
     "output_type": "stream",
     "text": [
      "\u001b[32m[I 2022-08-09 00:26:32,640]\u001b[0m Trial 1 finished with value: 0.7119376087496893 and parameters: {'sampler': 'smote', 'k_neighbors': 8, 'classifier': 'logreg', 'C': 0.1}. Best is trial 0 with value: 0.8257125772373929.\u001b[0m\n"
     ]
    },
    {
     "name": "stdout",
     "output_type": "stream",
     "text": [
      "N_rows:  78601\n"
     ]
    },
    {
     "name": "stderr",
     "output_type": "stream",
     "text": [
      "\u001b[32m[I 2022-08-09 00:27:47,783]\u001b[0m Trial 2 finished with value: 0.7704555659171761 and parameters: {'sampler': 'ada', 'n_neighbors': 4, 'classifier': 'lgbm', 'learning_rate': 0.0001, 'max_depth': 5, 'n_estimators': 2000}. Best is trial 0 with value: 0.8257125772373929.\u001b[0m\n"
     ]
    },
    {
     "name": "stdout",
     "output_type": "stream",
     "text": [
      "N_rows:  78601\n"
     ]
    },
    {
     "name": "stderr",
     "output_type": "stream",
     "text": [
      "\u001b[32m[I 2022-08-09 00:29:41,737]\u001b[0m Trial 3 finished with value: 0.7930411039775662 and parameters: {'sampler': 'smote', 'k_neighbors': 5, 'classifier': 'lgbm', 'learning_rate': 0.2, 'max_depth': 12, 'n_estimators': 4000}. Best is trial 0 with value: 0.8257125772373929.\u001b[0m\n"
     ]
    },
    {
     "name": "stdout",
     "output_type": "stream",
     "text": [
      "N_rows:  78601\n"
     ]
    },
    {
     "name": "stderr",
     "output_type": "stream",
     "text": [
      "\u001b[32m[I 2022-08-09 00:30:26,476]\u001b[0m Trial 4 finished with value: 0.7317670707959043 and parameters: {'sampler': 'rus', 'classifier': 'xgboost', 'learning_rate': 0.2, 'max_depth': 10, 'n_estimators': 1000}. Best is trial 0 with value: 0.8257125772373929.\u001b[0m\n"
     ]
    },
    {
     "name": "stdout",
     "output_type": "stream",
     "text": [
      "N_rows:  78601\n"
     ]
    },
    {
     "name": "stderr",
     "output_type": "stream",
     "text": [
      "\u001b[32m[I 2022-08-09 00:30:27,651]\u001b[0m Trial 5 finished with value: 0.6586107971833435 and parameters: {'sampler': 'rus', 'classifier': 'logreg', 'C': 0.01}. Best is trial 0 with value: 0.8257125772373929.\u001b[0m\n"
     ]
    },
    {
     "name": "stdout",
     "output_type": "stream",
     "text": [
      "N_rows:  78601\n"
     ]
    },
    {
     "name": "stderr",
     "output_type": "stream",
     "text": [
      "\u001b[32m[I 2022-08-09 00:30:37,159]\u001b[0m Trial 6 finished with value: 0.7102276251317993 and parameters: {'sampler': 'smote', 'k_neighbors': 10, 'classifier': 'logreg', 'C': 0.1}. Best is trial 0 with value: 0.8257125772373929.\u001b[0m\n"
     ]
    },
    {
     "name": "stdout",
     "output_type": "stream",
     "text": [
      "N_rows:  78601\n"
     ]
    },
    {
     "name": "stderr",
     "output_type": "stream",
     "text": [
      "\u001b[32m[I 2022-08-09 00:31:11,731]\u001b[0m Trial 7 finished with value: 0.5404836521820479 and parameters: {'sampler': 'rus', 'classifier': 'xgboost', 'learning_rate': 0.0001, 'max_depth': 18, 'n_estimators': 200}. Best is trial 0 with value: 0.8257125772373929.\u001b[0m\n"
     ]
    },
    {
     "name": "stdout",
     "output_type": "stream",
     "text": [
      "N_rows:  78601\n"
     ]
    },
    {
     "name": "stderr",
     "output_type": "stream",
     "text": [
      "\u001b[32m[I 2022-08-09 00:31:48,874]\u001b[0m Trial 8 finished with value: 0.7451646628332462 and parameters: {'sampler': 'ada', 'n_neighbors': 3, 'classifier': 'logreg', 'C': 1.0}. Best is trial 0 with value: 0.8257125772373929.\u001b[0m\n"
     ]
    },
    {
     "name": "stdout",
     "output_type": "stream",
     "text": [
      "N_rows:  78601\n"
     ]
    },
    {
     "name": "stderr",
     "output_type": "stream",
     "text": [
      "\u001b[32m[I 2022-08-09 00:31:49,971]\u001b[0m Trial 9 finished with value: 0.9406657018813314 and parameters: {'sampler': None, 'classifier': 'logreg', 'C': 0.01}. Best is trial 9 with value: 0.9406657018813314.\u001b[0m\n"
     ]
    },
    {
     "name": "stdout",
     "output_type": "stream",
     "text": [
      "N_rows:  78601\n"
     ]
    },
    {
     "name": "stderr",
     "output_type": "stream",
     "text": [
      "\u001b[32m[I 2022-08-09 00:31:51,045]\u001b[0m Trial 10 finished with value: 0.9415292353823088 and parameters: {'sampler': None, 'classifier': 'logreg', 'C': 0.01}. Best is trial 10 with value: 0.9415292353823088.\u001b[0m\n"
     ]
    },
    {
     "name": "stdout",
     "output_type": "stream",
     "text": [
      "N_rows:  78601\n"
     ]
    },
    {
     "name": "stderr",
     "output_type": "stream",
     "text": [
      "\u001b[32m[I 2022-08-09 00:31:52,248]\u001b[0m Trial 11 finished with value: 0.6774732819869843 and parameters: {'sampler': 'ros', 'classifier': 'logreg', 'C': 0.01}. Best is trial 10 with value: 0.9415292353823088.\u001b[0m\n"
     ]
    },
    {
     "name": "stdout",
     "output_type": "stream",
     "text": [
      "N_rows:  78601\n"
     ]
    },
    {
     "name": "stderr",
     "output_type": "stream",
     "text": [
      "\u001b[32m[I 2022-08-09 00:31:53,313]\u001b[0m Trial 12 finished with value: 0.9408881199538639 and parameters: {'sampler': None, 'classifier': 'logreg', 'C': 0.01}. Best is trial 10 with value: 0.9415292353823088.\u001b[0m\n"
     ]
    },
    {
     "name": "stdout",
     "output_type": "stream",
     "text": [
      "N_rows:  78601\n"
     ]
    },
    {
     "name": "stderr",
     "output_type": "stream",
     "text": [
      "\u001b[32m[I 2022-08-09 00:31:54,344]\u001b[0m Trial 13 finished with value: 0.9443162146566647 and parameters: {'sampler': None, 'classifier': 'logreg', 'C': 0.01}. Best is trial 13 with value: 0.9443162146566647.\u001b[0m\n"
     ]
    },
    {
     "name": "stdout",
     "output_type": "stream",
     "text": [
      "N_rows:  78601\n"
     ]
    },
    {
     "name": "stderr",
     "output_type": "stream",
     "text": [
      "\u001b[32m[I 2022-08-09 00:31:55,426]\u001b[0m Trial 14 finished with value: 0.9437519002736394 and parameters: {'sampler': None, 'classifier': 'logreg', 'C': 0.01}. Best is trial 13 with value: 0.9443162146566647.\u001b[0m\n"
     ]
    },
    {
     "name": "stdout",
     "output_type": "stream",
     "text": [
      "N_rows:  78601\n"
     ]
    },
    {
     "name": "stderr",
     "output_type": "stream",
     "text": [
      "\u001b[32m[I 2022-08-09 00:33:37,126]\u001b[0m Trial 15 finished with value: 0.8196337601542063 and parameters: {'sampler': None, 'classifier': 'xgboost', 'learning_rate': 0.01, 'max_depth': 20, 'n_estimators': 500}. Best is trial 13 with value: 0.9443162146566647.\u001b[0m\n"
     ]
    },
    {
     "name": "stdout",
     "output_type": "stream",
     "text": [
      "N_rows:  78601\n"
     ]
    },
    {
     "name": "stderr",
     "output_type": "stream",
     "text": [
      "\u001b[32m[I 2022-08-09 00:33:40,025]\u001b[0m Trial 16 finished with value: 0.853753932488734 and parameters: {'sampler': None, 'classifier': 'logreg', 'C': 1.0}. Best is trial 13 with value: 0.9443162146566647.\u001b[0m\n"
     ]
    },
    {
     "name": "stdout",
     "output_type": "stream",
     "text": [
      "N_rows:  78601\n"
     ]
    },
    {
     "name": "stderr",
     "output_type": "stream",
     "text": [
      "\u001b[32m[I 2022-08-09 00:33:41,076]\u001b[0m Trial 17 finished with value: 0.9417052574230454 and parameters: {'sampler': None, 'classifier': 'logreg', 'C': 0.01}. Best is trial 13 with value: 0.9443162146566647.\u001b[0m\n"
     ]
    },
    {
     "name": "stdout",
     "output_type": "stream",
     "text": [
      "N_rows:  78601\n"
     ]
    },
    {
     "name": "stderr",
     "output_type": "stream",
     "text": [
      "\u001b[32m[I 2022-08-09 00:33:52,748]\u001b[0m Trial 18 finished with value: 0.8350316006707081 and parameters: {'sampler': None, 'classifier': 'lgbm', 'learning_rate': 0.001, 'max_depth': 3, 'n_estimators': 1000}. Best is trial 13 with value: 0.9443162146566647.\u001b[0m\n"
     ]
    },
    {
     "name": "stdout",
     "output_type": "stream",
     "text": [
      "N_rows:  78601\n"
     ]
    },
    {
     "name": "stderr",
     "output_type": "stream",
     "text": [
      "\u001b[32m[I 2022-08-09 00:37:10,147]\u001b[0m Trial 19 finished with value: 0.8331457060147958 and parameters: {'sampler': None, 'classifier': 'xgboost', 'learning_rate': 0.1, 'max_depth': 15, 'n_estimators': 2000}. Best is trial 13 with value: 0.9443162146566647.\u001b[0m\n"
     ]
    },
    {
     "name": "stdout",
     "output_type": "stream",
     "text": [
      "N_rows:  78601\n"
     ]
    },
    {
     "name": "stderr",
     "output_type": "stream",
     "text": [
      "\u001b[32m[I 2022-08-09 00:37:11,723]\u001b[0m Trial 20 finished with value: 0.9407535231521427 and parameters: {'sampler': None, 'classifier': 'logreg', 'C': 0.01}. Best is trial 13 with value: 0.9443162146566647.\u001b[0m\n"
     ]
    },
    {
     "name": "stdout",
     "output_type": "stream",
     "text": [
      "N_rows:  78601\n"
     ]
    },
    {
     "name": "stderr",
     "output_type": "stream",
     "text": [
      "\u001b[32m[I 2022-08-09 00:37:13,041]\u001b[0m Trial 21 finished with value: 0.9415375621163402 and parameters: {'sampler': None, 'classifier': 'logreg', 'C': 0.01}. Best is trial 13 with value: 0.9443162146566647.\u001b[0m\n"
     ]
    },
    {
     "name": "stdout",
     "output_type": "stream",
     "text": [
      "N_rows:  78601\n"
     ]
    },
    {
     "name": "stderr",
     "output_type": "stream",
     "text": [
      "\u001b[32m[I 2022-08-09 00:37:14,099]\u001b[0m Trial 22 finished with value: 0.9420908259676928 and parameters: {'sampler': None, 'classifier': 'logreg', 'C': 0.01}. Best is trial 13 with value: 0.9443162146566647.\u001b[0m\n"
     ]
    },
    {
     "name": "stdout",
     "output_type": "stream",
     "text": [
      "N_rows:  78601\n"
     ]
    },
    {
     "name": "stderr",
     "output_type": "stream",
     "text": [
      "\u001b[32m[I 2022-08-09 00:37:15,161]\u001b[0m Trial 23 finished with value: 0.9406923950056754 and parameters: {'sampler': None, 'classifier': 'logreg', 'C': 0.01}. Best is trial 13 with value: 0.9443162146566647.\u001b[0m\n"
     ]
    },
    {
     "name": "stdout",
     "output_type": "stream",
     "text": [
      "N_rows:  78601\n"
     ]
    },
    {
     "name": "stderr",
     "output_type": "stream",
     "text": [
      "\u001b[32m[I 2022-08-09 00:37:16,207]\u001b[0m Trial 24 finished with value: 0.942916296953564 and parameters: {'sampler': None, 'classifier': 'logreg', 'C': 0.01}. Best is trial 13 with value: 0.9443162146566647.\u001b[0m\n"
     ]
    },
    {
     "name": "stdout",
     "output_type": "stream",
     "text": [
      "N_rows:  78601\n"
     ]
    },
    {
     "name": "stderr",
     "output_type": "stream",
     "text": [
      "\u001b[32m[I 2022-08-09 00:37:19,367]\u001b[0m Trial 25 finished with value: 0.8540926771520378 and parameters: {'sampler': None, 'classifier': 'logreg', 'C': 1.0}. Best is trial 13 with value: 0.9443162146566647.\u001b[0m\n"
     ]
    },
    {
     "name": "stdout",
     "output_type": "stream",
     "text": [
      "N_rows:  78601\n"
     ]
    },
    {
     "name": "stderr",
     "output_type": "stream",
     "text": [
      "\u001b[32m[I 2022-08-09 00:37:21,066]\u001b[0m Trial 26 finished with value: 0.8672033265806589 and parameters: {'sampler': None, 'classifier': 'logreg', 'C': 0.1}. Best is trial 13 with value: 0.9443162146566647.\u001b[0m\n"
     ]
    },
    {
     "name": "stdout",
     "output_type": "stream",
     "text": [
      "N_rows:  78601\n"
     ]
    },
    {
     "name": "stderr",
     "output_type": "stream",
     "text": [
      "\u001b[32m[I 2022-08-09 00:37:26,084]\u001b[0m Trial 27 finished with value: 0.8248511704937111 and parameters: {'sampler': None, 'classifier': 'lgbm', 'learning_rate': 0.01, 'max_depth': 7, 'n_estimators': 200}. Best is trial 13 with value: 0.9443162146566647.\u001b[0m\n"
     ]
    },
    {
     "name": "stdout",
     "output_type": "stream",
     "text": [
      "N_rows:  78601\n"
     ]
    },
    {
     "name": "stderr",
     "output_type": "stream",
     "text": [
      "\u001b[32m[I 2022-08-09 00:37:59,879]\u001b[0m Trial 28 finished with value: 0.7248169164362966 and parameters: {'sampler': None, 'classifier': 'xgboost', 'learning_rate': 0.001, 'max_depth': 8, 'n_estimators': 500}. Best is trial 13 with value: 0.9443162146566647.\u001b[0m\n"
     ]
    },
    {
     "name": "stdout",
     "output_type": "stream",
     "text": [
      "N_rows:  78601\n"
     ]
    },
    {
     "name": "stderr",
     "output_type": "stream",
     "text": [
      "\u001b[32m[I 2022-08-09 00:38:00,970]\u001b[0m Trial 29 finished with value: 0.94344092389695 and parameters: {'sampler': None, 'classifier': 'logreg', 'C': 0.01}. Best is trial 13 with value: 0.9443162146566647.\u001b[0m\n"
     ]
    },
    {
     "name": "stdout",
     "output_type": "stream",
     "text": [
      "N_rows:  78601\n"
     ]
    },
    {
     "name": "stderr",
     "output_type": "stream",
     "text": [
      "\u001b[32m[I 2022-08-09 00:39:18,252]\u001b[0m Trial 30 finished with value: 0.8225968292193457 and parameters: {'sampler': None, 'classifier': 'lgbm', 'learning_rate': 0.0001, 'max_depth': 16, 'n_estimators': 4000}. Best is trial 13 with value: 0.9443162146566647.\u001b[0m\n"
     ]
    },
    {
     "name": "stdout",
     "output_type": "stream",
     "text": [
      "N_rows:  78601\n"
     ]
    },
    {
     "name": "stderr",
     "output_type": "stream",
     "text": [
      "\u001b[32m[I 2022-08-09 00:39:19,319]\u001b[0m Trial 31 finished with value: 0.9402943626770341 and parameters: {'sampler': None, 'classifier': 'logreg', 'C': 0.01}. Best is trial 13 with value: 0.9443162146566647.\u001b[0m\n"
     ]
    },
    {
     "name": "stdout",
     "output_type": "stream",
     "text": [
      "N_rows:  78601\n"
     ]
    },
    {
     "name": "stderr",
     "output_type": "stream",
     "text": [
      "\u001b[32m[I 2022-08-09 00:39:20,390]\u001b[0m Trial 32 finished with value: 0.9405131096701438 and parameters: {'sampler': None, 'classifier': 'logreg', 'C': 0.01}. Best is trial 13 with value: 0.9443162146566647.\u001b[0m\n"
     ]
    },
    {
     "name": "stdout",
     "output_type": "stream",
     "text": [
      "N_rows:  78601\n"
     ]
    },
    {
     "name": "stderr",
     "output_type": "stream",
     "text": [
      "\u001b[32m[I 2022-08-09 00:39:21,494]\u001b[0m Trial 33 finished with value: 0.9408497639544571 and parameters: {'sampler': None, 'classifier': 'logreg', 'C': 0.01}. Best is trial 13 with value: 0.9443162146566647.\u001b[0m\n"
     ]
    },
    {
     "name": "stdout",
     "output_type": "stream",
     "text": [
      "N_rows:  78601\n"
     ]
    },
    {
     "name": "stderr",
     "output_type": "stream",
     "text": [
      "\u001b[32m[I 2022-08-09 00:39:22,537]\u001b[0m Trial 34 finished with value: 0.9415024630541872 and parameters: {'sampler': None, 'classifier': 'logreg', 'C': 0.01}. Best is trial 13 with value: 0.9443162146566647.\u001b[0m\n"
     ]
    },
    {
     "name": "stdout",
     "output_type": "stream",
     "text": [
      "N_rows:  78601\n"
     ]
    },
    {
     "name": "stderr",
     "output_type": "stream",
     "text": [
      "\u001b[32m[I 2022-08-09 00:39:23,572]\u001b[0m Trial 35 finished with value: 0.9436319317489336 and parameters: {'sampler': None, 'classifier': 'logreg', 'C': 0.01}. Best is trial 13 with value: 0.9443162146566647.\u001b[0m\n"
     ]
    },
    {
     "name": "stdout",
     "output_type": "stream",
     "text": [
      "N_rows:  78601\n"
     ]
    },
    {
     "name": "stderr",
     "output_type": "stream",
     "text": [
      "\u001b[32m[I 2022-08-09 00:39:30,225]\u001b[0m Trial 36 finished with value: 0.8267213040933039 and parameters: {'sampler': None, 'classifier': 'lgbm', 'learning_rate': 0.001, 'max_depth': 3, 'n_estimators': 500}. Best is trial 13 with value: 0.9443162146566647.\u001b[0m\n"
     ]
    },
    {
     "name": "stdout",
     "output_type": "stream",
     "text": [
      "N_rows:  78601\n"
     ]
    },
    {
     "name": "stderr",
     "output_type": "stream",
     "text": [
      "\u001b[32m[I 2022-08-09 00:39:31,394]\u001b[0m Trial 37 finished with value: 0.9454374412041392 and parameters: {'sampler': None, 'classifier': 'logreg', 'C': 0.01}. Best is trial 37 with value: 0.9454374412041392.\u001b[0m\n"
     ]
    },
    {
     "name": "stdout",
     "output_type": "stream",
     "text": [
      "N_rows:  78601\n"
     ]
    },
    {
     "name": "stderr",
     "output_type": "stream",
     "text": [
      "\u001b[32m[I 2022-08-09 00:39:32,690]\u001b[0m Trial 38 finished with value: 0.8672359836630775 and parameters: {'sampler': None, 'classifier': 'logreg', 'C': 0.1}. Best is trial 37 with value: 0.9454374412041392.\u001b[0m\n"
     ]
    },
    {
     "name": "stdout",
     "output_type": "stream",
     "text": [
      "N_rows:  78601\n"
     ]
    },
    {
     "name": "stderr",
     "output_type": "stream",
     "text": [
      "\u001b[32m[I 2022-08-09 00:42:35,270]\u001b[0m Trial 39 finished with value: 0.8357137060780654 and parameters: {'sampler': None, 'classifier': 'xgboost', 'learning_rate': 0.1, 'max_depth': 14, 'n_estimators': 2000}. Best is trial 37 with value: 0.9454374412041392.\u001b[0m\n"
     ]
    },
    {
     "name": "stdout",
     "output_type": "stream",
     "text": [
      "N_rows:  78601\n"
     ]
    },
    {
     "name": "stderr",
     "output_type": "stream",
     "text": [
      "\u001b[32m[I 2022-08-09 00:42:36,723]\u001b[0m Trial 40 finished with value: 0.9452054794520548 and parameters: {'sampler': None, 'classifier': 'logreg', 'C': 0.01}. Best is trial 37 with value: 0.9454374412041392.\u001b[0m\n"
     ]
    },
    {
     "name": "stdout",
     "output_type": "stream",
     "text": [
      "N_rows:  78601\n"
     ]
    },
    {
     "name": "stderr",
     "output_type": "stream",
     "text": [
      "\u001b[32m[I 2022-08-09 00:42:37,983]\u001b[0m Trial 41 finished with value: 0.9420330439652759 and parameters: {'sampler': None, 'classifier': 'logreg', 'C': 0.01}. Best is trial 37 with value: 0.9454374412041392.\u001b[0m\n"
     ]
    },
    {
     "name": "stdout",
     "output_type": "stream",
     "text": [
      "N_rows:  78601\n"
     ]
    },
    {
     "name": "stderr",
     "output_type": "stream",
     "text": [
      "\u001b[32m[I 2022-08-09 00:42:39,300]\u001b[0m Trial 42 finished with value: 0.9424985405720957 and parameters: {'sampler': None, 'classifier': 'logreg', 'C': 0.01}. Best is trial 37 with value: 0.9454374412041392.\u001b[0m\n"
     ]
    },
    {
     "name": "stdout",
     "output_type": "stream",
     "text": [
      "N_rows:  78601\n"
     ]
    },
    {
     "name": "stderr",
     "output_type": "stream",
     "text": [
      "\u001b[32m[I 2022-08-09 00:42:40,622]\u001b[0m Trial 43 finished with value: 0.9434017595307918 and parameters: {'sampler': None, 'classifier': 'logreg', 'C': 0.01}. Best is trial 37 with value: 0.9454374412041392.\u001b[0m\n"
     ]
    },
    {
     "name": "stdout",
     "output_type": "stream",
     "text": [
      "N_rows:  78601\n"
     ]
    },
    {
     "name": "stderr",
     "output_type": "stream",
     "text": [
      "\u001b[32m[I 2022-08-09 00:42:41,911]\u001b[0m Trial 44 finished with value: 0.9418364334219073 and parameters: {'sampler': None, 'classifier': 'logreg', 'C': 0.01}. Best is trial 37 with value: 0.9454374412041392.\u001b[0m\n"
     ]
    },
    {
     "name": "stdout",
     "output_type": "stream",
     "text": [
      "N_rows:  78601\n"
     ]
    },
    {
     "name": "stderr",
     "output_type": "stream",
     "text": [
      "\u001b[32m[I 2022-08-09 00:42:45,521]\u001b[0m Trial 45 finished with value: 0.8540531335149864 and parameters: {'sampler': None, 'classifier': 'logreg', 'C': 1.0}. Best is trial 37 with value: 0.9454374412041392.\u001b[0m\n"
     ]
    },
    {
     "name": "stdout",
     "output_type": "stream",
     "text": [
      "N_rows:  78601\n"
     ]
    },
    {
     "name": "stderr",
     "output_type": "stream",
     "text": [
      "\u001b[32m[I 2022-08-09 00:42:47,198]\u001b[0m Trial 46 finished with value: 0.8652998353428587 and parameters: {'sampler': None, 'classifier': 'logreg', 'C': 0.1}. Best is trial 37 with value: 0.9454374412041392.\u001b[0m\n"
     ]
    },
    {
     "name": "stdout",
     "output_type": "stream",
     "text": [
      "N_rows:  78601\n"
     ]
    },
    {
     "name": "stderr",
     "output_type": "stream",
     "text": [
      "\u001b[32m[I 2022-08-09 00:42:48,476]\u001b[0m Trial 47 finished with value: 0.9413624604771486 and parameters: {'sampler': None, 'classifier': 'logreg', 'C': 0.01}. Best is trial 37 with value: 0.9454374412041392.\u001b[0m\n"
     ]
    },
    {
     "name": "stdout",
     "output_type": "stream",
     "text": [
      "N_rows:  78601\n"
     ]
    },
    {
     "name": "stderr",
     "output_type": "stream",
     "text": [
      "\u001b[32m[I 2022-08-09 00:42:54,784]\u001b[0m Trial 48 finished with value: 0.8337718748694817 and parameters: {'sampler': None, 'classifier': 'lgbm', 'learning_rate': 0.2, 'max_depth': 20, 'n_estimators': 200}. Best is trial 37 with value: 0.9454374412041392.\u001b[0m\n"
     ]
    },
    {
     "name": "stdout",
     "output_type": "stream",
     "text": [
      "N_rows:  78601\n"
     ]
    },
    {
     "name": "stderr",
     "output_type": "stream",
     "text": [
      "\u001b[32m[I 2022-08-09 00:44:05,082]\u001b[0m Trial 49 finished with value: 0.820997154983443 and parameters: {'sampler': None, 'classifier': 'xgboost', 'learning_rate': 0.01, 'max_depth': 9, 'n_estimators': 1000}. Best is trial 37 with value: 0.9454374412041392.\u001b[0m\n"
     ]
    },
    {
     "name": "stdout",
     "output_type": "stream",
     "text": [
      "N_rows:  78601\n"
     ]
    },
    {
     "name": "stderr",
     "output_type": "stream",
     "text": [
      "\u001b[32m[I 2022-08-09 00:44:06,185]\u001b[0m Trial 50 finished with value: 0.9403069926094372 and parameters: {'sampler': None, 'classifier': 'logreg', 'C': 0.01}. Best is trial 37 with value: 0.9454374412041392.\u001b[0m\n"
     ]
    },
    {
     "name": "stdout",
     "output_type": "stream",
     "text": [
      "N_rows:  78601\n"
     ]
    },
    {
     "name": "stderr",
     "output_type": "stream",
     "text": [
      "\u001b[32m[I 2022-08-09 00:44:07,260]\u001b[0m Trial 51 finished with value: 0.9422795194843246 and parameters: {'sampler': None, 'classifier': 'logreg', 'C': 0.01}. Best is trial 37 with value: 0.9454374412041392.\u001b[0m\n"
     ]
    },
    {
     "name": "stdout",
     "output_type": "stream",
     "text": [
      "N_rows:  78601\n"
     ]
    },
    {
     "name": "stderr",
     "output_type": "stream",
     "text": [
      "\u001b[32m[I 2022-08-09 00:44:08,325]\u001b[0m Trial 52 finished with value: 0.9413118527042578 and parameters: {'sampler': None, 'classifier': 'logreg', 'C': 0.01}. Best is trial 37 with value: 0.9454374412041392.\u001b[0m\n"
     ]
    },
    {
     "name": "stdout",
     "output_type": "stream",
     "text": [
      "N_rows:  78601\n"
     ]
    },
    {
     "name": "stderr",
     "output_type": "stream",
     "text": [
      "\u001b[32m[I 2022-08-09 00:44:09,364]\u001b[0m Trial 53 finished with value: 0.9424985405720957 and parameters: {'sampler': None, 'classifier': 'logreg', 'C': 0.01}. Best is trial 37 with value: 0.9454374412041392.\u001b[0m\n"
     ]
    },
    {
     "name": "stdout",
     "output_type": "stream",
     "text": [
      "N_rows:  78601\n"
     ]
    },
    {
     "name": "stderr",
     "output_type": "stream",
     "text": [
      "\u001b[32m[I 2022-08-09 00:44:10,513]\u001b[0m Trial 54 finished with value: 0.9408181026979983 and parameters: {'sampler': None, 'classifier': 'logreg', 'C': 0.01}. Best is trial 37 with value: 0.9454374412041392.\u001b[0m\n"
     ]
    },
    {
     "name": "stdout",
     "output_type": "stream",
     "text": [
      "N_rows:  78601\n"
     ]
    },
    {
     "name": "stderr",
     "output_type": "stream",
     "text": [
      "\u001b[32m[I 2022-08-09 00:44:11,560]\u001b[0m Trial 55 finished with value: 0.9415527769700495 and parameters: {'sampler': None, 'classifier': 'logreg', 'C': 0.01}. Best is trial 37 with value: 0.9454374412041392.\u001b[0m\n"
     ]
    },
    {
     "name": "stdout",
     "output_type": "stream",
     "text": [
      "N_rows:  78601\n"
     ]
    },
    {
     "name": "stderr",
     "output_type": "stream",
     "text": [
      "\u001b[32m[I 2022-08-09 00:44:15,537]\u001b[0m Trial 56 finished with value: 0.8552990287953655 and parameters: {'sampler': None, 'classifier': 'logreg', 'C': 1.0}. Best is trial 37 with value: 0.9454374412041392.\u001b[0m\n"
     ]
    },
    {
     "name": "stdout",
     "output_type": "stream",
     "text": [
      "N_rows:  78601\n"
     ]
    },
    {
     "name": "stderr",
     "output_type": "stream",
     "text": [
      "\u001b[32m[I 2022-08-09 00:44:16,817]\u001b[0m Trial 57 finished with value: 0.8649472080684982 and parameters: {'sampler': None, 'classifier': 'logreg', 'C': 0.1}. Best is trial 37 with value: 0.9454374412041392.\u001b[0m\n"
     ]
    },
    {
     "name": "stdout",
     "output_type": "stream",
     "text": [
      "N_rows:  78601\n"
     ]
    },
    {
     "name": "stderr",
     "output_type": "stream",
     "text": [
      "\u001b[32m[I 2022-08-09 00:44:18,104]\u001b[0m Trial 58 finished with value: 0.9416058394160584 and parameters: {'sampler': None, 'classifier': 'logreg', 'C': 0.01}. Best is trial 37 with value: 0.9454374412041392.\u001b[0m\n"
     ]
    },
    {
     "name": "stdout",
     "output_type": "stream",
     "text": [
      "N_rows:  78601\n"
     ]
    },
    {
     "name": "stderr",
     "output_type": "stream",
     "text": [
      "\u001b[32m[I 2022-08-09 00:44:40,452]\u001b[0m Trial 59 finished with value: 0.7032568223594288 and parameters: {'sampler': None, 'classifier': 'xgboost', 'learning_rate': 0.001, 'max_depth': 6, 'n_estimators': 500}. Best is trial 37 with value: 0.9454374412041392.\u001b[0m\n"
     ]
    },
    {
     "name": "stdout",
     "output_type": "stream",
     "text": [
      "N_rows:  78601\n"
     ]
    },
    {
     "name": "stderr",
     "output_type": "stream",
     "text": [
      "\u001b[32m[I 2022-08-09 00:44:41,774]\u001b[0m Trial 60 finished with value: 0.943266646760227 and parameters: {'sampler': None, 'classifier': 'logreg', 'C': 0.01}. Best is trial 37 with value: 0.9454374412041392.\u001b[0m\n"
     ]
    },
    {
     "name": "stdout",
     "output_type": "stream",
     "text": [
      "N_rows:  78601\n"
     ]
    },
    {
     "name": "stderr",
     "output_type": "stream",
     "text": [
      "\u001b[32m[I 2022-08-09 00:44:43,085]\u001b[0m Trial 61 finished with value: 0.9448961156278229 and parameters: {'sampler': None, 'classifier': 'logreg', 'C': 0.01}. Best is trial 37 with value: 0.9454374412041392.\u001b[0m\n"
     ]
    },
    {
     "name": "stdout",
     "output_type": "stream",
     "text": [
      "N_rows:  78601\n"
     ]
    },
    {
     "name": "stderr",
     "output_type": "stream",
     "text": [
      "\u001b[32m[I 2022-08-09 00:44:44,367]\u001b[0m Trial 62 finished with value: 0.9432054713053821 and parameters: {'sampler': None, 'classifier': 'logreg', 'C': 0.01}. Best is trial 37 with value: 0.9454374412041392.\u001b[0m\n"
     ]
    },
    {
     "name": "stdout",
     "output_type": "stream",
     "text": [
      "N_rows:  78601\n"
     ]
    },
    {
     "name": "stderr",
     "output_type": "stream",
     "text": [
      "\u001b[32m[I 2022-08-09 00:44:45,729]\u001b[0m Trial 63 finished with value: 0.9411764705882353 and parameters: {'sampler': None, 'classifier': 'logreg', 'C': 0.01}. Best is trial 37 with value: 0.9454374412041392.\u001b[0m\n"
     ]
    },
    {
     "name": "stdout",
     "output_type": "stream",
     "text": [
      "N_rows:  78601\n"
     ]
    },
    {
     "name": "stderr",
     "output_type": "stream",
     "text": [
      "\u001b[32m[I 2022-08-09 00:44:47,116]\u001b[0m Trial 64 finished with value: 0.9422483880011214 and parameters: {'sampler': None, 'classifier': 'logreg', 'C': 0.01}. Best is trial 37 with value: 0.9454374412041392.\u001b[0m\n"
     ]
    },
    {
     "name": "stdout",
     "output_type": "stream",
     "text": [
      "N_rows:  78601\n"
     ]
    },
    {
     "name": "stderr",
     "output_type": "stream",
     "text": [
      "\u001b[32m[I 2022-08-09 00:44:48,398]\u001b[0m Trial 65 finished with value: 0.9403953968722337 and parameters: {'sampler': None, 'classifier': 'logreg', 'C': 0.01}. Best is trial 37 with value: 0.9454374412041392.\u001b[0m\n"
     ]
    },
    {
     "name": "stdout",
     "output_type": "stream",
     "text": [
      "N_rows:  78601\n"
     ]
    },
    {
     "name": "stderr",
     "output_type": "stream",
     "text": [
      "\u001b[32m[I 2022-08-09 00:44:54,745]\u001b[0m Trial 66 finished with value: 0.8323093755260057 and parameters: {'sampler': None, 'classifier': 'lgbm', 'learning_rate': 0.01, 'max_depth': 17, 'n_estimators': 200}. Best is trial 37 with value: 0.9454374412041392.\u001b[0m\n"
     ]
    },
    {
     "name": "stdout",
     "output_type": "stream",
     "text": [
      "N_rows:  78601\n"
     ]
    },
    {
     "name": "stderr",
     "output_type": "stream",
     "text": [
      "\u001b[32m[I 2022-08-09 00:44:56,060]\u001b[0m Trial 67 finished with value: 0.9399031614924523 and parameters: {'sampler': None, 'classifier': 'logreg', 'C': 0.01}. Best is trial 37 with value: 0.9454374412041392.\u001b[0m\n"
     ]
    },
    {
     "name": "stdout",
     "output_type": "stream",
     "text": [
      "N_rows:  78601\n"
     ]
    },
    {
     "name": "stderr",
     "output_type": "stream",
     "text": [
      "\u001b[32m[I 2022-08-09 00:44:57,358]\u001b[0m Trial 68 finished with value: 0.9421440726035167 and parameters: {'sampler': None, 'classifier': 'logreg', 'C': 0.01}. Best is trial 37 with value: 0.9454374412041392.\u001b[0m\n"
     ]
    },
    {
     "name": "stdout",
     "output_type": "stream",
     "text": [
      "N_rows:  78601\n"
     ]
    },
    {
     "name": "stderr",
     "output_type": "stream",
     "text": [
      "\u001b[32m[I 2022-08-09 00:45:00,683]\u001b[0m Trial 69 finished with value: 0.8538066324147594 and parameters: {'sampler': None, 'classifier': 'logreg', 'C': 1.0}. Best is trial 37 with value: 0.9454374412041392.\u001b[0m\n"
     ]
    },
    {
     "name": "stdout",
     "output_type": "stream",
     "text": [
      "N_rows:  78601\n"
     ]
    },
    {
     "name": "stderr",
     "output_type": "stream",
     "text": [
      "\u001b[32m[I 2022-08-09 00:45:01,946]\u001b[0m Trial 70 finished with value: 0.9419460343417825 and parameters: {'sampler': None, 'classifier': 'logreg', 'C': 0.01}. Best is trial 37 with value: 0.9454374412041392.\u001b[0m\n"
     ]
    },
    {
     "name": "stdout",
     "output_type": "stream",
     "text": [
      "N_rows:  78601\n"
     ]
    },
    {
     "name": "stderr",
     "output_type": "stream",
     "text": [
      "\u001b[32m[I 2022-08-09 00:45:03,240]\u001b[0m Trial 71 finished with value: 0.9408969408969409 and parameters: {'sampler': None, 'classifier': 'logreg', 'C': 0.01}. Best is trial 37 with value: 0.9454374412041392.\u001b[0m\n"
     ]
    },
    {
     "name": "stdout",
     "output_type": "stream",
     "text": [
      "N_rows:  78601\n"
     ]
    },
    {
     "name": "stderr",
     "output_type": "stream",
     "text": [
      "\u001b[32m[I 2022-08-09 00:45:04,544]\u001b[0m Trial 72 finished with value: 0.9421860885275519 and parameters: {'sampler': None, 'classifier': 'logreg', 'C': 0.01}. Best is trial 37 with value: 0.9454374412041392.\u001b[0m\n"
     ]
    },
    {
     "name": "stdout",
     "output_type": "stream",
     "text": [
      "N_rows:  78601\n"
     ]
    },
    {
     "name": "stderr",
     "output_type": "stream",
     "text": [
      "\u001b[32m[I 2022-08-09 00:45:05,810]\u001b[0m Trial 73 finished with value: 0.9413333333333334 and parameters: {'sampler': None, 'classifier': 'logreg', 'C': 0.01}. Best is trial 37 with value: 0.9454374412041392.\u001b[0m\n"
     ]
    },
    {
     "name": "stdout",
     "output_type": "stream",
     "text": [
      "N_rows:  78601\n"
     ]
    },
    {
     "name": "stderr",
     "output_type": "stream",
     "text": [
      "\u001b[32m[I 2022-08-09 00:45:07,076]\u001b[0m Trial 74 finished with value: 0.9398907103825137 and parameters: {'sampler': None, 'classifier': 'logreg', 'C': 0.01}. Best is trial 37 with value: 0.9454374412041392.\u001b[0m\n"
     ]
    },
    {
     "name": "stdout",
     "output_type": "stream",
     "text": [
      "N_rows:  78601\n"
     ]
    },
    {
     "name": "stderr",
     "output_type": "stream",
     "text": [
      "\u001b[32m[I 2022-08-09 00:45:08,383]\u001b[0m Trial 75 finished with value: 0.9394796380090498 and parameters: {'sampler': None, 'classifier': 'logreg', 'C': 0.01}. Best is trial 37 with value: 0.9454374412041392.\u001b[0m\n"
     ]
    },
    {
     "name": "stdout",
     "output_type": "stream",
     "text": [
      "N_rows:  78601\n"
     ]
    },
    {
     "name": "stderr",
     "output_type": "stream",
     "text": [
      "\u001b[32m[I 2022-08-09 00:46:39,169]\u001b[0m Trial 76 finished with value: 0.8296168088874577 and parameters: {'sampler': None, 'classifier': 'xgboost', 'learning_rate': 0.2, 'max_depth': 14, 'n_estimators': 1000}. Best is trial 37 with value: 0.9454374412041392.\u001b[0m\n"
     ]
    },
    {
     "name": "stdout",
     "output_type": "stream",
     "text": [
      "N_rows:  78601\n"
     ]
    },
    {
     "name": "stderr",
     "output_type": "stream",
     "text": [
      "\u001b[32m[I 2022-08-09 00:47:14,187]\u001b[0m Trial 77 finished with value: 0.8358872761088424 and parameters: {'sampler': None, 'classifier': 'lgbm', 'learning_rate': 0.1, 'max_depth': 11, 'n_estimators': 2000}. Best is trial 37 with value: 0.9454374412041392.\u001b[0m\n"
     ]
    },
    {
     "name": "stdout",
     "output_type": "stream",
     "text": [
      "N_rows:  78601\n"
     ]
    },
    {
     "name": "stderr",
     "output_type": "stream",
     "text": [
      "\u001b[32m[I 2022-08-09 00:47:15,590]\u001b[0m Trial 78 finished with value: 0.9445887445887445 and parameters: {'sampler': None, 'classifier': 'logreg', 'C': 0.01}. Best is trial 37 with value: 0.9454374412041392.\u001b[0m\n"
     ]
    },
    {
     "name": "stdout",
     "output_type": "stream",
     "text": [
      "N_rows:  78601\n"
     ]
    },
    {
     "name": "stderr",
     "output_type": "stream",
     "text": [
      "\u001b[32m[I 2022-08-09 00:47:16,877]\u001b[0m Trial 79 finished with value: 0.9442896935933147 and parameters: {'sampler': None, 'classifier': 'logreg', 'C': 0.01}. Best is trial 37 with value: 0.9454374412041392.\u001b[0m\n"
     ]
    },
    {
     "name": "stdout",
     "output_type": "stream",
     "text": [
      "N_rows:  78601\n"
     ]
    },
    {
     "name": "stderr",
     "output_type": "stream",
     "text": [
      "\u001b[32m[I 2022-08-09 00:47:18,634]\u001b[0m Trial 80 finished with value: 0.8692530275425999 and parameters: {'sampler': None, 'classifier': 'logreg', 'C': 0.1}. Best is trial 37 with value: 0.9454374412041392.\u001b[0m\n"
     ]
    },
    {
     "name": "stdout",
     "output_type": "stream",
     "text": [
      "N_rows:  78601\n"
     ]
    },
    {
     "name": "stderr",
     "output_type": "stream",
     "text": [
      "\u001b[32m[I 2022-08-09 00:47:20,031]\u001b[0m Trial 81 finished with value: 0.9415919587068732 and parameters: {'sampler': None, 'classifier': 'logreg', 'C': 0.01}. Best is trial 37 with value: 0.9454374412041392.\u001b[0m\n"
     ]
    },
    {
     "name": "stdout",
     "output_type": "stream",
     "text": [
      "N_rows:  78601\n"
     ]
    },
    {
     "name": "stderr",
     "output_type": "stream",
     "text": [
      "\u001b[32m[I 2022-08-09 00:47:21,275]\u001b[0m Trial 82 finished with value: 0.9408647140864714 and parameters: {'sampler': None, 'classifier': 'logreg', 'C': 0.01}. Best is trial 37 with value: 0.9454374412041392.\u001b[0m\n"
     ]
    },
    {
     "name": "stdout",
     "output_type": "stream",
     "text": [
      "N_rows:  78601\n"
     ]
    },
    {
     "name": "stderr",
     "output_type": "stream",
     "text": [
      "\u001b[32m[I 2022-08-09 00:47:22,571]\u001b[0m Trial 83 finished with value: 0.9416101445001475 and parameters: {'sampler': None, 'classifier': 'logreg', 'C': 0.01}. Best is trial 37 with value: 0.9454374412041392.\u001b[0m\n"
     ]
    },
    {
     "name": "stdout",
     "output_type": "stream",
     "text": [
      "N_rows:  78601\n"
     ]
    },
    {
     "name": "stderr",
     "output_type": "stream",
     "text": [
      "\u001b[32m[I 2022-08-09 00:47:23,898]\u001b[0m Trial 84 finished with value: 0.9425525614450696 and parameters: {'sampler': None, 'classifier': 'logreg', 'C': 0.01}. Best is trial 37 with value: 0.9454374412041392.\u001b[0m\n"
     ]
    },
    {
     "name": "stdout",
     "output_type": "stream",
     "text": [
      "N_rows:  78601\n"
     ]
    },
    {
     "name": "stderr",
     "output_type": "stream",
     "text": [
      "\u001b[32m[I 2022-08-09 00:47:25,257]\u001b[0m Trial 85 finished with value: 0.672664851426542 and parameters: {'sampler': 'ros', 'classifier': 'logreg', 'C': 0.01}. Best is trial 37 with value: 0.9454374412041392.\u001b[0m\n"
     ]
    },
    {
     "name": "stdout",
     "output_type": "stream",
     "text": [
      "N_rows:  78601\n"
     ]
    },
    {
     "name": "stderr",
     "output_type": "stream",
     "text": [
      "\u001b[32m[I 2022-08-09 00:47:26,599]\u001b[0m Trial 86 finished with value: 0.9409158050221565 and parameters: {'sampler': None, 'classifier': 'logreg', 'C': 0.01}. Best is trial 37 with value: 0.9454374412041392.\u001b[0m\n"
     ]
    },
    {
     "name": "stdout",
     "output_type": "stream",
     "text": [
      "N_rows:  78601\n"
     ]
    },
    {
     "name": "stderr",
     "output_type": "stream",
     "text": [
      "\u001b[32m[I 2022-08-09 00:47:27,831]\u001b[0m Trial 87 finished with value: 0.9424460431654677 and parameters: {'sampler': None, 'classifier': 'logreg', 'C': 0.01}. Best is trial 37 with value: 0.9454374412041392.\u001b[0m\n"
     ]
    },
    {
     "name": "stdout",
     "output_type": "stream",
     "text": [
      "N_rows:  78601\n"
     ]
    },
    {
     "name": "stderr",
     "output_type": "stream",
     "text": [
      "\u001b[32m[I 2022-08-09 00:47:31,892]\u001b[0m Trial 88 finished with value: 0.8512874630645842 and parameters: {'sampler': None, 'classifier': 'logreg', 'C': 1.0}. Best is trial 37 with value: 0.9454374412041392.\u001b[0m\n"
     ]
    },
    {
     "name": "stdout",
     "output_type": "stream",
     "text": [
      "N_rows:  78601\n"
     ]
    },
    {
     "name": "stderr",
     "output_type": "stream",
     "text": [
      "\u001b[32m[I 2022-08-09 01:02:40,144]\u001b[0m Trial 89 finished with value: 0.7698493931861383 and parameters: {'sampler': None, 'classifier': 'xgboost', 'learning_rate': 0.0001, 'max_depth': 18, 'n_estimators': 4000}. Best is trial 37 with value: 0.9454374412041392.\u001b[0m\n"
     ]
    },
    {
     "name": "stdout",
     "output_type": "stream",
     "text": [
      "N_rows:  78601\n"
     ]
    },
    {
     "name": "stderr",
     "output_type": "stream",
     "text": [
      "\u001b[32m[I 2022-08-09 01:02:41,740]\u001b[0m Trial 90 finished with value: 0.9409616555082166 and parameters: {'sampler': None, 'classifier': 'logreg', 'C': 0.01}. Best is trial 37 with value: 0.9454374412041392.\u001b[0m\n"
     ]
    },
    {
     "name": "stdout",
     "output_type": "stream",
     "text": [
      "N_rows:  78601\n"
     ]
    },
    {
     "name": "stderr",
     "output_type": "stream",
     "text": [
      "\u001b[32m[I 2022-08-09 01:02:42,789]\u001b[0m Trial 91 finished with value: 0.9440344403444034 and parameters: {'sampler': None, 'classifier': 'logreg', 'C': 0.01}. Best is trial 37 with value: 0.9454374412041392.\u001b[0m\n"
     ]
    },
    {
     "name": "stdout",
     "output_type": "stream",
     "text": [
      "N_rows:  78601\n"
     ]
    },
    {
     "name": "stderr",
     "output_type": "stream",
     "text": [
      "\u001b[32m[I 2022-08-09 01:02:43,866]\u001b[0m Trial 92 finished with value: 0.9426789426789427 and parameters: {'sampler': None, 'classifier': 'logreg', 'C': 0.01}. Best is trial 37 with value: 0.9454374412041392.\u001b[0m\n"
     ]
    },
    {
     "name": "stdout",
     "output_type": "stream",
     "text": [
      "N_rows:  78601\n"
     ]
    },
    {
     "name": "stderr",
     "output_type": "stream",
     "text": [
      "\u001b[32m[I 2022-08-09 01:02:45,024]\u001b[0m Trial 93 finished with value: 0.9405236198064884 and parameters: {'sampler': None, 'classifier': 'logreg', 'C': 0.01}. Best is trial 37 with value: 0.9454374412041392.\u001b[0m\n"
     ]
    },
    {
     "name": "stdout",
     "output_type": "stream",
     "text": [
      "N_rows:  78601\n"
     ]
    },
    {
     "name": "stderr",
     "output_type": "stream",
     "text": [
      "\u001b[32m[I 2022-08-09 01:02:46,106]\u001b[0m Trial 94 finished with value: 0.9419410745233969 and parameters: {'sampler': None, 'classifier': 'logreg', 'C': 0.01}. Best is trial 37 with value: 0.9454374412041392.\u001b[0m\n"
     ]
    },
    {
     "name": "stdout",
     "output_type": "stream",
     "text": [
      "N_rows:  78601\n"
     ]
    },
    {
     "name": "stderr",
     "output_type": "stream",
     "text": [
      "\u001b[32m[I 2022-08-09 01:02:47,167]\u001b[0m Trial 95 finished with value: 0.9413823272090989 and parameters: {'sampler': None, 'classifier': 'logreg', 'C': 0.01}. Best is trial 37 with value: 0.9454374412041392.\u001b[0m\n"
     ]
    },
    {
     "name": "stdout",
     "output_type": "stream",
     "text": [
      "N_rows:  78601\n"
     ]
    },
    {
     "name": "stderr",
     "output_type": "stream",
     "text": [
      "\u001b[32m[I 2022-08-09 01:02:54,629]\u001b[0m Trial 96 finished with value: 0.8265705100356243 and parameters: {'sampler': None, 'classifier': 'lgbm', 'learning_rate': 0.2, 'max_depth': 4, 'n_estimators': 500}. Best is trial 37 with value: 0.9454374412041392.\u001b[0m\n"
     ]
    },
    {
     "name": "stdout",
     "output_type": "stream",
     "text": [
      "N_rows:  78601\n"
     ]
    },
    {
     "name": "stderr",
     "output_type": "stream",
     "text": [
      "\u001b[32m[I 2022-08-09 01:02:55,726]\u001b[0m Trial 97 finished with value: 0.9443793911007026 and parameters: {'sampler': None, 'classifier': 'logreg', 'C': 0.01}. Best is trial 37 with value: 0.9454374412041392.\u001b[0m\n"
     ]
    },
    {
     "name": "stdout",
     "output_type": "stream",
     "text": [
      "N_rows:  78601\n"
     ]
    },
    {
     "name": "stderr",
     "output_type": "stream",
     "text": [
      "\u001b[32m[I 2022-08-09 01:02:57,218]\u001b[0m Trial 98 finished with value: 0.8666809904925605 and parameters: {'sampler': None, 'classifier': 'logreg', 'C': 0.1}. Best is trial 37 with value: 0.9454374412041392.\u001b[0m\n"
     ]
    },
    {
     "name": "stdout",
     "output_type": "stream",
     "text": [
      "N_rows:  78601\n"
     ]
    },
    {
     "name": "stderr",
     "output_type": "stream",
     "text": [
      "\u001b[32m[I 2022-08-09 01:02:58,258]\u001b[0m Trial 99 finished with value: 0.9427338129496403 and parameters: {'sampler': None, 'classifier': 'logreg', 'C': 0.01}. Best is trial 37 with value: 0.9454374412041392.\u001b[0m\n"
     ]
    },
    {
     "name": "stdout",
     "output_type": "stream",
     "text": [
      "N_rows:  78601\n"
     ]
    },
    {
     "name": "stderr",
     "output_type": "stream",
     "text": [
      "\u001b[32m[I 2022-08-09 01:02:59,290]\u001b[0m Trial 100 finished with value: 0.942652329749104 and parameters: {'sampler': None, 'classifier': 'logreg', 'C': 0.01}. Best is trial 37 with value: 0.9454374412041392.\u001b[0m\n"
     ]
    },
    {
     "name": "stdout",
     "output_type": "stream",
     "text": [
      "N_rows:  78601\n"
     ]
    },
    {
     "name": "stderr",
     "output_type": "stream",
     "text": [
      "\u001b[32m[I 2022-08-09 01:03:00,359]\u001b[0m Trial 101 finished with value: 0.941571720712825 and parameters: {'sampler': None, 'classifier': 'logreg', 'C': 0.01}. Best is trial 37 with value: 0.9454374412041392.\u001b[0m\n"
     ]
    },
    {
     "name": "stdout",
     "output_type": "stream",
     "text": [
      "N_rows:  78601\n"
     ]
    },
    {
     "name": "stderr",
     "output_type": "stream",
     "text": [
      "\u001b[32m[I 2022-08-09 01:03:01,426]\u001b[0m Trial 102 finished with value: 0.9387524696584815 and parameters: {'sampler': None, 'classifier': 'logreg', 'C': 0.01}. Best is trial 37 with value: 0.9454374412041392.\u001b[0m\n"
     ]
    },
    {
     "name": "stdout",
     "output_type": "stream",
     "text": [
      "N_rows:  78601\n"
     ]
    },
    {
     "name": "stderr",
     "output_type": "stream",
     "text": [
      "\u001b[32m[I 2022-08-09 01:03:02,579]\u001b[0m Trial 103 finished with value: 0.9418934240362812 and parameters: {'sampler': None, 'classifier': 'logreg', 'C': 0.01}. Best is trial 37 with value: 0.9454374412041392.\u001b[0m\n"
     ]
    },
    {
     "name": "stdout",
     "output_type": "stream",
     "text": [
      "N_rows:  78601\n"
     ]
    },
    {
     "name": "stderr",
     "output_type": "stream",
     "text": [
      "\u001b[32m[I 2022-08-09 01:03:03,624]\u001b[0m Trial 104 finished with value: 0.9397767332549941 and parameters: {'sampler': None, 'classifier': 'logreg', 'C': 0.01}. Best is trial 37 with value: 0.9454374412041392.\u001b[0m\n"
     ]
    },
    {
     "name": "stdout",
     "output_type": "stream",
     "text": [
      "N_rows:  78601\n"
     ]
    },
    {
     "name": "stderr",
     "output_type": "stream",
     "text": [
      "\u001b[32m[I 2022-08-09 01:03:04,700]\u001b[0m Trial 105 finished with value: 0.9417818288738606 and parameters: {'sampler': None, 'classifier': 'logreg', 'C': 0.01}. Best is trial 37 with value: 0.9454374412041392.\u001b[0m\n"
     ]
    },
    {
     "name": "stdout",
     "output_type": "stream",
     "text": [
      "N_rows:  78601\n"
     ]
    },
    {
     "name": "stderr",
     "output_type": "stream",
     "text": [
      "\u001b[32m[I 2022-08-09 01:03:05,785]\u001b[0m Trial 106 finished with value: 0.9404379562043795 and parameters: {'sampler': None, 'classifier': 'logreg', 'C': 0.01}. Best is trial 37 with value: 0.9454374412041392.\u001b[0m\n"
     ]
    },
    {
     "name": "stdout",
     "output_type": "stream",
     "text": [
      "N_rows:  78601\n"
     ]
    },
    {
     "name": "stderr",
     "output_type": "stream",
     "text": [
      "\u001b[32m[I 2022-08-09 01:03:07,072]\u001b[0m Trial 107 finished with value: 0.9412800939518496 and parameters: {'sampler': None, 'classifier': 'logreg', 'C': 0.01}. Best is trial 37 with value: 0.9454374412041392.\u001b[0m\n"
     ]
    },
    {
     "name": "stdout",
     "output_type": "stream",
     "text": [
      "N_rows:  78601\n"
     ]
    },
    {
     "name": "stderr",
     "output_type": "stream",
     "text": [
      "\u001b[32m[I 2022-08-09 01:03:10,399]\u001b[0m Trial 108 finished with value: 0.8518784297171802 and parameters: {'sampler': None, 'classifier': 'logreg', 'C': 1.0}. Best is trial 37 with value: 0.9454374412041392.\u001b[0m\n"
     ]
    },
    {
     "name": "stdout",
     "output_type": "stream",
     "text": [
      "N_rows:  78601\n"
     ]
    },
    {
     "name": "stderr",
     "output_type": "stream",
     "text": [
      "\u001b[32m[I 2022-08-09 01:13:09,594]\u001b[0m Trial 109 finished with value: 0.7555544632324027 and parameters: {'sampler': None, 'classifier': 'xgboost', 'learning_rate': 0.0001, 'max_depth': 13, 'n_estimators': 4000}. Best is trial 37 with value: 0.9454374412041392.\u001b[0m\n"
     ]
    },
    {
     "name": "stdout",
     "output_type": "stream",
     "text": [
      "N_rows:  78601\n"
     ]
    },
    {
     "name": "stderr",
     "output_type": "stream",
     "text": [
      "\u001b[32m[I 2022-08-09 01:13:11,243]\u001b[0m Trial 110 finished with value: 0.9415049970605526 and parameters: {'sampler': None, 'classifier': 'logreg', 'C': 0.01}. Best is trial 37 with value: 0.9454374412041392.\u001b[0m\n"
     ]
    },
    {
     "name": "stdout",
     "output_type": "stream",
     "text": [
      "N_rows:  78601\n"
     ]
    },
    {
     "name": "stderr",
     "output_type": "stream",
     "text": [
      "\u001b[32m[I 2022-08-09 01:13:12,344]\u001b[0m Trial 111 finished with value: 0.9448484848484848 and parameters: {'sampler': None, 'classifier': 'logreg', 'C': 0.01}. Best is trial 37 with value: 0.9454374412041392.\u001b[0m\n"
     ]
    },
    {
     "name": "stdout",
     "output_type": "stream",
     "text": [
      "N_rows:  78601\n"
     ]
    },
    {
     "name": "stderr",
     "output_type": "stream",
     "text": [
      "\u001b[32m[I 2022-08-09 01:13:13,485]\u001b[0m Trial 112 finished with value: 0.942158273381295 and parameters: {'sampler': None, 'classifier': 'logreg', 'C': 0.01}. Best is trial 37 with value: 0.9454374412041392.\u001b[0m\n"
     ]
    },
    {
     "name": "stdout",
     "output_type": "stream",
     "text": [
      "N_rows:  78601\n"
     ]
    },
    {
     "name": "stderr",
     "output_type": "stream",
     "text": [
      "\u001b[32m[I 2022-08-09 01:13:14,536]\u001b[0m Trial 113 finished with value: 0.9442253521126761 and parameters: {'sampler': None, 'classifier': 'logreg', 'C': 0.01}. Best is trial 37 with value: 0.9454374412041392.\u001b[0m\n"
     ]
    },
    {
     "name": "stdout",
     "output_type": "stream",
     "text": [
      "N_rows:  78601\n"
     ]
    },
    {
     "name": "stderr",
     "output_type": "stream",
     "text": [
      "\u001b[32m[I 2022-08-09 01:13:15,656]\u001b[0m Trial 114 finished with value: 0.9424803591470258 and parameters: {'sampler': None, 'classifier': 'logreg', 'C': 0.01}. Best is trial 37 with value: 0.9454374412041392.\u001b[0m\n"
     ]
    },
    {
     "name": "stdout",
     "output_type": "stream",
     "text": [
      "N_rows:  78601\n"
     ]
    },
    {
     "name": "stderr",
     "output_type": "stream",
     "text": [
      "\u001b[32m[I 2022-08-09 01:13:16,701]\u001b[0m Trial 115 finished with value: 0.9399408284023668 and parameters: {'sampler': None, 'classifier': 'logreg', 'C': 0.01}. Best is trial 37 with value: 0.9454374412041392.\u001b[0m\n"
     ]
    },
    {
     "name": "stdout",
     "output_type": "stream",
     "text": [
      "N_rows:  78601\n"
     ]
    },
    {
     "name": "stderr",
     "output_type": "stream",
     "text": [
      "\u001b[32m[I 2022-08-09 01:13:17,771]\u001b[0m Trial 116 finished with value: 0.9414298018949182 and parameters: {'sampler': None, 'classifier': 'logreg', 'C': 0.01}. Best is trial 37 with value: 0.9454374412041392.\u001b[0m\n"
     ]
    },
    {
     "name": "stdout",
     "output_type": "stream",
     "text": [
      "N_rows:  78601\n"
     ]
    },
    {
     "name": "stderr",
     "output_type": "stream",
     "text": [
      "\u001b[32m[I 2022-08-09 01:13:23,013]\u001b[0m Trial 117 finished with value: 0.8266619952702111 and parameters: {'sampler': None, 'classifier': 'lgbm', 'learning_rate': 0.01, 'max_depth': 8, 'n_estimators': 200}. Best is trial 37 with value: 0.9454374412041392.\u001b[0m\n"
     ]
    },
    {
     "name": "stdout",
     "output_type": "stream",
     "text": [
      "N_rows:  78601\n"
     ]
    },
    {
     "name": "stderr",
     "output_type": "stream",
     "text": [
      "\u001b[32m[I 2022-08-09 01:13:24,138]\u001b[0m Trial 118 finished with value: 0.9431181844974948 and parameters: {'sampler': None, 'classifier': 'logreg', 'C': 0.01}. Best is trial 37 with value: 0.9454374412041392.\u001b[0m\n"
     ]
    },
    {
     "name": "stdout",
     "output_type": "stream",
     "text": [
      "N_rows:  78601\n"
     ]
    },
    {
     "name": "stderr",
     "output_type": "stream",
     "text": [
      "\u001b[32m[I 2022-08-09 01:13:25,634]\u001b[0m Trial 119 finished with value: 0.8683184706573397 and parameters: {'sampler': None, 'classifier': 'logreg', 'C': 0.1}. Best is trial 37 with value: 0.9454374412041392.\u001b[0m\n"
     ]
    },
    {
     "name": "stdout",
     "output_type": "stream",
     "text": [
      "N_rows:  78601\n"
     ]
    },
    {
     "name": "stderr",
     "output_type": "stream",
     "text": [
      "\u001b[32m[I 2022-08-09 01:13:26,700]\u001b[0m Trial 120 finished with value: 0.940809968847352 and parameters: {'sampler': None, 'classifier': 'logreg', 'C': 0.01}. Best is trial 37 with value: 0.9454374412041392.\u001b[0m\n"
     ]
    },
    {
     "name": "stdout",
     "output_type": "stream",
     "text": [
      "N_rows:  78601\n"
     ]
    },
    {
     "name": "stderr",
     "output_type": "stream",
     "text": [
      "\u001b[32m[I 2022-08-09 01:13:27,752]\u001b[0m Trial 121 finished with value: 0.9399373754625676 and parameters: {'sampler': None, 'classifier': 'logreg', 'C': 0.01}. Best is trial 37 with value: 0.9454374412041392.\u001b[0m\n"
     ]
    },
    {
     "name": "stdout",
     "output_type": "stream",
     "text": [
      "N_rows:  78601\n"
     ]
    },
    {
     "name": "stderr",
     "output_type": "stream",
     "text": [
      "\u001b[32m[I 2022-08-09 01:13:28,820]\u001b[0m Trial 122 finished with value: 0.944074969770254 and parameters: {'sampler': None, 'classifier': 'logreg', 'C': 0.01}. Best is trial 37 with value: 0.9454374412041392.\u001b[0m\n"
     ]
    },
    {
     "name": "stdout",
     "output_type": "stream",
     "text": [
      "N_rows:  78601\n"
     ]
    },
    {
     "name": "stderr",
     "output_type": "stream",
     "text": [
      "\u001b[32m[I 2022-08-09 01:13:29,876]\u001b[0m Trial 123 finished with value: 0.9378792256573245 and parameters: {'sampler': None, 'classifier': 'logreg', 'C': 0.01}. Best is trial 37 with value: 0.9454374412041392.\u001b[0m\n"
     ]
    },
    {
     "name": "stdout",
     "output_type": "stream",
     "text": [
      "N_rows:  78601\n"
     ]
    },
    {
     "name": "stderr",
     "output_type": "stream",
     "text": [
      "\u001b[32m[I 2022-08-09 01:13:30,971]\u001b[0m Trial 124 finished with value: 0.9414985590778098 and parameters: {'sampler': None, 'classifier': 'logreg', 'C': 0.01}. Best is trial 37 with value: 0.9454374412041392.\u001b[0m\n"
     ]
    },
    {
     "name": "stdout",
     "output_type": "stream",
     "text": [
      "N_rows:  78601\n"
     ]
    },
    {
     "name": "stderr",
     "output_type": "stream",
     "text": [
      "\u001b[32m[I 2022-08-09 01:13:32,064]\u001b[0m Trial 125 finished with value: 0.9411420204978038 and parameters: {'sampler': None, 'classifier': 'logreg', 'C': 0.01}. Best is trial 37 with value: 0.9454374412041392.\u001b[0m\n"
     ]
    },
    {
     "name": "stdout",
     "output_type": "stream",
     "text": [
      "N_rows:  78601\n"
     ]
    },
    {
     "name": "stderr",
     "output_type": "stream",
     "text": [
      "\u001b[32m[I 2022-08-09 01:13:33,111]\u001b[0m Trial 126 finished with value: 0.9433526011560693 and parameters: {'sampler': None, 'classifier': 'logreg', 'C': 0.01}. Best is trial 37 with value: 0.9454374412041392.\u001b[0m\n"
     ]
    },
    {
     "name": "stdout",
     "output_type": "stream",
     "text": [
      "N_rows:  78601\n"
     ]
    },
    {
     "name": "stderr",
     "output_type": "stream",
     "text": [
      "\u001b[32m[I 2022-08-09 01:13:34,423]\u001b[0m Trial 127 finished with value: 0.9424144986845951 and parameters: {'sampler': None, 'classifier': 'logreg', 'C': 0.01}. Best is trial 37 with value: 0.9454374412041392.\u001b[0m\n"
     ]
    },
    {
     "name": "stdout",
     "output_type": "stream",
     "text": [
      "N_rows:  78601\n"
     ]
    },
    {
     "name": "stderr",
     "output_type": "stream",
     "text": [
      "\u001b[32m[I 2022-08-09 01:13:35,717]\u001b[0m Trial 128 finished with value: 0.9434860202260559 and parameters: {'sampler': None, 'classifier': 'logreg', 'C': 0.01}. Best is trial 37 with value: 0.9454374412041392.\u001b[0m\n"
     ]
    },
    {
     "name": "stdout",
     "output_type": "stream",
     "text": [
      "N_rows:  78601\n"
     ]
    },
    {
     "name": "stderr",
     "output_type": "stream",
     "text": [
      "\u001b[32m[I 2022-08-09 01:13:37,018]\u001b[0m Trial 129 finished with value: 0.942684766214178 and parameters: {'sampler': None, 'classifier': 'logreg', 'C': 0.01}. Best is trial 37 with value: 0.9454374412041392.\u001b[0m\n"
     ]
    },
    {
     "name": "stdout",
     "output_type": "stream",
     "text": [
      "N_rows:  78601\n"
     ]
    },
    {
     "name": "stderr",
     "output_type": "stream",
     "text": [
      "\u001b[32m[I 2022-08-09 01:13:38,319]\u001b[0m Trial 130 finished with value: 0.9420883299210295 and parameters: {'sampler': None, 'classifier': 'logreg', 'C': 0.01}. Best is trial 37 with value: 0.9454374412041392.\u001b[0m\n"
     ]
    },
    {
     "name": "stdout",
     "output_type": "stream",
     "text": [
      "N_rows:  78601\n"
     ]
    },
    {
     "name": "stderr",
     "output_type": "stream",
     "text": [
      "\u001b[32m[I 2022-08-09 01:13:39,638]\u001b[0m Trial 131 finished with value: 0.9424269264836138 and parameters: {'sampler': None, 'classifier': 'logreg', 'C': 0.01}. Best is trial 37 with value: 0.9454374412041392.\u001b[0m\n"
     ]
    },
    {
     "name": "stdout",
     "output_type": "stream",
     "text": [
      "N_rows:  78601\n"
     ]
    },
    {
     "name": "stderr",
     "output_type": "stream",
     "text": [
      "\u001b[32m[I 2022-08-09 01:13:40,952]\u001b[0m Trial 132 finished with value: 0.9429347826086957 and parameters: {'sampler': None, 'classifier': 'logreg', 'C': 0.01}. Best is trial 37 with value: 0.9454374412041392.\u001b[0m\n"
     ]
    },
    {
     "name": "stdout",
     "output_type": "stream",
     "text": [
      "N_rows:  78601\n"
     ]
    },
    {
     "name": "stderr",
     "output_type": "stream",
     "text": [
      "\u001b[32m[I 2022-08-09 01:13:42,265]\u001b[0m Trial 133 finished with value: 0.9422066549912435 and parameters: {'sampler': None, 'classifier': 'logreg', 'C': 0.01}. Best is trial 37 with value: 0.9454374412041392.\u001b[0m\n"
     ]
    },
    {
     "name": "stdout",
     "output_type": "stream",
     "text": [
      "N_rows:  78601\n"
     ]
    },
    {
     "name": "stderr",
     "output_type": "stream",
     "text": [
      "\u001b[32m[I 2022-08-09 01:13:43,570]\u001b[0m Trial 134 finished with value: 0.9411764705882353 and parameters: {'sampler': None, 'classifier': 'logreg', 'C': 0.01}. Best is trial 37 with value: 0.9454374412041392.\u001b[0m\n"
     ]
    },
    {
     "name": "stdout",
     "output_type": "stream",
     "text": [
      "N_rows:  78601\n"
     ]
    },
    {
     "name": "stderr",
     "output_type": "stream",
     "text": [
      "\u001b[32m[I 2022-08-09 01:13:47,339]\u001b[0m Trial 135 finished with value: 0.8525074992606363 and parameters: {'sampler': None, 'classifier': 'logreg', 'C': 1.0}. Best is trial 37 with value: 0.9454374412041392.\u001b[0m\n"
     ]
    },
    {
     "name": "stdout",
     "output_type": "stream",
     "text": [
      "N_rows:  78601\n"
     ]
    },
    {
     "name": "stderr",
     "output_type": "stream",
     "text": [
      "\u001b[32m[I 2022-08-09 01:13:48,640]\u001b[0m Trial 136 finished with value: 0.9419668381932533 and parameters: {'sampler': None, 'classifier': 'logreg', 'C': 0.01}. Best is trial 37 with value: 0.9454374412041392.\u001b[0m\n"
     ]
    },
    {
     "name": "stdout",
     "output_type": "stream",
     "text": [
      "N_rows:  78601\n"
     ]
    },
    {
     "name": "stderr",
     "output_type": "stream",
     "text": [
      "\u001b[32m[I 2022-08-09 01:15:09,763]\u001b[0m Trial 137 finished with value: 0.8421791167973587 and parameters: {'sampler': None, 'classifier': 'xgboost', 'learning_rate': 0.1, 'max_depth': 6, 'n_estimators': 2000}. Best is trial 37 with value: 0.9454374412041392.\u001b[0m\n"
     ]
    },
    {
     "name": "stdout",
     "output_type": "stream",
     "text": [
      "N_rows:  78601\n"
     ]
    },
    {
     "name": "stderr",
     "output_type": "stream",
     "text": [
      "\u001b[32m[I 2022-08-09 01:15:11,090]\u001b[0m Trial 138 finished with value: 0.9401660463784712 and parameters: {'sampler': None, 'classifier': 'logreg', 'C': 0.01}. Best is trial 37 with value: 0.9454374412041392.\u001b[0m\n"
     ]
    },
    {
     "name": "stdout",
     "output_type": "stream",
     "text": [
      "N_rows:  78601\n"
     ]
    },
    {
     "name": "stderr",
     "output_type": "stream",
     "text": [
      "\u001b[32m[I 2022-08-09 01:15:34,538]\u001b[0m Trial 139 finished with value: 0.83836784409257 and parameters: {'sampler': None, 'classifier': 'lgbm', 'learning_rate': 0.001, 'max_depth': 19, 'n_estimators': 1000}. Best is trial 37 with value: 0.9454374412041392.\u001b[0m\n"
     ]
    },
    {
     "name": "stdout",
     "output_type": "stream",
     "text": [
      "N_rows:  78601\n"
     ]
    },
    {
     "name": "stderr",
     "output_type": "stream",
     "text": [
      "\u001b[32m[I 2022-08-09 01:15:35,850]\u001b[0m Trial 140 finished with value: 0.9448336252189142 and parameters: {'sampler': None, 'classifier': 'logreg', 'C': 0.01}. Best is trial 37 with value: 0.9454374412041392.\u001b[0m\n"
     ]
    },
    {
     "name": "stdout",
     "output_type": "stream",
     "text": [
      "N_rows:  78601\n"
     ]
    },
    {
     "name": "stderr",
     "output_type": "stream",
     "text": [
      "\u001b[32m[I 2022-08-09 01:15:37,170]\u001b[0m Trial 141 finished with value: 0.9402985074626866 and parameters: {'sampler': None, 'classifier': 'logreg', 'C': 0.01}. Best is trial 37 with value: 0.9454374412041392.\u001b[0m\n"
     ]
    },
    {
     "name": "stdout",
     "output_type": "stream",
     "text": [
      "N_rows:  78601\n"
     ]
    },
    {
     "name": "stderr",
     "output_type": "stream",
     "text": [
      "\u001b[32m[I 2022-08-09 01:15:38,473]\u001b[0m Trial 142 finished with value: 0.9431719338938823 and parameters: {'sampler': None, 'classifier': 'logreg', 'C': 0.01}. Best is trial 37 with value: 0.9454374412041392.\u001b[0m\n"
     ]
    },
    {
     "name": "stdout",
     "output_type": "stream",
     "text": [
      "N_rows:  78601\n"
     ]
    },
    {
     "name": "stderr",
     "output_type": "stream",
     "text": [
      "\u001b[32m[I 2022-08-09 01:15:39,766]\u001b[0m Trial 143 finished with value: 0.9389644200173561 and parameters: {'sampler': None, 'classifier': 'logreg', 'C': 0.01}. Best is trial 37 with value: 0.9454374412041392.\u001b[0m\n"
     ]
    },
    {
     "name": "stdout",
     "output_type": "stream",
     "text": [
      "N_rows:  78601\n"
     ]
    },
    {
     "name": "stderr",
     "output_type": "stream",
     "text": [
      "\u001b[32m[I 2022-08-09 01:15:41,042]\u001b[0m Trial 144 finished with value: 0.940709219858156 and parameters: {'sampler': None, 'classifier': 'logreg', 'C': 0.01}. Best is trial 37 with value: 0.9454374412041392.\u001b[0m\n"
     ]
    },
    {
     "name": "stdout",
     "output_type": "stream",
     "text": [
      "N_rows:  78601\n"
     ]
    },
    {
     "name": "stderr",
     "output_type": "stream",
     "text": [
      "\u001b[32m[I 2022-08-09 01:15:42,411]\u001b[0m Trial 145 finished with value: 0.9422799422799423 and parameters: {'sampler': None, 'classifier': 'logreg', 'C': 0.01}. Best is trial 37 with value: 0.9454374412041392.\u001b[0m\n"
     ]
    },
    {
     "name": "stdout",
     "output_type": "stream",
     "text": [
      "N_rows:  78601\n"
     ]
    },
    {
     "name": "stderr",
     "output_type": "stream",
     "text": [
      "\u001b[32m[I 2022-08-09 01:15:43,708]\u001b[0m Trial 146 finished with value: 0.9412591343451377 and parameters: {'sampler': None, 'classifier': 'logreg', 'C': 0.01}. Best is trial 37 with value: 0.9454374412041392.\u001b[0m\n"
     ]
    },
    {
     "name": "stdout",
     "output_type": "stream",
     "text": [
      "N_rows:  78601\n"
     ]
    },
    {
     "name": "stderr",
     "output_type": "stream",
     "text": [
      "\u001b[32m[I 2022-08-09 01:15:45,353]\u001b[0m Trial 147 finished with value: 0.8660056206585715 and parameters: {'sampler': None, 'classifier': 'logreg', 'C': 0.1}. Best is trial 37 with value: 0.9454374412041392.\u001b[0m\n"
     ]
    },
    {
     "name": "stdout",
     "output_type": "stream",
     "text": [
      "N_rows:  78601\n"
     ]
    },
    {
     "name": "stderr",
     "output_type": "stream",
     "text": [
      "\u001b[32m[I 2022-08-09 01:15:46,638]\u001b[0m Trial 148 finished with value: 0.9450582263362197 and parameters: {'sampler': None, 'classifier': 'logreg', 'C': 0.01}. Best is trial 37 with value: 0.9454374412041392.\u001b[0m\n"
     ]
    },
    {
     "name": "stdout",
     "output_type": "stream",
     "text": [
      "N_rows:  78601\n"
     ]
    },
    {
     "name": "stderr",
     "output_type": "stream",
     "text": [
      "\u001b[32m[I 2022-08-09 01:15:47,919]\u001b[0m Trial 149 finished with value: 0.9443099273607748 and parameters: {'sampler': None, 'classifier': 'logreg', 'C': 0.01}. Best is trial 37 with value: 0.9454374412041392.\u001b[0m\n"
     ]
    },
    {
     "name": "stdout",
     "output_type": "stream",
     "text": [
      "N_rows:  78601\n"
     ]
    },
    {
     "name": "stderr",
     "output_type": "stream",
     "text": [
      "\u001b[32m[I 2022-08-09 01:15:49,226]\u001b[0m Trial 150 finished with value: 0.9432773109243697 and parameters: {'sampler': None, 'classifier': 'logreg', 'C': 0.01}. Best is trial 37 with value: 0.9454374412041392.\u001b[0m\n"
     ]
    },
    {
     "name": "stdout",
     "output_type": "stream",
     "text": [
      "N_rows:  78601\n"
     ]
    },
    {
     "name": "stderr",
     "output_type": "stream",
     "text": [
      "\u001b[32m[I 2022-08-09 01:15:50,616]\u001b[0m Trial 151 finished with value: 0.9432084309133489 and parameters: {'sampler': None, 'classifier': 'logreg', 'C': 0.01}. Best is trial 37 with value: 0.9454374412041392.\u001b[0m\n"
     ]
    },
    {
     "name": "stdout",
     "output_type": "stream",
     "text": [
      "N_rows:  78601\n"
     ]
    },
    {
     "name": "stderr",
     "output_type": "stream",
     "text": [
      "\u001b[32m[I 2022-08-09 01:15:51,991]\u001b[0m Trial 152 finished with value: 0.9427012278308322 and parameters: {'sampler': None, 'classifier': 'logreg', 'C': 0.01}. Best is trial 37 with value: 0.9454374412041392.\u001b[0m\n"
     ]
    },
    {
     "name": "stdout",
     "output_type": "stream",
     "text": [
      "N_rows:  78601\n"
     ]
    },
    {
     "name": "stderr",
     "output_type": "stream",
     "text": [
      "\u001b[32m[I 2022-08-09 01:15:53,379]\u001b[0m Trial 153 finished with value: 0.9399425287356322 and parameters: {'sampler': None, 'classifier': 'logreg', 'C': 0.01}. Best is trial 37 with value: 0.9454374412041392.\u001b[0m\n"
     ]
    },
    {
     "name": "stdout",
     "output_type": "stream",
     "text": [
      "N_rows:  78601\n"
     ]
    },
    {
     "name": "stderr",
     "output_type": "stream",
     "text": [
      "\u001b[32m[I 2022-08-09 01:15:54,682]\u001b[0m Trial 154 finished with value: 0.9425253126861227 and parameters: {'sampler': None, 'classifier': 'logreg', 'C': 0.01}. Best is trial 37 with value: 0.9454374412041392.\u001b[0m\n"
     ]
    },
    {
     "name": "stdout",
     "output_type": "stream",
     "text": [
      "N_rows:  78601\n"
     ]
    },
    {
     "name": "stderr",
     "output_type": "stream",
     "text": [
      "\u001b[32m[I 2022-08-09 01:15:55,951]\u001b[0m Trial 155 finished with value: 0.9403747870528109 and parameters: {'sampler': None, 'classifier': 'logreg', 'C': 0.01}. Best is trial 37 with value: 0.9454374412041392.\u001b[0m\n"
     ]
    },
    {
     "name": "stdout",
     "output_type": "stream",
     "text": [
      "N_rows:  78601\n"
     ]
    },
    {
     "name": "stderr",
     "output_type": "stream",
     "text": [
      "\u001b[32m[I 2022-08-09 01:15:57,238]\u001b[0m Trial 156 finished with value: 0.9447674418604651 and parameters: {'sampler': None, 'classifier': 'logreg', 'C': 0.01}. Best is trial 37 with value: 0.9454374412041392.\u001b[0m\n"
     ]
    },
    {
     "name": "stdout",
     "output_type": "stream",
     "text": [
      "N_rows:  78601\n"
     ]
    },
    {
     "name": "stderr",
     "output_type": "stream",
     "text": [
      "\u001b[32m[I 2022-08-09 01:15:58,528]\u001b[0m Trial 157 finished with value: 0.9421536636013053 and parameters: {'sampler': None, 'classifier': 'logreg', 'C': 0.01}. Best is trial 37 with value: 0.9454374412041392.\u001b[0m\n"
     ]
    },
    {
     "name": "stdout",
     "output_type": "stream",
     "text": [
      "N_rows:  78601\n"
     ]
    },
    {
     "name": "stderr",
     "output_type": "stream",
     "text": [
      "\u001b[32m[I 2022-08-09 01:15:59,794]\u001b[0m Trial 158 finished with value: 0.9418604651162791 and parameters: {'sampler': None, 'classifier': 'logreg', 'C': 0.01}. Best is trial 37 with value: 0.9454374412041392.\u001b[0m\n"
     ]
    },
    {
     "name": "stdout",
     "output_type": "stream",
     "text": [
      "N_rows:  78601\n"
     ]
    },
    {
     "name": "stderr",
     "output_type": "stream",
     "text": [
      "\u001b[32m[I 2022-08-09 01:16:01,082]\u001b[0m Trial 159 finished with value: 0.9403159742539496 and parameters: {'sampler': None, 'classifier': 'logreg', 'C': 0.01}. Best is trial 37 with value: 0.9454374412041392.\u001b[0m\n"
     ]
    },
    {
     "name": "stdout",
     "output_type": "stream",
     "text": [
      "N_rows:  78601\n"
     ]
    },
    {
     "name": "stderr",
     "output_type": "stream",
     "text": [
      "\u001b[32m[I 2022-08-09 01:16:04,605]\u001b[0m Trial 160 finished with value: 0.8560792989024079 and parameters: {'sampler': None, 'classifier': 'logreg', 'C': 1.0}. Best is trial 37 with value: 0.9454374412041392.\u001b[0m\n"
     ]
    },
    {
     "name": "stdout",
     "output_type": "stream",
     "text": [
      "N_rows:  78601\n"
     ]
    },
    {
     "name": "stderr",
     "output_type": "stream",
     "text": [
      "\u001b[32m[I 2022-08-09 01:16:05,898]\u001b[0m Trial 161 finished with value: 0.9432709716354858 and parameters: {'sampler': None, 'classifier': 'logreg', 'C': 0.01}. Best is trial 37 with value: 0.9454374412041392.\u001b[0m\n"
     ]
    },
    {
     "name": "stdout",
     "output_type": "stream",
     "text": [
      "N_rows:  78601\n"
     ]
    },
    {
     "name": "stderr",
     "output_type": "stream",
     "text": [
      "\u001b[32m[I 2022-08-09 01:16:07,224]\u001b[0m Trial 162 finished with value: 0.94359410430839 and parameters: {'sampler': None, 'classifier': 'logreg', 'C': 0.01}. Best is trial 37 with value: 0.9454374412041392.\u001b[0m\n"
     ]
    },
    {
     "name": "stdout",
     "output_type": "stream",
     "text": [
      "N_rows:  78601\n"
     ]
    },
    {
     "name": "stderr",
     "output_type": "stream",
     "text": [
      "\u001b[32m[I 2022-08-09 01:16:08,508]\u001b[0m Trial 163 finished with value: 0.941312518068806 and parameters: {'sampler': None, 'classifier': 'logreg', 'C': 0.01}. Best is trial 37 with value: 0.9454374412041392.\u001b[0m\n"
     ]
    },
    {
     "name": "stdout",
     "output_type": "stream",
     "text": [
      "N_rows:  78601\n"
     ]
    },
    {
     "name": "stderr",
     "output_type": "stream",
     "text": [
      "\u001b[32m[I 2022-08-09 01:16:09,791]\u001b[0m Trial 164 finished with value: 0.9407254497198466 and parameters: {'sampler': None, 'classifier': 'logreg', 'C': 0.01}. Best is trial 37 with value: 0.9454374412041392.\u001b[0m\n"
     ]
    },
    {
     "name": "stdout",
     "output_type": "stream",
     "text": [
      "N_rows:  78601\n"
     ]
    },
    {
     "name": "stderr",
     "output_type": "stream",
     "text": [
      "\u001b[32m[I 2022-08-09 01:16:24,273]\u001b[0m Trial 165 finished with value: 0.8320770336804496 and parameters: {'sampler': None, 'classifier': 'xgboost', 'learning_rate': 0.1, 'max_depth': 10, 'n_estimators': 200}. Best is trial 37 with value: 0.9454374412041392.\u001b[0m\n"
     ]
    },
    {
     "name": "stdout",
     "output_type": "stream",
     "text": [
      "N_rows:  78601\n"
     ]
    },
    {
     "name": "stderr",
     "output_type": "stream",
     "text": [
      "\u001b[32m[I 2022-08-09 01:16:25,608]\u001b[0m Trial 166 finished with value: 0.940957294353683 and parameters: {'sampler': None, 'classifier': 'logreg', 'C': 0.01}. Best is trial 37 with value: 0.9454374412041392.\u001b[0m\n"
     ]
    },
    {
     "name": "stdout",
     "output_type": "stream",
     "text": [
      "N_rows:  78601\n"
     ]
    },
    {
     "name": "stderr",
     "output_type": "stream",
     "text": [
      "\u001b[32m[I 2022-08-09 01:16:26,913]\u001b[0m Trial 167 finished with value: 0.9427008350129571 and parameters: {'sampler': None, 'classifier': 'logreg', 'C': 0.01}. Best is trial 37 with value: 0.9454374412041392.\u001b[0m\n"
     ]
    },
    {
     "name": "stdout",
     "output_type": "stream",
     "text": [
      "N_rows:  78601\n"
     ]
    },
    {
     "name": "stderr",
     "output_type": "stream",
     "text": [
      "\u001b[32m[I 2022-08-09 01:16:28,309]\u001b[0m Trial 168 finished with value: 0.9440559440559441 and parameters: {'sampler': None, 'classifier': 'logreg', 'C': 0.01}. Best is trial 37 with value: 0.9454374412041392.\u001b[0m\n"
     ]
    },
    {
     "name": "stdout",
     "output_type": "stream",
     "text": [
      "N_rows:  78601\n"
     ]
    },
    {
     "name": "stderr",
     "output_type": "stream",
     "text": [
      "\u001b[32m[I 2022-08-09 01:16:29,629]\u001b[0m Trial 169 finished with value: 0.9410218978102189 and parameters: {'sampler': None, 'classifier': 'logreg', 'C': 0.01}. Best is trial 37 with value: 0.9454374412041392.\u001b[0m\n"
     ]
    },
    {
     "name": "stdout",
     "output_type": "stream",
     "text": [
      "N_rows:  78601\n"
     ]
    },
    {
     "name": "stderr",
     "output_type": "stream",
     "text": [
      "\u001b[32m[I 2022-08-09 01:16:30,931]\u001b[0m Trial 170 finished with value: 0.9418298743057586 and parameters: {'sampler': None, 'classifier': 'logreg', 'C': 0.01}. Best is trial 37 with value: 0.9454374412041392.\u001b[0m\n"
     ]
    },
    {
     "name": "stdout",
     "output_type": "stream",
     "text": [
      "N_rows:  78601\n"
     ]
    },
    {
     "name": "stderr",
     "output_type": "stream",
     "text": [
      "\u001b[32m[I 2022-08-09 01:16:32,171]\u001b[0m Trial 171 finished with value: 0.9426111908177905 and parameters: {'sampler': None, 'classifier': 'logreg', 'C': 0.01}. Best is trial 37 with value: 0.9454374412041392.\u001b[0m\n"
     ]
    },
    {
     "name": "stdout",
     "output_type": "stream",
     "text": [
      "N_rows:  78601\n"
     ]
    },
    {
     "name": "stderr",
     "output_type": "stream",
     "text": [
      "\u001b[32m[I 2022-08-09 01:16:33,558]\u001b[0m Trial 172 finished with value: 0.942174913693901 and parameters: {'sampler': None, 'classifier': 'logreg', 'C': 0.01}. Best is trial 37 with value: 0.9454374412041392.\u001b[0m\n"
     ]
    },
    {
     "name": "stdout",
     "output_type": "stream",
     "text": [
      "N_rows:  78601\n"
     ]
    },
    {
     "name": "stderr",
     "output_type": "stream",
     "text": [
      "\u001b[32m[I 2022-08-09 01:16:34,865]\u001b[0m Trial 173 finished with value: 0.9421369235176167 and parameters: {'sampler': None, 'classifier': 'logreg', 'C': 0.01}. Best is trial 37 with value: 0.9454374412041392.\u001b[0m\n"
     ]
    },
    {
     "name": "stdout",
     "output_type": "stream",
     "text": [
      "N_rows:  78601\n"
     ]
    },
    {
     "name": "stderr",
     "output_type": "stream",
     "text": [
      "\u001b[32m[I 2022-08-09 01:17:46,323]\u001b[0m Trial 174 finished with value: 0.8216494845360824 and parameters: {'sampler': None, 'classifier': 'lgbm', 'learning_rate': 0.01, 'max_depth': 12, 'n_estimators': 4000}. Best is trial 37 with value: 0.9454374412041392.\u001b[0m\n"
     ]
    },
    {
     "name": "stdout",
     "output_type": "stream",
     "text": [
      "N_rows:  78601\n"
     ]
    },
    {
     "name": "stderr",
     "output_type": "stream",
     "text": [
      "\u001b[32m[I 2022-08-09 01:17:47,640]\u001b[0m Trial 175 finished with value: 0.942226255293406 and parameters: {'sampler': None, 'classifier': 'logreg', 'C': 0.01}. Best is trial 37 with value: 0.9454374412041392.\u001b[0m\n"
     ]
    },
    {
     "name": "stdout",
     "output_type": "stream",
     "text": [
      "N_rows:  78601\n"
     ]
    },
    {
     "name": "stderr",
     "output_type": "stream",
     "text": [
      "\u001b[32m[I 2022-08-09 01:17:48,920]\u001b[0m Trial 176 finished with value: 0.9427023945267959 and parameters: {'sampler': None, 'classifier': 'logreg', 'C': 0.01}. Best is trial 37 with value: 0.9454374412041392.\u001b[0m\n"
     ]
    },
    {
     "name": "stdout",
     "output_type": "stream",
     "text": [
      "N_rows:  78601\n"
     ]
    },
    {
     "name": "stderr",
     "output_type": "stream",
     "text": [
      "\u001b[32m[I 2022-08-09 01:17:50,210]\u001b[0m Trial 177 finished with value: 0.9413489736070382 and parameters: {'sampler': None, 'classifier': 'logreg', 'C': 0.01}. Best is trial 37 with value: 0.9454374412041392.\u001b[0m\n"
     ]
    },
    {
     "name": "stdout",
     "output_type": "stream",
     "text": [
      "N_rows:  78601\n"
     ]
    },
    {
     "name": "stderr",
     "output_type": "stream",
     "text": [
      "\u001b[32m[I 2022-08-09 01:17:51,771]\u001b[0m Trial 178 finished with value: 0.8636603654028937 and parameters: {'sampler': None, 'classifier': 'logreg', 'C': 0.1}. Best is trial 37 with value: 0.9454374412041392.\u001b[0m\n"
     ]
    },
    {
     "name": "stdout",
     "output_type": "stream",
     "text": [
      "N_rows:  78601\n"
     ]
    },
    {
     "name": "stderr",
     "output_type": "stream",
     "text": [
      "\u001b[32m[I 2022-08-09 01:17:53,030]\u001b[0m Trial 179 finished with value: 0.9439977024698449 and parameters: {'sampler': None, 'classifier': 'logreg', 'C': 0.01}. Best is trial 37 with value: 0.9454374412041392.\u001b[0m\n"
     ]
    },
    {
     "name": "stdout",
     "output_type": "stream",
     "text": [
      "N_rows:  78601\n"
     ]
    },
    {
     "name": "stderr",
     "output_type": "stream",
     "text": [
      "\u001b[32m[I 2022-08-09 01:17:54,269]\u001b[0m Trial 180 finished with value: 0.9402781565312245 and parameters: {'sampler': None, 'classifier': 'logreg', 'C': 0.01}. Best is trial 37 with value: 0.9454374412041392.\u001b[0m\n"
     ]
    },
    {
     "name": "stdout",
     "output_type": "stream",
     "text": [
      "N_rows:  78601\n"
     ]
    },
    {
     "name": "stderr",
     "output_type": "stream",
     "text": [
      "\u001b[32m[I 2022-08-09 01:17:55,556]\u001b[0m Trial 181 finished with value: 0.942765833817548 and parameters: {'sampler': None, 'classifier': 'logreg', 'C': 0.01}. Best is trial 37 with value: 0.9454374412041392.\u001b[0m\n"
     ]
    },
    {
     "name": "stdout",
     "output_type": "stream",
     "text": [
      "N_rows:  78601\n"
     ]
    },
    {
     "name": "stderr",
     "output_type": "stream",
     "text": [
      "\u001b[32m[I 2022-08-09 01:17:56,894]\u001b[0m Trial 182 finished with value: 0.9414831981460023 and parameters: {'sampler': None, 'classifier': 'logreg', 'C': 0.01}. Best is trial 37 with value: 0.9454374412041392.\u001b[0m\n"
     ]
    },
    {
     "name": "stdout",
     "output_type": "stream",
     "text": [
      "N_rows:  78601\n"
     ]
    },
    {
     "name": "stderr",
     "output_type": "stream",
     "text": [
      "\u001b[32m[I 2022-08-09 01:17:58,192]\u001b[0m Trial 183 finished with value: 0.9429824561403509 and parameters: {'sampler': None, 'classifier': 'logreg', 'C': 0.01}. Best is trial 37 with value: 0.9454374412041392.\u001b[0m\n"
     ]
    },
    {
     "name": "stdout",
     "output_type": "stream",
     "text": [
      "N_rows:  78601\n"
     ]
    },
    {
     "name": "stderr",
     "output_type": "stream",
     "text": [
      "\u001b[32m[I 2022-08-09 01:17:59,485]\u001b[0m Trial 184 finished with value: 0.942080378250591 and parameters: {'sampler': None, 'classifier': 'logreg', 'C': 0.01}. Best is trial 37 with value: 0.9454374412041392.\u001b[0m\n"
     ]
    },
    {
     "name": "stdout",
     "output_type": "stream",
     "text": [
      "N_rows:  78601\n"
     ]
    },
    {
     "name": "stderr",
     "output_type": "stream",
     "text": [
      "\u001b[32m[I 2022-08-09 01:18:00,799]\u001b[0m Trial 185 finished with value: 0.9437324163801187 and parameters: {'sampler': None, 'classifier': 'logreg', 'C': 0.01}. Best is trial 37 with value: 0.9454374412041392.\u001b[0m\n"
     ]
    },
    {
     "name": "stdout",
     "output_type": "stream",
     "text": [
      "N_rows:  78601\n"
     ]
    },
    {
     "name": "stderr",
     "output_type": "stream",
     "text": [
      "\u001b[32m[I 2022-08-09 01:18:02,070]\u001b[0m Trial 186 finished with value: 0.9425964085958198 and parameters: {'sampler': None, 'classifier': 'logreg', 'C': 0.01}. Best is trial 37 with value: 0.9454374412041392.\u001b[0m\n"
     ]
    },
    {
     "name": "stdout",
     "output_type": "stream",
     "text": [
      "N_rows:  78601\n"
     ]
    },
    {
     "name": "stderr",
     "output_type": "stream",
     "text": [
      "\u001b[32m[I 2022-08-09 01:18:03,491]\u001b[0m Trial 187 finished with value: 0.9404891304347827 and parameters: {'sampler': None, 'classifier': 'logreg', 'C': 0.01}. Best is trial 37 with value: 0.9454374412041392.\u001b[0m\n"
     ]
    },
    {
     "name": "stdout",
     "output_type": "stream",
     "text": [
      "N_rows:  78601\n"
     ]
    },
    {
     "name": "stderr",
     "output_type": "stream",
     "text": [
      "\u001b[32m[I 2022-08-09 01:18:04,806]\u001b[0m Trial 188 finished with value: 0.9411592505854801 and parameters: {'sampler': None, 'classifier': 'logreg', 'C': 0.01}. Best is trial 37 with value: 0.9454374412041392.\u001b[0m\n"
     ]
    },
    {
     "name": "stdout",
     "output_type": "stream",
     "text": [
      "N_rows:  78601\n"
     ]
    },
    {
     "name": "stderr",
     "output_type": "stream",
     "text": [
      "\u001b[32m[I 2022-08-09 01:18:06,111]\u001b[0m Trial 189 finished with value: 0.9392746696654484 and parameters: {'sampler': None, 'classifier': 'logreg', 'C': 0.01}. Best is trial 37 with value: 0.9454374412041392.\u001b[0m\n"
     ]
    },
    {
     "name": "stdout",
     "output_type": "stream",
     "text": [
      "N_rows:  78601\n"
     ]
    },
    {
     "name": "stderr",
     "output_type": "stream",
     "text": [
      "\u001b[32m[I 2022-08-09 01:18:07,375]\u001b[0m Trial 190 finished with value: 0.9435011709601874 and parameters: {'sampler': None, 'classifier': 'logreg', 'C': 0.01}. Best is trial 37 with value: 0.9454374412041392.\u001b[0m\n"
     ]
    },
    {
     "name": "stdout",
     "output_type": "stream",
     "text": [
      "N_rows:  78601\n"
     ]
    },
    {
     "name": "stderr",
     "output_type": "stream",
     "text": [
      "\u001b[32m[I 2022-08-09 01:18:08,630]\u001b[0m Trial 191 finished with value: 0.9389889599070308 and parameters: {'sampler': None, 'classifier': 'logreg', 'C': 0.01}. Best is trial 37 with value: 0.9454374412041392.\u001b[0m\n"
     ]
    },
    {
     "name": "stdout",
     "output_type": "stream",
     "text": [
      "N_rows:  78601\n"
     ]
    },
    {
     "name": "stderr",
     "output_type": "stream",
     "text": [
      "\u001b[32m[I 2022-08-09 01:18:09,979]\u001b[0m Trial 192 finished with value: 0.9430097951914514 and parameters: {'sampler': None, 'classifier': 'logreg', 'C': 0.01}. Best is trial 37 with value: 0.9454374412041392.\u001b[0m\n"
     ]
    },
    {
     "name": "stdout",
     "output_type": "stream",
     "text": [
      "N_rows:  78601\n"
     ]
    },
    {
     "name": "stderr",
     "output_type": "stream",
     "text": [
      "\u001b[32m[I 2022-08-09 01:18:11,265]\u001b[0m Trial 193 finished with value: 0.940247055443838 and parameters: {'sampler': None, 'classifier': 'logreg', 'C': 0.01}. Best is trial 37 with value: 0.9454374412041392.\u001b[0m\n"
     ]
    },
    {
     "name": "stdout",
     "output_type": "stream",
     "text": [
      "N_rows:  78601\n"
     ]
    },
    {
     "name": "stderr",
     "output_type": "stream",
     "text": [
      "\u001b[32m[I 2022-08-09 01:18:12,570]\u001b[0m Trial 194 finished with value: 0.9411595038938564 and parameters: {'sampler': None, 'classifier': 'logreg', 'C': 0.01}. Best is trial 37 with value: 0.9454374412041392.\u001b[0m\n"
     ]
    },
    {
     "name": "stdout",
     "output_type": "stream",
     "text": [
      "N_rows:  78601\n"
     ]
    },
    {
     "name": "stderr",
     "output_type": "stream",
     "text": [
      "\u001b[32m[I 2022-08-09 01:18:13,874]\u001b[0m Trial 195 finished with value: 0.9415121255349501 and parameters: {'sampler': None, 'classifier': 'logreg', 'C': 0.01}. Best is trial 37 with value: 0.9454374412041392.\u001b[0m\n"
     ]
    },
    {
     "name": "stdout",
     "output_type": "stream",
     "text": [
      "N_rows:  78601\n"
     ]
    },
    {
     "name": "stderr",
     "output_type": "stream",
     "text": [
      "\u001b[32m[I 2022-08-09 01:18:17,169]\u001b[0m Trial 196 finished with value: 0.8521915550107781 and parameters: {'sampler': None, 'classifier': 'logreg', 'C': 1.0}. Best is trial 37 with value: 0.9454374412041392.\u001b[0m\n"
     ]
    },
    {
     "name": "stdout",
     "output_type": "stream",
     "text": [
      "N_rows:  78601\n"
     ]
    },
    {
     "name": "stderr",
     "output_type": "stream",
     "text": [
      "\u001b[32m[I 2022-08-09 01:19:47,932]\u001b[0m Trial 197 finished with value: 0.764406286379511 and parameters: {'sampler': None, 'classifier': 'xgboost', 'learning_rate': 0.001, 'max_depth': 16, 'n_estimators': 500}. Best is trial 37 with value: 0.9454374412041392.\u001b[0m\n"
     ]
    },
    {
     "name": "stdout",
     "output_type": "stream",
     "text": [
      "N_rows:  78601\n"
     ]
    },
    {
     "name": "stderr",
     "output_type": "stream",
     "text": [
      "\u001b[32m[I 2022-08-09 01:19:49,367]\u001b[0m Trial 198 finished with value: 0.9444926279271466 and parameters: {'sampler': None, 'classifier': 'logreg', 'C': 0.01}. Best is trial 37 with value: 0.9454374412041392.\u001b[0m\n"
     ]
    },
    {
     "name": "stdout",
     "output_type": "stream",
     "text": [
      "N_rows:  78601\n"
     ]
    },
    {
     "name": "stderr",
     "output_type": "stream",
     "text": [
      "\u001b[32m[I 2022-08-09 01:19:50,635]\u001b[0m Trial 199 finished with value: 0.9417249417249417 and parameters: {'sampler': None, 'classifier': 'logreg', 'C': 0.01}. Best is trial 37 with value: 0.9454374412041392.\u001b[0m\n"
     ]
    }
   ],
   "source": [
    "# we have to use a lambda function as a wrapper in order to pass in parameters to the optimize function\n",
    "\n",
    "func = lambda trial: objective(trial, .1, [\"xgboost\", \"lgbm\", \"logreg\"])\n",
    "\n",
    "study = optuna.create_study(direction='maximize')\n",
    "\n",
    "study.optimize(func, n_trials=200)"
   ]
  },
  {
   "cell_type": "markdown",
   "metadata": {},
   "source": [
    "### 4.5.5 Run 3\n",
    "\n",
    "For the final run, we'll use a larger training size, but will skip the sampling methods completely."
   ]
  },
  {
   "cell_type": "code",
   "execution_count": 12,
   "metadata": {},
   "outputs": [],
   "source": [
    "def objective(trial, sub_sample_prop, model_choices):\n",
    "    \"\"\"\n",
    "    params:\n",
    "        trial: functions like a self parameter for the optimization function)\n",
    "        sub_sample_prop: amount of the entire train set to sample from for current trial\n",
    "        model_choices: allow dynamic selection between three model types   \n",
    "    \"\"\"\n",
    "\n",
    "    #sampler\n",
    "\n",
    "    sampler = None\n",
    "\n",
    "\n",
    "    model_type = trial.suggest_categorical('classifier', model_choices)\n",
    "\n",
    "    if model_type == 'logreg':\n",
    "        #optimize params\n",
    "        C = trial.suggest_categorical('C', [1.0, 0.1, 0.01]) #note: models with larger values for C failed to converge\n",
    "        \n",
    "        #model\n",
    "        model = LogisticRegression(solver = \"lbfgs\", n_jobs=-1, max_iter=1000, C=C)\n",
    "\n",
    "    elif model_type == 'xgboost':\n",
    "        #optimize params\n",
    "        learning_rate = trial.suggest_categorical('learning_rate', [0.2, 0.1, 0.01, .001, .0001])\n",
    "        max_depth = trial.suggest_int('max_depth', 3, 20)\n",
    "        n_estimators = trial.suggest_categorical('n_estimators', [200,500,1000, 2000, 4000])\n",
    "\n",
    "        #model\n",
    "        model = xgb.XGBClassifier(n_estimators=n_estimators, max_depth=max_depth, learning_rate=learning_rate, n_jobs=-1, verbosity=0, use_label_encoder=False)\n",
    "\n",
    "    elif model_type == \"lgbm\":\n",
    "        #optimize params\n",
    "        learning_rate = trial.suggest_categorical('learning_rate', [0.2, 0.1, 0.01, .001, .0001])\n",
    "        max_depth = trial.suggest_int('max_depth', 3, 20)\n",
    "        n_estimators = trial.suggest_categorical('n_estimators', [200,500,1000, 2000,4000])\n",
    "\n",
    "        #model\n",
    "        model = lgb.LGBMClassifier(max_depth = max_depth, n_estimators=n_estimators)\n",
    "    \n",
    "    pipeline = Pipeline([('sampler', sampler), ('model',model)])\n",
    "    \n",
    "    X_train_sample, _, y_train_sample, _ = train_test_split(X_train, y_train, train_size=sub_sample_prop, random_state=trial.number)\n",
    "\n",
    "    print(\"N_rows: \", X_train_sample.shape[0])\n",
    "\n",
    "    pipeline.fit(X_train_sample, y_train_sample)\n",
    "    \n",
    "    #using the original X_test from the top train_test_split above\n",
    "    y_preds = pipeline.predict(X_test)\n",
    "\n",
    "    return recall_score(y_preds, y_test)"
   ]
  },
  {
   "cell_type": "code",
   "execution_count": 13,
   "metadata": {},
   "outputs": [
    {
     "name": "stderr",
     "output_type": "stream",
     "text": [
      "\u001b[32m[I 2022-08-09 01:19:50,708]\u001b[0m A new study created in memory with name: no-name-ed45df43-167f-474e-aa48-9ede165c2302\u001b[0m\n"
     ]
    },
    {
     "name": "stdout",
     "output_type": "stream",
     "text": [
      "N_rows:  157203\n"
     ]
    },
    {
     "name": "stderr",
     "output_type": "stream",
     "text": [
      "\u001b[32m[I 2022-08-09 01:19:54,369]\u001b[0m Trial 0 finished with value: 0.8552049298978452 and parameters: {'classifier': 'logreg', 'C': 1.0}. Best is trial 0 with value: 0.8552049298978452.\u001b[0m\n"
     ]
    },
    {
     "name": "stdout",
     "output_type": "stream",
     "text": [
      "N_rows:  157203\n"
     ]
    },
    {
     "name": "stderr",
     "output_type": "stream",
     "text": [
      "\u001b[32m[I 2022-08-09 01:22:41,388]\u001b[0m Trial 1 finished with value: 0.7556986866602928 and parameters: {'classifier': 'xgboost', 'learning_rate': 0.001, 'max_depth': 10, 'n_estimators': 1000}. Best is trial 0 with value: 0.8552049298978452.\u001b[0m\n"
     ]
    },
    {
     "name": "stdout",
     "output_type": "stream",
     "text": [
      "N_rows:  157203\n"
     ]
    },
    {
     "name": "stderr",
     "output_type": "stream",
     "text": [
      "\u001b[32m[I 2022-08-09 01:23:10,447]\u001b[0m Trial 2 finished with value: 0.7724155320221886 and parameters: {'classifier': 'xgboost', 'learning_rate': 0.01, 'max_depth': 9, 'n_estimators': 200}. Best is trial 0 with value: 0.8552049298978452.\u001b[0m\n"
     ]
    },
    {
     "name": "stdout",
     "output_type": "stream",
     "text": [
      "N_rows:  157203\n"
     ]
    },
    {
     "name": "stderr",
     "output_type": "stream",
     "text": [
      "\u001b[32m[I 2022-08-09 01:24:17,148]\u001b[0m Trial 3 finished with value: 0.8443885825494648 and parameters: {'classifier': 'lgbm', 'learning_rate': 0.01, 'max_depth': 7, 'n_estimators': 2000}. Best is trial 0 with value: 0.8552049298978452.\u001b[0m\n"
     ]
    },
    {
     "name": "stdout",
     "output_type": "stream",
     "text": [
      "N_rows:  157203\n"
     ]
    },
    {
     "name": "stderr",
     "output_type": "stream",
     "text": [
      "\u001b[32m[I 2022-08-09 01:27:14,984]\u001b[0m Trial 4 finished with value: 0.8354888773926539 and parameters: {'classifier': 'lgbm', 'learning_rate': 0.01, 'max_depth': 20, 'n_estimators': 4000}. Best is trial 0 with value: 0.8552049298978452.\u001b[0m\n"
     ]
    },
    {
     "name": "stdout",
     "output_type": "stream",
     "text": [
      "N_rows:  157203\n"
     ]
    },
    {
     "name": "stderr",
     "output_type": "stream",
     "text": [
      "\u001b[32m[I 2022-08-09 01:27:16,970]\u001b[0m Trial 5 finished with value: 0.9134615384615384 and parameters: {'classifier': 'logreg', 'C': 0.01}. Best is trial 5 with value: 0.9134615384615384.\u001b[0m\n"
     ]
    },
    {
     "name": "stdout",
     "output_type": "stream",
     "text": [
      "N_rows:  157203\n"
     ]
    },
    {
     "name": "stderr",
     "output_type": "stream",
     "text": [
      "\u001b[32m[I 2022-08-09 01:28:07,297]\u001b[0m Trial 6 finished with value: 0.8443835395590665 and parameters: {'classifier': 'lgbm', 'learning_rate': 0.0001, 'max_depth': 18, 'n_estimators': 1000}. Best is trial 5 with value: 0.9134615384615384.\u001b[0m\n"
     ]
    },
    {
     "name": "stdout",
     "output_type": "stream",
     "text": [
      "N_rows:  157203\n"
     ]
    },
    {
     "name": "stderr",
     "output_type": "stream",
     "text": [
      "\u001b[32m[I 2022-08-09 01:31:26,477]\u001b[0m Trial 7 finished with value: 0.8409457714654616 and parameters: {'classifier': 'xgboost', 'learning_rate': 0.2, 'max_depth': 16, 'n_estimators': 1000}. Best is trial 5 with value: 0.9134615384615384.\u001b[0m\n"
     ]
    },
    {
     "name": "stdout",
     "output_type": "stream",
     "text": [
      "N_rows:  157203\n"
     ]
    },
    {
     "name": "stderr",
     "output_type": "stream",
     "text": [
      "\u001b[32m[I 2022-08-09 01:34:30,162]\u001b[0m Trial 8 finished with value: 0.8311363636363637 and parameters: {'classifier': 'xgboost', 'learning_rate': 0.01, 'max_depth': 12, 'n_estimators': 1000}. Best is trial 5 with value: 0.9134615384615384.\u001b[0m\n"
     ]
    },
    {
     "name": "stdout",
     "output_type": "stream",
     "text": [
      "N_rows:  157203\n"
     ]
    },
    {
     "name": "stderr",
     "output_type": "stream",
     "text": [
      "\u001b[32m[I 2022-08-09 01:34:35,356]\u001b[0m Trial 9 finished with value: 0.85627253512371 and parameters: {'classifier': 'logreg', 'C': 1.0}. Best is trial 5 with value: 0.9134615384615384.\u001b[0m\n"
     ]
    },
    {
     "name": "stdout",
     "output_type": "stream",
     "text": [
      "N_rows:  157203\n"
     ]
    },
    {
     "name": "stderr",
     "output_type": "stream",
     "text": [
      "\u001b[32m[I 2022-08-09 01:34:36,823]\u001b[0m Trial 10 finished with value: 0.9143839541547278 and parameters: {'classifier': 'logreg', 'C': 0.01}. Best is trial 10 with value: 0.9143839541547278.\u001b[0m\n"
     ]
    },
    {
     "name": "stdout",
     "output_type": "stream",
     "text": [
      "N_rows:  157203\n"
     ]
    },
    {
     "name": "stderr",
     "output_type": "stream",
     "text": [
      "\u001b[32m[I 2022-08-09 01:34:38,328]\u001b[0m Trial 11 finished with value: 0.9137241458119072 and parameters: {'classifier': 'logreg', 'C': 0.01}. Best is trial 10 with value: 0.9143839541547278.\u001b[0m\n"
     ]
    },
    {
     "name": "stdout",
     "output_type": "stream",
     "text": [
      "N_rows:  157203\n"
     ]
    },
    {
     "name": "stderr",
     "output_type": "stream",
     "text": [
      "\u001b[32m[I 2022-08-09 01:34:39,814]\u001b[0m Trial 12 finished with value: 0.9135420249971333 and parameters: {'classifier': 'logreg', 'C': 0.01}. Best is trial 10 with value: 0.9143839541547278.\u001b[0m\n"
     ]
    },
    {
     "name": "stdout",
     "output_type": "stream",
     "text": [
      "N_rows:  157203\n"
     ]
    },
    {
     "name": "stderr",
     "output_type": "stream",
     "text": [
      "\u001b[32m[I 2022-08-09 01:34:41,290]\u001b[0m Trial 13 finished with value: 0.9143693034769889 and parameters: {'classifier': 'logreg', 'C': 0.01}. Best is trial 10 with value: 0.9143839541547278.\u001b[0m\n"
     ]
    },
    {
     "name": "stdout",
     "output_type": "stream",
     "text": [
      "N_rows:  157203\n"
     ]
    },
    {
     "name": "stderr",
     "output_type": "stream",
     "text": [
      "\u001b[32m[I 2022-08-09 01:34:43,177]\u001b[0m Trial 14 finished with value: 0.8611310292078971 and parameters: {'classifier': 'logreg', 'C': 0.1}. Best is trial 10 with value: 0.9143839541547278.\u001b[0m\n"
     ]
    },
    {
     "name": "stdout",
     "output_type": "stream",
     "text": [
      "N_rows:  157203\n"
     ]
    },
    {
     "name": "stderr",
     "output_type": "stream",
     "text": [
      "\u001b[32m[I 2022-08-09 01:34:44,629]\u001b[0m Trial 15 finished with value: 0.9129550079131811 and parameters: {'classifier': 'logreg', 'C': 0.01}. Best is trial 10 with value: 0.9143839541547278.\u001b[0m\n"
     ]
    },
    {
     "name": "stdout",
     "output_type": "stream",
     "text": [
      "N_rows:  157203\n"
     ]
    },
    {
     "name": "stderr",
     "output_type": "stream",
     "text": [
      "\u001b[32m[I 2022-08-09 01:34:46,085]\u001b[0m Trial 16 finished with value: 0.9135159610595427 and parameters: {'classifier': 'logreg', 'C': 0.01}. Best is trial 10 with value: 0.9143839541547278.\u001b[0m\n"
     ]
    },
    {
     "name": "stdout",
     "output_type": "stream",
     "text": [
      "N_rows:  157203\n"
     ]
    },
    {
     "name": "stderr",
     "output_type": "stream",
     "text": [
      "\u001b[32m[I 2022-08-09 01:34:48,721]\u001b[0m Trial 17 finished with value: 0.8603357268533929 and parameters: {'classifier': 'logreg', 'C': 0.1}. Best is trial 10 with value: 0.9143839541547278.\u001b[0m\n"
     ]
    },
    {
     "name": "stdout",
     "output_type": "stream",
     "text": [
      "N_rows:  157203\n"
     ]
    },
    {
     "name": "stderr",
     "output_type": "stream",
     "text": [
      "\u001b[32m[I 2022-08-09 01:34:50,221]\u001b[0m Trial 18 finished with value: 0.9148573377287712 and parameters: {'classifier': 'logreg', 'C': 0.01}. Best is trial 18 with value: 0.9148573377287712.\u001b[0m\n"
     ]
    },
    {
     "name": "stdout",
     "output_type": "stream",
     "text": [
      "N_rows:  157203\n"
     ]
    },
    {
     "name": "stderr",
     "output_type": "stream",
     "text": [
      "\u001b[32m[I 2022-08-09 01:35:09,258]\u001b[0m Trial 19 finished with value: 0.8328956582633054 and parameters: {'classifier': 'lgbm', 'learning_rate': 0.1, 'max_depth': 4, 'n_estimators': 500}. Best is trial 18 with value: 0.9148573377287712.\u001b[0m\n"
     ]
    },
    {
     "name": "stdout",
     "output_type": "stream",
     "text": [
      "N_rows:  157203\n"
     ]
    },
    {
     "name": "stderr",
     "output_type": "stream",
     "text": [
      "\u001b[32m[I 2022-08-09 01:35:10,771]\u001b[0m Trial 20 finished with value: 0.9124575311438279 and parameters: {'classifier': 'logreg', 'C': 0.01}. Best is trial 18 with value: 0.9148573377287712.\u001b[0m\n"
     ]
    },
    {
     "name": "stdout",
     "output_type": "stream",
     "text": [
      "N_rows:  157203\n"
     ]
    },
    {
     "name": "stderr",
     "output_type": "stream",
     "text": [
      "\u001b[32m[I 2022-08-09 01:35:12,283]\u001b[0m Trial 21 finished with value: 0.9122550123901779 and parameters: {'classifier': 'logreg', 'C': 0.01}. Best is trial 18 with value: 0.9148573377287712.\u001b[0m\n"
     ]
    },
    {
     "name": "stdout",
     "output_type": "stream",
     "text": [
      "N_rows:  157203\n"
     ]
    },
    {
     "name": "stderr",
     "output_type": "stream",
     "text": [
      "\u001b[32m[I 2022-08-09 01:35:13,763]\u001b[0m Trial 22 finished with value: 0.914189892448248 and parameters: {'classifier': 'logreg', 'C': 0.01}. Best is trial 18 with value: 0.9148573377287712.\u001b[0m\n"
     ]
    },
    {
     "name": "stdout",
     "output_type": "stream",
     "text": [
      "N_rows:  157203\n"
     ]
    },
    {
     "name": "stderr",
     "output_type": "stream",
     "text": [
      "\u001b[32m[I 2022-08-09 01:35:15,286]\u001b[0m Trial 23 finished with value: 0.9120617269942131 and parameters: {'classifier': 'logreg', 'C': 0.01}. Best is trial 18 with value: 0.9148573377287712.\u001b[0m\n"
     ]
    },
    {
     "name": "stdout",
     "output_type": "stream",
     "text": [
      "N_rows:  157203\n"
     ]
    },
    {
     "name": "stderr",
     "output_type": "stream",
     "text": [
      "\u001b[32m[I 2022-08-09 01:35:16,805]\u001b[0m Trial 24 finished with value: 0.9141471119133574 and parameters: {'classifier': 'logreg', 'C': 0.01}. Best is trial 18 with value: 0.9148573377287712.\u001b[0m\n"
     ]
    },
    {
     "name": "stdout",
     "output_type": "stream",
     "text": [
      "N_rows:  157203\n"
     ]
    },
    {
     "name": "stderr",
     "output_type": "stream",
     "text": [
      "\u001b[32m[I 2022-08-09 01:35:19,263]\u001b[0m Trial 25 finished with value: 0.8589453860640301 and parameters: {'classifier': 'logreg', 'C': 0.1}. Best is trial 18 with value: 0.9148573377287712.\u001b[0m\n"
     ]
    },
    {
     "name": "stdout",
     "output_type": "stream",
     "text": [
      "N_rows:  157203\n"
     ]
    },
    {
     "name": "stderr",
     "output_type": "stream",
     "text": [
      "\u001b[32m[I 2022-08-09 01:35:24,936]\u001b[0m Trial 26 finished with value: 0.8544154717137071 and parameters: {'classifier': 'logreg', 'C': 1.0}. Best is trial 18 with value: 0.9148573377287712.\u001b[0m\n"
     ]
    },
    {
     "name": "stdout",
     "output_type": "stream",
     "text": [
      "N_rows:  157203\n"
     ]
    },
    {
     "name": "stderr",
     "output_type": "stream",
     "text": [
      "\u001b[32m[I 2022-08-09 01:36:53,409]\u001b[0m Trial 27 finished with value: 0.8402908259129156 and parameters: {'classifier': 'xgboost', 'learning_rate': 0.2, 'max_depth': 14, 'n_estimators': 500}. Best is trial 18 with value: 0.9148573377287712.\u001b[0m\n"
     ]
    },
    {
     "name": "stdout",
     "output_type": "stream",
     "text": [
      "N_rows:  157203\n"
     ]
    },
    {
     "name": "stderr",
     "output_type": "stream",
     "text": [
      "\u001b[32m[I 2022-08-09 01:37:03,742]\u001b[0m Trial 28 finished with value: 0.8071917157514725 and parameters: {'classifier': 'lgbm', 'learning_rate': 0.1, 'max_depth': 3, 'n_estimators': 200}. Best is trial 18 with value: 0.9148573377287712.\u001b[0m\n"
     ]
    },
    {
     "name": "stdout",
     "output_type": "stream",
     "text": [
      "N_rows:  157203\n"
     ]
    },
    {
     "name": "stderr",
     "output_type": "stream",
     "text": [
      "\u001b[32m[I 2022-08-09 01:37:05,477]\u001b[0m Trial 29 finished with value: 0.9136059136059136 and parameters: {'classifier': 'logreg', 'C': 0.01}. Best is trial 18 with value: 0.9148573377287712.\u001b[0m\n"
     ]
    },
    {
     "name": "stdout",
     "output_type": "stream",
     "text": [
      "N_rows:  157203\n"
     ]
    },
    {
     "name": "stderr",
     "output_type": "stream",
     "text": [
      "\u001b[32m[I 2022-08-09 01:37:07,179]\u001b[0m Trial 30 finished with value: 0.9152992835682922 and parameters: {'classifier': 'logreg', 'C': 0.01}. Best is trial 30 with value: 0.9152992835682922.\u001b[0m\n"
     ]
    },
    {
     "name": "stdout",
     "output_type": "stream",
     "text": [
      "N_rows:  157203\n"
     ]
    },
    {
     "name": "stderr",
     "output_type": "stream",
     "text": [
      "\u001b[32m[I 2022-08-09 01:37:08,892]\u001b[0m Trial 31 finished with value: 0.9060724233983287 and parameters: {'classifier': 'logreg', 'C': 0.01}. Best is trial 30 with value: 0.9152992835682922.\u001b[0m\n"
     ]
    },
    {
     "name": "stdout",
     "output_type": "stream",
     "text": [
      "N_rows:  157203\n"
     ]
    },
    {
     "name": "stderr",
     "output_type": "stream",
     "text": [
      "\u001b[32m[I 2022-08-09 01:37:10,571]\u001b[0m Trial 32 finished with value: 0.9123380281690141 and parameters: {'classifier': 'logreg', 'C': 0.01}. Best is trial 30 with value: 0.9152992835682922.\u001b[0m\n"
     ]
    },
    {
     "name": "stdout",
     "output_type": "stream",
     "text": [
      "N_rows:  157203\n"
     ]
    },
    {
     "name": "stderr",
     "output_type": "stream",
     "text": [
      "\u001b[32m[I 2022-08-09 01:37:12,265]\u001b[0m Trial 33 finished with value: 0.9046264902110904 and parameters: {'classifier': 'logreg', 'C': 0.01}. Best is trial 30 with value: 0.9152992835682922.\u001b[0m\n"
     ]
    },
    {
     "name": "stdout",
     "output_type": "stream",
     "text": [
      "N_rows:  157203\n"
     ]
    },
    {
     "name": "stderr",
     "output_type": "stream",
     "text": [
      "\u001b[32m[I 2022-08-09 01:40:03,146]\u001b[0m Trial 34 finished with value: 0.7497616538712429 and parameters: {'classifier': 'xgboost', 'learning_rate': 0.001, 'max_depth': 6, 'n_estimators': 2000}. Best is trial 30 with value: 0.9152992835682922.\u001b[0m\n"
     ]
    },
    {
     "name": "stdout",
     "output_type": "stream",
     "text": [
      "N_rows:  157203\n"
     ]
    },
    {
     "name": "stderr",
     "output_type": "stream",
     "text": [
      "\u001b[32m[I 2022-08-09 01:40:04,929]\u001b[0m Trial 35 finished with value: 0.9164345403899722 and parameters: {'classifier': 'logreg', 'C': 0.01}. Best is trial 35 with value: 0.9164345403899722.\u001b[0m\n"
     ]
    },
    {
     "name": "stdout",
     "output_type": "stream",
     "text": [
      "N_rows:  157203\n"
     ]
    },
    {
     "name": "stderr",
     "output_type": "stream",
     "text": [
      "\u001b[32m[I 2022-08-09 01:40:06,629]\u001b[0m Trial 36 finished with value: 0.9139489644124041 and parameters: {'classifier': 'logreg', 'C': 0.01}. Best is trial 35 with value: 0.9164345403899722.\u001b[0m\n"
     ]
    },
    {
     "name": "stdout",
     "output_type": "stream",
     "text": [
      "N_rows:  157203\n"
     ]
    },
    {
     "name": "stderr",
     "output_type": "stream",
     "text": [
      "\u001b[32m[I 2022-08-09 01:42:41,598]\u001b[0m Trial 37 finished with value: 0.8387212931103465 and parameters: {'classifier': 'lgbm', 'learning_rate': 0.0001, 'max_depth': 13, 'n_estimators': 4000}. Best is trial 35 with value: 0.9164345403899722.\u001b[0m\n"
     ]
    },
    {
     "name": "stdout",
     "output_type": "stream",
     "text": [
      "N_rows:  157203\n"
     ]
    },
    {
     "name": "stderr",
     "output_type": "stream",
     "text": [
      "\u001b[32m[I 2022-08-09 01:42:47,454]\u001b[0m Trial 38 finished with value: 0.8549552152557064 and parameters: {'classifier': 'logreg', 'C': 1.0}. Best is trial 35 with value: 0.9164345403899722.\u001b[0m\n"
     ]
    },
    {
     "name": "stdout",
     "output_type": "stream",
     "text": [
      "N_rows:  157203\n"
     ]
    },
    {
     "name": "stderr",
     "output_type": "stream",
     "text": [
      "\u001b[32m[I 2022-08-09 01:43:52,655]\u001b[0m Trial 39 finished with value: 0.7665506933895232 and parameters: {'classifier': 'xgboost', 'learning_rate': 0.001, 'max_depth': 16, 'n_estimators': 200}. Best is trial 35 with value: 0.9164345403899722.\u001b[0m\n"
     ]
    },
    {
     "name": "stdout",
     "output_type": "stream",
     "text": [
      "N_rows:  157203\n"
     ]
    },
    {
     "name": "stderr",
     "output_type": "stream",
     "text": [
      "\u001b[32m[I 2022-08-09 01:44:16,932]\u001b[0m Trial 40 finished with value: 0.840518693162681 and parameters: {'classifier': 'lgbm', 'learning_rate': 0.1, 'max_depth': 8, 'n_estimators': 500}. Best is trial 35 with value: 0.9164345403899722.\u001b[0m\n"
     ]
    },
    {
     "name": "stdout",
     "output_type": "stream",
     "text": [
      "N_rows:  157203\n"
     ]
    },
    {
     "name": "stderr",
     "output_type": "stream",
     "text": [
      "\u001b[32m[I 2022-08-09 01:44:18,460]\u001b[0m Trial 41 finished with value: 0.9060877251132472 and parameters: {'classifier': 'logreg', 'C': 0.01}. Best is trial 35 with value: 0.9164345403899722.\u001b[0m\n"
     ]
    },
    {
     "name": "stdout",
     "output_type": "stream",
     "text": [
      "N_rows:  157203\n"
     ]
    },
    {
     "name": "stderr",
     "output_type": "stream",
     "text": [
      "\u001b[32m[I 2022-08-09 01:44:19,920]\u001b[0m Trial 42 finished with value: 0.9136332805787927 and parameters: {'classifier': 'logreg', 'C': 0.01}. Best is trial 35 with value: 0.9164345403899722.\u001b[0m\n"
     ]
    },
    {
     "name": "stdout",
     "output_type": "stream",
     "text": [
      "N_rows:  157203\n"
     ]
    },
    {
     "name": "stderr",
     "output_type": "stream",
     "text": [
      "\u001b[32m[I 2022-08-09 01:44:21,417]\u001b[0m Trial 43 finished with value: 0.9050273102218259 and parameters: {'classifier': 'logreg', 'C': 0.01}. Best is trial 35 with value: 0.9164345403899722.\u001b[0m\n"
     ]
    },
    {
     "name": "stdout",
     "output_type": "stream",
     "text": [
      "N_rows:  157203\n"
     ]
    },
    {
     "name": "stderr",
     "output_type": "stream",
     "text": [
      "\u001b[32m[I 2022-08-09 01:44:23,098]\u001b[0m Trial 44 finished with value: 0.9122905656134038 and parameters: {'classifier': 'logreg', 'C': 0.01}. Best is trial 35 with value: 0.9164345403899722.\u001b[0m\n"
     ]
    },
    {
     "name": "stdout",
     "output_type": "stream",
     "text": [
      "N_rows:  157203\n"
     ]
    },
    {
     "name": "stderr",
     "output_type": "stream",
     "text": [
      "\u001b[32m[I 2022-08-09 01:44:24,768]\u001b[0m Trial 45 finished with value: 0.9142661179698217 and parameters: {'classifier': 'logreg', 'C': 0.01}. Best is trial 35 with value: 0.9164345403899722.\u001b[0m\n"
     ]
    },
    {
     "name": "stdout",
     "output_type": "stream",
     "text": [
      "N_rows:  157203\n"
     ]
    },
    {
     "name": "stderr",
     "output_type": "stream",
     "text": [
      "\u001b[32m[I 2022-08-09 01:44:27,200]\u001b[0m Trial 46 finished with value: 0.8598689831956707 and parameters: {'classifier': 'logreg', 'C': 0.1}. Best is trial 35 with value: 0.9164345403899722.\u001b[0m\n"
     ]
    },
    {
     "name": "stdout",
     "output_type": "stream",
     "text": [
      "N_rows:  157203\n"
     ]
    },
    {
     "name": "stderr",
     "output_type": "stream",
     "text": [
      "\u001b[32m[I 2022-08-09 02:12:25,132]\u001b[0m Trial 47 finished with value: 0.7799398985171684 and parameters: {'classifier': 'xgboost', 'learning_rate': 0.0001, 'max_depth': 19, 'n_estimators': 4000}. Best is trial 35 with value: 0.9164345403899722.\u001b[0m\n"
     ]
    },
    {
     "name": "stdout",
     "output_type": "stream",
     "text": [
      "N_rows:  157203\n"
     ]
    },
    {
     "name": "stderr",
     "output_type": "stream",
     "text": [
      "\u001b[32m[I 2022-08-09 02:12:31,089]\u001b[0m Trial 48 finished with value: 0.8541683845963552 and parameters: {'classifier': 'logreg', 'C': 1.0}. Best is trial 35 with value: 0.9164345403899722.\u001b[0m\n"
     ]
    },
    {
     "name": "stdout",
     "output_type": "stream",
     "text": [
      "N_rows:  157203\n"
     ]
    },
    {
     "name": "stderr",
     "output_type": "stream",
     "text": [
      "\u001b[32m[I 2022-08-09 02:12:32,593]\u001b[0m Trial 49 finished with value: 0.9152465348784368 and parameters: {'classifier': 'logreg', 'C': 0.01}. Best is trial 35 with value: 0.9164345403899722.\u001b[0m\n"
     ]
    },
    {
     "name": "stdout",
     "output_type": "stream",
     "text": [
      "N_rows:  157203\n"
     ]
    },
    {
     "name": "stderr",
     "output_type": "stream",
     "text": [
      "\u001b[32m[I 2022-08-09 02:12:34,051]\u001b[0m Trial 50 finished with value: 0.9142824575401801 and parameters: {'classifier': 'logreg', 'C': 0.01}. Best is trial 35 with value: 0.9164345403899722.\u001b[0m\n"
     ]
    },
    {
     "name": "stdout",
     "output_type": "stream",
     "text": [
      "N_rows:  157203\n"
     ]
    },
    {
     "name": "stderr",
     "output_type": "stream",
     "text": [
      "\u001b[32m[I 2022-08-09 02:12:35,580]\u001b[0m Trial 51 finished with value: 0.9119159400849541 and parameters: {'classifier': 'logreg', 'C': 0.01}. Best is trial 35 with value: 0.9164345403899722.\u001b[0m\n"
     ]
    },
    {
     "name": "stdout",
     "output_type": "stream",
     "text": [
      "N_rows:  157203\n"
     ]
    },
    {
     "name": "stderr",
     "output_type": "stream",
     "text": [
      "\u001b[32m[I 2022-08-09 02:12:37,063]\u001b[0m Trial 52 finished with value: 0.9132369299221357 and parameters: {'classifier': 'logreg', 'C': 0.01}. Best is trial 35 with value: 0.9164345403899722.\u001b[0m\n"
     ]
    },
    {
     "name": "stdout",
     "output_type": "stream",
     "text": [
      "N_rows:  157203\n"
     ]
    },
    {
     "name": "stderr",
     "output_type": "stream",
     "text": [
      "\u001b[32m[I 2022-08-09 02:12:38,525]\u001b[0m Trial 53 finished with value: 0.9133529145955717 and parameters: {'classifier': 'logreg', 'C': 0.01}. Best is trial 35 with value: 0.9164345403899722.\u001b[0m\n"
     ]
    },
    {
     "name": "stdout",
     "output_type": "stream",
     "text": [
      "N_rows:  157203\n"
     ]
    },
    {
     "name": "stderr",
     "output_type": "stream",
     "text": [
      "\u001b[32m[I 2022-08-09 02:12:40,034]\u001b[0m Trial 54 finished with value: 0.912272829257348 and parameters: {'classifier': 'logreg', 'C': 0.01}. Best is trial 35 with value: 0.9164345403899722.\u001b[0m\n"
     ]
    },
    {
     "name": "stdout",
     "output_type": "stream",
     "text": [
      "N_rows:  157203\n"
     ]
    },
    {
     "name": "stderr",
     "output_type": "stream",
     "text": [
      "\u001b[32m[I 2022-08-09 02:12:41,510]\u001b[0m Trial 55 finished with value: 0.913235794487921 and parameters: {'classifier': 'logreg', 'C': 0.01}. Best is trial 35 with value: 0.9164345403899722.\u001b[0m\n"
     ]
    },
    {
     "name": "stdout",
     "output_type": "stream",
     "text": [
      "N_rows:  157203\n"
     ]
    },
    {
     "name": "stderr",
     "output_type": "stream",
     "text": [
      "\u001b[32m[I 2022-08-09 02:14:00,487]\u001b[0m Trial 56 finished with value: 0.8443162099995964 and parameters: {'classifier': 'lgbm', 'learning_rate': 0.2, 'max_depth': 11, 'n_estimators': 2000}. Best is trial 35 with value: 0.9164345403899722.\u001b[0m\n"
     ]
    },
    {
     "name": "stdout",
     "output_type": "stream",
     "text": [
      "N_rows:  157203\n"
     ]
    },
    {
     "name": "stderr",
     "output_type": "stream",
     "text": [
      "\u001b[32m[I 2022-08-09 02:14:04,023]\u001b[0m Trial 57 finished with value: 0.8522941804153329 and parameters: {'classifier': 'logreg', 'C': 1.0}. Best is trial 35 with value: 0.9164345403899722.\u001b[0m\n"
     ]
    },
    {
     "name": "stdout",
     "output_type": "stream",
     "text": [
      "N_rows:  157203\n"
     ]
    },
    {
     "name": "stderr",
     "output_type": "stream",
     "text": [
      "\u001b[32m[I 2022-08-09 02:14:05,469]\u001b[0m Trial 58 finished with value: 0.9136952078128548 and parameters: {'classifier': 'logreg', 'C': 0.01}. Best is trial 35 with value: 0.9164345403899722.\u001b[0m\n"
     ]
    },
    {
     "name": "stdout",
     "output_type": "stream",
     "text": [
      "N_rows:  157203\n"
     ]
    },
    {
     "name": "stderr",
     "output_type": "stream",
     "text": [
      "\u001b[32m[I 2022-08-09 02:14:07,693]\u001b[0m Trial 59 finished with value: 0.8602369668246446 and parameters: {'classifier': 'logreg', 'C': 0.1}. Best is trial 35 with value: 0.9164345403899722.\u001b[0m\n"
     ]
    },
    {
     "name": "stdout",
     "output_type": "stream",
     "text": [
      "N_rows:  157203\n"
     ]
    },
    {
     "name": "stderr",
     "output_type": "stream",
     "text": [
      "\u001b[32m[I 2022-08-09 02:15:11,277]\u001b[0m Trial 60 finished with value: 0.7713191785589976 and parameters: {'classifier': 'xgboost', 'learning_rate': 0.001, 'max_depth': 16, 'n_estimators': 200}. Best is trial 35 with value: 0.9164345403899722.\u001b[0m\n"
     ]
    },
    {
     "name": "stdout",
     "output_type": "stream",
     "text": [
      "N_rows:  157203\n"
     ]
    },
    {
     "name": "stderr",
     "output_type": "stream",
     "text": [
      "\u001b[32m[I 2022-08-09 02:15:12,834]\u001b[0m Trial 61 finished with value: 0.912125340599455 and parameters: {'classifier': 'logreg', 'C': 0.01}. Best is trial 35 with value: 0.9164345403899722.\u001b[0m\n"
     ]
    },
    {
     "name": "stdout",
     "output_type": "stream",
     "text": [
      "N_rows:  157203\n"
     ]
    },
    {
     "name": "stderr",
     "output_type": "stream",
     "text": [
      "\u001b[32m[I 2022-08-09 02:15:14,337]\u001b[0m Trial 62 finished with value: 0.9149600833044081 and parameters: {'classifier': 'logreg', 'C': 0.01}. Best is trial 35 with value: 0.9164345403899722.\u001b[0m\n"
     ]
    },
    {
     "name": "stdout",
     "output_type": "stream",
     "text": [
      "N_rows:  157203\n"
     ]
    },
    {
     "name": "stderr",
     "output_type": "stream",
     "text": [
      "\u001b[32m[I 2022-08-09 02:15:15,805]\u001b[0m Trial 63 finished with value: 0.9150326797385621 and parameters: {'classifier': 'logreg', 'C': 0.01}. Best is trial 35 with value: 0.9164345403899722.\u001b[0m\n"
     ]
    },
    {
     "name": "stdout",
     "output_type": "stream",
     "text": [
      "N_rows:  157203\n"
     ]
    },
    {
     "name": "stderr",
     "output_type": "stream",
     "text": [
      "\u001b[32m[I 2022-08-09 02:15:17,354]\u001b[0m Trial 64 finished with value: 0.9149710128452881 and parameters: {'classifier': 'logreg', 'C': 0.01}. Best is trial 35 with value: 0.9164345403899722.\u001b[0m\n"
     ]
    },
    {
     "name": "stdout",
     "output_type": "stream",
     "text": [
      "N_rows:  157203\n"
     ]
    },
    {
     "name": "stderr",
     "output_type": "stream",
     "text": [
      "\u001b[32m[I 2022-08-09 02:15:18,797]\u001b[0m Trial 65 finished with value: 0.9149207084153258 and parameters: {'classifier': 'logreg', 'C': 0.01}. Best is trial 35 with value: 0.9164345403899722.\u001b[0m\n"
     ]
    },
    {
     "name": "stdout",
     "output_type": "stream",
     "text": [
      "N_rows:  157203\n"
     ]
    },
    {
     "name": "stderr",
     "output_type": "stream",
     "text": [
      "\u001b[32m[I 2022-08-09 02:15:20,490]\u001b[0m Trial 66 finished with value: 0.9124054633705836 and parameters: {'classifier': 'logreg', 'C': 0.01}. Best is trial 35 with value: 0.9164345403899722.\u001b[0m\n"
     ]
    },
    {
     "name": "stdout",
     "output_type": "stream",
     "text": [
      "N_rows:  157203\n"
     ]
    },
    {
     "name": "stderr",
     "output_type": "stream",
     "text": [
      "\u001b[32m[I 2022-08-09 02:15:22,168]\u001b[0m Trial 67 finished with value: 0.9103826359364511 and parameters: {'classifier': 'logreg', 'C': 0.01}. Best is trial 35 with value: 0.9164345403899722.\u001b[0m\n"
     ]
    },
    {
     "name": "stdout",
     "output_type": "stream",
     "text": [
      "N_rows:  157203\n"
     ]
    },
    {
     "name": "stderr",
     "output_type": "stream",
     "text": [
      "\u001b[32m[I 2022-08-09 02:15:23,918]\u001b[0m Trial 68 finished with value: 0.9125197027696464 and parameters: {'classifier': 'logreg', 'C': 0.01}. Best is trial 35 with value: 0.9164345403899722.\u001b[0m\n"
     ]
    },
    {
     "name": "stdout",
     "output_type": "stream",
     "text": [
      "N_rows:  157203\n"
     ]
    },
    {
     "name": "stderr",
     "output_type": "stream",
     "text": [
      "\u001b[32m[I 2022-08-09 02:15:25,597]\u001b[0m Trial 69 finished with value: 0.9132399457749661 and parameters: {'classifier': 'logreg', 'C': 0.01}. Best is trial 35 with value: 0.9164345403899722.\u001b[0m\n"
     ]
    },
    {
     "name": "stdout",
     "output_type": "stream",
     "text": [
      "N_rows:  157203\n"
     ]
    },
    {
     "name": "stderr",
     "output_type": "stream",
     "text": [
      "\u001b[32m[I 2022-08-09 02:16:18,045]\u001b[0m Trial 70 finished with value: 0.8431801303737932 and parameters: {'classifier': 'lgbm', 'learning_rate': 0.2, 'max_depth': 4, 'n_estimators': 2000}. Best is trial 35 with value: 0.9164345403899722.\u001b[0m\n"
     ]
    },
    {
     "name": "stdout",
     "output_type": "stream",
     "text": [
      "N_rows:  157203\n"
     ]
    },
    {
     "name": "stderr",
     "output_type": "stream",
     "text": [
      "\u001b[32m[I 2022-08-09 02:16:19,814]\u001b[0m Trial 71 finished with value: 0.9141621129326047 and parameters: {'classifier': 'logreg', 'C': 0.01}. Best is trial 35 with value: 0.9164345403899722.\u001b[0m\n"
     ]
    },
    {
     "name": "stdout",
     "output_type": "stream",
     "text": [
      "N_rows:  157203\n"
     ]
    },
    {
     "name": "stderr",
     "output_type": "stream",
     "text": [
      "\u001b[32m[I 2022-08-09 02:16:21,498]\u001b[0m Trial 72 finished with value: 0.9148177951488677 and parameters: {'classifier': 'logreg', 'C': 0.01}. Best is trial 35 with value: 0.9164345403899722.\u001b[0m\n"
     ]
    },
    {
     "name": "stdout",
     "output_type": "stream",
     "text": [
      "N_rows:  157203\n"
     ]
    },
    {
     "name": "stderr",
     "output_type": "stream",
     "text": [
      "\u001b[32m[I 2022-08-09 02:16:23,216]\u001b[0m Trial 73 finished with value: 0.9145041705282669 and parameters: {'classifier': 'logreg', 'C': 0.01}. Best is trial 35 with value: 0.9164345403899722.\u001b[0m\n"
     ]
    },
    {
     "name": "stdout",
     "output_type": "stream",
     "text": [
      "N_rows:  157203\n"
     ]
    },
    {
     "name": "stderr",
     "output_type": "stream",
     "text": [
      "\u001b[32m[I 2022-08-09 02:16:24,929]\u001b[0m Trial 74 finished with value: 0.9135830324909747 and parameters: {'classifier': 'logreg', 'C': 0.01}. Best is trial 35 with value: 0.9164345403899722.\u001b[0m\n"
     ]
    },
    {
     "name": "stdout",
     "output_type": "stream",
     "text": [
      "N_rows:  157203\n"
     ]
    },
    {
     "name": "stderr",
     "output_type": "stream",
     "text": [
      "\u001b[32m[I 2022-08-09 02:16:26,626]\u001b[0m Trial 75 finished with value: 0.9116336082014709 and parameters: {'classifier': 'logreg', 'C': 0.01}. Best is trial 35 with value: 0.9164345403899722.\u001b[0m\n"
     ]
    },
    {
     "name": "stdout",
     "output_type": "stream",
     "text": [
      "N_rows:  157203\n"
     ]
    },
    {
     "name": "stderr",
     "output_type": "stream",
     "text": [
      "\u001b[32m[I 2022-08-09 02:16:29,467]\u001b[0m Trial 76 finished with value: 0.8591763142911368 and parameters: {'classifier': 'logreg', 'C': 0.1}. Best is trial 35 with value: 0.9164345403899722.\u001b[0m\n"
     ]
    },
    {
     "name": "stdout",
     "output_type": "stream",
     "text": [
      "N_rows:  157203\n"
     ]
    },
    {
     "name": "stderr",
     "output_type": "stream",
     "text": [
      "\u001b[32m[I 2022-08-09 02:16:31,162]\u001b[0m Trial 77 finished with value: 0.911850685855633 and parameters: {'classifier': 'logreg', 'C': 0.01}. Best is trial 35 with value: 0.9164345403899722.\u001b[0m\n"
     ]
    },
    {
     "name": "stdout",
     "output_type": "stream",
     "text": [
      "N_rows:  157203\n"
     ]
    },
    {
     "name": "stderr",
     "output_type": "stream",
     "text": [
      "\u001b[32m[I 2022-08-09 02:16:32,909]\u001b[0m Trial 78 finished with value: 0.9140018273184103 and parameters: {'classifier': 'logreg', 'C': 0.01}. Best is trial 35 with value: 0.9164345403899722.\u001b[0m\n"
     ]
    },
    {
     "name": "stdout",
     "output_type": "stream",
     "text": [
      "N_rows:  157203\n"
     ]
    },
    {
     "name": "stderr",
     "output_type": "stream",
     "text": [
      "\u001b[32m[I 2022-08-09 02:34:49,376]\u001b[0m Trial 79 finished with value: 0.7673950256771724 and parameters: {'classifier': 'xgboost', 'learning_rate': 0.0001, 'max_depth': 14, 'n_estimators': 4000}. Best is trial 35 with value: 0.9164345403899722.\u001b[0m\n"
     ]
    },
    {
     "name": "stdout",
     "output_type": "stream",
     "text": [
      "N_rows:  157203\n"
     ]
    },
    {
     "name": "stderr",
     "output_type": "stream",
     "text": [
      "\u001b[32m[I 2022-08-09 02:34:51,591]\u001b[0m Trial 80 finished with value: 0.9136772577155221 and parameters: {'classifier': 'logreg', 'C': 0.01}. Best is trial 35 with value: 0.9164345403899722.\u001b[0m\n"
     ]
    },
    {
     "name": "stdout",
     "output_type": "stream",
     "text": [
      "N_rows:  157203\n"
     ]
    },
    {
     "name": "stderr",
     "output_type": "stream",
     "text": [
      "\u001b[32m[I 2022-08-09 02:34:53,065]\u001b[0m Trial 81 finished with value: 0.9125454345192202 and parameters: {'classifier': 'logreg', 'C': 0.01}. Best is trial 35 with value: 0.9164345403899722.\u001b[0m\n"
     ]
    },
    {
     "name": "stdout",
     "output_type": "stream",
     "text": [
      "N_rows:  157203\n"
     ]
    },
    {
     "name": "stderr",
     "output_type": "stream",
     "text": [
      "\u001b[32m[I 2022-08-09 02:34:54,547]\u001b[0m Trial 82 finished with value: 0.91260390923388 and parameters: {'classifier': 'logreg', 'C': 0.01}. Best is trial 35 with value: 0.9164345403899722.\u001b[0m\n"
     ]
    },
    {
     "name": "stdout",
     "output_type": "stream",
     "text": [
      "N_rows:  157203\n"
     ]
    },
    {
     "name": "stderr",
     "output_type": "stream",
     "text": [
      "\u001b[32m[I 2022-08-09 02:34:56,029]\u001b[0m Trial 83 finished with value: 0.9143476277372263 and parameters: {'classifier': 'logreg', 'C': 0.01}. Best is trial 35 with value: 0.9164345403899722.\u001b[0m\n"
     ]
    },
    {
     "name": "stdout",
     "output_type": "stream",
     "text": [
      "N_rows:  157203\n"
     ]
    },
    {
     "name": "stderr",
     "output_type": "stream",
     "text": [
      "\u001b[32m[I 2022-08-09 02:34:57,506]\u001b[0m Trial 84 finished with value: 0.9134865813611143 and parameters: {'classifier': 'logreg', 'C': 0.01}. Best is trial 35 with value: 0.9164345403899722.\u001b[0m\n"
     ]
    },
    {
     "name": "stdout",
     "output_type": "stream",
     "text": [
      "N_rows:  157203\n"
     ]
    },
    {
     "name": "stderr",
     "output_type": "stream",
     "text": [
      "\u001b[32m[I 2022-08-09 02:35:02,703]\u001b[0m Trial 85 finished with value: 0.8543376923394249 and parameters: {'classifier': 'logreg', 'C': 1.0}. Best is trial 35 with value: 0.9164345403899722.\u001b[0m\n"
     ]
    },
    {
     "name": "stdout",
     "output_type": "stream",
     "text": [
      "N_rows:  157203\n"
     ]
    },
    {
     "name": "stderr",
     "output_type": "stream",
     "text": [
      "\u001b[32m[I 2022-08-09 02:35:04,166]\u001b[0m Trial 86 finished with value: 0.9145406704038439 and parameters: {'classifier': 'logreg', 'C': 0.01}. Best is trial 35 with value: 0.9164345403899722.\u001b[0m\n"
     ]
    },
    {
     "name": "stdout",
     "output_type": "stream",
     "text": [
      "N_rows:  157203\n"
     ]
    },
    {
     "name": "stderr",
     "output_type": "stream",
     "text": [
      "\u001b[32m[I 2022-08-09 02:35:26,871]\u001b[0m Trial 87 finished with value: 0.8391877998629198 and parameters: {'classifier': 'lgbm', 'learning_rate': 0.1, 'max_depth': 6, 'n_estimators': 500}. Best is trial 35 with value: 0.9164345403899722.\u001b[0m\n"
     ]
    },
    {
     "name": "stdout",
     "output_type": "stream",
     "text": [
      "N_rows:  157203\n"
     ]
    },
    {
     "name": "stderr",
     "output_type": "stream",
     "text": [
      "\u001b[32m[I 2022-08-09 02:35:28,387]\u001b[0m Trial 88 finished with value: 0.9125374127036914 and parameters: {'classifier': 'logreg', 'C': 0.01}. Best is trial 35 with value: 0.9164345403899722.\u001b[0m\n"
     ]
    },
    {
     "name": "stdout",
     "output_type": "stream",
     "text": [
      "N_rows:  157203\n"
     ]
    },
    {
     "name": "stderr",
     "output_type": "stream",
     "text": [
      "\u001b[32m[I 2022-08-09 02:35:29,851]\u001b[0m Trial 89 finished with value: 0.9133912248628885 and parameters: {'classifier': 'logreg', 'C': 0.01}. Best is trial 35 with value: 0.9164345403899722.\u001b[0m\n"
     ]
    },
    {
     "name": "stdout",
     "output_type": "stream",
     "text": [
      "N_rows:  157203\n"
     ]
    },
    {
     "name": "stderr",
     "output_type": "stream",
     "text": [
      "\u001b[32m[I 2022-08-09 02:35:31,324]\u001b[0m Trial 90 finished with value: 0.914671006742618 and parameters: {'classifier': 'logreg', 'C': 0.01}. Best is trial 35 with value: 0.9164345403899722.\u001b[0m\n"
     ]
    },
    {
     "name": "stdout",
     "output_type": "stream",
     "text": [
      "N_rows:  157203\n"
     ]
    },
    {
     "name": "stderr",
     "output_type": "stream",
     "text": [
      "\u001b[32m[I 2022-08-09 02:35:32,803]\u001b[0m Trial 91 finished with value: 0.9153525046382189 and parameters: {'classifier': 'logreg', 'C': 0.01}. Best is trial 35 with value: 0.9164345403899722.\u001b[0m\n"
     ]
    },
    {
     "name": "stdout",
     "output_type": "stream",
     "text": [
      "N_rows:  157203\n"
     ]
    },
    {
     "name": "stderr",
     "output_type": "stream",
     "text": [
      "\u001b[32m[I 2022-08-09 02:35:34,272]\u001b[0m Trial 92 finished with value: 0.9133627019089574 and parameters: {'classifier': 'logreg', 'C': 0.01}. Best is trial 35 with value: 0.9164345403899722.\u001b[0m\n"
     ]
    },
    {
     "name": "stdout",
     "output_type": "stream",
     "text": [
      "N_rows:  157203\n"
     ]
    },
    {
     "name": "stderr",
     "output_type": "stream",
     "text": [
      "\u001b[32m[I 2022-08-09 02:35:35,754]\u001b[0m Trial 93 finished with value: 0.9108788491795909 and parameters: {'classifier': 'logreg', 'C': 0.01}. Best is trial 35 with value: 0.9164345403899722.\u001b[0m\n"
     ]
    },
    {
     "name": "stdout",
     "output_type": "stream",
     "text": [
      "N_rows:  157203\n"
     ]
    },
    {
     "name": "stderr",
     "output_type": "stream",
     "text": [
      "\u001b[32m[I 2022-08-09 02:35:37,237]\u001b[0m Trial 94 finished with value: 0.910958904109589 and parameters: {'classifier': 'logreg', 'C': 0.01}. Best is trial 35 with value: 0.9164345403899722.\u001b[0m\n"
     ]
    },
    {
     "name": "stdout",
     "output_type": "stream",
     "text": [
      "N_rows:  157203\n"
     ]
    },
    {
     "name": "stderr",
     "output_type": "stream",
     "text": [
      "\u001b[32m[I 2022-08-09 02:35:38,690]\u001b[0m Trial 95 finished with value: 0.9118108471537427 and parameters: {'classifier': 'logreg', 'C': 0.01}. Best is trial 35 with value: 0.9164345403899722.\u001b[0m\n"
     ]
    },
    {
     "name": "stdout",
     "output_type": "stream",
     "text": [
      "N_rows:  157203\n"
     ]
    },
    {
     "name": "stderr",
     "output_type": "stream",
     "text": [
      "\u001b[32m[I 2022-08-09 02:35:41,225]\u001b[0m Trial 96 finished with value: 0.8615882380929724 and parameters: {'classifier': 'logreg', 'C': 0.1}. Best is trial 35 with value: 0.9164345403899722.\u001b[0m\n"
     ]
    },
    {
     "name": "stdout",
     "output_type": "stream",
     "text": [
      "N_rows:  157203\n"
     ]
    },
    {
     "name": "stderr",
     "output_type": "stream",
     "text": [
      "\u001b[32m[I 2022-08-09 02:37:34,537]\u001b[0m Trial 97 finished with value: 0.841938536224133 and parameters: {'classifier': 'xgboost', 'learning_rate': 0.1, 'max_depth': 17, 'n_estimators': 500}. Best is trial 35 with value: 0.9164345403899722.\u001b[0m\n"
     ]
    },
    {
     "name": "stdout",
     "output_type": "stream",
     "text": [
      "N_rows:  157203\n"
     ]
    },
    {
     "name": "stderr",
     "output_type": "stream",
     "text": [
      "\u001b[32m[I 2022-08-09 02:37:36,286]\u001b[0m Trial 98 finished with value: 0.9149060347846387 and parameters: {'classifier': 'logreg', 'C': 0.01}. Best is trial 35 with value: 0.9164345403899722.\u001b[0m\n"
     ]
    },
    {
     "name": "stdout",
     "output_type": "stream",
     "text": [
      "N_rows:  157203\n"
     ]
    },
    {
     "name": "stderr",
     "output_type": "stream",
     "text": [
      "\u001b[32m[I 2022-08-09 02:37:41,449]\u001b[0m Trial 99 finished with value: 0.8532423208191127 and parameters: {'classifier': 'logreg', 'C': 1.0}. Best is trial 35 with value: 0.9164345403899722.\u001b[0m\n"
     ]
    },
    {
     "name": "stdout",
     "output_type": "stream",
     "text": [
      "N_rows:  157203\n"
     ]
    },
    {
     "name": "stderr",
     "output_type": "stream",
     "text": [
      "\u001b[32m[I 2022-08-09 02:37:43,175]\u001b[0m Trial 100 finished with value: 0.914967162115451 and parameters: {'classifier': 'logreg', 'C': 0.01}. Best is trial 35 with value: 0.9164345403899722.\u001b[0m\n"
     ]
    },
    {
     "name": "stdout",
     "output_type": "stream",
     "text": [
      "N_rows:  157203\n"
     ]
    },
    {
     "name": "stderr",
     "output_type": "stream",
     "text": [
      "\u001b[32m[I 2022-08-09 02:37:44,875]\u001b[0m Trial 101 finished with value: 0.9120333822036766 and parameters: {'classifier': 'logreg', 'C': 0.01}. Best is trial 35 with value: 0.9164345403899722.\u001b[0m\n"
     ]
    },
    {
     "name": "stdout",
     "output_type": "stream",
     "text": [
      "N_rows:  157203\n"
     ]
    },
    {
     "name": "stderr",
     "output_type": "stream",
     "text": [
      "\u001b[32m[I 2022-08-09 02:37:46,552]\u001b[0m Trial 102 finished with value: 0.9114984914515588 and parameters: {'classifier': 'logreg', 'C': 0.01}. Best is trial 35 with value: 0.9164345403899722.\u001b[0m\n"
     ]
    },
    {
     "name": "stdout",
     "output_type": "stream",
     "text": [
      "N_rows:  157203\n"
     ]
    },
    {
     "name": "stderr",
     "output_type": "stream",
     "text": [
      "\u001b[32m[I 2022-08-09 02:37:48,286]\u001b[0m Trial 103 finished with value: 0.9065380028190394 and parameters: {'classifier': 'logreg', 'C': 0.01}. Best is trial 35 with value: 0.9164345403899722.\u001b[0m\n"
     ]
    },
    {
     "name": "stdout",
     "output_type": "stream",
     "text": [
      "N_rows:  157203\n"
     ]
    },
    {
     "name": "stderr",
     "output_type": "stream",
     "text": [
      "\u001b[32m[I 2022-08-09 02:37:49,961]\u001b[0m Trial 104 finished with value: 0.9135717560751949 and parameters: {'classifier': 'logreg', 'C': 0.01}. Best is trial 35 with value: 0.9164345403899722.\u001b[0m\n"
     ]
    },
    {
     "name": "stdout",
     "output_type": "stream",
     "text": [
      "N_rows:  157203\n"
     ]
    },
    {
     "name": "stderr",
     "output_type": "stream",
     "text": [
      "\u001b[32m[I 2022-08-09 02:37:51,644]\u001b[0m Trial 105 finished with value: 0.9125284738041002 and parameters: {'classifier': 'logreg', 'C': 0.01}. Best is trial 35 with value: 0.9164345403899722.\u001b[0m\n"
     ]
    },
    {
     "name": "stdout",
     "output_type": "stream",
     "text": [
      "N_rows:  157203\n"
     ]
    },
    {
     "name": "stderr",
     "output_type": "stream",
     "text": [
      "\u001b[32m[I 2022-08-09 02:38:43,209]\u001b[0m Trial 106 finished with value: 0.8445268119737319 and parameters: {'classifier': 'lgbm', 'learning_rate': 0.01, 'max_depth': 20, 'n_estimators': 1000}. Best is trial 35 with value: 0.9164345403899722.\u001b[0m\n"
     ]
    },
    {
     "name": "stdout",
     "output_type": "stream",
     "text": [
      "N_rows:  157203\n"
     ]
    },
    {
     "name": "stderr",
     "output_type": "stream",
     "text": [
      "\u001b[32m[I 2022-08-09 02:38:44,972]\u001b[0m Trial 107 finished with value: 0.9139489644124041 and parameters: {'classifier': 'logreg', 'C': 0.01}. Best is trial 35 with value: 0.9164345403899722.\u001b[0m\n"
     ]
    },
    {
     "name": "stdout",
     "output_type": "stream",
     "text": [
      "N_rows:  157203\n"
     ]
    },
    {
     "name": "stderr",
     "output_type": "stream",
     "text": [
      "\u001b[32m[I 2022-08-09 02:38:46,672]\u001b[0m Trial 108 finished with value: 0.9137852593266605 and parameters: {'classifier': 'logreg', 'C': 0.01}. Best is trial 35 with value: 0.9164345403899722.\u001b[0m\n"
     ]
    },
    {
     "name": "stdout",
     "output_type": "stream",
     "text": [
      "N_rows:  157203\n"
     ]
    },
    {
     "name": "stderr",
     "output_type": "stream",
     "text": [
      "\u001b[32m[I 2022-08-09 02:38:48,351]\u001b[0m Trial 109 finished with value: 0.9133484162895927 and parameters: {'classifier': 'logreg', 'C': 0.01}. Best is trial 35 with value: 0.9164345403899722.\u001b[0m\n"
     ]
    },
    {
     "name": "stdout",
     "output_type": "stream",
     "text": [
      "N_rows:  157203\n"
     ]
    },
    {
     "name": "stderr",
     "output_type": "stream",
     "text": [
      "\u001b[32m[I 2022-08-09 02:38:50,067]\u001b[0m Trial 110 finished with value: 0.9137637580846477 and parameters: {'classifier': 'logreg', 'C': 0.01}. Best is trial 35 with value: 0.9164345403899722.\u001b[0m\n"
     ]
    },
    {
     "name": "stdout",
     "output_type": "stream",
     "text": [
      "N_rows:  157203\n"
     ]
    },
    {
     "name": "stderr",
     "output_type": "stream",
     "text": [
      "\u001b[32m[I 2022-08-09 02:38:51,759]\u001b[0m Trial 111 finished with value: 0.9134582231927365 and parameters: {'classifier': 'logreg', 'C': 0.01}. Best is trial 35 with value: 0.9164345403899722.\u001b[0m\n"
     ]
    },
    {
     "name": "stdout",
     "output_type": "stream",
     "text": [
      "N_rows:  157203\n"
     ]
    },
    {
     "name": "stderr",
     "output_type": "stream",
     "text": [
      "\u001b[32m[I 2022-08-09 02:38:53,505]\u001b[0m Trial 112 finished with value: 0.912819337839386 and parameters: {'classifier': 'logreg', 'C': 0.01}. Best is trial 35 with value: 0.9164345403899722.\u001b[0m\n"
     ]
    },
    {
     "name": "stdout",
     "output_type": "stream",
     "text": [
      "N_rows:  157203\n"
     ]
    },
    {
     "name": "stderr",
     "output_type": "stream",
     "text": [
      "\u001b[32m[I 2022-08-09 02:38:55,221]\u001b[0m Trial 113 finished with value: 0.9144475920679886 and parameters: {'classifier': 'logreg', 'C': 0.01}. Best is trial 35 with value: 0.9164345403899722.\u001b[0m\n"
     ]
    },
    {
     "name": "stdout",
     "output_type": "stream",
     "text": [
      "N_rows:  157203\n"
     ]
    },
    {
     "name": "stderr",
     "output_type": "stream",
     "text": [
      "\u001b[32m[I 2022-08-09 02:38:56,971]\u001b[0m Trial 114 finished with value: 0.9123201438848921 and parameters: {'classifier': 'logreg', 'C': 0.01}. Best is trial 35 with value: 0.9164345403899722.\u001b[0m\n"
     ]
    },
    {
     "name": "stdout",
     "output_type": "stream",
     "text": [
      "N_rows:  157203\n"
     ]
    },
    {
     "name": "stderr",
     "output_type": "stream",
     "text": [
      "\u001b[32m[I 2022-08-09 02:38:58,685]\u001b[0m Trial 115 finished with value: 0.9119765871229176 and parameters: {'classifier': 'logreg', 'C': 0.01}. Best is trial 35 with value: 0.9164345403899722.\u001b[0m\n"
     ]
    },
    {
     "name": "stdout",
     "output_type": "stream",
     "text": [
      "N_rows:  157203\n"
     ]
    },
    {
     "name": "stderr",
     "output_type": "stream",
     "text": [
      "\u001b[32m[I 2022-08-09 02:39:00,380]\u001b[0m Trial 116 finished with value: 0.9123595505617977 and parameters: {'classifier': 'logreg', 'C': 0.01}. Best is trial 35 with value: 0.9164345403899722.\u001b[0m\n"
     ]
    },
    {
     "name": "stdout",
     "output_type": "stream",
     "text": [
      "N_rows:  157203\n"
     ]
    },
    {
     "name": "stderr",
     "output_type": "stream",
     "text": [
      "\u001b[32m[I 2022-08-09 02:39:02,922]\u001b[0m Trial 117 finished with value: 0.8603966973521875 and parameters: {'classifier': 'logreg', 'C': 0.1}. Best is trial 35 with value: 0.9164345403899722.\u001b[0m\n"
     ]
    },
    {
     "name": "stdout",
     "output_type": "stream",
     "text": [
      "N_rows:  157203\n"
     ]
    },
    {
     "name": "stderr",
     "output_type": "stream",
     "text": [
      "\u001b[32m[I 2022-08-09 02:47:49,003]\u001b[0m Trial 118 finished with value: 0.8348554637865311 and parameters: {'classifier': 'xgboost', 'learning_rate': 0.2, 'max_depth': 11, 'n_estimators': 4000}. Best is trial 35 with value: 0.9164345403899722.\u001b[0m\n"
     ]
    },
    {
     "name": "stdout",
     "output_type": "stream",
     "text": [
      "N_rows:  157203\n"
     ]
    },
    {
     "name": "stderr",
     "output_type": "stream",
     "text": [
      "\u001b[32m[I 2022-08-09 02:47:51,254]\u001b[0m Trial 119 finished with value: 0.9152327058551796 and parameters: {'classifier': 'logreg', 'C': 0.01}. Best is trial 35 with value: 0.9164345403899722.\u001b[0m\n"
     ]
    },
    {
     "name": "stdout",
     "output_type": "stream",
     "text": [
      "N_rows:  157203\n"
     ]
    },
    {
     "name": "stderr",
     "output_type": "stream",
     "text": [
      "\u001b[32m[I 2022-08-09 02:47:52,778]\u001b[0m Trial 120 finished with value: 0.9139857771757535 and parameters: {'classifier': 'logreg', 'C': 0.01}. Best is trial 35 with value: 0.9164345403899722.\u001b[0m\n"
     ]
    },
    {
     "name": "stdout",
     "output_type": "stream",
     "text": [
      "N_rows:  157203\n"
     ]
    },
    {
     "name": "stderr",
     "output_type": "stream",
     "text": [
      "\u001b[32m[I 2022-08-09 02:47:54,259]\u001b[0m Trial 121 finished with value: 0.9134213793881928 and parameters: {'classifier': 'logreg', 'C': 0.01}. Best is trial 35 with value: 0.9164345403899722.\u001b[0m\n"
     ]
    },
    {
     "name": "stdout",
     "output_type": "stream",
     "text": [
      "N_rows:  157203\n"
     ]
    },
    {
     "name": "stderr",
     "output_type": "stream",
     "text": [
      "\u001b[32m[I 2022-08-09 02:47:55,735]\u001b[0m Trial 122 finished with value: 0.9144299151181464 and parameters: {'classifier': 'logreg', 'C': 0.01}. Best is trial 35 with value: 0.9164345403899722.\u001b[0m\n"
     ]
    },
    {
     "name": "stdout",
     "output_type": "stream",
     "text": [
      "N_rows:  157203\n"
     ]
    },
    {
     "name": "stderr",
     "output_type": "stream",
     "text": [
      "\u001b[32m[I 2022-08-09 02:47:57,211]\u001b[0m Trial 123 finished with value: 0.9123987681076765 and parameters: {'classifier': 'logreg', 'C': 0.01}. Best is trial 35 with value: 0.9164345403899722.\u001b[0m\n"
     ]
    },
    {
     "name": "stdout",
     "output_type": "stream",
     "text": [
      "N_rows:  157203\n"
     ]
    },
    {
     "name": "stderr",
     "output_type": "stream",
     "text": [
      "\u001b[32m[I 2022-08-09 02:47:58,718]\u001b[0m Trial 124 finished with value: 0.913556654676259 and parameters: {'classifier': 'logreg', 'C': 0.01}. Best is trial 35 with value: 0.9164345403899722.\u001b[0m\n"
     ]
    },
    {
     "name": "stdout",
     "output_type": "stream",
     "text": [
      "N_rows:  157203\n"
     ]
    },
    {
     "name": "stderr",
     "output_type": "stream",
     "text": [
      "\u001b[32m[I 2022-08-09 02:48:04,302]\u001b[0m Trial 125 finished with value: 0.8557892112043887 and parameters: {'classifier': 'logreg', 'C': 1.0}. Best is trial 35 with value: 0.9164345403899722.\u001b[0m\n"
     ]
    },
    {
     "name": "stdout",
     "output_type": "stream",
     "text": [
      "N_rows:  157203\n"
     ]
    },
    {
     "name": "stderr",
     "output_type": "stream",
     "text": [
      "\u001b[32m[I 2022-08-09 02:48:05,780]\u001b[0m Trial 126 finished with value: 0.913449634214969 and parameters: {'classifier': 'logreg', 'C': 0.01}. Best is trial 35 with value: 0.9164345403899722.\u001b[0m\n"
     ]
    },
    {
     "name": "stdout",
     "output_type": "stream",
     "text": [
      "N_rows:  157203\n"
     ]
    },
    {
     "name": "stderr",
     "output_type": "stream",
     "text": [
      "\u001b[32m[I 2022-08-09 02:49:17,461]\u001b[0m Trial 127 finished with value: 0.8428988326848249 and parameters: {'classifier': 'lgbm', 'learning_rate': 0.0001, 'max_depth': 9, 'n_estimators': 2000}. Best is trial 35 with value: 0.9164345403899722.\u001b[0m\n"
     ]
    },
    {
     "name": "stdout",
     "output_type": "stream",
     "text": [
      "N_rows:  157203\n"
     ]
    },
    {
     "name": "stderr",
     "output_type": "stream",
     "text": [
      "\u001b[32m[I 2022-08-09 02:49:18,948]\u001b[0m Trial 128 finished with value: 0.9137834509013548 and parameters: {'classifier': 'logreg', 'C': 0.01}. Best is trial 35 with value: 0.9164345403899722.\u001b[0m\n"
     ]
    },
    {
     "name": "stdout",
     "output_type": "stream",
     "text": [
      "N_rows:  157203\n"
     ]
    },
    {
     "name": "stderr",
     "output_type": "stream",
     "text": [
      "\u001b[32m[I 2022-08-09 02:49:20,374]\u001b[0m Trial 129 finished with value: 0.9142207053469852 and parameters: {'classifier': 'logreg', 'C': 0.01}. Best is trial 35 with value: 0.9164345403899722.\u001b[0m\n"
     ]
    },
    {
     "name": "stdout",
     "output_type": "stream",
     "text": [
      "N_rows:  157203\n"
     ]
    },
    {
     "name": "stderr",
     "output_type": "stream",
     "text": [
      "\u001b[32m[I 2022-08-09 02:49:21,902]\u001b[0m Trial 130 finished with value: 0.9125552909152773 and parameters: {'classifier': 'logreg', 'C': 0.01}. Best is trial 35 with value: 0.9164345403899722.\u001b[0m\n"
     ]
    },
    {
     "name": "stdout",
     "output_type": "stream",
     "text": [
      "N_rows:  157203\n"
     ]
    },
    {
     "name": "stderr",
     "output_type": "stream",
     "text": [
      "\u001b[32m[I 2022-08-09 02:49:23,439]\u001b[0m Trial 131 finished with value: 0.9135153661601737 and parameters: {'classifier': 'logreg', 'C': 0.01}. Best is trial 35 with value: 0.9164345403899722.\u001b[0m\n"
     ]
    },
    {
     "name": "stdout",
     "output_type": "stream",
     "text": [
      "N_rows:  157203\n"
     ]
    },
    {
     "name": "stderr",
     "output_type": "stream",
     "text": [
      "\u001b[32m[I 2022-08-09 02:49:24,918]\u001b[0m Trial 132 finished with value: 0.9135985409780006 and parameters: {'classifier': 'logreg', 'C': 0.01}. Best is trial 35 with value: 0.9164345403899722.\u001b[0m\n"
     ]
    },
    {
     "name": "stdout",
     "output_type": "stream",
     "text": [
      "N_rows:  157203\n"
     ]
    },
    {
     "name": "stderr",
     "output_type": "stream",
     "text": [
      "\u001b[32m[I 2022-08-09 02:49:26,416]\u001b[0m Trial 133 finished with value: 0.9128616636528029 and parameters: {'classifier': 'logreg', 'C': 0.01}. Best is trial 35 with value: 0.9164345403899722.\u001b[0m\n"
     ]
    },
    {
     "name": "stdout",
     "output_type": "stream",
     "text": [
      "N_rows:  157203\n"
     ]
    },
    {
     "name": "stderr",
     "output_type": "stream",
     "text": [
      "\u001b[32m[I 2022-08-09 02:49:27,897]\u001b[0m Trial 134 finished with value: 0.9123104774835936 and parameters: {'classifier': 'logreg', 'C': 0.01}. Best is trial 35 with value: 0.9164345403899722.\u001b[0m\n"
     ]
    },
    {
     "name": "stdout",
     "output_type": "stream",
     "text": [
      "N_rows:  157203\n"
     ]
    },
    {
     "name": "stderr",
     "output_type": "stream",
     "text": [
      "\u001b[32m[I 2022-08-09 02:49:29,428]\u001b[0m Trial 135 finished with value: 0.9145142857142857 and parameters: {'classifier': 'logreg', 'C': 0.01}. Best is trial 35 with value: 0.9164345403899722.\u001b[0m\n"
     ]
    },
    {
     "name": "stdout",
     "output_type": "stream",
     "text": [
      "N_rows:  157203\n"
     ]
    },
    {
     "name": "stderr",
     "output_type": "stream",
     "text": [
      "\u001b[32m[I 2022-08-09 02:49:31,132]\u001b[0m Trial 136 finished with value: 0.9153184165232358 and parameters: {'classifier': 'logreg', 'C': 0.01}. Best is trial 35 with value: 0.9164345403899722.\u001b[0m\n"
     ]
    },
    {
     "name": "stdout",
     "output_type": "stream",
     "text": [
      "N_rows:  157203\n"
     ]
    },
    {
     "name": "stderr",
     "output_type": "stream",
     "text": [
      "\u001b[32m[I 2022-08-09 02:49:32,824]\u001b[0m Trial 137 finished with value: 0.9116178806444293 and parameters: {'classifier': 'logreg', 'C': 0.01}. Best is trial 35 with value: 0.9164345403899722.\u001b[0m\n"
     ]
    },
    {
     "name": "stdout",
     "output_type": "stream",
     "text": [
      "N_rows:  157203\n"
     ]
    },
    {
     "name": "stderr",
     "output_type": "stream",
     "text": [
      "\u001b[32m[I 2022-08-09 02:49:34,497]\u001b[0m Trial 138 finished with value: 0.9117249154453213 and parameters: {'classifier': 'logreg', 'C': 0.01}. Best is trial 35 with value: 0.9164345403899722.\u001b[0m\n"
     ]
    },
    {
     "name": "stdout",
     "output_type": "stream",
     "text": [
      "N_rows:  157203\n"
     ]
    },
    {
     "name": "stderr",
     "output_type": "stream",
     "text": [
      "\u001b[32m[I 2022-08-09 02:50:25,129]\u001b[0m Trial 139 finished with value: 0.7565402065836471 and parameters: {'classifier': 'xgboost', 'learning_rate': 0.001, 'max_depth': 14, 'n_estimators': 200}. Best is trial 35 with value: 0.9164345403899722.\u001b[0m\n"
     ]
    },
    {
     "name": "stdout",
     "output_type": "stream",
     "text": [
      "N_rows:  157203\n"
     ]
    },
    {
     "name": "stderr",
     "output_type": "stream",
     "text": [
      "\u001b[32m[I 2022-08-09 02:50:26,895]\u001b[0m Trial 140 finished with value: 0.9137542277339347 and parameters: {'classifier': 'logreg', 'C': 0.01}. Best is trial 35 with value: 0.9164345403899722.\u001b[0m\n"
     ]
    },
    {
     "name": "stdout",
     "output_type": "stream",
     "text": [
      "N_rows:  157203\n"
     ]
    },
    {
     "name": "stderr",
     "output_type": "stream",
     "text": [
      "\u001b[32m[I 2022-08-09 02:50:28,590]\u001b[0m Trial 141 finished with value: 0.9132259528130672 and parameters: {'classifier': 'logreg', 'C': 0.01}. Best is trial 35 with value: 0.9164345403899722.\u001b[0m\n"
     ]
    },
    {
     "name": "stdout",
     "output_type": "stream",
     "text": [
      "N_rows:  157203\n"
     ]
    },
    {
     "name": "stderr",
     "output_type": "stream",
     "text": [
      "\u001b[32m[I 2022-08-09 02:50:30,284]\u001b[0m Trial 142 finished with value: 0.9140881786240508 and parameters: {'classifier': 'logreg', 'C': 0.01}. Best is trial 35 with value: 0.9164345403899722.\u001b[0m\n"
     ]
    },
    {
     "name": "stdout",
     "output_type": "stream",
     "text": [
      "N_rows:  157203\n"
     ]
    },
    {
     "name": "stderr",
     "output_type": "stream",
     "text": [
      "\u001b[32m[I 2022-08-09 02:50:31,986]\u001b[0m Trial 143 finished with value: 0.9128471438247912 and parameters: {'classifier': 'logreg', 'C': 0.01}. Best is trial 35 with value: 0.9164345403899722.\u001b[0m\n"
     ]
    },
    {
     "name": "stdout",
     "output_type": "stream",
     "text": [
      "N_rows:  157203\n"
     ]
    },
    {
     "name": "stderr",
     "output_type": "stream",
     "text": [
      "\u001b[32m[I 2022-08-09 02:50:33,669]\u001b[0m Trial 144 finished with value: 0.9126475548060708 and parameters: {'classifier': 'logreg', 'C': 0.01}. Best is trial 35 with value: 0.9164345403899722.\u001b[0m\n"
     ]
    },
    {
     "name": "stdout",
     "output_type": "stream",
     "text": [
      "N_rows:  157203\n"
     ]
    },
    {
     "name": "stderr",
     "output_type": "stream",
     "text": [
      "\u001b[32m[I 2022-08-09 02:50:36,371]\u001b[0m Trial 145 finished with value: 0.859382377939371 and parameters: {'classifier': 'logreg', 'C': 0.1}. Best is trial 35 with value: 0.9164345403899722.\u001b[0m\n"
     ]
    },
    {
     "name": "stdout",
     "output_type": "stream",
     "text": [
      "N_rows:  157203\n"
     ]
    },
    {
     "name": "stderr",
     "output_type": "stream",
     "text": [
      "\u001b[32m[I 2022-08-09 02:50:38,070]\u001b[0m Trial 146 finished with value: 0.9123605736398817 and parameters: {'classifier': 'logreg', 'C': 0.01}. Best is trial 35 with value: 0.9164345403899722.\u001b[0m\n"
     ]
    },
    {
     "name": "stdout",
     "output_type": "stream",
     "text": [
      "N_rows:  157203\n"
     ]
    },
    {
     "name": "stderr",
     "output_type": "stream",
     "text": [
      "\u001b[32m[I 2022-08-09 02:50:39,775]\u001b[0m Trial 147 finished with value: 0.9121545720062907 and parameters: {'classifier': 'logreg', 'C': 0.01}. Best is trial 35 with value: 0.9164345403899722.\u001b[0m\n"
     ]
    },
    {
     "name": "stdout",
     "output_type": "stream",
     "text": [
      "N_rows:  157203\n"
     ]
    },
    {
     "name": "stderr",
     "output_type": "stream",
     "text": [
      "\u001b[32m[I 2022-08-09 02:50:44,896]\u001b[0m Trial 148 finished with value: 0.8550604604936226 and parameters: {'classifier': 'logreg', 'C': 1.0}. Best is trial 35 with value: 0.9164345403899722.\u001b[0m\n"
     ]
    },
    {
     "name": "stdout",
     "output_type": "stream",
     "text": [
      "N_rows:  157203\n"
     ]
    },
    {
     "name": "stderr",
     "output_type": "stream",
     "text": [
      "\u001b[32m[I 2022-08-09 02:50:46,639]\u001b[0m Trial 149 finished with value: 0.9132425317614742 and parameters: {'classifier': 'logreg', 'C': 0.01}. Best is trial 35 with value: 0.9164345403899722.\u001b[0m\n"
     ]
    },
    {
     "name": "stdout",
     "output_type": "stream",
     "text": [
      "N_rows:  157203\n"
     ]
    },
    {
     "name": "stderr",
     "output_type": "stream",
     "text": [
      "\u001b[32m[I 2022-08-09 02:50:59,101]\u001b[0m Trial 150 finished with value: 0.8203236008617133 and parameters: {'classifier': 'lgbm', 'learning_rate': 0.2, 'max_depth': 5, 'n_estimators': 200}. Best is trial 35 with value: 0.9164345403899722.\u001b[0m\n"
     ]
    },
    {
     "name": "stdout",
     "output_type": "stream",
     "text": [
      "N_rows:  157203\n"
     ]
    },
    {
     "name": "stderr",
     "output_type": "stream",
     "text": [
      "\u001b[32m[I 2022-08-09 02:51:00,849]\u001b[0m Trial 151 finished with value: 0.9139698260969711 and parameters: {'classifier': 'logreg', 'C': 0.01}. Best is trial 35 with value: 0.9164345403899722.\u001b[0m\n"
     ]
    },
    {
     "name": "stdout",
     "output_type": "stream",
     "text": [
      "N_rows:  157203\n"
     ]
    },
    {
     "name": "stderr",
     "output_type": "stream",
     "text": [
      "\u001b[32m[I 2022-08-09 02:51:02,551]\u001b[0m Trial 152 finished with value: 0.9137290235386868 and parameters: {'classifier': 'logreg', 'C': 0.01}. Best is trial 35 with value: 0.9164345403899722.\u001b[0m\n"
     ]
    },
    {
     "name": "stdout",
     "output_type": "stream",
     "text": [
      "N_rows:  157203\n"
     ]
    },
    {
     "name": "stderr",
     "output_type": "stream",
     "text": [
      "\u001b[32m[I 2022-08-09 02:51:04,238]\u001b[0m Trial 153 finished with value: 0.9133130424980272 and parameters: {'classifier': 'logreg', 'C': 0.01}. Best is trial 35 with value: 0.9164345403899722.\u001b[0m\n"
     ]
    },
    {
     "name": "stdout",
     "output_type": "stream",
     "text": [
      "N_rows:  157203\n"
     ]
    },
    {
     "name": "stderr",
     "output_type": "stream",
     "text": [
      "\u001b[32m[I 2022-08-09 02:51:05,940]\u001b[0m Trial 154 finished with value: 0.9120480562167064 and parameters: {'classifier': 'logreg', 'C': 0.01}. Best is trial 35 with value: 0.9164345403899722.\u001b[0m\n"
     ]
    },
    {
     "name": "stdout",
     "output_type": "stream",
     "text": [
      "N_rows:  157203\n"
     ]
    },
    {
     "name": "stderr",
     "output_type": "stream",
     "text": [
      "\u001b[32m[I 2022-08-09 02:51:07,635]\u001b[0m Trial 155 finished with value: 0.9109298167188199 and parameters: {'classifier': 'logreg', 'C': 0.01}. Best is trial 35 with value: 0.9164345403899722.\u001b[0m\n"
     ]
    },
    {
     "name": "stdout",
     "output_type": "stream",
     "text": [
      "N_rows:  157203\n"
     ]
    },
    {
     "name": "stderr",
     "output_type": "stream",
     "text": [
      "\u001b[32m[I 2022-08-09 02:51:09,313]\u001b[0m Trial 156 finished with value: 0.9065420560747663 and parameters: {'classifier': 'logreg', 'C': 0.01}. Best is trial 35 with value: 0.9164345403899722.\u001b[0m\n"
     ]
    },
    {
     "name": "stdout",
     "output_type": "stream",
     "text": [
      "N_rows:  157203\n"
     ]
    },
    {
     "name": "stderr",
     "output_type": "stream",
     "text": [
      "\u001b[32m[I 2022-08-09 02:51:10,997]\u001b[0m Trial 157 finished with value: 0.9135436837908646 and parameters: {'classifier': 'logreg', 'C': 0.01}. Best is trial 35 with value: 0.9164345403899722.\u001b[0m\n"
     ]
    },
    {
     "name": "stdout",
     "output_type": "stream",
     "text": [
      "N_rows:  157203\n"
     ]
    },
    {
     "name": "stderr",
     "output_type": "stream",
     "text": [
      "\u001b[32m[I 2022-08-09 02:51:12,707]\u001b[0m Trial 158 finished with value: 0.9135511395531605 and parameters: {'classifier': 'logreg', 'C': 0.01}. Best is trial 35 with value: 0.9164345403899722.\u001b[0m\n"
     ]
    },
    {
     "name": "stdout",
     "output_type": "stream",
     "text": [
      "N_rows:  157203\n"
     ]
    },
    {
     "name": "stderr",
     "output_type": "stream",
     "text": [
      "\u001b[32m[I 2022-08-09 02:51:14,393]\u001b[0m Trial 159 finished with value: 0.9120583286595625 and parameters: {'classifier': 'logreg', 'C': 0.01}. Best is trial 35 with value: 0.9164345403899722.\u001b[0m\n"
     ]
    },
    {
     "name": "stdout",
     "output_type": "stream",
     "text": [
      "N_rows:  157203\n"
     ]
    },
    {
     "name": "stderr",
     "output_type": "stream",
     "text": [
      "\u001b[32m[I 2022-08-09 02:51:16,061]\u001b[0m Trial 160 finished with value: 0.9132176234979973 and parameters: {'classifier': 'logreg', 'C': 0.01}. Best is trial 35 with value: 0.9164345403899722.\u001b[0m\n"
     ]
    },
    {
     "name": "stdout",
     "output_type": "stream",
     "text": [
      "N_rows:  157203\n"
     ]
    },
    {
     "name": "stderr",
     "output_type": "stream",
     "text": [
      "\u001b[32m[I 2022-08-09 02:51:17,750]\u001b[0m Trial 161 finished with value: 0.9159430357763112 and parameters: {'classifier': 'logreg', 'C': 0.01}. Best is trial 35 with value: 0.9164345403899722.\u001b[0m\n"
     ]
    },
    {
     "name": "stdout",
     "output_type": "stream",
     "text": [
      "N_rows:  157203\n"
     ]
    },
    {
     "name": "stderr",
     "output_type": "stream",
     "text": [
      "\u001b[32m[I 2022-08-09 02:51:19,420]\u001b[0m Trial 162 finished with value: 0.911984809561041 and parameters: {'classifier': 'logreg', 'C': 0.01}. Best is trial 35 with value: 0.9164345403899722.\u001b[0m\n"
     ]
    },
    {
     "name": "stdout",
     "output_type": "stream",
     "text": [
      "N_rows:  157203\n"
     ]
    },
    {
     "name": "stderr",
     "output_type": "stream",
     "text": [
      "\u001b[32m[I 2022-08-09 02:51:21,128]\u001b[0m Trial 163 finished with value: 0.912959818902094 and parameters: {'classifier': 'logreg', 'C': 0.01}. Best is trial 35 with value: 0.9164345403899722.\u001b[0m\n"
     ]
    },
    {
     "name": "stdout",
     "output_type": "stream",
     "text": [
      "N_rows:  157203\n"
     ]
    },
    {
     "name": "stderr",
     "output_type": "stream",
     "text": [
      "\u001b[32m[I 2022-08-09 02:51:22,818]\u001b[0m Trial 164 finished with value: 0.9132676443629697 and parameters: {'classifier': 'logreg', 'C': 0.01}. Best is trial 35 with value: 0.9164345403899722.\u001b[0m\n"
     ]
    },
    {
     "name": "stdout",
     "output_type": "stream",
     "text": [
      "N_rows:  157203\n"
     ]
    },
    {
     "name": "stderr",
     "output_type": "stream",
     "text": [
      "\u001b[32m[I 2022-08-09 02:51:24,503]\u001b[0m Trial 165 finished with value: 0.9147286821705426 and parameters: {'classifier': 'logreg', 'C': 0.01}. Best is trial 35 with value: 0.9164345403899722.\u001b[0m\n"
     ]
    },
    {
     "name": "stdout",
     "output_type": "stream",
     "text": [
      "N_rows:  157203\n"
     ]
    },
    {
     "name": "stderr",
     "output_type": "stream",
     "text": [
      "\u001b[32m[I 2022-08-09 02:51:26,168]\u001b[0m Trial 166 finished with value: 0.9132269099201824 and parameters: {'classifier': 'logreg', 'C': 0.01}. Best is trial 35 with value: 0.9164345403899722.\u001b[0m\n"
     ]
    },
    {
     "name": "stdout",
     "output_type": "stream",
     "text": [
      "N_rows:  157203\n"
     ]
    },
    {
     "name": "stderr",
     "output_type": "stream",
     "text": [
      "\u001b[32m[I 2022-08-09 02:51:27,872]\u001b[0m Trial 167 finished with value: 0.9144195612431444 and parameters: {'classifier': 'logreg', 'C': 0.01}. Best is trial 35 with value: 0.9164345403899722.\u001b[0m\n"
     ]
    },
    {
     "name": "stdout",
     "output_type": "stream",
     "text": [
      "N_rows:  157203\n"
     ]
    },
    {
     "name": "stderr",
     "output_type": "stream",
     "text": [
      "\u001b[32m[I 2022-08-09 02:54:10,756]\u001b[0m Trial 168 finished with value: 0.7537324391795976 and parameters: {'classifier': 'xgboost', 'learning_rate': 0.001, 'max_depth': 10, 'n_estimators': 1000}. Best is trial 35 with value: 0.9164345403899722.\u001b[0m\n"
     ]
    },
    {
     "name": "stdout",
     "output_type": "stream",
     "text": [
      "N_rows:  157203\n"
     ]
    },
    {
     "name": "stderr",
     "output_type": "stream",
     "text": [
      "\u001b[32m[I 2022-08-09 02:54:12,459]\u001b[0m Trial 169 finished with value: 0.914180816888481 and parameters: {'classifier': 'logreg', 'C': 0.01}. Best is trial 35 with value: 0.9164345403899722.\u001b[0m\n"
     ]
    },
    {
     "name": "stdout",
     "output_type": "stream",
     "text": [
      "N_rows:  157203\n"
     ]
    },
    {
     "name": "stderr",
     "output_type": "stream",
     "text": [
      "\u001b[32m[I 2022-08-09 02:54:14,225]\u001b[0m Trial 170 finished with value: 0.8614120106423413 and parameters: {'classifier': 'logreg', 'C': 0.1}. Best is trial 35 with value: 0.9164345403899722.\u001b[0m\n"
     ]
    },
    {
     "name": "stdout",
     "output_type": "stream",
     "text": [
      "N_rows:  157203\n"
     ]
    },
    {
     "name": "stderr",
     "output_type": "stream",
     "text": [
      "\u001b[32m[I 2022-08-09 02:54:15,894]\u001b[0m Trial 171 finished with value: 0.9121367521367522 and parameters: {'classifier': 'logreg', 'C': 0.01}. Best is trial 35 with value: 0.9164345403899722.\u001b[0m\n"
     ]
    },
    {
     "name": "stdout",
     "output_type": "stream",
     "text": [
      "N_rows:  157203\n"
     ]
    },
    {
     "name": "stderr",
     "output_type": "stream",
     "text": [
      "\u001b[32m[I 2022-08-09 02:54:17,585]\u001b[0m Trial 172 finished with value: 0.9130580357142857 and parameters: {'classifier': 'logreg', 'C': 0.01}. Best is trial 35 with value: 0.9164345403899722.\u001b[0m\n"
     ]
    },
    {
     "name": "stdout",
     "output_type": "stream",
     "text": [
      "N_rows:  157203\n"
     ]
    },
    {
     "name": "stderr",
     "output_type": "stream",
     "text": [
      "\u001b[32m[I 2022-08-09 02:54:19,245]\u001b[0m Trial 173 finished with value: 0.9133303511518676 and parameters: {'classifier': 'logreg', 'C': 0.01}. Best is trial 35 with value: 0.9164345403899722.\u001b[0m\n"
     ]
    },
    {
     "name": "stdout",
     "output_type": "stream",
     "text": [
      "N_rows:  157203\n"
     ]
    },
    {
     "name": "stderr",
     "output_type": "stream",
     "text": [
      "\u001b[32m[I 2022-08-09 02:54:20,909]\u001b[0m Trial 174 finished with value: 0.9132497458488648 and parameters: {'classifier': 'logreg', 'C': 0.01}. Best is trial 35 with value: 0.9164345403899722.\u001b[0m\n"
     ]
    },
    {
     "name": "stdout",
     "output_type": "stream",
     "text": [
      "N_rows:  157203\n"
     ]
    },
    {
     "name": "stderr",
     "output_type": "stream",
     "text": [
      "\u001b[32m[I 2022-08-09 02:54:22,615]\u001b[0m Trial 175 finished with value: 0.9124659400544959 and parameters: {'classifier': 'logreg', 'C': 0.01}. Best is trial 35 with value: 0.9164345403899722.\u001b[0m\n"
     ]
    },
    {
     "name": "stdout",
     "output_type": "stream",
     "text": [
      "N_rows:  157203\n"
     ]
    },
    {
     "name": "stderr",
     "output_type": "stream",
     "text": [
      "\u001b[32m[I 2022-08-09 02:54:24,278]\u001b[0m Trial 176 finished with value: 0.9124831913939937 and parameters: {'classifier': 'logreg', 'C': 0.01}. Best is trial 35 with value: 0.9164345403899722.\u001b[0m\n"
     ]
    },
    {
     "name": "stdout",
     "output_type": "stream",
     "text": [
      "N_rows:  157203\n"
     ]
    },
    {
     "name": "stderr",
     "output_type": "stream",
     "text": [
      "\u001b[32m[I 2022-08-09 02:54:25,981]\u001b[0m Trial 177 finished with value: 0.9137989778534923 and parameters: {'classifier': 'logreg', 'C': 0.01}. Best is trial 35 with value: 0.9164345403899722.\u001b[0m\n"
     ]
    },
    {
     "name": "stdout",
     "output_type": "stream",
     "text": [
      "N_rows:  157203\n"
     ]
    },
    {
     "name": "stderr",
     "output_type": "stream",
     "text": [
      "\u001b[32m[I 2022-08-09 02:54:27,755]\u001b[0m Trial 178 finished with value: 0.9123023438376135 and parameters: {'classifier': 'logreg', 'C': 0.01}. Best is trial 35 with value: 0.9164345403899722.\u001b[0m\n"
     ]
    },
    {
     "name": "stdout",
     "output_type": "stream",
     "text": [
      "N_rows:  157203\n"
     ]
    },
    {
     "name": "stderr",
     "output_type": "stream",
     "text": [
      "\u001b[32m[I 2022-08-09 02:54:32,287]\u001b[0m Trial 179 finished with value: 0.8558521220159151 and parameters: {'classifier': 'logreg', 'C': 1.0}. Best is trial 35 with value: 0.9164345403899722.\u001b[0m\n"
     ]
    },
    {
     "name": "stdout",
     "output_type": "stream",
     "text": [
      "N_rows:  157203\n"
     ]
    },
    {
     "name": "stderr",
     "output_type": "stream",
     "text": [
      "\u001b[32m[I 2022-08-09 02:54:49,411]\u001b[0m Trial 180 finished with value: 0.8257150494520181 and parameters: {'classifier': 'lgbm', 'learning_rate': 0.01, 'max_depth': 3, 'n_estimators': 500}. Best is trial 35 with value: 0.9164345403899722.\u001b[0m\n"
     ]
    },
    {
     "name": "stdout",
     "output_type": "stream",
     "text": [
      "N_rows:  157203\n"
     ]
    },
    {
     "name": "stderr",
     "output_type": "stream",
     "text": [
      "\u001b[32m[I 2022-08-09 02:54:51,111]\u001b[0m Trial 181 finished with value: 0.9124698864288172 and parameters: {'classifier': 'logreg', 'C': 0.01}. Best is trial 35 with value: 0.9164345403899722.\u001b[0m\n"
     ]
    },
    {
     "name": "stdout",
     "output_type": "stream",
     "text": [
      "N_rows:  157203\n"
     ]
    },
    {
     "name": "stderr",
     "output_type": "stream",
     "text": [
      "\u001b[32m[I 2022-08-09 02:54:52,769]\u001b[0m Trial 182 finished with value: 0.9148022598870057 and parameters: {'classifier': 'logreg', 'C': 0.01}. Best is trial 35 with value: 0.9164345403899722.\u001b[0m\n"
     ]
    },
    {
     "name": "stdout",
     "output_type": "stream",
     "text": [
      "N_rows:  157203\n"
     ]
    },
    {
     "name": "stderr",
     "output_type": "stream",
     "text": [
      "\u001b[32m[I 2022-08-09 02:54:54,467]\u001b[0m Trial 183 finished with value: 0.9132311186825667 and parameters: {'classifier': 'logreg', 'C': 0.01}. Best is trial 35 with value: 0.9164345403899722.\u001b[0m\n"
     ]
    },
    {
     "name": "stdout",
     "output_type": "stream",
     "text": [
      "N_rows:  157203\n"
     ]
    },
    {
     "name": "stderr",
     "output_type": "stream",
     "text": [
      "\u001b[32m[I 2022-08-09 02:54:56,144]\u001b[0m Trial 184 finished with value: 0.9134615384615384 and parameters: {'classifier': 'logreg', 'C': 0.01}. Best is trial 35 with value: 0.9164345403899722.\u001b[0m\n"
     ]
    },
    {
     "name": "stdout",
     "output_type": "stream",
     "text": [
      "N_rows:  157203\n"
     ]
    },
    {
     "name": "stderr",
     "output_type": "stream",
     "text": [
      "\u001b[32m[I 2022-08-09 02:54:57,855]\u001b[0m Trial 185 finished with value: 0.9154684601113172 and parameters: {'classifier': 'logreg', 'C': 0.01}. Best is trial 35 with value: 0.9164345403899722.\u001b[0m\n"
     ]
    },
    {
     "name": "stdout",
     "output_type": "stream",
     "text": [
      "N_rows:  157203\n"
     ]
    },
    {
     "name": "stderr",
     "output_type": "stream",
     "text": [
      "\u001b[32m[I 2022-08-09 02:54:59,526]\u001b[0m Trial 186 finished with value: 0.9129358830146231 and parameters: {'classifier': 'logreg', 'C': 0.01}. Best is trial 35 with value: 0.9164345403899722.\u001b[0m\n"
     ]
    },
    {
     "name": "stdout",
     "output_type": "stream",
     "text": [
      "N_rows:  157203\n"
     ]
    },
    {
     "name": "stderr",
     "output_type": "stream",
     "text": [
      "\u001b[32m[I 2022-08-09 02:55:01,200]\u001b[0m Trial 187 finished with value: 0.9104624467038374 and parameters: {'classifier': 'logreg', 'C': 0.01}. Best is trial 35 with value: 0.9164345403899722.\u001b[0m\n"
     ]
    },
    {
     "name": "stdout",
     "output_type": "stream",
     "text": [
      "N_rows:  157203\n"
     ]
    },
    {
     "name": "stderr",
     "output_type": "stream",
     "text": [
      "\u001b[32m[I 2022-08-09 02:55:02,896]\u001b[0m Trial 188 finished with value: 0.9067223099481164 and parameters: {'classifier': 'logreg', 'C': 0.01}. Best is trial 35 with value: 0.9164345403899722.\u001b[0m\n"
     ]
    },
    {
     "name": "stdout",
     "output_type": "stream",
     "text": [
      "N_rows:  157203\n"
     ]
    },
    {
     "name": "stderr",
     "output_type": "stream",
     "text": [
      "\u001b[32m[I 2022-08-09 02:55:04,603]\u001b[0m Trial 189 finished with value: 0.9132404575829652 and parameters: {'classifier': 'logreg', 'C': 0.01}. Best is trial 35 with value: 0.9164345403899722.\u001b[0m\n"
     ]
    },
    {
     "name": "stdout",
     "output_type": "stream",
     "text": [
      "N_rows:  157203\n"
     ]
    },
    {
     "name": "stderr",
     "output_type": "stream",
     "text": [
      "\u001b[32m[I 2022-08-09 02:55:06,279]\u001b[0m Trial 190 finished with value: 0.9128280211735555 and parameters: {'classifier': 'logreg', 'C': 0.01}. Best is trial 35 with value: 0.9164345403899722.\u001b[0m\n"
     ]
    },
    {
     "name": "stdout",
     "output_type": "stream",
     "text": [
      "N_rows:  157203\n"
     ]
    },
    {
     "name": "stderr",
     "output_type": "stream",
     "text": [
      "\u001b[32m[I 2022-08-09 02:55:07,933]\u001b[0m Trial 191 finished with value: 0.9125143513203214 and parameters: {'classifier': 'logreg', 'C': 0.01}. Best is trial 35 with value: 0.9164345403899722.\u001b[0m\n"
     ]
    },
    {
     "name": "stdout",
     "output_type": "stream",
     "text": [
      "N_rows:  157203\n"
     ]
    },
    {
     "name": "stderr",
     "output_type": "stream",
     "text": [
      "\u001b[32m[I 2022-08-09 02:55:09,647]\u001b[0m Trial 192 finished with value: 0.9132466940264478 and parameters: {'classifier': 'logreg', 'C': 0.01}. Best is trial 35 with value: 0.9164345403899722.\u001b[0m\n"
     ]
    },
    {
     "name": "stdout",
     "output_type": "stream",
     "text": [
      "N_rows:  157203\n"
     ]
    },
    {
     "name": "stderr",
     "output_type": "stream",
     "text": [
      "\u001b[32m[I 2022-08-09 02:55:11,355]\u001b[0m Trial 193 finished with value: 0.9111994698475812 and parameters: {'classifier': 'logreg', 'C': 0.01}. Best is trial 35 with value: 0.9164345403899722.\u001b[0m\n"
     ]
    },
    {
     "name": "stdout",
     "output_type": "stream",
     "text": [
      "N_rows:  157203\n"
     ]
    },
    {
     "name": "stderr",
     "output_type": "stream",
     "text": [
      "\u001b[32m[I 2022-08-09 02:55:13,104]\u001b[0m Trial 194 finished with value: 0.9120401337792642 and parameters: {'classifier': 'logreg', 'C': 0.01}. Best is trial 35 with value: 0.9164345403899722.\u001b[0m\n"
     ]
    },
    {
     "name": "stdout",
     "output_type": "stream",
     "text": [
      "N_rows:  157203\n"
     ]
    },
    {
     "name": "stderr",
     "output_type": "stream",
     "text": [
      "\u001b[32m[I 2022-08-09 02:55:14,785]\u001b[0m Trial 195 finished with value: 0.914074074074074 and parameters: {'classifier': 'logreg', 'C': 0.01}. Best is trial 35 with value: 0.9164345403899722.\u001b[0m\n"
     ]
    },
    {
     "name": "stdout",
     "output_type": "stream",
     "text": [
      "N_rows:  157203\n"
     ]
    },
    {
     "name": "stderr",
     "output_type": "stream",
     "text": [
      "\u001b[32m[I 2022-08-09 02:55:16,474]\u001b[0m Trial 196 finished with value: 0.9122451278585108 and parameters: {'classifier': 'logreg', 'C': 0.01}. Best is trial 35 with value: 0.9164345403899722.\u001b[0m\n"
     ]
    },
    {
     "name": "stdout",
     "output_type": "stream",
     "text": [
      "N_rows:  157203\n"
     ]
    },
    {
     "name": "stderr",
     "output_type": "stream",
     "text": [
      "\u001b[32m[I 2022-08-09 02:55:18,225]\u001b[0m Trial 197 finished with value: 0.914272527979693 and parameters: {'classifier': 'logreg', 'C': 0.01}. Best is trial 35 with value: 0.9164345403899722.\u001b[0m\n"
     ]
    },
    {
     "name": "stdout",
     "output_type": "stream",
     "text": [
      "N_rows:  157203\n"
     ]
    },
    {
     "name": "stderr",
     "output_type": "stream",
     "text": [
      "\u001b[32m[I 2022-08-09 02:55:20,051]\u001b[0m Trial 198 finished with value: 0.9124719101123595 and parameters: {'classifier': 'logreg', 'C': 0.01}. Best is trial 35 with value: 0.9164345403899722.\u001b[0m\n"
     ]
    },
    {
     "name": "stdout",
     "output_type": "stream",
     "text": [
      "N_rows:  157203\n"
     ]
    },
    {
     "name": "stderr",
     "output_type": "stream",
     "text": [
      "\u001b[32m[I 2022-08-09 02:55:21,722]\u001b[0m Trial 199 finished with value: 0.9126366813211588 and parameters: {'classifier': 'logreg', 'C': 0.01}. Best is trial 35 with value: 0.9164345403899722.\u001b[0m\n"
     ]
    }
   ],
   "source": [
    "# We've seen above that the under/over sampling is not effective, even on small training sets. Here we will skip it, but use a larger proportion of our training data to tune hyperparameters\n",
    "\n",
    "func = lambda trial: objective(trial, .2, [\"xgboost\", \"lgbm\", \"logreg\"])\n",
    "\n",
    "study = optuna.create_study(direction='maximize')\n",
    "\n",
    "study.optimize(func, n_trials=200)"
   ]
  },
  {
   "cell_type": "code",
   "execution_count": 14,
   "metadata": {},
   "outputs": [],
   "source": [
    "study_df = study.trials_dataframe()"
   ]
  },
  {
   "cell_type": "markdown",
   "metadata": {},
   "source": [
    "## 4.6 Modeling Summary"
   ]
  },
  {
   "cell_type": "markdown",
   "metadata": {},
   "source": [
    "1. Train size of 18% of the total data\n",
    "\n",
    "2. Validate on 10% of the total dataset\n",
    "\n",
    "3. Using Bayesian optimization with optuna"
   ]
  },
  {
   "cell_type": "markdown",
   "metadata": {},
   "source": [
    "### 4.6.1 Model Comparisons"
   ]
  },
  {
   "cell_type": "markdown",
   "metadata": {},
   "source": [
    "### XGBoost results:\n",
    "\n",
    "1. The best recall for any xgboost models was around 0.85\n",
    "\n",
    "2. The XGBoost was the slowest to train and predict of the 3 models, with an average time of 5 minutes and 28 seconds.\n",
    "\n",
    "3. The top XGBoost models all had similar max depths of around 10-20 and varying estimators between 500 and 4000."
   ]
  },
  {
   "cell_type": "code",
   "execution_count": 15,
   "metadata": {},
   "outputs": [
    {
     "name": "stdout",
     "output_type": "stream",
     "text": [
      "    number     value             datetime_start          datetime_complete  \\\n",
      "97      97  0.841939 2022-08-09 02:35:41.225839 2022-08-09 02:37:34.537309   \n",
      "\n",
      "                 duration  params_C params_classifier  params_learning_rate  \\\n",
      "97 0 days 00:01:53.311470       NaN           xgboost                   0.1   \n",
      "\n",
      "    params_max_depth  params_n_estimators     state  \n",
      "97              17.0                500.0  COMPLETE  \n"
     ]
    }
   ],
   "source": [
    "best_xg_model = study_df[study_df[\"params_classifier\"] == \"xgboost\"].sort_values(\"value\", ascending=False).head(1)\n",
    "print(best_xg_model)\n",
    "best_xg_model.to_csv(\"best_models.csv\", index=False, mode=\"w\")"
   ]
  },
  {
   "cell_type": "code",
   "execution_count": 16,
   "metadata": {},
   "outputs": [
    {
     "data": {
      "text/html": [
       "<div>\n",
       "<style scoped>\n",
       "    .dataframe tbody tr th:only-of-type {\n",
       "        vertical-align: middle;\n",
       "    }\n",
       "\n",
       "    .dataframe tbody tr th {\n",
       "        vertical-align: top;\n",
       "    }\n",
       "\n",
       "    .dataframe thead th {\n",
       "        text-align: right;\n",
       "    }\n",
       "</style>\n",
       "<table border=\"1\" class=\"dataframe\">\n",
       "  <thead>\n",
       "    <tr style=\"text-align: right;\">\n",
       "      <th></th>\n",
       "      <th>number</th>\n",
       "      <th>value</th>\n",
       "      <th>duration</th>\n",
       "      <th>params_C</th>\n",
       "      <th>params_learning_rate</th>\n",
       "      <th>params_max_depth</th>\n",
       "      <th>params_n_estimators</th>\n",
       "    </tr>\n",
       "  </thead>\n",
       "  <tbody>\n",
       "    <tr>\n",
       "      <th>count</th>\n",
       "      <td>14.000000</td>\n",
       "      <td>14.000000</td>\n",
       "      <td>14</td>\n",
       "      <td>0.0</td>\n",
       "      <td>14.000000</td>\n",
       "      <td>14.000000</td>\n",
       "      <td>14.000000</td>\n",
       "    </tr>\n",
       "    <tr>\n",
       "      <th>mean</th>\n",
       "      <td>59.000000</td>\n",
       "      <td>0.790180</td>\n",
       "      <td>0 days 00:05:28.169958</td>\n",
       "      <td>NaN</td>\n",
       "      <td>0.051871</td>\n",
       "      <td>13.142857</td>\n",
       "      <td>1414.285714</td>\n",
       "    </tr>\n",
       "    <tr>\n",
       "      <th>std</th>\n",
       "      <td>53.864502</td>\n",
       "      <td>0.037802</td>\n",
       "      <td>0 days 00:07:58.468925269</td>\n",
       "      <td>NaN</td>\n",
       "      <td>0.084370</td>\n",
       "      <td>3.613163</td>\n",
       "      <td>1484.720716</td>\n",
       "    </tr>\n",
       "    <tr>\n",
       "      <th>min</th>\n",
       "      <td>1.000000</td>\n",
       "      <td>0.749762</td>\n",
       "      <td>0 days 00:00:29.058107</td>\n",
       "      <td>NaN</td>\n",
       "      <td>0.000100</td>\n",
       "      <td>6.000000</td>\n",
       "      <td>200.000000</td>\n",
       "    </tr>\n",
       "    <tr>\n",
       "      <th>25%</th>\n",
       "      <td>12.750000</td>\n",
       "      <td>0.759043</td>\n",
       "      <td>0 days 00:01:11.018197</td>\n",
       "      <td>NaN</td>\n",
       "      <td>0.001000</td>\n",
       "      <td>10.250000</td>\n",
       "      <td>275.000000</td>\n",
       "    </tr>\n",
       "    <tr>\n",
       "      <th>50%</th>\n",
       "      <td>43.000000</td>\n",
       "      <td>0.771867</td>\n",
       "      <td>0 days 00:02:44.950635500</td>\n",
       "      <td>NaN</td>\n",
       "      <td>0.001000</td>\n",
       "      <td>14.000000</td>\n",
       "      <td>1000.000000</td>\n",
       "    </tr>\n",
       "    <tr>\n",
       "      <th>75%</th>\n",
       "      <td>92.500000</td>\n",
       "      <td>0.833926</td>\n",
       "      <td>0 days 00:03:15.305097</td>\n",
       "      <td>NaN</td>\n",
       "      <td>0.077500</td>\n",
       "      <td>16.000000</td>\n",
       "      <td>1750.000000</td>\n",
       "    </tr>\n",
       "    <tr>\n",
       "      <th>max</th>\n",
       "      <td>168.000000</td>\n",
       "      <td>0.841939</td>\n",
       "      <td>0 days 00:27:57.931114</td>\n",
       "      <td>NaN</td>\n",
       "      <td>0.200000</td>\n",
       "      <td>19.000000</td>\n",
       "      <td>4000.000000</td>\n",
       "    </tr>\n",
       "  </tbody>\n",
       "</table>\n",
       "</div>"
      ],
      "text/plain": [
       "           number      value                   duration  params_C  \\\n",
       "count   14.000000  14.000000                         14       0.0   \n",
       "mean    59.000000   0.790180     0 days 00:05:28.169958       NaN   \n",
       "std     53.864502   0.037802  0 days 00:07:58.468925269       NaN   \n",
       "min      1.000000   0.749762     0 days 00:00:29.058107       NaN   \n",
       "25%     12.750000   0.759043     0 days 00:01:11.018197       NaN   \n",
       "50%     43.000000   0.771867  0 days 00:02:44.950635500       NaN   \n",
       "75%     92.500000   0.833926     0 days 00:03:15.305097       NaN   \n",
       "max    168.000000   0.841939     0 days 00:27:57.931114       NaN   \n",
       "\n",
       "       params_learning_rate  params_max_depth  params_n_estimators  \n",
       "count             14.000000         14.000000            14.000000  \n",
       "mean               0.051871         13.142857          1414.285714  \n",
       "std                0.084370          3.613163          1484.720716  \n",
       "min                0.000100          6.000000           200.000000  \n",
       "25%                0.001000         10.250000           275.000000  \n",
       "50%                0.001000         14.000000          1000.000000  \n",
       "75%                0.077500         16.000000          1750.000000  \n",
       "max                0.200000         19.000000          4000.000000  "
      ]
     },
     "execution_count": 16,
     "metadata": {},
     "output_type": "execute_result"
    }
   ],
   "source": [
    "study_df[study_df[\"params_classifier\"] == \"xgboost\"].describe()"
   ]
  },
  {
   "cell_type": "code",
   "execution_count": 17,
   "metadata": {},
   "outputs": [
    {
     "data": {
      "text/html": [
       "<div>\n",
       "<style scoped>\n",
       "    .dataframe tbody tr th:only-of-type {\n",
       "        vertical-align: middle;\n",
       "    }\n",
       "\n",
       "    .dataframe tbody tr th {\n",
       "        vertical-align: top;\n",
       "    }\n",
       "\n",
       "    .dataframe thead th {\n",
       "        text-align: right;\n",
       "    }\n",
       "</style>\n",
       "<table border=\"1\" class=\"dataframe\">\n",
       "  <thead>\n",
       "    <tr style=\"text-align: right;\">\n",
       "      <th></th>\n",
       "      <th>number</th>\n",
       "      <th>value</th>\n",
       "      <th>datetime_start</th>\n",
       "      <th>datetime_complete</th>\n",
       "      <th>duration</th>\n",
       "      <th>params_C</th>\n",
       "      <th>params_classifier</th>\n",
       "      <th>params_learning_rate</th>\n",
       "      <th>params_max_depth</th>\n",
       "      <th>params_n_estimators</th>\n",
       "      <th>state</th>\n",
       "    </tr>\n",
       "  </thead>\n",
       "  <tbody>\n",
       "    <tr>\n",
       "      <th>97</th>\n",
       "      <td>97</td>\n",
       "      <td>0.841939</td>\n",
       "      <td>2022-08-09 02:35:41.225839</td>\n",
       "      <td>2022-08-09 02:37:34.537309</td>\n",
       "      <td>0 days 00:01:53.311470</td>\n",
       "      <td>NaN</td>\n",
       "      <td>xgboost</td>\n",
       "      <td>0.10</td>\n",
       "      <td>17.0</td>\n",
       "      <td>500.0</td>\n",
       "      <td>COMPLETE</td>\n",
       "    </tr>\n",
       "    <tr>\n",
       "      <th>7</th>\n",
       "      <td>7</td>\n",
       "      <td>0.840946</td>\n",
       "      <td>2022-08-09 01:28:07.298355</td>\n",
       "      <td>2022-08-09 01:31:26.477149</td>\n",
       "      <td>0 days 00:03:19.178794</td>\n",
       "      <td>NaN</td>\n",
       "      <td>xgboost</td>\n",
       "      <td>0.20</td>\n",
       "      <td>16.0</td>\n",
       "      <td>1000.0</td>\n",
       "      <td>COMPLETE</td>\n",
       "    </tr>\n",
       "    <tr>\n",
       "      <th>27</th>\n",
       "      <td>27</td>\n",
       "      <td>0.840291</td>\n",
       "      <td>2022-08-09 01:35:24.936693</td>\n",
       "      <td>2022-08-09 01:36:53.408932</td>\n",
       "      <td>0 days 00:01:28.472239</td>\n",
       "      <td>NaN</td>\n",
       "      <td>xgboost</td>\n",
       "      <td>0.20</td>\n",
       "      <td>14.0</td>\n",
       "      <td>500.0</td>\n",
       "      <td>COMPLETE</td>\n",
       "    </tr>\n",
       "    <tr>\n",
       "      <th>118</th>\n",
       "      <td>118</td>\n",
       "      <td>0.834855</td>\n",
       "      <td>2022-08-09 02:39:02.922890</td>\n",
       "      <td>2022-08-09 02:47:49.002882</td>\n",
       "      <td>0 days 00:08:46.079992</td>\n",
       "      <td>NaN</td>\n",
       "      <td>xgboost</td>\n",
       "      <td>0.20</td>\n",
       "      <td>11.0</td>\n",
       "      <td>4000.0</td>\n",
       "      <td>COMPLETE</td>\n",
       "    </tr>\n",
       "    <tr>\n",
       "      <th>8</th>\n",
       "      <td>8</td>\n",
       "      <td>0.831136</td>\n",
       "      <td>2022-08-09 01:31:26.477985</td>\n",
       "      <td>2022-08-09 01:34:30.161991</td>\n",
       "      <td>0 days 00:03:03.684006</td>\n",
       "      <td>NaN</td>\n",
       "      <td>xgboost</td>\n",
       "      <td>0.01</td>\n",
       "      <td>12.0</td>\n",
       "      <td>1000.0</td>\n",
       "      <td>COMPLETE</td>\n",
       "    </tr>\n",
       "  </tbody>\n",
       "</table>\n",
       "</div>"
      ],
      "text/plain": [
       "     number     value             datetime_start          datetime_complete  \\\n",
       "97       97  0.841939 2022-08-09 02:35:41.225839 2022-08-09 02:37:34.537309   \n",
       "7         7  0.840946 2022-08-09 01:28:07.298355 2022-08-09 01:31:26.477149   \n",
       "27       27  0.840291 2022-08-09 01:35:24.936693 2022-08-09 01:36:53.408932   \n",
       "118     118  0.834855 2022-08-09 02:39:02.922890 2022-08-09 02:47:49.002882   \n",
       "8         8  0.831136 2022-08-09 01:31:26.477985 2022-08-09 01:34:30.161991   \n",
       "\n",
       "                  duration  params_C params_classifier  params_learning_rate  \\\n",
       "97  0 days 00:01:53.311470       NaN           xgboost                  0.10   \n",
       "7   0 days 00:03:19.178794       NaN           xgboost                  0.20   \n",
       "27  0 days 00:01:28.472239       NaN           xgboost                  0.20   \n",
       "118 0 days 00:08:46.079992       NaN           xgboost                  0.20   \n",
       "8   0 days 00:03:03.684006       NaN           xgboost                  0.01   \n",
       "\n",
       "     params_max_depth  params_n_estimators     state  \n",
       "97               17.0                500.0  COMPLETE  \n",
       "7                16.0               1000.0  COMPLETE  \n",
       "27               14.0                500.0  COMPLETE  \n",
       "118              11.0               4000.0  COMPLETE  \n",
       "8                12.0               1000.0  COMPLETE  "
      ]
     },
     "execution_count": 17,
     "metadata": {},
     "output_type": "execute_result"
    }
   ],
   "source": [
    "study_df[study_df[\"params_classifier\"] == \"xgboost\"].sort_values(\"value\", ascending=False).head(5)"
   ]
  },
  {
   "cell_type": "markdown",
   "metadata": {},
   "source": [
    "### LightGBM Reults:\n",
    "\n",
    "1. With the size of the data (roughly 800,000 reviews/rows, 2 million features/columns), the LightGB model only took an average of 58 seconds to train/predict.\n",
    "This was much faster than the XGBoost, and it is often used for large datasets instead.\n",
    "\n",
    "2. The best LightGBM models all had similar recall scores to the best XGboost model, around 0.85 as well.\n",
    "\n",
    "3. LightGBM models did well with lower learning rates and higher depth or a higher learning rate and relatively lower depth."
   ]
  },
  {
   "cell_type": "code",
   "execution_count": 18,
   "metadata": {},
   "outputs": [
    {
     "name": "stdout",
     "output_type": "stream",
     "text": [
      "     number     value             datetime_start          datetime_complete  \\\n",
      "106     106  0.844527 2022-08-09 02:37:51.645079 2022-08-09 02:38:43.209772   \n",
      "\n",
      "                  duration  params_C params_classifier  params_learning_rate  \\\n",
      "106 0 days 00:00:51.564693       NaN              lgbm                  0.01   \n",
      "\n",
      "     params_max_depth  params_n_estimators     state  \n",
      "106              20.0               1000.0  COMPLETE  \n"
     ]
    }
   ],
   "source": [
    "best_lgb_model = study_df[study_df[\"params_classifier\"] == \"lgbm\"].sort_values(\"value\", ascending=False).head(1)\n",
    "print(best_lgb_model)\n",
    "best_lgb_model.to_csv(\"best_models.csv\", index=False, mode=\"a\")"
   ]
  },
  {
   "cell_type": "code",
   "execution_count": 19,
   "metadata": {},
   "outputs": [
    {
     "data": {
      "text/html": [
       "<div>\n",
       "<style scoped>\n",
       "    .dataframe tbody tr th:only-of-type {\n",
       "        vertical-align: middle;\n",
       "    }\n",
       "\n",
       "    .dataframe tbody tr th {\n",
       "        vertical-align: top;\n",
       "    }\n",
       "\n",
       "    .dataframe thead th {\n",
       "        text-align: right;\n",
       "    }\n",
       "</style>\n",
       "<table border=\"1\" class=\"dataframe\">\n",
       "  <thead>\n",
       "    <tr style=\"text-align: right;\">\n",
       "      <th></th>\n",
       "      <th>number</th>\n",
       "      <th>value</th>\n",
       "      <th>duration</th>\n",
       "      <th>params_C</th>\n",
       "      <th>params_learning_rate</th>\n",
       "      <th>params_max_depth</th>\n",
       "      <th>params_n_estimators</th>\n",
       "    </tr>\n",
       "  </thead>\n",
       "  <tbody>\n",
       "    <tr>\n",
       "      <th>count</th>\n",
       "      <td>14.000000</td>\n",
       "      <td>14.000000</td>\n",
       "      <td>14</td>\n",
       "      <td>0.0</td>\n",
       "      <td>14.000000</td>\n",
       "      <td>14.000000</td>\n",
       "      <td>14.000000</td>\n",
       "    </tr>\n",
       "    <tr>\n",
       "      <th>mean</th>\n",
       "      <td>65.214286</td>\n",
       "      <td>0.835981</td>\n",
       "      <td>0 days 00:00:57.888010928</td>\n",
       "      <td>NaN</td>\n",
       "      <td>0.074307</td>\n",
       "      <td>9.357143</td>\n",
       "      <td>1457.142857</td>\n",
       "    </tr>\n",
       "    <tr>\n",
       "      <th>std</th>\n",
       "      <td>57.180118</td>\n",
       "      <td>0.011132</td>\n",
       "      <td>0 days 00:00:51.526948337</td>\n",
       "      <td>NaN</td>\n",
       "      <td>0.079951</td>\n",
       "      <td>6.159510</td>\n",
       "      <td>1281.654151</td>\n",
       "    </tr>\n",
       "    <tr>\n",
       "      <th>min</th>\n",
       "      <td>3.000000</td>\n",
       "      <td>0.807192</td>\n",
       "      <td>0 days 00:00:10.332197</td>\n",
       "      <td>NaN</td>\n",
       "      <td>0.000100</td>\n",
       "      <td>3.000000</td>\n",
       "      <td>200.000000</td>\n",
       "    </tr>\n",
       "    <tr>\n",
       "      <th>25%</th>\n",
       "      <td>21.250000</td>\n",
       "      <td>0.833544</td>\n",
       "      <td>0 days 00:00:19.953306250</td>\n",
       "      <td>NaN</td>\n",
       "      <td>0.010000</td>\n",
       "      <td>4.250000</td>\n",
       "      <td>500.000000</td>\n",
       "    </tr>\n",
       "    <tr>\n",
       "      <th>50%</th>\n",
       "      <td>48.000000</td>\n",
       "      <td>0.839853</td>\n",
       "      <td>0 days 00:00:50.945442</td>\n",
       "      <td>NaN</td>\n",
       "      <td>0.055000</td>\n",
       "      <td>7.500000</td>\n",
       "      <td>1000.000000</td>\n",
       "    </tr>\n",
       "    <tr>\n",
       "      <th>75%</th>\n",
       "      <td>101.250000</td>\n",
       "      <td>0.844032</td>\n",
       "      <td>0 days 00:01:10.435751</td>\n",
       "      <td>NaN</td>\n",
       "      <td>0.100000</td>\n",
       "      <td>12.500000</td>\n",
       "      <td>2000.000000</td>\n",
       "    </tr>\n",
       "    <tr>\n",
       "      <th>max</th>\n",
       "      <td>180.000000</td>\n",
       "      <td>0.844527</td>\n",
       "      <td>0 days 00:02:57.835429</td>\n",
       "      <td>NaN</td>\n",
       "      <td>0.200000</td>\n",
       "      <td>20.000000</td>\n",
       "      <td>4000.000000</td>\n",
       "    </tr>\n",
       "  </tbody>\n",
       "</table>\n",
       "</div>"
      ],
      "text/plain": [
       "           number      value                   duration  params_C  \\\n",
       "count   14.000000  14.000000                         14       0.0   \n",
       "mean    65.214286   0.835981  0 days 00:00:57.888010928       NaN   \n",
       "std     57.180118   0.011132  0 days 00:00:51.526948337       NaN   \n",
       "min      3.000000   0.807192     0 days 00:00:10.332197       NaN   \n",
       "25%     21.250000   0.833544  0 days 00:00:19.953306250       NaN   \n",
       "50%     48.000000   0.839853     0 days 00:00:50.945442       NaN   \n",
       "75%    101.250000   0.844032     0 days 00:01:10.435751       NaN   \n",
       "max    180.000000   0.844527     0 days 00:02:57.835429       NaN   \n",
       "\n",
       "       params_learning_rate  params_max_depth  params_n_estimators  \n",
       "count             14.000000         14.000000            14.000000  \n",
       "mean               0.074307          9.357143          1457.142857  \n",
       "std                0.079951          6.159510          1281.654151  \n",
       "min                0.000100          3.000000           200.000000  \n",
       "25%                0.010000          4.250000           500.000000  \n",
       "50%                0.055000          7.500000          1000.000000  \n",
       "75%                0.100000         12.500000          2000.000000  \n",
       "max                0.200000         20.000000          4000.000000  "
      ]
     },
     "execution_count": 19,
     "metadata": {},
     "output_type": "execute_result"
    }
   ],
   "source": [
    "study_df[study_df[\"params_classifier\"] == \"lgbm\"].describe()"
   ]
  },
  {
   "cell_type": "code",
   "execution_count": 20,
   "metadata": {},
   "outputs": [
    {
     "data": {
      "text/html": [
       "<div>\n",
       "<style scoped>\n",
       "    .dataframe tbody tr th:only-of-type {\n",
       "        vertical-align: middle;\n",
       "    }\n",
       "\n",
       "    .dataframe tbody tr th {\n",
       "        vertical-align: top;\n",
       "    }\n",
       "\n",
       "    .dataframe thead th {\n",
       "        text-align: right;\n",
       "    }\n",
       "</style>\n",
       "<table border=\"1\" class=\"dataframe\">\n",
       "  <thead>\n",
       "    <tr style=\"text-align: right;\">\n",
       "      <th></th>\n",
       "      <th>number</th>\n",
       "      <th>value</th>\n",
       "      <th>datetime_start</th>\n",
       "      <th>datetime_complete</th>\n",
       "      <th>duration</th>\n",
       "      <th>params_C</th>\n",
       "      <th>params_classifier</th>\n",
       "      <th>params_learning_rate</th>\n",
       "      <th>params_max_depth</th>\n",
       "      <th>params_n_estimators</th>\n",
       "      <th>state</th>\n",
       "    </tr>\n",
       "  </thead>\n",
       "  <tbody>\n",
       "    <tr>\n",
       "      <th>106</th>\n",
       "      <td>106</td>\n",
       "      <td>0.844527</td>\n",
       "      <td>2022-08-09 02:37:51.645079</td>\n",
       "      <td>2022-08-09 02:38:43.209772</td>\n",
       "      <td>0 days 00:00:51.564693</td>\n",
       "      <td>NaN</td>\n",
       "      <td>lgbm</td>\n",
       "      <td>0.0100</td>\n",
       "      <td>20.0</td>\n",
       "      <td>1000.0</td>\n",
       "      <td>COMPLETE</td>\n",
       "    </tr>\n",
       "    <tr>\n",
       "      <th>3</th>\n",
       "      <td>3</td>\n",
       "      <td>0.844389</td>\n",
       "      <td>2022-08-09 01:23:10.448339</td>\n",
       "      <td>2022-08-09 01:24:17.147875</td>\n",
       "      <td>0 days 00:01:06.699536</td>\n",
       "      <td>NaN</td>\n",
       "      <td>lgbm</td>\n",
       "      <td>0.0100</td>\n",
       "      <td>7.0</td>\n",
       "      <td>2000.0</td>\n",
       "      <td>COMPLETE</td>\n",
       "    </tr>\n",
       "    <tr>\n",
       "      <th>6</th>\n",
       "      <td>6</td>\n",
       "      <td>0.844384</td>\n",
       "      <td>2022-08-09 01:27:16.971263</td>\n",
       "      <td>2022-08-09 01:28:07.297454</td>\n",
       "      <td>0 days 00:00:50.326191</td>\n",
       "      <td>NaN</td>\n",
       "      <td>lgbm</td>\n",
       "      <td>0.0001</td>\n",
       "      <td>18.0</td>\n",
       "      <td>1000.0</td>\n",
       "      <td>COMPLETE</td>\n",
       "    </tr>\n",
       "    <tr>\n",
       "      <th>56</th>\n",
       "      <td>56</td>\n",
       "      <td>0.844316</td>\n",
       "      <td>2022-08-09 02:12:41.510831</td>\n",
       "      <td>2022-08-09 02:14:00.486834</td>\n",
       "      <td>0 days 00:01:18.976003</td>\n",
       "      <td>NaN</td>\n",
       "      <td>lgbm</td>\n",
       "      <td>0.2000</td>\n",
       "      <td>11.0</td>\n",
       "      <td>2000.0</td>\n",
       "      <td>COMPLETE</td>\n",
       "    </tr>\n",
       "    <tr>\n",
       "      <th>70</th>\n",
       "      <td>70</td>\n",
       "      <td>0.843180</td>\n",
       "      <td>2022-08-09 02:15:25.598517</td>\n",
       "      <td>2022-08-09 02:16:18.045150</td>\n",
       "      <td>0 days 00:00:52.446633</td>\n",
       "      <td>NaN</td>\n",
       "      <td>lgbm</td>\n",
       "      <td>0.2000</td>\n",
       "      <td>4.0</td>\n",
       "      <td>2000.0</td>\n",
       "      <td>COMPLETE</td>\n",
       "    </tr>\n",
       "  </tbody>\n",
       "</table>\n",
       "</div>"
      ],
      "text/plain": [
       "     number     value             datetime_start          datetime_complete  \\\n",
       "106     106  0.844527 2022-08-09 02:37:51.645079 2022-08-09 02:38:43.209772   \n",
       "3         3  0.844389 2022-08-09 01:23:10.448339 2022-08-09 01:24:17.147875   \n",
       "6         6  0.844384 2022-08-09 01:27:16.971263 2022-08-09 01:28:07.297454   \n",
       "56       56  0.844316 2022-08-09 02:12:41.510831 2022-08-09 02:14:00.486834   \n",
       "70       70  0.843180 2022-08-09 02:15:25.598517 2022-08-09 02:16:18.045150   \n",
       "\n",
       "                  duration  params_C params_classifier  params_learning_rate  \\\n",
       "106 0 days 00:00:51.564693       NaN              lgbm                0.0100   \n",
       "3   0 days 00:01:06.699536       NaN              lgbm                0.0100   \n",
       "6   0 days 00:00:50.326191       NaN              lgbm                0.0001   \n",
       "56  0 days 00:01:18.976003       NaN              lgbm                0.2000   \n",
       "70  0 days 00:00:52.446633       NaN              lgbm                0.2000   \n",
       "\n",
       "     params_max_depth  params_n_estimators     state  \n",
       "106              20.0               1000.0  COMPLETE  \n",
       "3                 7.0               2000.0  COMPLETE  \n",
       "6                18.0               1000.0  COMPLETE  \n",
       "56               11.0               2000.0  COMPLETE  \n",
       "70                4.0               2000.0  COMPLETE  "
      ]
     },
     "execution_count": 20,
     "metadata": {},
     "output_type": "execute_result"
    }
   ],
   "source": [
    "study_df[study_df[\"params_classifier\"] == \"lgbm\"].sort_values(\"value\", ascending=False).head(5)"
   ]
  },
  {
   "cell_type": "markdown",
   "metadata": {},
   "source": [
    "### Logistic Regression Results:\n",
    "\n",
    "1. Train/predict was the fastest of the 3 models. It is a simpler model, using gradient descent, which computes very quickly. On average, it only took 2 seconds.\n",
    "\n",
    "2. The best linear regression models had a C value (determining gradient descent speed) of 0.01 and a recall near 0.91.\n",
    "\n",
    "3. Overall, despite being the simplest model, the Logistic Regression model gave the best results, as well as training/predicting far, far quicker."
   ]
  },
  {
   "cell_type": "code",
   "execution_count": 21,
   "metadata": {},
   "outputs": [
    {
     "name": "stdout",
     "output_type": "stream",
     "text": [
      "    number     value             datetime_start          datetime_complete  \\\n",
      "35      35  0.916435 2022-08-09 01:40:03.147489 2022-08-09 01:40:04.929709   \n",
      "\n",
      "                 duration  params_C params_classifier  params_learning_rate  \\\n",
      "35 0 days 00:00:01.782220      0.01            logreg                   NaN   \n",
      "\n",
      "    params_max_depth  params_n_estimators     state  \n",
      "35               NaN                  NaN  COMPLETE  \n"
     ]
    }
   ],
   "source": [
    "best_lr_model = study_df[study_df[\"params_classifier\"] == \"logreg\"].sort_values(\"value\", ascending=False).head(1)\n",
    "print(best_lr_model)\n",
    "best_lr_model.to_csv(\"best_models.csv\", index=False, mode=\"a\")"
   ]
  },
  {
   "cell_type": "code",
   "execution_count": 22,
   "metadata": {},
   "outputs": [
    {
     "data": {
      "text/html": [
       "<div>\n",
       "<style scoped>\n",
       "    .dataframe tbody tr th:only-of-type {\n",
       "        vertical-align: middle;\n",
       "    }\n",
       "\n",
       "    .dataframe tbody tr th {\n",
       "        vertical-align: top;\n",
       "    }\n",
       "\n",
       "    .dataframe thead th {\n",
       "        text-align: right;\n",
       "    }\n",
       "</style>\n",
       "<table border=\"1\" class=\"dataframe\">\n",
       "  <thead>\n",
       "    <tr style=\"text-align: right;\">\n",
       "      <th></th>\n",
       "      <th>number</th>\n",
       "      <th>value</th>\n",
       "      <th>duration</th>\n",
       "      <th>params_C</th>\n",
       "      <th>params_learning_rate</th>\n",
       "      <th>params_max_depth</th>\n",
       "      <th>params_n_estimators</th>\n",
       "    </tr>\n",
       "  </thead>\n",
       "  <tbody>\n",
       "    <tr>\n",
       "      <th>count</th>\n",
       "      <td>172.000000</td>\n",
       "      <td>172.000000</td>\n",
       "      <td>172</td>\n",
       "      <td>172.000000</td>\n",
       "      <td>0.0</td>\n",
       "      <td>0.0</td>\n",
       "      <td>0.0</td>\n",
       "    </tr>\n",
       "    <tr>\n",
       "      <th>mean</th>\n",
       "      <td>105.587209</td>\n",
       "      <td>0.906174</td>\n",
       "      <td>0 days 00:00:01.895718837</td>\n",
       "      <td>0.078547</td>\n",
       "      <td>NaN</td>\n",
       "      <td>NaN</td>\n",
       "      <td>NaN</td>\n",
       "    </tr>\n",
       "    <tr>\n",
       "      <th>std</th>\n",
       "      <td>56.228112</td>\n",
       "      <td>0.018383</td>\n",
       "      <td>0 days 00:00:00.879439925</td>\n",
       "      <td>0.242477</td>\n",
       "      <td>NaN</td>\n",
       "      <td>NaN</td>\n",
       "      <td>NaN</td>\n",
       "    </tr>\n",
       "    <tr>\n",
       "      <th>min</th>\n",
       "      <td>0.000000</td>\n",
       "      <td>0.852294</td>\n",
       "      <td>0 days 00:00:01.425250</td>\n",
       "      <td>0.010000</td>\n",
       "      <td>NaN</td>\n",
       "      <td>NaN</td>\n",
       "      <td>NaN</td>\n",
       "    </tr>\n",
       "    <tr>\n",
       "      <th>25%</th>\n",
       "      <td>58.750000</td>\n",
       "      <td>0.912021</td>\n",
       "      <td>0 days 00:00:01.511956750</td>\n",
       "      <td>0.010000</td>\n",
       "      <td>NaN</td>\n",
       "      <td>NaN</td>\n",
       "      <td>NaN</td>\n",
       "    </tr>\n",
       "    <tr>\n",
       "      <th>50%</th>\n",
       "      <td>107.500000</td>\n",
       "      <td>0.913222</td>\n",
       "      <td>0 days 00:00:01.685848500</td>\n",
       "      <td>0.010000</td>\n",
       "      <td>NaN</td>\n",
       "      <td>NaN</td>\n",
       "      <td>NaN</td>\n",
       "    </tr>\n",
       "    <tr>\n",
       "      <th>75%</th>\n",
       "      <td>154.250000</td>\n",
       "      <td>0.913836</td>\n",
       "      <td>0 days 00:00:01.716180500</td>\n",
       "      <td>0.010000</td>\n",
       "      <td>NaN</td>\n",
       "      <td>NaN</td>\n",
       "      <td>NaN</td>\n",
       "    </tr>\n",
       "    <tr>\n",
       "      <th>max</th>\n",
       "      <td>199.000000</td>\n",
       "      <td>0.916435</td>\n",
       "      <td>0 days 00:00:05.955641</td>\n",
       "      <td>1.000000</td>\n",
       "      <td>NaN</td>\n",
       "      <td>NaN</td>\n",
       "      <td>NaN</td>\n",
       "    </tr>\n",
       "  </tbody>\n",
       "</table>\n",
       "</div>"
      ],
      "text/plain": [
       "           number       value                   duration    params_C  \\\n",
       "count  172.000000  172.000000                        172  172.000000   \n",
       "mean   105.587209    0.906174  0 days 00:00:01.895718837    0.078547   \n",
       "std     56.228112    0.018383  0 days 00:00:00.879439925    0.242477   \n",
       "min      0.000000    0.852294     0 days 00:00:01.425250    0.010000   \n",
       "25%     58.750000    0.912021  0 days 00:00:01.511956750    0.010000   \n",
       "50%    107.500000    0.913222  0 days 00:00:01.685848500    0.010000   \n",
       "75%    154.250000    0.913836  0 days 00:00:01.716180500    0.010000   \n",
       "max    199.000000    0.916435     0 days 00:00:05.955641    1.000000   \n",
       "\n",
       "       params_learning_rate  params_max_depth  params_n_estimators  \n",
       "count                   0.0               0.0                  0.0  \n",
       "mean                    NaN               NaN                  NaN  \n",
       "std                     NaN               NaN                  NaN  \n",
       "min                     NaN               NaN                  NaN  \n",
       "25%                     NaN               NaN                  NaN  \n",
       "50%                     NaN               NaN                  NaN  \n",
       "75%                     NaN               NaN                  NaN  \n",
       "max                     NaN               NaN                  NaN  "
      ]
     },
     "execution_count": 22,
     "metadata": {},
     "output_type": "execute_result"
    }
   ],
   "source": [
    "study_df[study_df[\"params_classifier\"] == \"logreg\"].describe()"
   ]
  },
  {
   "cell_type": "code",
   "execution_count": 23,
   "metadata": {},
   "outputs": [
    {
     "data": {
      "text/html": [
       "<div>\n",
       "<style scoped>\n",
       "    .dataframe tbody tr th:only-of-type {\n",
       "        vertical-align: middle;\n",
       "    }\n",
       "\n",
       "    .dataframe tbody tr th {\n",
       "        vertical-align: top;\n",
       "    }\n",
       "\n",
       "    .dataframe thead th {\n",
       "        text-align: right;\n",
       "    }\n",
       "</style>\n",
       "<table border=\"1\" class=\"dataframe\">\n",
       "  <thead>\n",
       "    <tr style=\"text-align: right;\">\n",
       "      <th></th>\n",
       "      <th>number</th>\n",
       "      <th>value</th>\n",
       "      <th>datetime_start</th>\n",
       "      <th>datetime_complete</th>\n",
       "      <th>duration</th>\n",
       "      <th>params_C</th>\n",
       "      <th>params_classifier</th>\n",
       "      <th>params_learning_rate</th>\n",
       "      <th>params_max_depth</th>\n",
       "      <th>params_n_estimators</th>\n",
       "      <th>state</th>\n",
       "    </tr>\n",
       "  </thead>\n",
       "  <tbody>\n",
       "    <tr>\n",
       "      <th>35</th>\n",
       "      <td>35</td>\n",
       "      <td>0.916435</td>\n",
       "      <td>2022-08-09 01:40:03.147489</td>\n",
       "      <td>2022-08-09 01:40:04.929709</td>\n",
       "      <td>0 days 00:00:01.782220</td>\n",
       "      <td>0.01</td>\n",
       "      <td>logreg</td>\n",
       "      <td>NaN</td>\n",
       "      <td>NaN</td>\n",
       "      <td>NaN</td>\n",
       "      <td>COMPLETE</td>\n",
       "    </tr>\n",
       "    <tr>\n",
       "      <th>161</th>\n",
       "      <td>161</td>\n",
       "      <td>0.915943</td>\n",
       "      <td>2022-08-09 02:51:16.061808</td>\n",
       "      <td>2022-08-09 02:51:17.750527</td>\n",
       "      <td>0 days 00:00:01.688719</td>\n",
       "      <td>0.01</td>\n",
       "      <td>logreg</td>\n",
       "      <td>NaN</td>\n",
       "      <td>NaN</td>\n",
       "      <td>NaN</td>\n",
       "      <td>COMPLETE</td>\n",
       "    </tr>\n",
       "    <tr>\n",
       "      <th>185</th>\n",
       "      <td>185</td>\n",
       "      <td>0.915468</td>\n",
       "      <td>2022-08-09 02:54:56.144753</td>\n",
       "      <td>2022-08-09 02:54:57.855027</td>\n",
       "      <td>0 days 00:00:01.710274</td>\n",
       "      <td>0.01</td>\n",
       "      <td>logreg</td>\n",
       "      <td>NaN</td>\n",
       "      <td>NaN</td>\n",
       "      <td>NaN</td>\n",
       "      <td>COMPLETE</td>\n",
       "    </tr>\n",
       "    <tr>\n",
       "      <th>91</th>\n",
       "      <td>91</td>\n",
       "      <td>0.915353</td>\n",
       "      <td>2022-08-09 02:35:31.325249</td>\n",
       "      <td>2022-08-09 02:35:32.803748</td>\n",
       "      <td>0 days 00:00:01.478499</td>\n",
       "      <td>0.01</td>\n",
       "      <td>logreg</td>\n",
       "      <td>NaN</td>\n",
       "      <td>NaN</td>\n",
       "      <td>NaN</td>\n",
       "      <td>COMPLETE</td>\n",
       "    </tr>\n",
       "    <tr>\n",
       "      <th>136</th>\n",
       "      <td>136</td>\n",
       "      <td>0.915318</td>\n",
       "      <td>2022-08-09 02:49:29.429322</td>\n",
       "      <td>2022-08-09 02:49:31.132673</td>\n",
       "      <td>0 days 00:00:01.703351</td>\n",
       "      <td>0.01</td>\n",
       "      <td>logreg</td>\n",
       "      <td>NaN</td>\n",
       "      <td>NaN</td>\n",
       "      <td>NaN</td>\n",
       "      <td>COMPLETE</td>\n",
       "    </tr>\n",
       "  </tbody>\n",
       "</table>\n",
       "</div>"
      ],
      "text/plain": [
       "     number     value             datetime_start          datetime_complete  \\\n",
       "35       35  0.916435 2022-08-09 01:40:03.147489 2022-08-09 01:40:04.929709   \n",
       "161     161  0.915943 2022-08-09 02:51:16.061808 2022-08-09 02:51:17.750527   \n",
       "185     185  0.915468 2022-08-09 02:54:56.144753 2022-08-09 02:54:57.855027   \n",
       "91       91  0.915353 2022-08-09 02:35:31.325249 2022-08-09 02:35:32.803748   \n",
       "136     136  0.915318 2022-08-09 02:49:29.429322 2022-08-09 02:49:31.132673   \n",
       "\n",
       "                  duration  params_C params_classifier  params_learning_rate  \\\n",
       "35  0 days 00:00:01.782220      0.01            logreg                   NaN   \n",
       "161 0 days 00:00:01.688719      0.01            logreg                   NaN   \n",
       "185 0 days 00:00:01.710274      0.01            logreg                   NaN   \n",
       "91  0 days 00:00:01.478499      0.01            logreg                   NaN   \n",
       "136 0 days 00:00:01.703351      0.01            logreg                   NaN   \n",
       "\n",
       "     params_max_depth  params_n_estimators     state  \n",
       "35                NaN                  NaN  COMPLETE  \n",
       "161               NaN                  NaN  COMPLETE  \n",
       "185               NaN                  NaN  COMPLETE  \n",
       "91                NaN                  NaN  COMPLETE  \n",
       "136               NaN                  NaN  COMPLETE  "
      ]
     },
     "execution_count": 23,
     "metadata": {},
     "output_type": "execute_result"
    }
   ],
   "source": [
    "study_df[study_df[\"params_classifier\"] == \"logreg\"].sort_values(\"value\", ascending=False).head(5)"
   ]
  },
  {
   "cell_type": "markdown",
   "metadata": {},
   "source": [
    "### 4.6.2 Conclusion\n",
    "\n",
    "1. Though quite long to process, we examined the effects of different sampling methods to help with the class imbalance in our notebook.\n",
    "\n",
    "2. We found no benefit using resampling/synthetic data generation, even on very small training sets, with few instances of the positive (predicted) class.\n",
    "\n",
    "3. Our best model, both in terms of recall and prediction time, was the Logistic Regression model.\n",
    "\n",
    "4. In the final notebook, we will look at the interpretability of the three models and compare any similarities and differences."
   ]
  }
 ],
 "metadata": {
  "kernelspec": {
   "display_name": "Python 3.10.4 ('pyspark')",
   "language": "python",
   "name": "python3"
  },
  "language_info": {
   "codemirror_mode": {
    "name": "ipython",
    "version": 3
   },
   "file_extension": ".py",
   "mimetype": "text/x-python",
   "name": "python",
   "nbconvert_exporter": "python",
   "pygments_lexer": "ipython3",
   "version": "3.10.4"
  },
  "orig_nbformat": 4,
  "vscode": {
   "interpreter": {
    "hash": "1d73df188c3ed28f9117694899638a2078581279f5400990dc36b7edf848ab19"
   }
  }
 },
 "nbformat": 4,
 "nbformat_minor": 2
}
