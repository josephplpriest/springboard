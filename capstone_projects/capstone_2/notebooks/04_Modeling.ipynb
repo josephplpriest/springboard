{
 "cells": [
  {
   "cell_type": "markdown",
   "metadata": {},
   "source": [
    "# 4.0 Modeling \n",
    "\n",
    "Contents\n",
    "\n",
    "4.1 [Introduction](#4.1)\n",
    "\n",
    "  * [4.1.1 Problem Recap](#4.1.1)\n",
    "  * [4.1.2 Notebook Goals](#4.1.2)\n",
    " \n",
    "4.2 [Load the data](#4.2)\n",
    "\n",
    "  * [4.2.1 Imports](#4.2.1)\n",
    "  * [4.2.2 Load the data](#4.2.2)\n",
    "\n",
    "4.3 [Examine Class Split](#4.3)\n",
    "\n",
    "4.4 [Pre-processing](#4.4)\n",
    "\n",
    "  * [4.4.1 Set Random Seed for Reproducability](#4.4.1)\n",
    "  * [4.4.2 Train/test Split](#4.4.2)\n",
    "  * [4.4.4 Examine Class Split for Train/Test Data](#4.4.4)\n",
    "  \n",
    "\n",
    "4.5 [Setting Up Pipelines](#4.5)\n",
    "  * 4.5.1 [Previous Best Model: Logistic Regression with Count Vectorization](#4.5.1)\n",
    "<br/><br/>\n",
    "    * [4.5.1.1 Training and Fitting the Model](#4.5.1.1)\n",
    "    * [4.5.1.2 Evaluating the Model](#4.5.1.2)\n",
    "<br/><br/>\n",
    " "
   ]
  },
  {
   "cell_type": "markdown",
   "id": "75b9c841",
   "metadata": {
    "pycharm": {
     "name": "#%% md\n"
    }
   },
   "source": [
    "## 4.1 Introduction <a name=\"4.1\"></a>"
   ]
  },
  {
   "cell_type": "markdown",
   "id": "b3d02b97",
   "metadata": {
    "pycharm": {
     "name": "#%% md\n"
    }
   },
   "source": [
    "### 4.1.1 Problem Recap <a name=\"4.1.1\"><a/>"
   ]
  },
  {
   "cell_type": "markdown",
   "id": "6cadbd87",
   "metadata": {
    "pycharm": {
     "name": "#%% md\n"
    }
   },
   "source": [
    "Using customer text data about amazon products, we will build, evaluate and compare models to estimate the probability that a given text review can be classified as “positive” or “negative”.\n",
    "\n",
    "Our goal is to build a text classifier using Amazon product review data which can be used to analyze customer sentiment which does not have accompanying numeric data. The metric we will be primarily interested in will be Recall on the positive class. This is the proportion of the positive class (negative reviews coded as \"1\" in the data) we correctly predict."
   ]
  },
  {
   "cell_type": "markdown",
   "id": "27bc4983",
   "metadata": {
    "pycharm": {
     "name": "#%% md\n"
    }
   },
   "source": [
    "### 4.1.2 Notebook Goals <a name=\"4.1.2\"></a>"
   ]
  },
  {
   "cell_type": "markdown",
   "id": "aeda4730",
   "metadata": {
    "pycharm": {
     "name": "#%% md\n"
    }
   },
   "source": [
    "1. In our previous notebook our best results came from Term-Frequency Inverse-Document Frequency vectorization and a Logistic Regression Model.\n",
    "\n",
    "2. We had slightly worse results from a Naive Bayes and Random Forest model. The Naive Bayes model incorrectly predicted a higher proportion of the negative class and the Random Forest model appeared to strongly overfit the training data with a very poor Recall on the test set.\n",
    "\n",
    "3. Try over-sampling the minority class that we are trying to predict (encoded as \"1\"s) and/or under-sampling the majority class.\n",
    "\n",
    "4. Test some other models such as gradient boosted trees (LightGBM/XGBoost) \n",
    "\n",
    "5. Examine how well our models will generalize with K-fold cross validation.\n",
    "\n",
    "6. Tune hyper-parameters with grid-search or bayesian search optimization."
   ]
  },
  {
   "cell_type": "markdown",
   "id": "71d646fd",
   "metadata": {
    "pycharm": {
     "name": "#%% md\n"
    }
   },
   "source": [
    "## 4.2 Load the data <a name=\"4.2\"><a/>"
   ]
  },
  {
   "cell_type": "markdown",
   "id": "9f718e2c",
   "metadata": {
    "pycharm": {
     "name": "#%% md\n"
    }
   },
   "source": [
    "### 4.2.1 Imports <a name=\"4.2.1\"><a/>"
   ]
  },
  {
   "cell_type": "code",
   "execution_count": 1,
   "id": "589120c8",
   "metadata": {
    "pycharm": {
     "name": "#%%\n"
    }
   },
   "outputs": [
    {
     "name": "stderr",
     "output_type": "stream",
     "text": [
      "/home/paul/anaconda3/envs/pyspark/lib/python3.10/site-packages/xgboost/compat.py:36: FutureWarning: pandas.Int64Index is deprecated and will be removed from pandas in a future version. Use pandas.Index with the appropriate dtype instead.\n",
      "  from pandas import MultiIndex, Int64Index\n"
     ]
    }
   ],
   "source": [
    "from random import seed\n",
    "\n",
    "#reading/processing data\n",
    "import pandas as pd\n",
    "import numpy as np\n",
    "import matplotlib.pyplot as plt\n",
    "import pyarrow.parquet as pq\n",
    "import plotly.express\n",
    "\n",
    "#splitting the dataset\n",
    "from sklearn.model_selection import train_test_split\n",
    "\n",
    "#scaling/vectorization\n",
    "from sklearn.feature_extraction.text import TfidfVectorizer\n",
    "\n",
    "# models\n",
    "from sklearn.linear_model import LogisticRegression\n",
    "import xgboost as xgb\n",
    "from imblearn.pipeline import Pipeline\n",
    "import lightgbm as lgb\n",
    "\n",
    "#metrics\n",
    "from sklearn.metrics import recall_score\n",
    "\n",
    "#dealing with class imbalance\n",
    "from imblearn.over_sampling import RandomOverSampler, SMOTE, ADASYN\n",
    "from imblearn.under_sampling import RandomUnderSampler\n",
    "\n",
    "#hyper-parameter tuning\n",
    "import optuna\n"
   ]
  },
  {
   "cell_type": "markdown",
   "id": "041448da",
   "metadata": {
    "pycharm": {
     "name": "#%% md\n"
    }
   },
   "source": [
    "### 4.2.2 Load the data <a name=\"4.2.2\"><a/>"
   ]
  },
  {
   "cell_type": "code",
   "execution_count": 2,
   "id": "23d6a53a",
   "metadata": {
    "pycharm": {
     "name": "#%%\n"
    }
   },
   "outputs": [],
   "source": [
    "data = pq.read_table(\"../data/edited/fashion.parquet\")\n",
    "fashion = data.to_pandas()"
   ]
  },
  {
   "cell_type": "markdown",
   "metadata": {},
   "source": [
    "## Vectorize and split the data into train/test sets"
   ]
  },
  {
   "cell_type": "code",
   "execution_count": 3,
   "metadata": {},
   "outputs": [],
   "source": [
    "#Vectorizing and splitting the data into train and test sets\n",
    "\n",
    "tfidf = TfidfVectorizer(ngram_range=(1,2), min_df = 5, max_df=0.95)\n",
    "\n",
    "X_train, X_test, y_train, y_test = train_test_split(fashion[\"review\"].values, fashion[\"neg_sentiment\"], test_size = .1, random_state=1)\n",
    "\n",
    "#convert to 1d arrays\n",
    "y_train, y_test = np.ravel(y_train), np.ravel(y_test)\n",
    "\n",
    "#ensure our 1/0 values are integers for the pipeline model we will use\n",
    "y_train, y_test = y_train.astype(int), y_test.astype(int)\n",
    "\n",
    "#fit on ONLY the training data\n",
    "tfidf.fit(X_train)\n",
    "\n",
    "#transform both train and test data\n",
    "X_train = tfidf.transform(X_train)\n",
    "X_test = tfidf.transform(X_test)"
   ]
  },
  {
   "cell_type": "markdown",
   "metadata": {},
   "source": [
    "## Timing comparison of various under/oversampling techniques\n",
    "\n",
    "In data sets with an imbalanced split between the classes we are trying to predict, there are few possible approaches to try to improve the target metric our model (classifier) is optimizing for.\n",
    "\n",
    "1. Over-sampling - if we train with a higher proportion of the class we are trying to predict using resampling, we may be able to improve the result for our classifier.\n",
    "\n",
    "2. Under-sampling - by the same logic, we can under-sample the majority classes we are NOT trying to predict.\n",
    "\n",
    "Both of these can introduce worse outcome metrics for our alternate classes, which may be an issue depending on the specific problem.\n",
    "\n",
    "\n",
    "3. Synthesize data: we can generate artificial data using the minority class we are trying to predict. ADASYN and SMOTE both use Nearest Neigbhors algorithms to generate artificial points that are located \"close\" in the n-dimensional feature space of the target class to the actual data points. Conceptually, we can think of it as if we gathered MORE data, and are assuming it looks similar to the current data we have. It will be unlikely to have strong outliers due to the nature of the algorithm and will be more \"clumped\" together than if we gathered more \"real\" data.\n"
   ]
  },
  {
   "cell_type": "markdown",
   "metadata": {},
   "source": [
    "## Graphical output of the various types of sampling/explanations"
   ]
  },
  {
   "cell_type": "markdown",
   "metadata": {},
   "source": [
    "## Timing comparison of various models\n"
   ]
  },
  {
   "cell_type": "code",
   "execution_count": 4,
   "metadata": {},
   "outputs": [],
   "source": [
    "smote = SMOTE()\n",
    "\n",
    "ada = ADASYN()\n",
    "\n",
    "ros = RandomOverSampler()\n",
    "\n",
    "rus = RandomUnderSampler()"
   ]
  },
  {
   "cell_type": "code",
   "execution_count": 5,
   "metadata": {},
   "outputs": [
    {
     "name": "stdout",
     "output_type": "stream",
     "text": [
      "35.1 ms ± 3.67 ms per loop (mean ± std. dev. of 7 runs, 1 loop each)\n",
      "143 ms ± 1.85 ms per loop (mean ± std. dev. of 7 runs, 1 loop each)\n",
      "317 ms ± 831 µs per loop (mean ± std. dev. of 7 runs, 1 loop each)\n",
      "571 ms ± 1.96 ms per loop (mean ± std. dev. of 7 runs, 1 loop each)\n",
      "895 ms ± 8.48 ms per loop (mean ± std. dev. of 7 runs, 1 loop each)\n",
      "1.3 s ± 11.6 ms per loop (mean ± std. dev. of 7 runs, 1 loop each)\n",
      "1.76 s ± 39.9 ms per loop (mean ± std. dev. of 7 runs, 1 loop each)\n",
      "2.18 s ± 53.8 ms per loop (mean ± std. dev. of 7 runs, 1 loop each)\n",
      "2.7 s ± 6.92 ms per loop (mean ± std. dev. of 7 runs, 1 loop each)\n",
      "3.53 s ± 3.34 ms per loop (mean ± std. dev. of 7 runs, 1 loop each)\n",
      "4.12 s ± 15.3 ms per loop (mean ± std. dev. of 7 runs, 1 loop each)\n",
      "4.88 s ± 23.4 ms per loop (mean ± std. dev. of 7 runs, 1 loop each)\n",
      "5.87 s ± 13 ms per loop (mean ± std. dev. of 7 runs, 1 loop each)\n",
      "6.84 s ± 30.7 ms per loop (mean ± std. dev. of 7 runs, 1 loop each)\n",
      "7.78 s ± 51.4 ms per loop (mean ± std. dev. of 7 runs, 1 loop each)\n",
      "8.91 s ± 38.8 ms per loop (mean ± std. dev. of 7 runs, 1 loop each)\n",
      "10.2 s ± 23.6 ms per loop (mean ± std. dev. of 7 runs, 1 loop each)\n",
      "11.5 s ± 39.4 ms per loop (mean ± std. dev. of 7 runs, 1 loop each)\n",
      "12.3 s ± 146 ms per loop (mean ± std. dev. of 7 runs, 1 loop each)\n",
      "13.5 s ± 20.8 ms per loop (mean ± std. dev. of 7 runs, 1 loop each)\n",
      "14.9 s ± 119 ms per loop (mean ± std. dev. of 7 runs, 1 loop each)\n",
      "17.2 s ± 34.2 ms per loop (mean ± std. dev. of 7 runs, 1 loop each)\n",
      "17.7 s ± 161 ms per loop (mean ± std. dev. of 7 runs, 1 loop each)\n",
      "19.9 s ± 139 ms per loop (mean ± std. dev. of 7 runs, 1 loop each)\n",
      "21.4 s ± 103 ms per loop (mean ± std. dev. of 7 runs, 1 loop each)\n",
      "23.1 s ± 120 ms per loop (mean ± std. dev. of 7 runs, 1 loop each)\n",
      "25.2 s ± 162 ms per loop (mean ± std. dev. of 7 runs, 1 loop each)\n",
      "26.6 s ± 155 ms per loop (mean ± std. dev. of 7 runs, 1 loop each)\n",
      "29.3 s ± 220 ms per loop (mean ± std. dev. of 7 runs, 1 loop each)\n",
      "32.6 s ± 325 ms per loop (mean ± std. dev. of 7 runs, 1 loop each)\n",
      "32.4 s ± 146 ms per loop (mean ± std. dev. of 7 runs, 1 loop each)\n",
      "35.8 s ± 170 ms per loop (mean ± std. dev. of 7 runs, 1 loop each)\n",
      "39.2 s ± 119 ms per loop (mean ± std. dev. of 7 runs, 1 loop each)\n",
      "41.4 s ± 146 ms per loop (mean ± std. dev. of 7 runs, 1 loop each)\n",
      "44.9 s ± 272 ms per loop (mean ± std. dev. of 7 runs, 1 loop each)\n",
      "45 s ± 94 ms per loop (mean ± std. dev. of 7 runs, 1 loop each)\n",
      "48.8 s ± 109 ms per loop (mean ± std. dev. of 7 runs, 1 loop each)\n",
      "51.7 s ± 429 ms per loop (mean ± std. dev. of 7 runs, 1 loop each)\n",
      "53.1 s ± 465 ms per loop (mean ± std. dev. of 7 runs, 1 loop each)\n",
      "57.9 s ± 297 ms per loop (mean ± std. dev. of 7 runs, 1 loop each)\n",
      "143 ms ± 5.49 ms per loop (mean ± std. dev. of 7 runs, 1 loop each)\n",
      "586 ms ± 16.8 ms per loop (mean ± std. dev. of 7 runs, 1 loop each)\n",
      "1.34 s ± 23 ms per loop (mean ± std. dev. of 7 runs, 1 loop each)\n",
      "2.26 s ± 28.4 ms per loop (mean ± std. dev. of 7 runs, 1 loop each)\n",
      "3.67 s ± 74.1 ms per loop (mean ± std. dev. of 7 runs, 1 loop each)\n",
      "5.08 s ± 30.3 ms per loop (mean ± std. dev. of 7 runs, 1 loop each)\n",
      "7.04 s ± 60 ms per loop (mean ± std. dev. of 7 runs, 1 loop each)\n",
      "9.28 s ± 127 ms per loop (mean ± std. dev. of 7 runs, 1 loop each)\n",
      "11.3 s ± 146 ms per loop (mean ± std. dev. of 7 runs, 1 loop each)\n",
      "14.4 s ± 148 ms per loop (mean ± std. dev. of 7 runs, 1 loop each)\n",
      "16.6 s ± 288 ms per loop (mean ± std. dev. of 7 runs, 1 loop each)\n",
      "20.9 s ± 72.6 ms per loop (mean ± std. dev. of 7 runs, 1 loop each)\n",
      "24.3 s ± 158 ms per loop (mean ± std. dev. of 7 runs, 1 loop each)\n",
      "28.5 s ± 258 ms per loop (mean ± std. dev. of 7 runs, 1 loop each)\n",
      "32.7 s ± 81.4 ms per loop (mean ± std. dev. of 7 runs, 1 loop each)\n",
      "37.1 s ± 107 ms per loop (mean ± std. dev. of 7 runs, 1 loop each)\n",
      "42.1 s ± 276 ms per loop (mean ± std. dev. of 7 runs, 1 loop each)\n",
      "48.6 s ± 208 ms per loop (mean ± std. dev. of 7 runs, 1 loop each)\n",
      "52.1 s ± 26.5 ms per loop (mean ± std. dev. of 7 runs, 1 loop each)\n",
      "58.8 s ± 633 ms per loop (mean ± std. dev. of 7 runs, 1 loop each)\n"
     ]
    },
    {
     "ename": "KeyboardInterrupt",
     "evalue": "",
     "output_type": "error",
     "traceback": [
      "\u001b[0;31m---------------------------------------------------------------------------\u001b[0m",
      "\u001b[0;31mKeyboardInterrupt\u001b[0m                         Traceback (most recent call last)",
      "\u001b[1;32m/home/paul/Desktop/springboard/capstone_projects/capstone_2/notebooks/04_Modeling.ipynb Cell 18'\u001b[0m in \u001b[0;36m<cell line: 5>\u001b[0;34m()\u001b[0m\n\u001b[1;32m      <a href='vscode-notebook-cell:/home/paul/Desktop/springboard/capstone_projects/capstone_2/notebooks/04_Modeling.ipynb#ch0000017?line=5'>6</a>\u001b[0m \u001b[39mfor\u001b[39;00m i \u001b[39min\u001b[39;00m \u001b[39mrange\u001b[39m(\u001b[39m1\u001b[39m,\u001b[39m41\u001b[39m):\n\u001b[1;32m      <a href='vscode-notebook-cell:/home/paul/Desktop/springboard/capstone_projects/capstone_2/notebooks/04_Modeling.ipynb#ch0000017?line=7'>8</a>\u001b[0m     n_rows \u001b[39m=\u001b[39m i\u001b[39m*\u001b[39m\u001b[39m5000\u001b[39m\n\u001b[0;32m---> <a href='vscode-notebook-cell:/home/paul/Desktop/springboard/capstone_projects/capstone_2/notebooks/04_Modeling.ipynb#ch0000017?line=9'>10</a>\u001b[0m     time_var \u001b[39m=\u001b[39m get_ipython()\u001b[39m.\u001b[39;49mrun_line_magic(\u001b[39m'\u001b[39;49m\u001b[39mtimeit\u001b[39;49m\u001b[39m'\u001b[39;49m, \u001b[39m'\u001b[39;49m\u001b[39m-n1 -o samplers[sampler].fit_resample(X_train[0:n_rows,:], y_train[0:n_rows])\u001b[39;49m\u001b[39m'\u001b[39;49m)\n\u001b[1;32m     <a href='vscode-notebook-cell:/home/paul/Desktop/springboard/capstone_projects/capstone_2/notebooks/04_Modeling.ipynb#ch0000017?line=11'>12</a>\u001b[0m     timing_dict[sampler][i] \u001b[39m=\u001b[39m np\u001b[39m.\u001b[39mmean(time_var\u001b[39m.\u001b[39mall_runs)\n",
      "File \u001b[0;32m~/anaconda3/envs/pyspark/lib/python3.10/site-packages/IPython/core/interactiveshell.py:2304\u001b[0m, in \u001b[0;36mInteractiveShell.run_line_magic\u001b[0;34m(self, magic_name, line, _stack_depth)\u001b[0m\n\u001b[1;32m   2302\u001b[0m     kwargs[\u001b[39m'\u001b[39m\u001b[39mlocal_ns\u001b[39m\u001b[39m'\u001b[39m] \u001b[39m=\u001b[39m \u001b[39mself\u001b[39m\u001b[39m.\u001b[39mget_local_scope(stack_depth)\n\u001b[1;32m   2303\u001b[0m \u001b[39mwith\u001b[39;00m \u001b[39mself\u001b[39m\u001b[39m.\u001b[39mbuiltin_trap:\n\u001b[0;32m-> 2304\u001b[0m     result \u001b[39m=\u001b[39m fn(\u001b[39m*\u001b[39;49margs, \u001b[39m*\u001b[39;49m\u001b[39m*\u001b[39;49mkwargs)\n\u001b[1;32m   2305\u001b[0m \u001b[39mreturn\u001b[39;00m result\n",
      "File \u001b[0;32m~/anaconda3/envs/pyspark/lib/python3.10/site-packages/IPython/core/magics/execution.py:1166\u001b[0m, in \u001b[0;36mExecutionMagics.timeit\u001b[0;34m(self, line, cell, local_ns)\u001b[0m\n\u001b[1;32m   1163\u001b[0m         \u001b[39mif\u001b[39;00m time_number \u001b[39m>\u001b[39m\u001b[39m=\u001b[39m \u001b[39m0.2\u001b[39m:\n\u001b[1;32m   1164\u001b[0m             \u001b[39mbreak\u001b[39;00m\n\u001b[0;32m-> 1166\u001b[0m all_runs \u001b[39m=\u001b[39m timer\u001b[39m.\u001b[39;49mrepeat(repeat, number)\n\u001b[1;32m   1167\u001b[0m best \u001b[39m=\u001b[39m \u001b[39mmin\u001b[39m(all_runs) \u001b[39m/\u001b[39m number\n\u001b[1;32m   1168\u001b[0m worst \u001b[39m=\u001b[39m \u001b[39mmax\u001b[39m(all_runs) \u001b[39m/\u001b[39m number\n",
      "File \u001b[0;32m~/anaconda3/envs/pyspark/lib/python3.10/timeit.py:206\u001b[0m, in \u001b[0;36mTimer.repeat\u001b[0;34m(self, repeat, number)\u001b[0m\n\u001b[1;32m    204\u001b[0m r \u001b[39m=\u001b[39m []\n\u001b[1;32m    205\u001b[0m \u001b[39mfor\u001b[39;00m i \u001b[39min\u001b[39;00m \u001b[39mrange\u001b[39m(repeat):\n\u001b[0;32m--> 206\u001b[0m     t \u001b[39m=\u001b[39m \u001b[39mself\u001b[39;49m\u001b[39m.\u001b[39;49mtimeit(number)\n\u001b[1;32m    207\u001b[0m     r\u001b[39m.\u001b[39mappend(t)\n\u001b[1;32m    208\u001b[0m \u001b[39mreturn\u001b[39;00m r\n",
      "File \u001b[0;32m~/anaconda3/envs/pyspark/lib/python3.10/site-packages/IPython/core/magics/execution.py:156\u001b[0m, in \u001b[0;36mTimer.timeit\u001b[0;34m(self, number)\u001b[0m\n\u001b[1;32m    154\u001b[0m gc\u001b[39m.\u001b[39mdisable()\n\u001b[1;32m    155\u001b[0m \u001b[39mtry\u001b[39;00m:\n\u001b[0;32m--> 156\u001b[0m     timing \u001b[39m=\u001b[39m \u001b[39mself\u001b[39;49m\u001b[39m.\u001b[39;49minner(it, \u001b[39mself\u001b[39;49m\u001b[39m.\u001b[39;49mtimer)\n\u001b[1;32m    157\u001b[0m \u001b[39mfinally\u001b[39;00m:\n\u001b[1;32m    158\u001b[0m     \u001b[39mif\u001b[39;00m gcold:\n",
      "File \u001b[0;32m<magic-timeit>:1\u001b[0m, in \u001b[0;36minner\u001b[0;34m(_it, _timer)\u001b[0m\n",
      "File \u001b[0;32m~/anaconda3/envs/pyspark/lib/python3.10/site-packages/imblearn/base.py:83\u001b[0m, in \u001b[0;36mSamplerMixin.fit_resample\u001b[0;34m(self, X, y)\u001b[0m\n\u001b[1;32m     77\u001b[0m X, y, binarize_y \u001b[39m=\u001b[39m \u001b[39mself\u001b[39m\u001b[39m.\u001b[39m_check_X_y(X, y)\n\u001b[1;32m     79\u001b[0m \u001b[39mself\u001b[39m\u001b[39m.\u001b[39msampling_strategy_ \u001b[39m=\u001b[39m check_sampling_strategy(\n\u001b[1;32m     80\u001b[0m     \u001b[39mself\u001b[39m\u001b[39m.\u001b[39msampling_strategy, y, \u001b[39mself\u001b[39m\u001b[39m.\u001b[39m_sampling_type\n\u001b[1;32m     81\u001b[0m )\n\u001b[0;32m---> 83\u001b[0m output \u001b[39m=\u001b[39m \u001b[39mself\u001b[39;49m\u001b[39m.\u001b[39;49m_fit_resample(X, y)\n\u001b[1;32m     85\u001b[0m y_ \u001b[39m=\u001b[39m (\n\u001b[1;32m     86\u001b[0m     label_binarize(output[\u001b[39m1\u001b[39m], classes\u001b[39m=\u001b[39mnp\u001b[39m.\u001b[39munique(y)) \u001b[39mif\u001b[39;00m binarize_y \u001b[39melse\u001b[39;00m output[\u001b[39m1\u001b[39m]\n\u001b[1;32m     87\u001b[0m )\n\u001b[1;32m     89\u001b[0m X_, y_ \u001b[39m=\u001b[39m arrays_transformer\u001b[39m.\u001b[39mtransform(output[\u001b[39m0\u001b[39m], y_)\n",
      "File \u001b[0;32m~/anaconda3/envs/pyspark/lib/python3.10/site-packages/imblearn/over_sampling/_adasyn.py:143\u001b[0m, in \u001b[0;36mADASYN._fit_resample\u001b[0;34m(self, X, y)\u001b[0m\n\u001b[1;32m    140\u001b[0m X_class \u001b[39m=\u001b[39m _safe_indexing(X, target_class_indices)\n\u001b[1;32m    142\u001b[0m \u001b[39mself\u001b[39m\u001b[39m.\u001b[39mnn_\u001b[39m.\u001b[39mfit(X)\n\u001b[0;32m--> 143\u001b[0m nns \u001b[39m=\u001b[39m \u001b[39mself\u001b[39;49m\u001b[39m.\u001b[39;49mnn_\u001b[39m.\u001b[39;49mkneighbors(X_class, return_distance\u001b[39m=\u001b[39;49m\u001b[39mFalse\u001b[39;49;00m)[:, \u001b[39m1\u001b[39m:]\n\u001b[1;32m    144\u001b[0m \u001b[39m# The ratio is computed using a one-vs-rest manner. Using majority\u001b[39;00m\n\u001b[1;32m    145\u001b[0m \u001b[39m# in multi-class would lead to slightly different results at the\u001b[39;00m\n\u001b[1;32m    146\u001b[0m \u001b[39m# cost of introducing a new parameter.\u001b[39;00m\n\u001b[1;32m    147\u001b[0m n_neighbors \u001b[39m=\u001b[39m \u001b[39mself\u001b[39m\u001b[39m.\u001b[39mnn_\u001b[39m.\u001b[39mn_neighbors \u001b[39m-\u001b[39m \u001b[39m1\u001b[39m\n",
      "File \u001b[0;32m~/anaconda3/envs/pyspark/lib/python3.10/site-packages/sklearn/neighbors/_base.py:749\u001b[0m, in \u001b[0;36mKNeighborsMixin.kneighbors\u001b[0;34m(self, X, n_neighbors, return_distance)\u001b[0m\n\u001b[1;32m    746\u001b[0m     \u001b[39melse\u001b[39;00m:\n\u001b[1;32m    747\u001b[0m         kwds \u001b[39m=\u001b[39m \u001b[39mself\u001b[39m\u001b[39m.\u001b[39meffective_metric_params_\n\u001b[0;32m--> 749\u001b[0m     chunked_results \u001b[39m=\u001b[39m \u001b[39mlist\u001b[39;49m(\n\u001b[1;32m    750\u001b[0m         pairwise_distances_chunked(\n\u001b[1;32m    751\u001b[0m             X,\n\u001b[1;32m    752\u001b[0m             \u001b[39mself\u001b[39;49m\u001b[39m.\u001b[39;49m_fit_X,\n\u001b[1;32m    753\u001b[0m             reduce_func\u001b[39m=\u001b[39;49mreduce_func,\n\u001b[1;32m    754\u001b[0m             metric\u001b[39m=\u001b[39;49m\u001b[39mself\u001b[39;49m\u001b[39m.\u001b[39;49meffective_metric_,\n\u001b[1;32m    755\u001b[0m             n_jobs\u001b[39m=\u001b[39;49mn_jobs,\n\u001b[1;32m    756\u001b[0m             \u001b[39m*\u001b[39;49m\u001b[39m*\u001b[39;49mkwds,\n\u001b[1;32m    757\u001b[0m         )\n\u001b[1;32m    758\u001b[0m     )\n\u001b[1;32m    760\u001b[0m \u001b[39melif\u001b[39;00m \u001b[39mself\u001b[39m\u001b[39m.\u001b[39m_fit_method \u001b[39min\u001b[39;00m [\u001b[39m\"\u001b[39m\u001b[39mball_tree\u001b[39m\u001b[39m\"\u001b[39m, \u001b[39m\"\u001b[39m\u001b[39mkd_tree\u001b[39m\u001b[39m\"\u001b[39m]:\n\u001b[1;32m    761\u001b[0m     \u001b[39mif\u001b[39;00m issparse(X):\n",
      "File \u001b[0;32m~/anaconda3/envs/pyspark/lib/python3.10/site-packages/sklearn/metrics/pairwise.py:1712\u001b[0m, in \u001b[0;36mpairwise_distances_chunked\u001b[0;34m(X, Y, reduce_func, metric, n_jobs, working_memory, **kwds)\u001b[0m\n\u001b[1;32m   1710\u001b[0m \u001b[39melse\u001b[39;00m:\n\u001b[1;32m   1711\u001b[0m     X_chunk \u001b[39m=\u001b[39m X[sl]\n\u001b[0;32m-> 1712\u001b[0m D_chunk \u001b[39m=\u001b[39m pairwise_distances(X_chunk, Y, metric\u001b[39m=\u001b[39;49mmetric, n_jobs\u001b[39m=\u001b[39;49mn_jobs, \u001b[39m*\u001b[39;49m\u001b[39m*\u001b[39;49mkwds)\n\u001b[1;32m   1713\u001b[0m \u001b[39mif\u001b[39;00m (X \u001b[39mis\u001b[39;00m Y \u001b[39mor\u001b[39;00m Y \u001b[39mis\u001b[39;00m \u001b[39mNone\u001b[39;00m) \u001b[39mand\u001b[39;00m PAIRWISE_DISTANCE_FUNCTIONS\u001b[39m.\u001b[39mget(\n\u001b[1;32m   1714\u001b[0m     metric, \u001b[39mNone\u001b[39;00m\n\u001b[1;32m   1715\u001b[0m ) \u001b[39mis\u001b[39;00m euclidean_distances:\n\u001b[1;32m   1716\u001b[0m     \u001b[39m# zeroing diagonal, taking care of aliases of \"euclidean\",\u001b[39;00m\n\u001b[1;32m   1717\u001b[0m     \u001b[39m# i.e. \"l2\"\u001b[39;00m\n\u001b[1;32m   1718\u001b[0m     D_chunk\u001b[39m.\u001b[39mflat[sl\u001b[39m.\u001b[39mstart :: _num_samples(X) \u001b[39m+\u001b[39m \u001b[39m1\u001b[39m] \u001b[39m=\u001b[39m \u001b[39m0\u001b[39m\n",
      "File \u001b[0;32m~/anaconda3/envs/pyspark/lib/python3.10/site-packages/sklearn/metrics/pairwise.py:1884\u001b[0m, in \u001b[0;36mpairwise_distances\u001b[0;34m(X, Y, metric, n_jobs, force_all_finite, **kwds)\u001b[0m\n\u001b[1;32m   1881\u001b[0m         \u001b[39mreturn\u001b[39;00m distance\u001b[39m.\u001b[39msquareform(distance\u001b[39m.\u001b[39mpdist(X, metric\u001b[39m=\u001b[39mmetric, \u001b[39m*\u001b[39m\u001b[39m*\u001b[39mkwds))\n\u001b[1;32m   1882\u001b[0m     func \u001b[39m=\u001b[39m partial(distance\u001b[39m.\u001b[39mcdist, metric\u001b[39m=\u001b[39mmetric, \u001b[39m*\u001b[39m\u001b[39m*\u001b[39mkwds)\n\u001b[0;32m-> 1884\u001b[0m \u001b[39mreturn\u001b[39;00m _parallel_pairwise(X, Y, func, n_jobs, \u001b[39m*\u001b[39;49m\u001b[39m*\u001b[39;49mkwds)\n",
      "File \u001b[0;32m~/anaconda3/envs/pyspark/lib/python3.10/site-packages/sklearn/metrics/pairwise.py:1425\u001b[0m, in \u001b[0;36m_parallel_pairwise\u001b[0;34m(X, Y, func, n_jobs, **kwds)\u001b[0m\n\u001b[1;32m   1422\u001b[0m X, Y, dtype \u001b[39m=\u001b[39m _return_float_dtype(X, Y)\n\u001b[1;32m   1424\u001b[0m \u001b[39mif\u001b[39;00m effective_n_jobs(n_jobs) \u001b[39m==\u001b[39m \u001b[39m1\u001b[39m:\n\u001b[0;32m-> 1425\u001b[0m     \u001b[39mreturn\u001b[39;00m func(X, Y, \u001b[39m*\u001b[39;49m\u001b[39m*\u001b[39;49mkwds)\n\u001b[1;32m   1427\u001b[0m \u001b[39m# enforce a threading backend to prevent data communication overhead\u001b[39;00m\n\u001b[1;32m   1428\u001b[0m fd \u001b[39m=\u001b[39m delayed(_dist_wrapper)\n",
      "File \u001b[0;32m~/anaconda3/envs/pyspark/lib/python3.10/site-packages/sklearn/metrics/pairwise.py:327\u001b[0m, in \u001b[0;36meuclidean_distances\u001b[0;34m(X, Y, Y_norm_squared, squared, X_norm_squared)\u001b[0m\n\u001b[1;32m    321\u001b[0m     \u001b[39mif\u001b[39;00m Y_norm_squared\u001b[39m.\u001b[39mshape \u001b[39m!=\u001b[39m (\u001b[39m1\u001b[39m, Y\u001b[39m.\u001b[39mshape[\u001b[39m0\u001b[39m]):\n\u001b[1;32m    322\u001b[0m         \u001b[39mraise\u001b[39;00m \u001b[39mValueError\u001b[39;00m(\n\u001b[1;32m    323\u001b[0m             \u001b[39mf\u001b[39m\u001b[39m\"\u001b[39m\u001b[39mIncompatible dimensions for Y of shape \u001b[39m\u001b[39m{\u001b[39;00mY\u001b[39m.\u001b[39mshape\u001b[39m}\u001b[39;00m\u001b[39m and \u001b[39m\u001b[39m\"\u001b[39m\n\u001b[1;32m    324\u001b[0m             \u001b[39mf\u001b[39m\u001b[39m\"\u001b[39m\u001b[39mY_norm_squared of shape \u001b[39m\u001b[39m{\u001b[39;00moriginal_shape\u001b[39m}\u001b[39;00m\u001b[39m.\u001b[39m\u001b[39m\"\u001b[39m\n\u001b[1;32m    325\u001b[0m         )\n\u001b[0;32m--> 327\u001b[0m \u001b[39mreturn\u001b[39;00m _euclidean_distances(X, Y, X_norm_squared, Y_norm_squared, squared)\n",
      "File \u001b[0;32m~/anaconda3/envs/pyspark/lib/python3.10/site-packages/sklearn/metrics/pairwise.py:368\u001b[0m, in \u001b[0;36m_euclidean_distances\u001b[0;34m(X, Y, X_norm_squared, Y_norm_squared, squared)\u001b[0m\n\u001b[1;32m    365\u001b[0m     distances \u001b[39m=\u001b[39m _euclidean_distances_upcast(X, XX, Y, YY)\n\u001b[1;32m    366\u001b[0m \u001b[39melse\u001b[39;00m:\n\u001b[1;32m    367\u001b[0m     \u001b[39m# if dtype is already float64, no need to chunk and upcast\u001b[39;00m\n\u001b[0;32m--> 368\u001b[0m     distances \u001b[39m=\u001b[39m \u001b[39m-\u001b[39m\u001b[39m2\u001b[39m \u001b[39m*\u001b[39m safe_sparse_dot(X, Y\u001b[39m.\u001b[39;49mT, dense_output\u001b[39m=\u001b[39;49m\u001b[39mTrue\u001b[39;49;00m)\n\u001b[1;32m    369\u001b[0m     distances \u001b[39m+\u001b[39m\u001b[39m=\u001b[39m XX\n\u001b[1;32m    370\u001b[0m     distances \u001b[39m+\u001b[39m\u001b[39m=\u001b[39m YY\n",
      "File \u001b[0;32m~/anaconda3/envs/pyspark/lib/python3.10/site-packages/sklearn/utils/extmath.py:161\u001b[0m, in \u001b[0;36msafe_sparse_dot\u001b[0;34m(a, b, dense_output)\u001b[0m\n\u001b[1;32m    153\u001b[0m     ret \u001b[39m=\u001b[39m a \u001b[39m@\u001b[39m b\n\u001b[1;32m    155\u001b[0m \u001b[39mif\u001b[39;00m (\n\u001b[1;32m    156\u001b[0m     sparse\u001b[39m.\u001b[39missparse(a)\n\u001b[1;32m    157\u001b[0m     \u001b[39mand\u001b[39;00m sparse\u001b[39m.\u001b[39missparse(b)\n\u001b[1;32m    158\u001b[0m     \u001b[39mand\u001b[39;00m dense_output\n\u001b[1;32m    159\u001b[0m     \u001b[39mand\u001b[39;00m \u001b[39mhasattr\u001b[39m(ret, \u001b[39m\"\u001b[39m\u001b[39mtoarray\u001b[39m\u001b[39m\"\u001b[39m)\n\u001b[1;32m    160\u001b[0m ):\n\u001b[0;32m--> 161\u001b[0m     \u001b[39mreturn\u001b[39;00m ret\u001b[39m.\u001b[39;49mtoarray()\n\u001b[1;32m    162\u001b[0m \u001b[39mreturn\u001b[39;00m ret\n",
      "File \u001b[0;32m~/anaconda3/envs/pyspark/lib/python3.10/site-packages/scipy/sparse/compressed.py:1050\u001b[0m, in \u001b[0;36m_cs_matrix.toarray\u001b[0;34m(self, order, out)\u001b[0m\n\u001b[1;32m   1048\u001b[0m     y \u001b[39m=\u001b[39m out\u001b[39m.\u001b[39mT\n\u001b[1;32m   1049\u001b[0m M, N \u001b[39m=\u001b[39m x\u001b[39m.\u001b[39m_swap(x\u001b[39m.\u001b[39mshape)\n\u001b[0;32m-> 1050\u001b[0m csr_todense(M, N, x\u001b[39m.\u001b[39;49mindptr, x\u001b[39m.\u001b[39;49mindices, x\u001b[39m.\u001b[39;49mdata, y)\n\u001b[1;32m   1051\u001b[0m \u001b[39mreturn\u001b[39;00m out\n",
      "\u001b[0;31mKeyboardInterrupt\u001b[0m: "
     ]
    }
   ],
   "source": [
    "samplers = {\"smote\":smote, \"ada\":ada, \"ros\":ros, \"rus\":rus}\n",
    "\n",
    "timing_dict = {sampler:{k:None for k in range(1,25)} for sampler in samplers.keys()}\n",
    "\n",
    "for sampler in samplers.keys():\n",
    "    for i in range(1,25):\n",
    "    \n",
    "        n_rows = i*5000\n",
    "    \n",
    "        time_var = %timeit -n1 -o samplers[sampler].fit_resample(X_train[0:n_rows,:], y_train[0:n_rows])\n",
    "\n",
    "        timing_dict[sampler][i] = np.mean(time_var.all_runs)"
   ]
  },
  {
   "cell_type": "code",
   "execution_count": null,
   "metadata": {},
   "outputs": [],
   "source": [
    "dfs = []\n",
    "\n",
    "for sampler_type in samplers.keys():\n",
    "\n",
    "    dfs.append(pd.DataFrame([(k,v) for k,v in timing_dict[sampler_type].items()], columns=[\"iter\", \"time_in_seconds\"]))"
   ]
  },
  {
   "cell_type": "code",
   "execution_count": null,
   "metadata": {},
   "outputs": [],
   "source": [
    "for sampler_type, df in zip(samplers.keys(), dfs):\n",
    "    df[\"sampler_type\"] = sampler_type"
   ]
  },
  {
   "cell_type": "code",
   "execution_count": null,
   "metadata": {},
   "outputs": [],
   "source": [
    "combined_df = pd.concat(dfs, axis=0)"
   ]
  },
  {
   "cell_type": "code",
   "execution_count": null,
   "metadata": {},
   "outputs": [
    {
     "data": {
      "application/vnd.plotly.v1+json": {
       "config": {
        "plotlyServerURL": "https://plot.ly"
       },
       "data": [
        {
         "hovertemplate": "sampler_type=smote<br>iter=%{x}<br>time_in_seconds=%{y}<extra></extra>",
         "legendgroup": "smote",
         "line": {
          "color": "#636efa",
          "dash": "solid"
         },
         "marker": {
          "symbol": "circle"
         },
         "mode": "lines",
         "name": "smote",
         "orientation": "v",
         "showlegend": true,
         "type": "scatter",
         "x": [
          1,
          2,
          3,
          4,
          5,
          6,
          7,
          8,
          9,
          10,
          11,
          12,
          13,
          14,
          15,
          16,
          17,
          18,
          19,
          20
         ],
         "xaxis": "x",
         "y": [
          0.03775051528646145,
          0.14620527514229512,
          0.32747412028558237,
          0.5882830082856734,
          0.9100186677148615,
          1.3187262278588605,
          1.787450751429008,
          2.16862791085649,
          2.7395541787139206,
          3.5561664334288383,
          4.176272544571735,
          4.894366650427401,
          5.90577614385724,
          6.88215117100013,
          7.847479898285591,
          9.126188173000369,
          10.56787984271276,
          11.615491720143057,
          12.365660400427648,
          13.724331165428469
         ],
         "yaxis": "y"
        },
        {
         "hovertemplate": "sampler_type=ada<br>iter=%{x}<br>time_in_seconds=%{y}<extra></extra>",
         "legendgroup": "ada",
         "line": {
          "color": "#EF553B",
          "dash": "solid"
         },
         "marker": {
          "symbol": "circle"
         },
         "mode": "lines",
         "name": "ada",
         "orientation": "v",
         "showlegend": true,
         "type": "scatter",
         "x": [
          1,
          2,
          3,
          4,
          5,
          6,
          7,
          8,
          9,
          10,
          11,
          12,
          13,
          14,
          15,
          16,
          17,
          18,
          19,
          20
         ],
         "xaxis": "x",
         "y": [
          0.14531101028634502,
          0.5719885560008281,
          1.2896233132856392,
          2.240543713284881,
          3.693183539428511,
          5.234669896428386,
          7.161286102285625,
          9.330425272856312,
          11.487351961715051,
          14.735484461858245,
          17.156005118285456,
          21.611677052714576,
          25.32341192371418,
          29.436272761571413,
          33.78657779600066,
          38.466328475142554,
          43.70139330085658,
          51.56276148885653,
          54.218603335857814,
          60.43673865142773
         ],
         "yaxis": "y"
        },
        {
         "hovertemplate": "sampler_type=ros<br>iter=%{x}<br>time_in_seconds=%{y}<extra></extra>",
         "legendgroup": "ros",
         "line": {
          "color": "#00cc96",
          "dash": "solid"
         },
         "marker": {
          "symbol": "circle"
         },
         "mode": "lines",
         "name": "ros",
         "orientation": "v",
         "showlegend": true,
         "type": "scatter",
         "x": [
          1,
          2,
          3,
          4,
          5,
          6,
          7,
          8,
          9,
          10,
          11,
          12,
          13,
          14,
          15,
          16,
          17,
          18,
          19,
          20
         ],
         "xaxis": "x",
         "y": [
          0.0013172165714162734,
          0.0023646660005657134,
          0.0037868307143591145,
          0.0053315838569168205,
          0.007217248000025782,
          0.009091275715556029,
          0.01053399128483891,
          0.0119354544284371,
          0.013287614713460374,
          0.014831893429280691,
          0.01525010642840893,
          0.016669650571462365,
          0.01801636028540088,
          0.018585593142883487,
          0.020393113857218332,
          0.02073042228533138,
          0.022882825713687844,
          0.023702534714435126,
          0.02554233928458416,
          0.03100712399983812
         ],
         "yaxis": "y"
        },
        {
         "hovertemplate": "sampler_type=rus<br>iter=%{x}<br>time_in_seconds=%{y}<extra></extra>",
         "legendgroup": "rus",
         "line": {
          "color": "#ab63fa",
          "dash": "solid"
         },
         "marker": {
          "symbol": "circle"
         },
         "mode": "lines",
         "name": "rus",
         "orientation": "v",
         "showlegend": true,
         "type": "scatter",
         "x": [
          1,
          2,
          3,
          4,
          5,
          6,
          7,
          8,
          9,
          10,
          11,
          12,
          13,
          14,
          15,
          16,
          17,
          18,
          19,
          20
         ],
         "xaxis": "x",
         "y": [
          0.0012031455730071425,
          0.0028009712851988816,
          0.004790393999428488,
          0.005436474714640228,
          0.00661722128643305,
          0.008362944000379815,
          0.009702072286537649,
          0.009842011000208524,
          0.011811231715130686,
          0.012774325000334232,
          0.013676436142434665,
          0.014521874285752088,
          0.015633430571532308,
          0.01662732128638059,
          0.017626294428607383,
          0.018711881856039066,
          0.020050698143417582,
          0.020626625142800288,
          0.021797248714262554,
          0.022405909571326838
         ],
         "yaxis": "y"
        }
       ],
       "layout": {
        "legend": {
         "title": {
          "text": "sampler_type"
         },
         "tracegroupgap": 0
        },
        "margin": {
         "t": 60
        },
        "template": {
         "data": {
          "bar": [
           {
            "error_x": {
             "color": "#2a3f5f"
            },
            "error_y": {
             "color": "#2a3f5f"
            },
            "marker": {
             "line": {
              "color": "#E5ECF6",
              "width": 0.5
             },
             "pattern": {
              "fillmode": "overlay",
              "size": 10,
              "solidity": 0.2
             }
            },
            "type": "bar"
           }
          ],
          "barpolar": [
           {
            "marker": {
             "line": {
              "color": "#E5ECF6",
              "width": 0.5
             },
             "pattern": {
              "fillmode": "overlay",
              "size": 10,
              "solidity": 0.2
             }
            },
            "type": "barpolar"
           }
          ],
          "carpet": [
           {
            "aaxis": {
             "endlinecolor": "#2a3f5f",
             "gridcolor": "white",
             "linecolor": "white",
             "minorgridcolor": "white",
             "startlinecolor": "#2a3f5f"
            },
            "baxis": {
             "endlinecolor": "#2a3f5f",
             "gridcolor": "white",
             "linecolor": "white",
             "minorgridcolor": "white",
             "startlinecolor": "#2a3f5f"
            },
            "type": "carpet"
           }
          ],
          "choropleth": [
           {
            "colorbar": {
             "outlinewidth": 0,
             "ticks": ""
            },
            "type": "choropleth"
           }
          ],
          "contour": [
           {
            "colorbar": {
             "outlinewidth": 0,
             "ticks": ""
            },
            "colorscale": [
             [
              0,
              "#0d0887"
             ],
             [
              0.1111111111111111,
              "#46039f"
             ],
             [
              0.2222222222222222,
              "#7201a8"
             ],
             [
              0.3333333333333333,
              "#9c179e"
             ],
             [
              0.4444444444444444,
              "#bd3786"
             ],
             [
              0.5555555555555556,
              "#d8576b"
             ],
             [
              0.6666666666666666,
              "#ed7953"
             ],
             [
              0.7777777777777778,
              "#fb9f3a"
             ],
             [
              0.8888888888888888,
              "#fdca26"
             ],
             [
              1,
              "#f0f921"
             ]
            ],
            "type": "contour"
           }
          ],
          "contourcarpet": [
           {
            "colorbar": {
             "outlinewidth": 0,
             "ticks": ""
            },
            "type": "contourcarpet"
           }
          ],
          "heatmap": [
           {
            "colorbar": {
             "outlinewidth": 0,
             "ticks": ""
            },
            "colorscale": [
             [
              0,
              "#0d0887"
             ],
             [
              0.1111111111111111,
              "#46039f"
             ],
             [
              0.2222222222222222,
              "#7201a8"
             ],
             [
              0.3333333333333333,
              "#9c179e"
             ],
             [
              0.4444444444444444,
              "#bd3786"
             ],
             [
              0.5555555555555556,
              "#d8576b"
             ],
             [
              0.6666666666666666,
              "#ed7953"
             ],
             [
              0.7777777777777778,
              "#fb9f3a"
             ],
             [
              0.8888888888888888,
              "#fdca26"
             ],
             [
              1,
              "#f0f921"
             ]
            ],
            "type": "heatmap"
           }
          ],
          "heatmapgl": [
           {
            "colorbar": {
             "outlinewidth": 0,
             "ticks": ""
            },
            "colorscale": [
             [
              0,
              "#0d0887"
             ],
             [
              0.1111111111111111,
              "#46039f"
             ],
             [
              0.2222222222222222,
              "#7201a8"
             ],
             [
              0.3333333333333333,
              "#9c179e"
             ],
             [
              0.4444444444444444,
              "#bd3786"
             ],
             [
              0.5555555555555556,
              "#d8576b"
             ],
             [
              0.6666666666666666,
              "#ed7953"
             ],
             [
              0.7777777777777778,
              "#fb9f3a"
             ],
             [
              0.8888888888888888,
              "#fdca26"
             ],
             [
              1,
              "#f0f921"
             ]
            ],
            "type": "heatmapgl"
           }
          ],
          "histogram": [
           {
            "marker": {
             "pattern": {
              "fillmode": "overlay",
              "size": 10,
              "solidity": 0.2
             }
            },
            "type": "histogram"
           }
          ],
          "histogram2d": [
           {
            "colorbar": {
             "outlinewidth": 0,
             "ticks": ""
            },
            "colorscale": [
             [
              0,
              "#0d0887"
             ],
             [
              0.1111111111111111,
              "#46039f"
             ],
             [
              0.2222222222222222,
              "#7201a8"
             ],
             [
              0.3333333333333333,
              "#9c179e"
             ],
             [
              0.4444444444444444,
              "#bd3786"
             ],
             [
              0.5555555555555556,
              "#d8576b"
             ],
             [
              0.6666666666666666,
              "#ed7953"
             ],
             [
              0.7777777777777778,
              "#fb9f3a"
             ],
             [
              0.8888888888888888,
              "#fdca26"
             ],
             [
              1,
              "#f0f921"
             ]
            ],
            "type": "histogram2d"
           }
          ],
          "histogram2dcontour": [
           {
            "colorbar": {
             "outlinewidth": 0,
             "ticks": ""
            },
            "colorscale": [
             [
              0,
              "#0d0887"
             ],
             [
              0.1111111111111111,
              "#46039f"
             ],
             [
              0.2222222222222222,
              "#7201a8"
             ],
             [
              0.3333333333333333,
              "#9c179e"
             ],
             [
              0.4444444444444444,
              "#bd3786"
             ],
             [
              0.5555555555555556,
              "#d8576b"
             ],
             [
              0.6666666666666666,
              "#ed7953"
             ],
             [
              0.7777777777777778,
              "#fb9f3a"
             ],
             [
              0.8888888888888888,
              "#fdca26"
             ],
             [
              1,
              "#f0f921"
             ]
            ],
            "type": "histogram2dcontour"
           }
          ],
          "mesh3d": [
           {
            "colorbar": {
             "outlinewidth": 0,
             "ticks": ""
            },
            "type": "mesh3d"
           }
          ],
          "parcoords": [
           {
            "line": {
             "colorbar": {
              "outlinewidth": 0,
              "ticks": ""
             }
            },
            "type": "parcoords"
           }
          ],
          "pie": [
           {
            "automargin": true,
            "type": "pie"
           }
          ],
          "scatter": [
           {
            "marker": {
             "colorbar": {
              "outlinewidth": 0,
              "ticks": ""
             }
            },
            "type": "scatter"
           }
          ],
          "scatter3d": [
           {
            "line": {
             "colorbar": {
              "outlinewidth": 0,
              "ticks": ""
             }
            },
            "marker": {
             "colorbar": {
              "outlinewidth": 0,
              "ticks": ""
             }
            },
            "type": "scatter3d"
           }
          ],
          "scattercarpet": [
           {
            "marker": {
             "colorbar": {
              "outlinewidth": 0,
              "ticks": ""
             }
            },
            "type": "scattercarpet"
           }
          ],
          "scattergeo": [
           {
            "marker": {
             "colorbar": {
              "outlinewidth": 0,
              "ticks": ""
             }
            },
            "type": "scattergeo"
           }
          ],
          "scattergl": [
           {
            "marker": {
             "colorbar": {
              "outlinewidth": 0,
              "ticks": ""
             }
            },
            "type": "scattergl"
           }
          ],
          "scattermapbox": [
           {
            "marker": {
             "colorbar": {
              "outlinewidth": 0,
              "ticks": ""
             }
            },
            "type": "scattermapbox"
           }
          ],
          "scatterpolar": [
           {
            "marker": {
             "colorbar": {
              "outlinewidth": 0,
              "ticks": ""
             }
            },
            "type": "scatterpolar"
           }
          ],
          "scatterpolargl": [
           {
            "marker": {
             "colorbar": {
              "outlinewidth": 0,
              "ticks": ""
             }
            },
            "type": "scatterpolargl"
           }
          ],
          "scatterternary": [
           {
            "marker": {
             "colorbar": {
              "outlinewidth": 0,
              "ticks": ""
             }
            },
            "type": "scatterternary"
           }
          ],
          "surface": [
           {
            "colorbar": {
             "outlinewidth": 0,
             "ticks": ""
            },
            "colorscale": [
             [
              0,
              "#0d0887"
             ],
             [
              0.1111111111111111,
              "#46039f"
             ],
             [
              0.2222222222222222,
              "#7201a8"
             ],
             [
              0.3333333333333333,
              "#9c179e"
             ],
             [
              0.4444444444444444,
              "#bd3786"
             ],
             [
              0.5555555555555556,
              "#d8576b"
             ],
             [
              0.6666666666666666,
              "#ed7953"
             ],
             [
              0.7777777777777778,
              "#fb9f3a"
             ],
             [
              0.8888888888888888,
              "#fdca26"
             ],
             [
              1,
              "#f0f921"
             ]
            ],
            "type": "surface"
           }
          ],
          "table": [
           {
            "cells": {
             "fill": {
              "color": "#EBF0F8"
             },
             "line": {
              "color": "white"
             }
            },
            "header": {
             "fill": {
              "color": "#C8D4E3"
             },
             "line": {
              "color": "white"
             }
            },
            "type": "table"
           }
          ]
         },
         "layout": {
          "annotationdefaults": {
           "arrowcolor": "#2a3f5f",
           "arrowhead": 0,
           "arrowwidth": 1
          },
          "autotypenumbers": "strict",
          "coloraxis": {
           "colorbar": {
            "outlinewidth": 0,
            "ticks": ""
           }
          },
          "colorscale": {
           "diverging": [
            [
             0,
             "#8e0152"
            ],
            [
             0.1,
             "#c51b7d"
            ],
            [
             0.2,
             "#de77ae"
            ],
            [
             0.3,
             "#f1b6da"
            ],
            [
             0.4,
             "#fde0ef"
            ],
            [
             0.5,
             "#f7f7f7"
            ],
            [
             0.6,
             "#e6f5d0"
            ],
            [
             0.7,
             "#b8e186"
            ],
            [
             0.8,
             "#7fbc41"
            ],
            [
             0.9,
             "#4d9221"
            ],
            [
             1,
             "#276419"
            ]
           ],
           "sequential": [
            [
             0,
             "#0d0887"
            ],
            [
             0.1111111111111111,
             "#46039f"
            ],
            [
             0.2222222222222222,
             "#7201a8"
            ],
            [
             0.3333333333333333,
             "#9c179e"
            ],
            [
             0.4444444444444444,
             "#bd3786"
            ],
            [
             0.5555555555555556,
             "#d8576b"
            ],
            [
             0.6666666666666666,
             "#ed7953"
            ],
            [
             0.7777777777777778,
             "#fb9f3a"
            ],
            [
             0.8888888888888888,
             "#fdca26"
            ],
            [
             1,
             "#f0f921"
            ]
           ],
           "sequentialminus": [
            [
             0,
             "#0d0887"
            ],
            [
             0.1111111111111111,
             "#46039f"
            ],
            [
             0.2222222222222222,
             "#7201a8"
            ],
            [
             0.3333333333333333,
             "#9c179e"
            ],
            [
             0.4444444444444444,
             "#bd3786"
            ],
            [
             0.5555555555555556,
             "#d8576b"
            ],
            [
             0.6666666666666666,
             "#ed7953"
            ],
            [
             0.7777777777777778,
             "#fb9f3a"
            ],
            [
             0.8888888888888888,
             "#fdca26"
            ],
            [
             1,
             "#f0f921"
            ]
           ]
          },
          "colorway": [
           "#636efa",
           "#EF553B",
           "#00cc96",
           "#ab63fa",
           "#FFA15A",
           "#19d3f3",
           "#FF6692",
           "#B6E880",
           "#FF97FF",
           "#FECB52"
          ],
          "font": {
           "color": "#2a3f5f"
          },
          "geo": {
           "bgcolor": "white",
           "lakecolor": "white",
           "landcolor": "#E5ECF6",
           "showlakes": true,
           "showland": true,
           "subunitcolor": "white"
          },
          "hoverlabel": {
           "align": "left"
          },
          "hovermode": "closest",
          "mapbox": {
           "style": "light"
          },
          "paper_bgcolor": "white",
          "plot_bgcolor": "#E5ECF6",
          "polar": {
           "angularaxis": {
            "gridcolor": "white",
            "linecolor": "white",
            "ticks": ""
           },
           "bgcolor": "#E5ECF6",
           "radialaxis": {
            "gridcolor": "white",
            "linecolor": "white",
            "ticks": ""
           }
          },
          "scene": {
           "xaxis": {
            "backgroundcolor": "#E5ECF6",
            "gridcolor": "white",
            "gridwidth": 2,
            "linecolor": "white",
            "showbackground": true,
            "ticks": "",
            "zerolinecolor": "white"
           },
           "yaxis": {
            "backgroundcolor": "#E5ECF6",
            "gridcolor": "white",
            "gridwidth": 2,
            "linecolor": "white",
            "showbackground": true,
            "ticks": "",
            "zerolinecolor": "white"
           },
           "zaxis": {
            "backgroundcolor": "#E5ECF6",
            "gridcolor": "white",
            "gridwidth": 2,
            "linecolor": "white",
            "showbackground": true,
            "ticks": "",
            "zerolinecolor": "white"
           }
          },
          "shapedefaults": {
           "line": {
            "color": "#2a3f5f"
           }
          },
          "ternary": {
           "aaxis": {
            "gridcolor": "white",
            "linecolor": "white",
            "ticks": ""
           },
           "baxis": {
            "gridcolor": "white",
            "linecolor": "white",
            "ticks": ""
           },
           "bgcolor": "#E5ECF6",
           "caxis": {
            "gridcolor": "white",
            "linecolor": "white",
            "ticks": ""
           }
          },
          "title": {
           "x": 0.05
          },
          "xaxis": {
           "automargin": true,
           "gridcolor": "white",
           "linecolor": "white",
           "ticks": "",
           "title": {
            "standoff": 15
           },
           "zerolinecolor": "white",
           "zerolinewidth": 2
          },
          "yaxis": {
           "automargin": true,
           "gridcolor": "white",
           "linecolor": "white",
           "ticks": "",
           "title": {
            "standoff": 15
           },
           "zerolinecolor": "white",
           "zerolinewidth": 2
          }
         }
        },
        "xaxis": {
         "anchor": "y",
         "domain": [
          0,
          1
         ],
         "title": {
          "text": "iter"
         }
        },
        "yaxis": {
         "anchor": "x",
         "domain": [
          0,
          1
         ],
         "title": {
          "text": "time_in_seconds"
         }
        }
       }
      }
     },
     "metadata": {},
     "output_type": "display_data"
    }
   ],
   "source": [
    "plotly.express.line(data_frame=combined_df, x=\"iter\", y=\"time_in_seconds\", color='sampler_type')"
   ]
  },
  {
   "cell_type": "markdown",
   "metadata": {},
   "source": [
    "### As shown above, the synthetic data generation algorithms (SMOTE and ADASYN) which rely on K-Nearest Neighbors algorithms to generate the new data, run slower and slower on larger proportions of our data.\n",
    "\n",
    "The KNN worst case time complexity is O(N * kD) (where N = number of data points/row, K is the number of neighbors used, and D is the number of features/columns). Because we have vectorized the reviews with TFIDF and uni AND bigrams, the width of the data is roughly 2 million columns.\n",
    "\n",
    "We will use Optuna to do bayesian optimization over the various sampling methods, a few possible classification models (Logistic Regression, XGBoost, and LGBM (another boosted tree model)), and a number of hyperparameters."
   ]
  },
  {
   "cell_type": "code",
   "execution_count": null,
   "metadata": {},
   "outputs": [],
   "source": []
  },
  {
   "cell_type": "markdown",
   "metadata": {},
   "source": [
    "## Accuracy comparison of various models"
   ]
  },
  {
   "cell_type": "code",
   "execution_count": 34,
   "metadata": {},
   "outputs": [],
   "source": [
    "def objective(trial, sub_sample_prop, model_choices):\n",
    "    \"\"\"\n",
    "    \n",
    "    \n",
    "    \n",
    "    \"\"\"\n",
    "\n",
    "    #sampler\n",
    "    sampler_type = trial.suggest_categorical('sampler', [None, 'ros', 'rus', 'smote', 'ada'])\n",
    "\n",
    "    if sampler_type == 'ros':\n",
    "        sampler = RandomOverSampler(random_state=0)\n",
    "    \n",
    "    elif sampler_type == 'smote':\n",
    "        k_neighbors = trial.suggest_int('k_neighbors', 2,10)\n",
    "        sampler = SMOTE(random_state=0, k_neighbors=k_neighbors)\n",
    "    \n",
    "    elif sampler_type == 'rus':\n",
    "        sampler = RandomUnderSampler(random_state=0)\n",
    "    \n",
    "    elif sampler_type == 'ada':\n",
    "        n_neighbors = trial.suggest_int('n_neighbors', 2,10)\n",
    "        sampler = ADASYN(n_neighbors=n_neighbors)\n",
    "    \n",
    "    else:\n",
    "        sampler = None\n",
    "\n",
    "\n",
    "    model_type = trial.suggest_categorical('classifier', model_choices)\n",
    "\n",
    "    if model_type == 'logreg':\n",
    "        #optimize params\n",
    "        C = trial.suggest_categorical('C', [1.0, 0.1, 0.01]) #note: models with larger values for C failed to converge\n",
    "        \n",
    "        #model\n",
    "        model = LogisticRegression(solver = \"lbfgs\", n_jobs=-1, max_iter=1000, C=C)\n",
    "\n",
    "    elif model_type == 'xgboost':\n",
    "        #optimize params\n",
    "        learning_rate = trial.suggest_categorical('learning_rate', [0.2, 0.1, 0.01, .001, .0001])\n",
    "        max_depth = trial.suggest_int('max_depth', 3, 20)\n",
    "        n_estimators = trial.suggest_categorical('n_estimators', [200,500,1000, 2000, 4000])\n",
    "\n",
    "        #model\n",
    "        model = xgb.XGBClassifier(n_estimators=n_estimators, max_depth=max_depth, learning_rate=learning_rate, n_jobs=-1, verbosity=0, use_label_encoder=False)\n",
    "\n",
    "    elif model_type == \"lgbm\":\n",
    "        #optimize params\n",
    "        learning_rate = trial.suggest_categorical('learning_rate', [0.2, 0.1, 0.01, .001, .0001])\n",
    "        max_depth = trial.suggest_int('max_depth', 3, 20)\n",
    "        n_estimators = trial.suggest_categorical('n_estimators', [200,500,1000, 2000,4000])\n",
    "\n",
    "        #model\n",
    "        model = lgb.LGBMClassifier(max_depth = max_depth, n_estimators=n_estimators)\n",
    "    \n",
    "    pipeline = Pipeline([('sampler', sampler), ('model',model)])\n",
    "    \n",
    "    X_train_sample, _, y_train_sample, _ = train_test_split(X_train, y_train, train_size=sub_sample_prop)\n",
    "\n",
    "    pipeline.fit(X_train_sample, y_train_sample)\n",
    "        \n",
    "    y_preds = pipeline.predict(X_test)\n",
    "\n",
    "    return recall_score(y_preds, y_test)"
   ]
  },
  {
   "cell_type": "code",
   "execution_count": null,
   "metadata": {},
   "outputs": [],
   "source": []
  },
  {
   "cell_type": "code",
   "execution_count": null,
   "metadata": {},
   "outputs": [
    {
     "name": "stderr",
     "output_type": "stream",
     "text": [
      "\u001b[32m[I 2022-07-12 12:14:51,893]\u001b[0m A new study created in memory with name: no-name-98004783-b204-40b2-970b-7230d61f9899\u001b[0m\n",
      "\u001b[32m[I 2022-07-12 12:18:01,816]\u001b[0m Trial 0 finished with value: 0.5415803203549747 and parameters: {'sampler': 'ada', 'n_neighbors': 2, 'classifier': 'xgboost', 'learning_rate': 0.0001, 'max_depth': 17, 'n_estimators': 2000}. Best is trial 0 with value: 0.5415803203549747.\u001b[0m\n",
      "\u001b[32m[I 2022-07-12 12:18:54,835]\u001b[0m Trial 1 finished with value: 0.5441885107349194 and parameters: {'sampler': 'smote', 'k_neighbors': 9, 'classifier': 'xgboost', 'learning_rate': 0.0001, 'max_depth': 20, 'n_estimators': 500}. Best is trial 1 with value: 0.5441885107349194.\u001b[0m\n",
      "\u001b[32m[I 2022-07-12 12:19:26,027]\u001b[0m Trial 2 finished with value: 0.7542236373852781 and parameters: {'sampler': 'ros', 'classifier': 'xgboost', 'learning_rate': 0.1, 'max_depth': 12, 'n_estimators': 1000}. Best is trial 2 with value: 0.7542236373852781.\u001b[0m\n",
      "\u001b[32m[I 2022-07-12 12:19:37,298]\u001b[0m Trial 3 finished with value: 0.7345818877009134 and parameters: {'sampler': 'smote', 'k_neighbors': 3, 'classifier': 'xgboost', 'learning_rate': 0.2, 'max_depth': 8, 'n_estimators': 500}. Best is trial 2 with value: 0.7542236373852781.\u001b[0m\n",
      "\u001b[32m[I 2022-07-12 12:20:33,300]\u001b[0m Trial 4 finished with value: 0.7439746149458072 and parameters: {'sampler': 'ros', 'classifier': 'xgboost', 'learning_rate': 0.01, 'max_depth': 5, 'n_estimators': 4000}. Best is trial 2 with value: 0.7542236373852781.\u001b[0m\n",
      "\u001b[32m[I 2022-07-12 12:23:23,735]\u001b[0m Trial 5 finished with value: 0.7315053367684947 and parameters: {'sampler': 'ada', 'n_neighbors': 3, 'classifier': 'xgboost', 'learning_rate': 0.2, 'max_depth': 20, 'n_estimators': 4000}. Best is trial 2 with value: 0.7542236373852781.\u001b[0m\n",
      "\u001b[32m[I 2022-07-12 12:23:38,187]\u001b[0m Trial 6 finished with value: 0.5238545781394138 and parameters: {'sampler': 'ada', 'n_neighbors': 5, 'classifier': 'xgboost', 'learning_rate': 0.0001, 'max_depth': 15, 'n_estimators': 200}. Best is trial 2 with value: 0.7542236373852781.\u001b[0m\n",
      "\u001b[32m[I 2022-07-12 12:26:07,623]\u001b[0m Trial 7 finished with value: 0.7585181707937253 and parameters: {'sampler': 'ros', 'classifier': 'xgboost', 'learning_rate': 0.1, 'max_depth': 16, 'n_estimators': 4000}. Best is trial 7 with value: 0.7585181707937253.\u001b[0m\n",
      "\u001b[32m[I 2022-07-12 12:27:41,197]\u001b[0m Trial 8 finished with value: 0.7254398445362112 and parameters: {'sampler': 'ros', 'classifier': 'xgboost', 'learning_rate': 0.01, 'max_depth': 17, 'n_estimators': 2000}. Best is trial 7 with value: 0.7585181707937253.\u001b[0m\n",
      "\u001b[32m[I 2022-07-12 12:27:44,373]\u001b[0m Trial 9 finished with value: 0.7967807714000608 and parameters: {'sampler': None, 'classifier': 'xgboost', 'learning_rate': 0.2, 'max_depth': 4, 'n_estimators': 200}. Best is trial 9 with value: 0.7967807714000608.\u001b[0m\n"
     ]
    }
   ],
   "source": [
    "func = lambda trial: objective(trial, .01, [\"xgboost\"])\n",
    "\n",
    "study = optuna.create_study(direction='maximize')\n",
    "\n",
    "study.optimize(func, n_trials=10)"
   ]
  }
 ],
 "metadata": {
  "kernelspec": {
   "display_name": "Python 3.10.4 ('pyspark')",
   "language": "python",
   "name": "python3"
  },
  "language_info": {
   "codemirror_mode": {
    "name": "ipython",
    "version": 3
   },
   "file_extension": ".py",
   "mimetype": "text/x-python",
   "name": "python",
   "nbconvert_exporter": "python",
   "pygments_lexer": "ipython3",
   "version": "3.10.4"
  },
  "orig_nbformat": 4,
  "vscode": {
   "interpreter": {
    "hash": "1d73df188c3ed28f9117694899638a2078581279f5400990dc36b7edf848ab19"
   }
  }
 },
 "nbformat": 4,
 "nbformat_minor": 2
}
